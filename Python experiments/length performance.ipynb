{
 "cells": [
  {
   "cell_type": "code",
   "execution_count": 38,
   "id": "d34a5ad8-bd37-4cf6-a19b-fa43a4abe9ef",
   "metadata": {},
   "outputs": [],
   "source": [
    "import numpy as np\n",
    "import datetime\n",
    "import pandas as pd\n",
    "import json\n",
    "import matplotlib.pyplot as plt"
   ]
  },
  {
   "cell_type": "markdown",
   "id": "9fdbe766-b6b0-4fd8-906c-2eb45c78244c",
   "metadata": {},
   "source": [
    "# The Purpose of this Notebook:\n",
    "Compare the lengths of decompositions output by GER, SER 1 and SER 2."
   ]
  },
  {
   "cell_type": "markdown",
   "id": "2b322312-d275-4ea3-8afa-763e52cc4c2e",
   "metadata": {},
   "source": [
    "Load the data for the lengths of decompositions output by GER, SER 1, SER 2."
   ]
  },
  {
   "cell_type": "code",
   "execution_count": 3,
   "id": "7a6ea253-b483-4683-acda-0ab132c4a3d2",
   "metadata": {},
   "outputs": [],
   "source": [
    "GER_path = './arranged_data/GER_opt_lengths_pdSeries.pkl'\n",
    "SER1_path = './expt_results/SER1_decom_lengths.json'\n",
    "SER2_path = './expt_results/SER2_decom_lengths.json'\n",
    "    \n",
    "GER_decom_lengths_pdSeries = pd.read_pickle(GER_path)\n",
    "\n",
    "with open(SER1_path, 'r') as f2:\n",
    "    SER1_decom_lengths_list = json.load(f2)\n",
    "\n",
    "with open(SER2_path, 'r') as f3:\n",
    "    SER2_decom_lengths_list = json.load(f3)"
   ]
  },
  {
   "cell_type": "code",
   "execution_count": 8,
   "id": "5ad058c7-d05d-465c-ad39-baa08a1d85cf",
   "metadata": {},
   "outputs": [],
   "source": [
    "SER1_decom_lengths_pdSeries = pd.Series(SER1_decom_lengths_list)\n",
    "SER2_decom_lengths_pdSeries = pd.Series(SER2_decom_lengths_list)"
   ]
  },
  {
   "cell_type": "markdown",
   "id": "a172a0ba-59dc-43b7-a289-e4c45c308e0e",
   "metadata": {},
   "source": [
    "Create and save a DataFrame of Lengths of Decompositions Found by GER, SER 1, SER 2."
   ]
  },
  {
   "cell_type": "code",
   "execution_count": 9,
   "id": "41f89ee9-4590-4032-8b1d-11be5b946417",
   "metadata": {},
   "outputs": [],
   "source": [
    "algos_length_pdSeries = [GER_decom_lengths_pdSeries, \n",
    "                         SER1_decom_lengths_pdSeries, SER2_decom_lengths_pdSeries]\n",
    "df_keys = ['GER_opt', 'SER 1', 'SER 2']\n",
    "\n",
    "pddf_decomposition_lengths_of_algos = pd.concat(algos_length_pdSeries, axis='columns', keys=df_keys)"
   ]
  },
  {
   "cell_type": "code",
   "execution_count": 10,
   "id": "7f6098f7-6a7d-4b3c-bda6-a0218202ef02",
   "metadata": {},
   "outputs": [],
   "source": [
    "all_algos_filepath = './arranged_data/pddf_decom_lengths_of_algos.pkl'\n",
    "pddf_decomposition_lengths_of_algos.to_pickle(all_algos_filepath)"
   ]
  },
  {
   "cell_type": "code",
   "execution_count": 11,
   "id": "f760f93c-3db3-4301-bfa3-9da53804bee1",
   "metadata": {},
   "outputs": [
    {
     "data": {
      "text/html": [
       "<div>\n",
       "<style scoped>\n",
       "    .dataframe tbody tr th:only-of-type {\n",
       "        vertical-align: middle;\n",
       "    }\n",
       "\n",
       "    .dataframe tbody tr th {\n",
       "        vertical-align: top;\n",
       "    }\n",
       "\n",
       "    .dataframe thead th {\n",
       "        text-align: right;\n",
       "    }\n",
       "</style>\n",
       "<table border=\"1\" class=\"dataframe\">\n",
       "  <thead>\n",
       "    <tr style=\"text-align: right;\">\n",
       "      <th></th>\n",
       "      <th>GER_opt</th>\n",
       "      <th>SER 1</th>\n",
       "      <th>SER 2</th>\n",
       "    </tr>\n",
       "  </thead>\n",
       "  <tbody>\n",
       "    <tr>\n",
       "      <th>0</th>\n",
       "      <td>104</td>\n",
       "      <td>387</td>\n",
       "      <td>110</td>\n",
       "    </tr>\n",
       "    <tr>\n",
       "      <th>1</th>\n",
       "      <td>105</td>\n",
       "      <td>372</td>\n",
       "      <td>109</td>\n",
       "    </tr>\n",
       "    <tr>\n",
       "      <th>2</th>\n",
       "      <td>106</td>\n",
       "      <td>385</td>\n",
       "      <td>107</td>\n",
       "    </tr>\n",
       "    <tr>\n",
       "      <th>3</th>\n",
       "      <td>107</td>\n",
       "      <td>377</td>\n",
       "      <td>111</td>\n",
       "    </tr>\n",
       "    <tr>\n",
       "      <th>4</th>\n",
       "      <td>107</td>\n",
       "      <td>381</td>\n",
       "      <td>113</td>\n",
       "    </tr>\n",
       "    <tr>\n",
       "      <th>...</th>\n",
       "      <td>...</td>\n",
       "      <td>...</td>\n",
       "      <td>...</td>\n",
       "    </tr>\n",
       "    <tr>\n",
       "      <th>1995</th>\n",
       "      <td>112</td>\n",
       "      <td>406</td>\n",
       "      <td>113</td>\n",
       "    </tr>\n",
       "    <tr>\n",
       "      <th>1996</th>\n",
       "      <td>113</td>\n",
       "      <td>392</td>\n",
       "      <td>118</td>\n",
       "    </tr>\n",
       "    <tr>\n",
       "      <th>1997</th>\n",
       "      <td>112</td>\n",
       "      <td>392</td>\n",
       "      <td>118</td>\n",
       "    </tr>\n",
       "    <tr>\n",
       "      <th>1998</th>\n",
       "      <td>114</td>\n",
       "      <td>400</td>\n",
       "      <td>118</td>\n",
       "    </tr>\n",
       "    <tr>\n",
       "      <th>1999</th>\n",
       "      <td>114</td>\n",
       "      <td>398</td>\n",
       "      <td>117</td>\n",
       "    </tr>\n",
       "  </tbody>\n",
       "</table>\n",
       "<p>2000 rows × 3 columns</p>\n",
       "</div>"
      ],
      "text/plain": [
       "      GER_opt  SER 1  SER 2\n",
       "0         104    387    110\n",
       "1         105    372    109\n",
       "2         106    385    107\n",
       "3         107    377    111\n",
       "4         107    381    113\n",
       "...       ...    ...    ...\n",
       "1995      112    406    113\n",
       "1996      113    392    118\n",
       "1997      112    392    118\n",
       "1998      114    400    118\n",
       "1999      114    398    117\n",
       "\n",
       "[2000 rows x 3 columns]"
      ]
     },
     "execution_count": 11,
     "metadata": {},
     "output_type": "execute_result"
    }
   ],
   "source": [
    "pddf_decomposition_lengths_of_algos"
   ]
  },
  {
   "cell_type": "markdown",
   "id": "d4fa363c-75c5-4bae-b1db-804fbccb30ea",
   "metadata": {},
   "source": [
    "Ranking of the Performance of GER, SER 1, SER 2"
   ]
  },
  {
   "cell_type": "code",
   "execution_count": 12,
   "id": "3c2ef2ea-9dec-48c1-bc60-e2095191083f",
   "metadata": {},
   "outputs": [],
   "source": [
    "pddf_algos_length_ranking = pddf_decomposition_lengths_of_algos.rank(axis='columns', method='dense')"
   ]
  },
  {
   "cell_type": "code",
   "execution_count": 13,
   "id": "b3a8deac-4e96-40db-973f-991e87784dd6",
   "metadata": {},
   "outputs": [],
   "source": [
    "ranking_filepath = './arranged_data/pddf_algos_length_ranking.pkl'\n",
    "pddf_algos_length_ranking.to_pickle(ranking_filepath)"
   ]
  },
  {
   "cell_type": "code",
   "execution_count": 14,
   "id": "f656de7d-7157-4c5d-a64b-2299bfe1cccd",
   "metadata": {},
   "outputs": [
    {
     "data": {
      "text/html": [
       "<div>\n",
       "<style scoped>\n",
       "    .dataframe tbody tr th:only-of-type {\n",
       "        vertical-align: middle;\n",
       "    }\n",
       "\n",
       "    .dataframe tbody tr th {\n",
       "        vertical-align: top;\n",
       "    }\n",
       "\n",
       "    .dataframe thead th {\n",
       "        text-align: right;\n",
       "    }\n",
       "</style>\n",
       "<table border=\"1\" class=\"dataframe\">\n",
       "  <thead>\n",
       "    <tr style=\"text-align: right;\">\n",
       "      <th></th>\n",
       "      <th>GER_opt</th>\n",
       "      <th>SER 1</th>\n",
       "      <th>SER 2</th>\n",
       "    </tr>\n",
       "  </thead>\n",
       "  <tbody>\n",
       "    <tr>\n",
       "      <th>0</th>\n",
       "      <td>1.0</td>\n",
       "      <td>3.0</td>\n",
       "      <td>2.0</td>\n",
       "    </tr>\n",
       "    <tr>\n",
       "      <th>1</th>\n",
       "      <td>1.0</td>\n",
       "      <td>3.0</td>\n",
       "      <td>2.0</td>\n",
       "    </tr>\n",
       "    <tr>\n",
       "      <th>2</th>\n",
       "      <td>1.0</td>\n",
       "      <td>3.0</td>\n",
       "      <td>2.0</td>\n",
       "    </tr>\n",
       "    <tr>\n",
       "      <th>3</th>\n",
       "      <td>1.0</td>\n",
       "      <td>3.0</td>\n",
       "      <td>2.0</td>\n",
       "    </tr>\n",
       "    <tr>\n",
       "      <th>4</th>\n",
       "      <td>1.0</td>\n",
       "      <td>3.0</td>\n",
       "      <td>2.0</td>\n",
       "    </tr>\n",
       "    <tr>\n",
       "      <th>...</th>\n",
       "      <td>...</td>\n",
       "      <td>...</td>\n",
       "      <td>...</td>\n",
       "    </tr>\n",
       "    <tr>\n",
       "      <th>1995</th>\n",
       "      <td>1.0</td>\n",
       "      <td>3.0</td>\n",
       "      <td>2.0</td>\n",
       "    </tr>\n",
       "    <tr>\n",
       "      <th>1996</th>\n",
       "      <td>1.0</td>\n",
       "      <td>3.0</td>\n",
       "      <td>2.0</td>\n",
       "    </tr>\n",
       "    <tr>\n",
       "      <th>1997</th>\n",
       "      <td>1.0</td>\n",
       "      <td>3.0</td>\n",
       "      <td>2.0</td>\n",
       "    </tr>\n",
       "    <tr>\n",
       "      <th>1998</th>\n",
       "      <td>1.0</td>\n",
       "      <td>3.0</td>\n",
       "      <td>2.0</td>\n",
       "    </tr>\n",
       "    <tr>\n",
       "      <th>1999</th>\n",
       "      <td>1.0</td>\n",
       "      <td>3.0</td>\n",
       "      <td>2.0</td>\n",
       "    </tr>\n",
       "  </tbody>\n",
       "</table>\n",
       "<p>2000 rows × 3 columns</p>\n",
       "</div>"
      ],
      "text/plain": [
       "      GER_opt  SER 1  SER 2\n",
       "0         1.0    3.0    2.0\n",
       "1         1.0    3.0    2.0\n",
       "2         1.0    3.0    2.0\n",
       "3         1.0    3.0    2.0\n",
       "4         1.0    3.0    2.0\n",
       "...       ...    ...    ...\n",
       "1995      1.0    3.0    2.0\n",
       "1996      1.0    3.0    2.0\n",
       "1997      1.0    3.0    2.0\n",
       "1998      1.0    3.0    2.0\n",
       "1999      1.0    3.0    2.0\n",
       "\n",
       "[2000 rows x 3 columns]"
      ]
     },
     "execution_count": 14,
     "metadata": {},
     "output_type": "execute_result"
    }
   ],
   "source": [
    "pddf_algos_length_ranking"
   ]
  },
  {
   "cell_type": "markdown",
   "id": "6d023e42-9ced-4f22-ad7d-cf6e647955b3",
   "metadata": {},
   "source": [
    "Select the rows of pddf_algos_length_ranking (DataFrame) such that GER strictly beats SER 1, SER 2."
   ]
  },
  {
   "cell_type": "code",
   "execution_count": 15,
   "id": "0e469464-f932-419a-b761-7be2af85c1ca",
   "metadata": {},
   "outputs": [],
   "source": [
    "GER_strictly_better_condition = (pddf_algos_length_ranking['GER_opt'] == 1.0) & \\\n",
    "                                (pddf_algos_length_ranking['SER 1'] > 1.0) & \\\n",
    "                                (pddf_algos_length_ranking['SER 2'] > 1.0)"
   ]
  },
  {
   "cell_type": "code",
   "execution_count": 16,
   "id": "a6bdfa35-dea6-4ccb-952c-464f11b5d2d1",
   "metadata": {},
   "outputs": [],
   "source": [
    "pddf_GER_strictly_beats = pddf_algos_length_ranking[GER_strictly_better_condition]"
   ]
  },
  {
   "cell_type": "code",
   "execution_count": 17,
   "id": "03d52b29-539b-4000-869b-6911985f452c",
   "metadata": {},
   "outputs": [],
   "source": [
    "GER_strictly_filepath = './arranged_data/pddf_GER_strictly_beats.pkl'\n",
    "pddf_GER_strictly_beats.to_pickle(GER_strictly_filepath)"
   ]
  },
  {
   "cell_type": "code",
   "execution_count": 19,
   "id": "3c94f474-9101-4480-b6cf-98d2c93764c0",
   "metadata": {},
   "outputs": [
    {
     "data": {
      "text/html": [
       "<div>\n",
       "<style scoped>\n",
       "    .dataframe tbody tr th:only-of-type {\n",
       "        vertical-align: middle;\n",
       "    }\n",
       "\n",
       "    .dataframe tbody tr th {\n",
       "        vertical-align: top;\n",
       "    }\n",
       "\n",
       "    .dataframe thead th {\n",
       "        text-align: right;\n",
       "    }\n",
       "</style>\n",
       "<table border=\"1\" class=\"dataframe\">\n",
       "  <thead>\n",
       "    <tr style=\"text-align: right;\">\n",
       "      <th></th>\n",
       "      <th>GER_opt</th>\n",
       "      <th>SER 1</th>\n",
       "      <th>SER 2</th>\n",
       "    </tr>\n",
       "  </thead>\n",
       "  <tbody>\n",
       "    <tr>\n",
       "      <th>0</th>\n",
       "      <td>1.0</td>\n",
       "      <td>3.0</td>\n",
       "      <td>2.0</td>\n",
       "    </tr>\n",
       "    <tr>\n",
       "      <th>1</th>\n",
       "      <td>1.0</td>\n",
       "      <td>3.0</td>\n",
       "      <td>2.0</td>\n",
       "    </tr>\n",
       "    <tr>\n",
       "      <th>2</th>\n",
       "      <td>1.0</td>\n",
       "      <td>3.0</td>\n",
       "      <td>2.0</td>\n",
       "    </tr>\n",
       "    <tr>\n",
       "      <th>3</th>\n",
       "      <td>1.0</td>\n",
       "      <td>3.0</td>\n",
       "      <td>2.0</td>\n",
       "    </tr>\n",
       "    <tr>\n",
       "      <th>4</th>\n",
       "      <td>1.0</td>\n",
       "      <td>3.0</td>\n",
       "      <td>2.0</td>\n",
       "    </tr>\n",
       "    <tr>\n",
       "      <th>...</th>\n",
       "      <td>...</td>\n",
       "      <td>...</td>\n",
       "      <td>...</td>\n",
       "    </tr>\n",
       "    <tr>\n",
       "      <th>1995</th>\n",
       "      <td>1.0</td>\n",
       "      <td>3.0</td>\n",
       "      <td>2.0</td>\n",
       "    </tr>\n",
       "    <tr>\n",
       "      <th>1996</th>\n",
       "      <td>1.0</td>\n",
       "      <td>3.0</td>\n",
       "      <td>2.0</td>\n",
       "    </tr>\n",
       "    <tr>\n",
       "      <th>1997</th>\n",
       "      <td>1.0</td>\n",
       "      <td>3.0</td>\n",
       "      <td>2.0</td>\n",
       "    </tr>\n",
       "    <tr>\n",
       "      <th>1998</th>\n",
       "      <td>1.0</td>\n",
       "      <td>3.0</td>\n",
       "      <td>2.0</td>\n",
       "    </tr>\n",
       "    <tr>\n",
       "      <th>1999</th>\n",
       "      <td>1.0</td>\n",
       "      <td>3.0</td>\n",
       "      <td>2.0</td>\n",
       "    </tr>\n",
       "  </tbody>\n",
       "</table>\n",
       "<p>1782 rows × 3 columns</p>\n",
       "</div>"
      ],
      "text/plain": [
       "      GER_opt  SER 1  SER 2\n",
       "0         1.0    3.0    2.0\n",
       "1         1.0    3.0    2.0\n",
       "2         1.0    3.0    2.0\n",
       "3         1.0    3.0    2.0\n",
       "4         1.0    3.0    2.0\n",
       "...       ...    ...    ...\n",
       "1995      1.0    3.0    2.0\n",
       "1996      1.0    3.0    2.0\n",
       "1997      1.0    3.0    2.0\n",
       "1998      1.0    3.0    2.0\n",
       "1999      1.0    3.0    2.0\n",
       "\n",
       "[1782 rows x 3 columns]"
      ]
     },
     "execution_count": 19,
     "metadata": {},
     "output_type": "execute_result"
    }
   ],
   "source": [
    "pddf_GER_strictly_beats"
   ]
  },
  {
   "cell_type": "markdown",
   "id": "fd860aaa-a5c3-4e85-b8c9-cbec5d9a94cc",
   "metadata": {},
   "source": [
    "The following line of code shows that on 1782 of the $32 \\times 32$ random $p$-TPMs, the performance of GER is strictly better than the performance of SER 1 and SER 2 in terms of the lengths of the output decompositions."
   ]
  },
  {
   "cell_type": "code",
   "execution_count": 20,
   "id": "aafc7bff-a850-40ae-b8ef-c929ec44b571",
   "metadata": {},
   "outputs": [
    {
     "data": {
      "text/plain": [
       "(1782, 3)"
      ]
     },
     "execution_count": 20,
     "metadata": {},
     "output_type": "execute_result"
    }
   ],
   "source": [
    "pddf_GER_strictly_beats.shape"
   ]
  },
  {
   "cell_type": "markdown",
   "id": "07cc7d25-1453-4587-b6af-8e180c03a6b4",
   "metadata": {},
   "source": [
    "Select the rows of pddf_algos_length_ranking (DataFrame) such that SER 2 strictly beats GER, SER 1."
   ]
  },
  {
   "cell_type": "code",
   "execution_count": 21,
   "id": "ac8e5a1f-fa5e-4acc-82f2-704ae60d86e2",
   "metadata": {},
   "outputs": [],
   "source": [
    "SER2_strictly_better_condition = (pddf_algos_length_ranking['GER_opt'] > 1.0) & \\\n",
    "                                 (pddf_algos_length_ranking['SER 1'] > 1.0) & \\\n",
    "                                 (pddf_algos_length_ranking['SER 2'] == 1.0)"
   ]
  },
  {
   "cell_type": "code",
   "execution_count": 22,
   "id": "b906f24c-076d-4e8c-9bf7-baa6b78d5b28",
   "metadata": {},
   "outputs": [],
   "source": [
    "pddf_SER2_strictly_beats = pddf_algos_length_ranking[SER2_strictly_better_condition]"
   ]
  },
  {
   "cell_type": "code",
   "execution_count": 23,
   "id": "66dd27e0-ff93-4e2a-8ea0-1cb3220123e5",
   "metadata": {},
   "outputs": [],
   "source": [
    "SER2_strictly_filepath = './arranged_data/pddf_SER2_strictly_beats.pkl'\n",
    "pddf_SER2_strictly_beats.to_pickle(SER2_strictly_filepath)"
   ]
  },
  {
   "cell_type": "code",
   "execution_count": 25,
   "id": "f4ad4146-ada1-4c59-b3b4-41d92898e310",
   "metadata": {},
   "outputs": [
    {
     "data": {
      "text/html": [
       "<div>\n",
       "<style scoped>\n",
       "    .dataframe tbody tr th:only-of-type {\n",
       "        vertical-align: middle;\n",
       "    }\n",
       "\n",
       "    .dataframe tbody tr th {\n",
       "        vertical-align: top;\n",
       "    }\n",
       "\n",
       "    .dataframe thead th {\n",
       "        text-align: right;\n",
       "    }\n",
       "</style>\n",
       "<table border=\"1\" class=\"dataframe\">\n",
       "  <thead>\n",
       "    <tr style=\"text-align: right;\">\n",
       "      <th></th>\n",
       "      <th>GER_opt</th>\n",
       "      <th>SER 1</th>\n",
       "      <th>SER 2</th>\n",
       "    </tr>\n",
       "  </thead>\n",
       "  <tbody>\n",
       "    <tr>\n",
       "      <th>79</th>\n",
       "      <td>2.0</td>\n",
       "      <td>3.0</td>\n",
       "      <td>1.0</td>\n",
       "    </tr>\n",
       "    <tr>\n",
       "      <th>174</th>\n",
       "      <td>2.0</td>\n",
       "      <td>3.0</td>\n",
       "      <td>1.0</td>\n",
       "    </tr>\n",
       "    <tr>\n",
       "      <th>221</th>\n",
       "      <td>2.0</td>\n",
       "      <td>3.0</td>\n",
       "      <td>1.0</td>\n",
       "    </tr>\n",
       "    <tr>\n",
       "      <th>251</th>\n",
       "      <td>2.0</td>\n",
       "      <td>3.0</td>\n",
       "      <td>1.0</td>\n",
       "    </tr>\n",
       "    <tr>\n",
       "      <th>364</th>\n",
       "      <td>2.0</td>\n",
       "      <td>3.0</td>\n",
       "      <td>1.0</td>\n",
       "    </tr>\n",
       "    <tr>\n",
       "      <th>...</th>\n",
       "      <td>...</td>\n",
       "      <td>...</td>\n",
       "      <td>...</td>\n",
       "    </tr>\n",
       "    <tr>\n",
       "      <th>1959</th>\n",
       "      <td>2.0</td>\n",
       "      <td>3.0</td>\n",
       "      <td>1.0</td>\n",
       "    </tr>\n",
       "    <tr>\n",
       "      <th>1960</th>\n",
       "      <td>2.0</td>\n",
       "      <td>3.0</td>\n",
       "      <td>1.0</td>\n",
       "    </tr>\n",
       "    <tr>\n",
       "      <th>1970</th>\n",
       "      <td>2.0</td>\n",
       "      <td>3.0</td>\n",
       "      <td>1.0</td>\n",
       "    </tr>\n",
       "    <tr>\n",
       "      <th>1977</th>\n",
       "      <td>2.0</td>\n",
       "      <td>3.0</td>\n",
       "      <td>1.0</td>\n",
       "    </tr>\n",
       "    <tr>\n",
       "      <th>1986</th>\n",
       "      <td>2.0</td>\n",
       "      <td>3.0</td>\n",
       "      <td>1.0</td>\n",
       "    </tr>\n",
       "  </tbody>\n",
       "</table>\n",
       "<p>124 rows × 3 columns</p>\n",
       "</div>"
      ],
      "text/plain": [
       "      GER_opt  SER 1  SER 2\n",
       "79        2.0    3.0    1.0\n",
       "174       2.0    3.0    1.0\n",
       "221       2.0    3.0    1.0\n",
       "251       2.0    3.0    1.0\n",
       "364       2.0    3.0    1.0\n",
       "...       ...    ...    ...\n",
       "1959      2.0    3.0    1.0\n",
       "1960      2.0    3.0    1.0\n",
       "1970      2.0    3.0    1.0\n",
       "1977      2.0    3.0    1.0\n",
       "1986      2.0    3.0    1.0\n",
       "\n",
       "[124 rows x 3 columns]"
      ]
     },
     "execution_count": 25,
     "metadata": {},
     "output_type": "execute_result"
    }
   ],
   "source": [
    "pddf_SER2_strictly_beats"
   ]
  },
  {
   "cell_type": "markdown",
   "id": "bbaa3339-e196-46ac-9a22-b418269e754c",
   "metadata": {},
   "source": [
    "The following line of code shows that on 124 of the $32 \\times 32$ random $p$-TPMs, the performance of SER 2 is strictly better than the performance of SER 1 and GER in terms of the lengths of the output decompositions."
   ]
  },
  {
   "cell_type": "code",
   "execution_count": 26,
   "id": "05425369-ca08-4258-87e7-6433769525af",
   "metadata": {},
   "outputs": [
    {
     "data": {
      "text/plain": [
       "(124, 3)"
      ]
     },
     "execution_count": 26,
     "metadata": {},
     "output_type": "execute_result"
    }
   ],
   "source": [
    "pddf_SER2_strictly_beats.shape"
   ]
  },
  {
   "cell_type": "markdown",
   "id": "7f915bca-6672-4e6c-9eaa-84c9a8114f55",
   "metadata": {},
   "source": [
    "Select the rows of pddf_algos_length_ranking (DataFrame) such that GER and SER 2 simultaneously give the best performance in terms of the lengths of the output decompositions."
   ]
  },
  {
   "cell_type": "code",
   "execution_count": 28,
   "id": "b191f1e0-8db8-4e70-81c8-a70f2da4573b",
   "metadata": {},
   "outputs": [],
   "source": [
    "GER_SER_2_best_condition = (pddf_algos_length_ranking['GER_opt'] == 1.0) & \\\n",
    "                           (pddf_algos_length_ranking['SER 2'] == 1.0)"
   ]
  },
  {
   "cell_type": "code",
   "execution_count": 29,
   "id": "af7579ab-934d-48cf-9bbc-25dbc4a6c62c",
   "metadata": {},
   "outputs": [],
   "source": [
    "pddf_GER_SER_2_best = pddf_algos_length_ranking[GER_SER_2_best_condition]"
   ]
  },
  {
   "cell_type": "code",
   "execution_count": 30,
   "id": "8f30d497-09e5-463e-afd7-c7bd33bf5f35",
   "metadata": {},
   "outputs": [],
   "source": [
    "simultaneous_filepath = './arranged_data/pddf_GER_SER2_best.pkl'\n",
    "pddf_GER_SER_2_best.to_pickle(simultaneous_filepath)"
   ]
  },
  {
   "cell_type": "code",
   "execution_count": 32,
   "id": "e54387ff-433a-406b-b465-468c7ef28077",
   "metadata": {},
   "outputs": [
    {
     "data": {
      "text/html": [
       "<div>\n",
       "<style scoped>\n",
       "    .dataframe tbody tr th:only-of-type {\n",
       "        vertical-align: middle;\n",
       "    }\n",
       "\n",
       "    .dataframe tbody tr th {\n",
       "        vertical-align: top;\n",
       "    }\n",
       "\n",
       "    .dataframe thead th {\n",
       "        text-align: right;\n",
       "    }\n",
       "</style>\n",
       "<table border=\"1\" class=\"dataframe\">\n",
       "  <thead>\n",
       "    <tr style=\"text-align: right;\">\n",
       "      <th></th>\n",
       "      <th>GER_opt</th>\n",
       "      <th>SER 1</th>\n",
       "      <th>SER 2</th>\n",
       "    </tr>\n",
       "  </thead>\n",
       "  <tbody>\n",
       "    <tr>\n",
       "      <th>87</th>\n",
       "      <td>1.0</td>\n",
       "      <td>2.0</td>\n",
       "      <td>1.0</td>\n",
       "    </tr>\n",
       "    <tr>\n",
       "      <th>100</th>\n",
       "      <td>1.0</td>\n",
       "      <td>2.0</td>\n",
       "      <td>1.0</td>\n",
       "    </tr>\n",
       "    <tr>\n",
       "      <th>110</th>\n",
       "      <td>1.0</td>\n",
       "      <td>2.0</td>\n",
       "      <td>1.0</td>\n",
       "    </tr>\n",
       "    <tr>\n",
       "      <th>124</th>\n",
       "      <td>1.0</td>\n",
       "      <td>2.0</td>\n",
       "      <td>1.0</td>\n",
       "    </tr>\n",
       "    <tr>\n",
       "      <th>177</th>\n",
       "      <td>1.0</td>\n",
       "      <td>2.0</td>\n",
       "      <td>1.0</td>\n",
       "    </tr>\n",
       "    <tr>\n",
       "      <th>...</th>\n",
       "      <td>...</td>\n",
       "      <td>...</td>\n",
       "      <td>...</td>\n",
       "    </tr>\n",
       "    <tr>\n",
       "      <th>1922</th>\n",
       "      <td>1.0</td>\n",
       "      <td>2.0</td>\n",
       "      <td>1.0</td>\n",
       "    </tr>\n",
       "    <tr>\n",
       "      <th>1958</th>\n",
       "      <td>1.0</td>\n",
       "      <td>2.0</td>\n",
       "      <td>1.0</td>\n",
       "    </tr>\n",
       "    <tr>\n",
       "      <th>1961</th>\n",
       "      <td>1.0</td>\n",
       "      <td>2.0</td>\n",
       "      <td>1.0</td>\n",
       "    </tr>\n",
       "    <tr>\n",
       "      <th>1971</th>\n",
       "      <td>1.0</td>\n",
       "      <td>2.0</td>\n",
       "      <td>1.0</td>\n",
       "    </tr>\n",
       "    <tr>\n",
       "      <th>1984</th>\n",
       "      <td>1.0</td>\n",
       "      <td>2.0</td>\n",
       "      <td>1.0</td>\n",
       "    </tr>\n",
       "  </tbody>\n",
       "</table>\n",
       "<p>94 rows × 3 columns</p>\n",
       "</div>"
      ],
      "text/plain": [
       "      GER_opt  SER 1  SER 2\n",
       "87        1.0    2.0    1.0\n",
       "100       1.0    2.0    1.0\n",
       "110       1.0    2.0    1.0\n",
       "124       1.0    2.0    1.0\n",
       "177       1.0    2.0    1.0\n",
       "...       ...    ...    ...\n",
       "1922      1.0    2.0    1.0\n",
       "1958      1.0    2.0    1.0\n",
       "1961      1.0    2.0    1.0\n",
       "1971      1.0    2.0    1.0\n",
       "1984      1.0    2.0    1.0\n",
       "\n",
       "[94 rows x 3 columns]"
      ]
     },
     "execution_count": 32,
     "metadata": {},
     "output_type": "execute_result"
    }
   ],
   "source": [
    "pddf_GER_SER_2_best"
   ]
  },
  {
   "cell_type": "markdown",
   "id": "07ff1fb6-c120-46b7-b297-53097e491ffd",
   "metadata": {},
   "source": [
    "The following line of code shows that on 94 of the $32 \\times 32$ random $p$-TPMs, GER and SER 2 simultaneously give the best performance in terms of the lengths of the output decompositions.\n",
    "\n",
    "Note that 1782 + 124 + 94 = 2000."
   ]
  },
  {
   "cell_type": "code",
   "execution_count": 33,
   "id": "5e411bbd-48a7-41a2-8bf2-e371877dc2f1",
   "metadata": {},
   "outputs": [
    {
     "data": {
      "text/plain": [
       "(94, 3)"
      ]
     },
     "execution_count": 33,
     "metadata": {},
     "output_type": "execute_result"
    }
   ],
   "source": [
    "pddf_GER_SER_2_best.shape"
   ]
  },
  {
   "cell_type": "markdown",
   "id": "e6224fb5-8c55-4b8d-8895-0eeef38cfc8b",
   "metadata": {},
   "source": [
    "Compute the mean of the lengths of decompositions output by GER, SER 1 and SER 2."
   ]
  },
  {
   "cell_type": "code",
   "execution_count": 34,
   "id": "643abee0-dcf5-4ca6-b04a-86dad83460c7",
   "metadata": {},
   "outputs": [
    {
     "data": {
      "text/plain": [
       "GER_opt    109.5230\n",
       "SER 1      387.9455\n",
       "SER 2      113.9510\n",
       "dtype: float64"
      ]
     },
     "execution_count": 34,
     "metadata": {},
     "output_type": "execute_result"
    }
   ],
   "source": [
    "pddf_decomposition_lengths_of_algos.mean()"
   ]
  },
  {
   "cell_type": "markdown",
   "id": "7295ac09-2d12-482b-8c81-8754e3dd0f83",
   "metadata": {},
   "source": [
    "## Visualize the performance of SDS2G, SER 1, SER 2, GER on a line plot."
   ]
  },
  {
   "cell_type": "code",
   "execution_count": 35,
   "id": "ec48e954-b182-484f-a444-0d838e6076fb",
   "metadata": {},
   "outputs": [],
   "source": [
    "GER_decom_lengths_list = GER_decom_lengths_pdSeries.to_list()"
   ]
  },
  {
   "cell_type": "code",
   "execution_count": 36,
   "id": "359685e6-97c9-4a46-af62-acc7ae2f51f3",
   "metadata": {},
   "outputs": [],
   "source": [
    "dim32_pTPMs_labels = list(range(4001, 6001))"
   ]
  },
  {
   "cell_type": "code",
   "execution_count": 43,
   "id": "8c5f11e6-16cf-4e42-aeea-839c46ba80d7",
   "metadata": {},
   "outputs": [
    {
     "data": {
      "image/png": "[encoded data removed]",
      "text/plain": [
       "<Figure size 640x480 with 1 Axes>"
      ]
     },
     "metadata": {},
     "output_type": "display_data"
    }
   ],
   "source": [
    "plt.plot(dim32_pTPMs_labels, SER2_decom_lengths_list, 'b', label='SER 2', linewidth='0.5')\n",
    "plt.plot(dim32_pTPMs_labels, GER_decom_lengths_list, 'r', label='GER', linewidth='0.5')\n",
    "plt.plot(dim32_pTPMs_labels, SER1_decom_lengths_list, 'g', label='SER 1', linewidth='0.5')\n",
    "\n",
    "leg = plt.legend()\n",
    "plt.xlabel('subscripts of TPMs (4001 to 6000)')\n",
    "plt.ylabel('lengths of decompositions')\n",
    "\n",
    "for legobj in leg.legend_handles:\n",
    "    legobj.set_linewidth(2.0)\n",
    "\n",
    "plt.savefig(\"Figure_1.jpg\")"
   ]
  }
 ],
 "metadata": {
  "kernelspec": {
   "display_name": "Python 3 (ipykernel)",
   "language": "python",
   "name": "python3"
  },
  "language_info": {
   "codemirror_mode": {
    "name": "ipython",
    "version": 3
   },
   "file_extension": ".py",
   "mimetype": "text/x-python",
   "name": "python",
   "nbconvert_exporter": "python",
   "pygments_lexer": "ipython3",
   "version": "3.9.19"
  }
 },
 "nbformat": 4,
 "nbformat_minor": 5
}
