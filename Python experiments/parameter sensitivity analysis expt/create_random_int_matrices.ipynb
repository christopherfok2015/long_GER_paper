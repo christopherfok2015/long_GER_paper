{
 "cells": [
  {
   "cell_type": "code",
   "execution_count": 1,
   "id": "184896c9-61ac-42c1-94bf-ef9e20b5aca4",
   "metadata": {},
   "outputs": [],
   "source": [
    "import numpy as np"
   ]
  },
  {
   "cell_type": "code",
   "execution_count": 6,
   "id": "9ea13166-acac-447b-beb8-aac0259d8a4e",
   "metadata": {},
   "outputs": [],
   "source": [
    "random_num_generator = np.random.default_rng(1)"
   ]
  },
  {
   "cell_type": "markdown",
   "id": "e5ae7a75-0426-4bf6-b5e4-1819ac3f15f2",
   "metadata": {},
   "source": [
    "# Codes for sampling a p-TPM from the set of all integerized p-TPMs uniformly at random."
   ]
  },
  {
   "cell_type": "markdown",
   "id": "b08d49e9-c7f6-40e4-9493-87cddf77dede",
   "metadata": {},
   "source": [
    "For all positive integers $n, p \\geq 2$, define $\\Delta^{n}_{p} := \\{ (k_{1}, k_{2}, \\ldots, k_{n}) : k_{i} \\in \\mathbb{Z}_{\\geq 0}, \\sum^{n}_{i = 1} k_{i} = p \\}$. The following function samples from $\\Delta^{n}_{p}$ uniformly. The output of this function is a 1D numpy array."
   ]
  },
  {
   "cell_type": "code",
   "execution_count": 7,
   "id": "7d862a58-66bb-4cf5-870a-b888a6c6672e",
   "metadata": {},
   "outputs": [],
   "source": [
    "def uniform_sample_from_Delta_np(n, p):\n",
    "    endpoints = random_num_generator.choice(np.arange(1, p + n, dtype=int), size=n - 1, replace=False)\n",
    "    endpoints = np.append(endpoints, [0, p + n])\n",
    "    endpoints.sort()\n",
    "    \n",
    "    output_array = np.array([endpoints[k] - endpoints[k - 1] - 1 for k in range(1, n + 1)], dtype=int)\n",
    "    \n",
    "    return output_array"
   ]
  },
  {
   "cell_type": "markdown",
   "id": "3503fb25-1442-4420-bd8d-1c4fe20f21bb",
   "metadata": {},
   "source": [
    "For all positive integers $m, p \\geq 2$, define $\\mathcal{T}(m, p)$ to be the set of all $m \\times m$ integerized $p$-TPMs. The following function samples from $\\mathcal{T}(m, p)$ uniformly."
   ]
  },
  {
   "cell_type": "code",
   "execution_count": 8,
   "id": "c06955ec-d383-461b-bed2-b07368b7ed5a",
   "metadata": {},
   "outputs": [],
   "source": [
    "def uniform_sample_integerized_pTPM(m, p):\n",
    "    output_array = np.zeros((m, m), dtype=int)\n",
    "    \n",
    "    for k in range(m):\n",
    "        output_array[:, k] = uniform_sample_from_Delta_np(m, p)\n",
    "        \n",
    "    return output_array"
   ]
  },
  {
   "cell_type": "markdown",
   "id": "a1b1fd98-09f6-42a1-af98-888fe94ec469",
   "metadata": {},
   "source": [
    "# Randomly generate 10 $8 \\times 8$ 5000-TPMs."
   ]
  },
  {
   "cell_type": "code",
   "execution_count": 9,
   "id": "8f31359b-c9e1-40f3-a3fc-fddaf1b0ed04",
   "metadata": {},
   "outputs": [],
   "source": [
    "for k in range(10):\n",
    "    filepath = './random 5000-TPMs/dim8_matrix_' + str(k)\n",
    "    pTPM = uniform_sample_integerized_pTPM(8, 5000)\n",
    "    np.save(filepath, pTPM)"
   ]
  },
  {
   "cell_type": "markdown",
   "id": "9325e315-bdd8-49ed-a817-56ca9facbded",
   "metadata": {},
   "source": [
    "# Randomly generate 10 $16 \\times 16$ 5000-TPMs."
   ]
  },
  {
   "cell_type": "code",
   "execution_count": 13,
   "id": "8b36d6cc-d6d8-4967-81f8-e75d20ee5fa7",
   "metadata": {},
   "outputs": [],
   "source": [
    "for k in range(10):\n",
    "    filepath = './random 5000-TPMs/dim16_matrix_' + str(k)\n",
    "    pTPM = uniform_sample_integerized_pTPM(16, 5000)\n",
    "    np.save(filepath, pTPM)"
   ]
  },
  {
   "cell_type": "markdown",
   "id": "76276415-1895-493b-bf94-c30b8f8b486b",
   "metadata": {},
   "source": [
    "# Randomly generate 10 $32 \\times 32$ 5000-TPMs."
   ]
  },
  {
   "cell_type": "code",
   "execution_count": 15,
   "id": "4429d359-56d5-4072-aeaa-fe64a35248f7",
   "metadata": {},
   "outputs": [],
   "source": [
    "for k in range(10):\n",
    "    filepath = './random 5000-TPMs/dim32_matrix_' + str(k)\n",
    "    pTPM = uniform_sample_integerized_pTPM(32, 5000)\n",
    "    np.save(filepath, pTPM)"
   ]
  }
 ],
 "metadata": {
  "kernelspec": {
   "display_name": "Python 3 (ipykernel)",
   "language": "python",
   "name": "python3"
  },
  "language_info": {
   "codemirror_mode": {
    "name": "ipython",
    "version": 3
   },
   "file_extension": ".py",
   "mimetype": "text/x-python",
   "name": "python",
   "nbconvert_exporter": "python",
   "pygments_lexer": "ipython3",
   "version": "3.9.19"
  }
 },
 "nbformat": 4,
 "nbformat_minor": 5
}
