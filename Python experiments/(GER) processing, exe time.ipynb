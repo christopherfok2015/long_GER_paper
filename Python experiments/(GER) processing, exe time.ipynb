{
 "cells": [
  {
   "cell_type": "code",
   "execution_count": 2,
   "id": "b4b272b7-9bf4-440c-a1e8-bcb41f04c0ab",
   "metadata": {},
   "outputs": [],
   "source": [
    "import numpy as np\n",
    "import datetime\n",
    "import pandas as pd\n",
    "import json"
   ]
  },
  {
   "cell_type": "markdown",
   "id": "1ad4f382-2342-4d47-8ac9-bd2fdad1a426",
   "metadata": {},
   "source": [
    "## Processing"
   ]
  },
  {
   "cell_type": "code",
   "execution_count": 3,
   "id": "5307845d-67af-4aa2-921d-1fc97bec31b5",
   "metadata": {},
   "outputs": [],
   "source": [
    "# Load the lengths of decompositions found by GER (z = 2, 3, 4, ..., 32)\n",
    "GER_length_pdSeries_multiple_z = []\n",
    "\n",
    "for k in range(2, 7):\n",
    "    GER_filepath = './expt_results/GER_decom_lengths_z' + str(k) + '.json'\n",
    "    with open(GER_filepath, 'r') as f:\n",
    "        GER_length_list = json.load(f)\n",
    "    GER_length_pdSeries_multiple_z.append(pd.Series(GER_length_list))\n",
    "\n",
    "GER_key_names = ['z' + str(k) for k in range(2, 7)]\n",
    "GER_zs_length_pddf = pd.concat(GER_length_pdSeries_multiple_z, axis='columns', keys=GER_key_names)"
   ]
  },
  {
   "cell_type": "markdown",
   "id": "a444443d-7e37-405a-aea0-46a9358bebe5",
   "metadata": {},
   "source": [
    "Take the minimum of each row of GER_zs_length_pddf, and save the resulting pandas Series."
   ]
  },
  {
   "cell_type": "code",
   "execution_count": 10,
   "id": "a193ac73-9228-4b5a-80c7-2e5a9e921cc2",
   "metadata": {},
   "outputs": [],
   "source": [
    "GER_opt_length_pdSeries = GER_zs_length_pddf.min(axis=1)"
   ]
  },
  {
   "cell_type": "code",
   "execution_count": 12,
   "id": "d3193e9e-a413-4087-90de-bee75fa6efae",
   "metadata": {},
   "outputs": [],
   "source": [
    "GER_opt_length_filepath = './arranged_data/GER_opt_lengths_pdSeries.pkl'\n",
    "GER_opt_length_pdSeries.to_pickle(GER_opt_length_filepath)"
   ]
  },
  {
   "cell_type": "markdown",
   "id": "486eeb6a-4765-4c33-930d-907679208ca3",
   "metadata": {},
   "source": [
    "## Max, Min and Mean of the Execution Times of GER"
   ]
  },
  {
   "cell_type": "code",
   "execution_count": 13,
   "id": "fe8adf21-4a5f-4c33-95f7-19a498935a85",
   "metadata": {},
   "outputs": [],
   "source": [
    "exe_time_list_mult_z = []\n",
    "\n",
    "for z in range(2, 7):\n",
    "    times_path = './expt_results/GER_exe_time_z' + str(z) + '.pkl'\n",
    "    exe_time_pdSeries_single_z = pd.read_pickle(times_path)\n",
    "    exe_time_list_mult_z.append(exe_time_pdSeries_single_z)\n",
    "\n",
    "exe_time_pdSeries_mult_z = pd.concat(exe_time_list_mult_z, ignore_index=True)"
   ]
  },
  {
   "cell_type": "markdown",
   "id": "83b72922-41cd-440f-9640-a8f79b390dad",
   "metadata": {},
   "source": [
    "The mean execution time of GER ($z = 2, 3, 4, 5, 6$)"
   ]
  },
  {
   "cell_type": "code",
   "execution_count": 14,
   "id": "c9c40405-1b5f-4c69-8289-388dbf14c542",
   "metadata": {},
   "outputs": [
    {
     "name": "stdout",
     "output_type": "stream",
     "text": [
      "0 days 00:00:08.549196506\n"
     ]
    }
   ],
   "source": [
    "print(exe_time_pdSeries_mult_z.mean())"
   ]
  },
  {
   "cell_type": "markdown",
   "id": "a8d51b87-d640-47d7-a3ec-f179ef884e32",
   "metadata": {},
   "source": [
    "The maximum execution time of GER ($z = 2, 3, 4, 5, 6$)"
   ]
  },
  {
   "cell_type": "code",
   "execution_count": 15,
   "id": "e903997e-1ac4-4fc3-8f3a-88dd0dfc7330",
   "metadata": {},
   "outputs": [
    {
     "name": "stdout",
     "output_type": "stream",
     "text": [
      "0 days 00:00:22.836987\n"
     ]
    }
   ],
   "source": [
    "print(exe_time_pdSeries_mult_z.max())"
   ]
  },
  {
   "cell_type": "markdown",
   "id": "ff683dd4-726f-4f06-9d29-b286e4a8d1de",
   "metadata": {},
   "source": [
    "The minimum execution time of GER ($z = 2, 3, 4, 5, 6$)"
   ]
  },
  {
   "cell_type": "code",
   "execution_count": 16,
   "id": "a6beef86-73ee-49e7-a642-01917f7dc95d",
   "metadata": {},
   "outputs": [
    {
     "name": "stdout",
     "output_type": "stream",
     "text": [
      "0 days 00:00:06.135682\n"
     ]
    }
   ],
   "source": [
    "print(exe_time_pdSeries_mult_z.min())"
   ]
  }
 ],
 "metadata": {
  "kernelspec": {
   "display_name": "Python 3 (ipykernel)",
   "language": "python",
   "name": "python3"
  },
  "language_info": {
   "codemirror_mode": {
    "name": "ipython",
    "version": 3
   },
   "file_extension": ".py",
   "mimetype": "text/x-python",
   "name": "python",
   "nbconvert_exporter": "python",
   "pygments_lexer": "ipython3",
   "version": "3.9.19"
  }
 },
 "nbformat": 4,
 "nbformat_minor": 5
}
