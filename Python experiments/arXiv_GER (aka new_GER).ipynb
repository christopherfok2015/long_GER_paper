{
 "cells": [
  {
   "cell_type": "code",
   "execution_count": 96,
   "id": "58ca26d0-d8bc-45fe-a0db-23c6307ce100",
   "metadata": {},
   "outputs": [],
   "source": [
    "import numpy as np\n",
    "import math\n",
    "import copy\n",
    "import datetime\n",
    "import pandas as pd\n",
    "import json"
   ]
  },
  {
   "cell_type": "markdown",
   "id": "b2d191a0-2316-4b12-a2ae-960de394c7be",
   "metadata": {},
   "source": [
    "### Description of add_up_a_decomposition\n",
    "The function takes as inputs:\n",
    "1. a decomposition (x_list, BN_matrices_array) output by SER 1, SER 2, GER (x_list is a list, whereas BN_matrices_array is a 2D np array).\n",
    "2. The dimension of the output TPM row_dim, col_dim\n",
    "\n",
    "The function then sums up (x_list, BN_matrices_array) and outputs the resulting TPM (row_dim-by-col_dim)."
   ]
  },
  {
   "cell_type": "code",
   "execution_count": 2,
   "id": "83203341-36c4-4127-9f76-cfd6620902b7",
   "metadata": {},
   "outputs": [],
   "source": [
    "def add_up_a_decomposition(x_list, BN_matrices_array, row_dim, col_dim):\n",
    "    output_TPM = np.zeros((row_dim, col_dim), dtype=int)\n",
    "    num_BN_matrices = len(x_list)\n",
    "    \n",
    "    for k in range(num_BN_matrices):\n",
    "        for col in range(col_dim):\n",
    "            output_TPM[BN_matrices_array[k, col], col] += x_list[k]\n",
    "    \n",
    "    return output_TPM"
   ]
  },
  {
   "cell_type": "markdown",
   "id": "62ee3a01-1c29-4218-bb0e-4b62500b235e",
   "metadata": {},
   "source": [
    "# Implementation of the arXiv Version of GER"
   ]
  },
  {
   "cell_type": "markdown",
   "id": "85474c21-10b4-4200-986d-29e567843f22",
   "metadata": {},
   "source": [
    "## Order of execution: get_col_indices, first_occurrence, column_freq, find_v_list, GERESA, f_score, new_GER."
   ]
  },
  {
   "cell_type": "markdown",
   "id": "aed132a3-dd47-4303-a770-4c173bdf2ce8",
   "metadata": {},
   "source": [
    "This function requires two inputs:\n",
    "1. $P$ is a $2^{n} \\times 2^{n}$ numpy array.\n",
    "2. $z$ is a real number greater than 1.\n",
    "\n",
    "This function outputs:\n",
    "1. The length of the decomposition $K$.\n",
    "2. A list of positive real numbers x_list.\n",
    "3. A 2D numpy array representing a list of BN matrices A_array."
   ]
  },
  {
   "cell_type": "code",
   "execution_count": 9,
   "id": "19873b46-09fe-460e-9112-9fc2192693ba",
   "metadata": {},
   "outputs": [],
   "source": [
    "def new_GER(P, z):\n",
    "    row_num, col_num = P.shape\n",
    "    zero_matrix = np.zeros((row_num, col_num), dtype=int)\n",
    "    \n",
    "    R = copy.deepcopy(P)\n",
    "    K = 0\n",
    "    x_list = []\n",
    "    BN_list = []\n",
    "    \n",
    "    while (not np.array_equal(R, zero_matrix)):\n",
    "        K += 1\n",
    "        B = np.min(np.max(R, axis=0))\n",
    "        v_list = find_v_list(R, B)\n",
    "        x = 0\n",
    "        score = -math.inf\n",
    "        \n",
    "        for v in v_list:\n",
    "            temp_A = GERESA(R, v) # temp_A should be a list of length col_num representing a BN matrix.\n",
    "            \n",
    "            R_subtract_v_temp_A = copy.deepcopy(R)\n",
    "            for j in range(col_num):\n",
    "                R_subtract_v_temp_A[temp_A[j], j] -= v\n",
    "            \n",
    "            temp_score = f_score(R_subtract_v_temp_A, z)\n",
    "            \n",
    "            if ((temp_score > score) or ((temp_score == score) and (v > x))):\n",
    "                score = temp_score\n",
    "                x = v\n",
    "                A = temp_A\n",
    "        \n",
    "        for j in range(col_num):\n",
    "            R[A[j], j] -= x\n",
    "        \n",
    "        x_list.append(x)\n",
    "        BN_list.append(A)\n",
    "        \n",
    "    return K, x_list, np.array(BN_list)"
   ]
  },
  {
   "cell_type": "markdown",
   "id": "5198d799-68f9-4900-ad3d-e8854d4532c4",
   "metadata": {},
   "source": [
    "This function requires two inputs:\n",
    "1. an integer $v$.\n",
    "2. A 2D numpy array an_array consisting of integers.\n",
    "\n",
    "The function outputs the column frequency of $v$ in an_array."
   ]
  },
  {
   "cell_type": "code",
   "execution_count": 5,
   "id": "5e741d1c-9293-434e-b52e-57bc6120ad7e",
   "metadata": {},
   "outputs": [],
   "source": [
    "def column_freq(v, an_array):\n",
    "    row_num, col_num = an_array.shape\n",
    "    col_freq = 0\n",
    "    \n",
    "    for j in range(col_num):\n",
    "        if v in an_array[:, j]:\n",
    "            col_freq += 1\n",
    "    \n",
    "    return col_freq"
   ]
  },
  {
   "cell_type": "markdown",
   "id": "7744408a-903a-4341-ba11-543d54ab555d",
   "metadata": {},
   "source": [
    "This function outputs the list of positive entries of $R$ which are not greater than $B$ (upper_bound) and attain the maximum column frequency in $R$."
   ]
  },
  {
   "cell_type": "code",
   "execution_count": 6,
   "id": "88994f00-fb3c-4e3f-af68-710d49eef3f4",
   "metadata": {},
   "outputs": [],
   "source": [
    "def find_v_list(R, upper_bound):\n",
    "    row_num, col_num = R.shape\n",
    "    classify_entries = [set() for i in range(col_num + 1)]\n",
    "    \n",
    "    for i in range(row_num):\n",
    "        for j in range(col_num):\n",
    "            if (R[i, j] > 0 and R[i, j] <= upper_bound):\n",
    "                classify_entries[column_freq(R[i, j], R)].add(R[i, j])\n",
    "    \n",
    "    empty_set = set()\n",
    "    \n",
    "    for freq in range(col_num, 0, -1):\n",
    "        if classify_entries[freq] != empty_set:\n",
    "            return list(classify_entries[freq])"
   ]
  },
  {
   "cell_type": "code",
   "execution_count": 7,
   "id": "79709d38-6554-4635-bd83-4b2399025b7e",
   "metadata": {},
   "outputs": [],
   "source": [
    "def GERESA(R, v):\n",
    "    row_num, col_num = R.shape\n",
    "    A = [0] * col_num\n",
    "    R_copy = copy.deepcopy(R)\n",
    "    selected_columns = []\n",
    "    col_indices_v_R = get_col_indices(v, R)\n",
    "    col_indices_v_R_complement = set(range(col_num)) - col_indices_v_R\n",
    "    \n",
    "    for j in col_indices_v_R:\n",
    "        A[j] = first_occurrence(v, R[:, j])\n",
    "        R_copy[A[j], j] = 0\n",
    "        selected_columns.append(j)\n",
    "    \n",
    "    for j in col_indices_v_R_complement:\n",
    "        # Compute a dictionary with keys in Larger(v, R(:, j)) and values being associated column frequencies.\n",
    "        dict_KLarger_VColFreq = dict()\n",
    "        for i in range(row_num):\n",
    "            if R[i, j] > v:\n",
    "                dict_KLarger_VColFreq[i] = column_freq(R[i, j] - v, R_copy[:, selected_columns])\n",
    "        \n",
    "        # Set A[j] to the right choice from range(row_num).\n",
    "        A[j] = max(dict_KLarger_VColFreq.keys(), key=dict_KLarger_VColFreq.get)\n",
    "        \n",
    "        R_copy[A[j], j] = R[A[j], j] - v\n",
    "        selected_columns.append(j)\n",
    "        \n",
    "    return A"
   ]
  },
  {
   "cell_type": "markdown",
   "id": "955387b8-65b2-4739-b651-6e15245d0852",
   "metadata": {},
   "source": [
    "This function requires two inputs:\n",
    "1. an integer $v$.\n",
    "2. A 2D numpy array an_array consisting of integers.\n",
    "\n",
    "The function outputs the set $\\text{Col_indices}(v, \\text{an_array})$."
   ]
  },
  {
   "cell_type": "code",
   "execution_count": 3,
   "id": "3e7df1da-4a16-488d-95df-d02476b1ea2b",
   "metadata": {},
   "outputs": [],
   "source": [
    "def get_col_indices(v, an_array):\n",
    "    row_num, col_num = an_array.shape\n",
    "    col_indices = []\n",
    "    \n",
    "    for j in range(col_num):\n",
    "        if v in an_array[:, j]:\n",
    "            col_indices.append(j)\n",
    "    \n",
    "    return set(col_indices)"
   ]
  },
  {
   "cell_type": "markdown",
   "id": "eb7977fb-50e9-4f16-bbf3-6f604dd99406",
   "metadata": {},
   "source": [
    "This function requires two inputs:\n",
    "1. An integer $v$.\n",
    "2. A 1D numpy array array_1D such that v is an element of array_1D.\n",
    "\n",
    "The function outputs the index of the first occurrence of $v$ in array_1D."
   ]
  },
  {
   "cell_type": "code",
   "execution_count": 4,
   "id": "d9a8dc0c-00b9-4f1e-84b1-06ade92437f4",
   "metadata": {},
   "outputs": [],
   "source": [
    "def first_occurrence(v, array_1D):\n",
    "    length = array_1D.size\n",
    "    \n",
    "    for i in range(length):\n",
    "        if v == array_1D[i]:\n",
    "            return i\n",
    "    \n",
    "    return -1"
   ]
  },
  {
   "cell_type": "markdown",
   "id": "3681d17a-908d-4ae9-b30c-6dc3091b6f94",
   "metadata": {},
   "source": [
    "This function requires two inputs:\n",
    "1. An integer 2D array array_2D.\n",
    "2. A positive real number $z > 1$.\n",
    "\n",
    "The function outputs a score."
   ]
  },
  {
   "cell_type": "code",
   "execution_count": 8,
   "id": "0e975c68-f71f-4f15-a478-3a159371d846",
   "metadata": {},
   "outputs": [],
   "source": [
    "def f_score(array_2D, z):\n",
    "    row_num, col_num = array_2D.shape\n",
    "    score = 0\n",
    "    checked_positive_entries = set()\n",
    "    \n",
    "    for i in range(row_num):\n",
    "        for j in range(col_num):\n",
    "            if (array_2D[i, j] > 0) and (not array_2D[i, j] in checked_positive_entries):\n",
    "                score += z ** column_freq(array_2D[i, j], array_2D)\n",
    "                checked_positive_entries.add(array_2D[i, j])\n",
    "    \n",
    "    return score"
   ]
  },
  {
   "cell_type": "markdown",
   "id": "746fb082-a047-4a11-b13d-b00ff0818a84",
   "metadata": {},
   "source": [
    "# Define the 18 integerized p-TPMs to be tested."
   ]
  },
  {
   "cell_type": "markdown",
   "id": "631f4dc9-199c-4ee3-bab6-af13d3fe991a",
   "metadata": {},
   "source": [
    "#### Synthetic p-TPMs"
   ]
  },
  {
   "cell_type": "code",
   "execution_count": 10,
   "id": "3db7c611-9c0e-4a2c-8f53-8c2971d89b6e",
   "metadata": {},
   "outputs": [],
   "source": [
    "P1 = np.array([[1, 5, 6,  0], \n",
    "               [4, 0, 2,  0], \n",
    "               [5, 2, 0, 10], \n",
    "               [0, 3, 2,  0]])"
   ]
  },
  {
   "cell_type": "code",
   "execution_count": 11,
   "id": "b711fd96-23b2-4065-afc8-351906e8800b",
   "metadata": {},
   "outputs": [],
   "source": [
    "P2 = np.array([[12, 30, 22, 10, 10, 15, 54, 34],\n",
    "               [10, 24, 19, 54, 30,  0,  0,  0],\n",
    "               [54, 15,  0, 12, 12,  0,  0, 30],\n",
    "               [ 0,  0, 24, 15, 24, 19, 10,  0],\n",
    "               [ 0,  0,  0,  0, 34, 10, 12,  0],\n",
    "               [19,  0, 15,  0,  0, 12,  0, 22],\n",
    "               [15, 19,  0, 19,  0, 54,  0, 24],\n",
    "               [ 0, 22, 30,  0,  0,  0, 34,  0]])"
   ]
  },
  {
   "cell_type": "code",
   "execution_count": 12,
   "id": "d66ce581-a92a-4269-938f-99b888826699",
   "metadata": {},
   "outputs": [],
   "source": [
    "P3 = np.array([[ 0,  0,  0, 49,  0, 43,  0, 49],\n",
    "               [ 0, 30, 12,  0, 30,  0, 25,  0],\n",
    "               [25,  0,  0, 15,  0, 22, 12, 15],\n",
    "               [ 0,  0, 10, 24, 19,  0, 30,  0],\n",
    "               [30, 43, 15,  0, 24, 15,  0,  0],\n",
    "               [43,  0, 49,  0,  0,  0, 19, 24],\n",
    "               [ 0, 22,  0, 22, 12, 30,  0, 12],\n",
    "               [12, 15, 24,  0, 25,  0, 24, 10]])"
   ]
  },
  {
   "cell_type": "code",
   "execution_count": 13,
   "id": "819ae1c3-2937-4bec-b1e9-002fb9fc29c9",
   "metadata": {},
   "outputs": [],
   "source": [
    "P4 = np.array([[ 26,   0,   0,   0,  59,   0,  49,   0,  29,   0,   0,   0,   0,   9,   0,  46],\n",
    "               [  0,   0,  39,  17,   0,   0,   0,  49,  49,   0,   0,   0,   0,  98,  54,  17],\n",
    "               [  0,   0,  26,  49,   0,   0,   0,   9,   0,   0,   0,  59,   9,   0,   0,   0],\n",
    "               [  0,   0,   0,   0,   0,   9,  54,   0,   0,   0,   0,   0,  39,   0,  49,  26],\n",
    "               [ 49,   0,   9,   0,   0,  29,   0,   0,   0,   0, 108,  63,   0,  17,  59,   0],\n",
    "               [  0,   0,   0,  26,   0,   0,   0,  17,  39,  29,   0,   0,   0,   0,   0,  88],\n",
    "               [ 17,  63,  88,   0,   0,   0,   0,  98,   0,   9,  37,   0,  88,   0,   0,  49],\n",
    "               [  0,   0,   0,   0,  49,   0,   0,   0,  17,  37,   9,  29,  63,  49,  39,   0],\n",
    "               [ 98,   0,   0,   0,  46, 108,  26,   0,   0,   0,   0,   9,   0,  63,   9,   0],\n",
    "               [  0,  29,   0,   0,  17,   0,  29,   0,  46,   0,  26,   0,   0,   0,  26,   0],\n",
    "               [ 29, 108,   0,  88,   0,  39,   0,   0,   0,   0,  39,   0,   0,  29,   0,   0],\n",
    "               [  0,  39,   0,  39,   0,   0,   0,   0,  26,  26,  29,  39,   0,   0,   0,   0],\n",
    "               [  0,   0,   0,   0,  29,   0,  98,  29,   0,  39,   0,   0,   0,   0,   0,   0],\n",
    "               [ 46,   0,  49,  37,  39,  26,   9,   0,   0, 108,  17,   0,  49,   0,  29,   0],\n",
    "               [  0,   9,  54,   9,   0,  54,   0,  37,   0,  17,   0,  49,  17,   0,   0,  39],\n",
    "               [  0,  17,   0,   0,  26,   0,   0,  26,  59,   0,   0,  17,   0,   0,   0,   0]])"
   ]
  },
  {
   "cell_type": "code",
   "execution_count": 14,
   "id": "8504a3b1-4529-4fa6-8769-b8c70d558162",
   "metadata": {},
   "outputs": [],
   "source": [
    "P5 = np.array([[0, 6, 8, 1, 7, 5, 8, 5, 6, 5, 3, 4, 10, 2, 2, 0], \n",
    "               [8, 1, 1, 0, 0, 0, 0, 0, 1, 0, 0, 0,  0, 0, 0, 3], \n",
    "               [2, 1, 0, 0, 0, 0, 0, 0, 1, 0, 0, 0,  0, 0, 0, 0], \n",
    "               [0, 1, 0, 0, 0, 0, 0, 0, 0, 0, 0, 0,  0, 0, 0, 0],\n",
    "               [0, 1, 1, 8, 2, 4, 2, 5, 0, 3, 2, 3,  0, 3, 4, 1],\n",
    "               [0, 0, 0, 1, 0, 1, 0, 0, 0, 0, 0, 0,  0, 0, 0, 0],\n",
    "               [0, 0, 0, 0, 0, 0, 0, 0, 0, 0, 0, 0,  0, 0, 0, 0],\n",
    "               [0, 0, 0, 0, 0, 0, 0, 0, 0, 0, 0, 0,  0, 0, 0, 0],\n",
    "               [0, 0, 0, 0, 1, 0, 0, 0, 1, 0, 0, 3,  0, 0, 2, 1],\n",
    "               [0, 0, 0, 0, 0, 0, 0, 0, 1, 2, 2, 0,  0, 0, 0, 0],\n",
    "               [0, 0, 0, 0, 0, 0, 0, 0, 0, 0, 0, 0,  0, 0, 0, 0],\n",
    "               [0, 0, 0, 0, 0, 0, 0, 0, 0, 0, 0, 0,  0, 0, 0, 0],\n",
    "               [0, 0, 0, 0, 0, 0, 0, 0, 0, 0, 3, 0,  0, 4, 2, 5],\n",
    "               [0, 0, 0, 0, 0, 0, 0, 0, 0, 0, 0, 0,  0, 1, 0, 0],\n",
    "               [0, 0, 0, 0, 0, 0, 0, 0, 0, 0, 0, 0,  0, 0, 0, 0],\n",
    "               [0, 0, 0, 0, 0, 0, 0, 0, 0, 0, 0, 0,  0, 0, 0, 0]])"
   ]
  },
  {
   "cell_type": "markdown",
   "id": "ba4beec4-c635-47c2-9a0d-0696f1f30fe4",
   "metadata": {},
   "source": [
    "#### p-TPMs from the MOMP paper"
   ]
  },
  {
   "cell_type": "code",
   "execution_count": 15,
   "id": "d337b2a3-d965-4272-ac57-9e1aa3655f2d",
   "metadata": {},
   "outputs": [],
   "source": [
    "PA1 = np.array([[1, 3, 2, 1], \n",
    "                [2, 3, 2, 0], \n",
    "                [0, 0, 6, 4], \n",
    "                [7, 4, 0, 5]])"
   ]
  },
  {
   "cell_type": "code",
   "execution_count": 16,
   "id": "9c4961d9-a4dd-42c9-97ae-00b6e5b81acf",
   "metadata": {},
   "outputs": [],
   "source": [
    "PA2 = np.array([[1, 3, 2, 1, 0, 0, 0, 0], \n",
    "                [2, 3, 2, 0, 0, 0, 0, 0], \n",
    "                [0, 0, 6, 4, 0, 0, 0, 0], \n",
    "                [7, 4, 0, 5, 0, 0, 0, 0],\n",
    "                [0, 0, 0, 0, 1, 3, 2, 1],\n",
    "                [0, 0, 0, 0, 2, 3, 2, 0],\n",
    "                [0, 0, 0, 0, 0, 0, 6, 4],\n",
    "                [0, 0, 0, 0, 7, 4, 0, 5]])"
   ]
  },
  {
   "cell_type": "code",
   "execution_count": 17,
   "id": "c8a8ee13-91a9-42a7-9b4d-56851ec9df7c",
   "metadata": {},
   "outputs": [],
   "source": [
    "PA3 = np.array([[57,  0, 10,  0,  0,  4,  0,  0], \n",
    "                [14, 31,  0, 50, 12, 13, 33,  6], \n",
    "                [ 0,  8, 40, 25, 25,  0, 67,  0], \n",
    "                [ 0, 15,  0,  0,  0,  8,  0,  0],\n",
    "                [ 0, 15, 30,  0,  0, 13,  0,  0],\n",
    "                [29, 31, 20,  0, 25, 29,  0, 39],\n",
    "                [ 0,  0,  0,  0, 38,  0,  0,  0],\n",
    "                [ 0,  0,  0, 25,  0, 33,  0, 55]])"
   ]
  },
  {
   "cell_type": "markdown",
   "id": "22b5c115-ee95-472a-8228-7cde4b7827ef",
   "metadata": {},
   "source": [
    "#### p-TPMs from the PBGDM paper"
   ]
  },
  {
   "cell_type": "code",
   "execution_count": 18,
   "id": "6b87d164-397b-4366-b674-ecc9470c56c5",
   "metadata": {},
   "outputs": [],
   "source": [
    "PB1 = np.array([[1, 3, 5, 6], \n",
    "                [0, 7, 0, 0], \n",
    "                [0, 0, 5, 0], \n",
    "                [9, 0, 0, 4]])"
   ]
  },
  {
   "cell_type": "code",
   "execution_count": 19,
   "id": "aea92bc2-cd13-4826-a585-c41f0da75c8e",
   "metadata": {},
   "outputs": [],
   "source": [
    "PB3 = np.array([[10,  0,  0, 2,  0, 0, 0,  0], \n",
    "                [ 0,  0,  0, 2,  0, 0, 0,  0], \n",
    "                [ 0,  0,  0, 0, 10, 0, 0,  0], \n",
    "                [ 0,  0,  0, 0,  0, 0, 0,  0],\n",
    "                [ 0,  0,  0, 3,  0, 0, 5,  0],\n",
    "                [ 0,  0,  0, 3,  0, 0, 5,  0],\n",
    "                [ 0, 10, 10, 0,  0, 5, 0,  0],\n",
    "                [ 0,  0,  0, 0,  0, 5, 0, 10]])"
   ]
  },
  {
   "cell_type": "code",
   "execution_count": 20,
   "id": "7346f9d7-8462-4762-98b8-993ff29ff271",
   "metadata": {},
   "outputs": [],
   "source": [
    "def perturb_PB3(d):\n",
    "    output_array = np.array([[100 - d,       0,       0, 20,       0,  0,  0,       0], \n",
    "                             [      0,       0,       0, 20,       0,  0,  0,       0], \n",
    "                             [      0,       0,       0,  0, 100 - d,  0,  0,       0], \n",
    "                             [      d,       d,       d,  0,       d,  0,  0,       d],\n",
    "                             [      0,       0,       0, 30,       0,  0, 50,       0],\n",
    "                             [      0,       0,       0, 30,       0,  0, 50,       0],\n",
    "                             [      0, 100 - d, 100 - d,  0,       0, 50,  0,       0],\n",
    "                             [      0,       0,       0,  0,       0, 50,  0, 100 - d]])\n",
    "    return output_array"
   ]
  },
  {
   "cell_type": "code",
   "execution_count": 21,
   "id": "086aeeef-12f1-46ea-944d-26505784a51a",
   "metadata": {},
   "outputs": [],
   "source": [
    "PB4_d1 = perturb_PB3(1)\n",
    "PB4_d2 = perturb_PB3(2)\n",
    "PB4_d3 = perturb_PB3(3)\n",
    "PB4_d4 = perturb_PB3(4)"
   ]
  },
  {
   "cell_type": "code",
   "execution_count": 22,
   "id": "341ade98-7890-469a-98ab-0be8f0840e26",
   "metadata": {},
   "outputs": [],
   "source": [
    "PB6_d1 = np.zeros((16, 16), dtype=int)\n",
    "PB6_d1[0:8, 0:8] = PB4_d1\n",
    "PB6_d1[8:16, 8:16] = PB4_d1\n",
    "\n",
    "PB6_d2 = np.zeros((16, 16), dtype=int)\n",
    "PB6_d2[0:8, 0:8] = PB4_d2\n",
    "PB6_d2[8:16, 8:16] = PB4_d2\n",
    "\n",
    "PB6_d3 = np.zeros((16, 16), dtype=int)\n",
    "PB6_d3[0:8, 0:8] = PB4_d3\n",
    "PB6_d3[8:16, 8:16] = PB4_d3\n",
    "\n",
    "PB6_d4 = np.zeros((16, 16), dtype=int)\n",
    "PB6_d4[0:8, 0:8] = PB4_d4\n",
    "PB6_d4[8:16, 8:16] = PB4_d4"
   ]
  },
  {
   "cell_type": "markdown",
   "id": "a0fd77c4-11c0-43d3-a721-2780c06f50b6",
   "metadata": {},
   "source": [
    "# Execute new_GER on the 18 p-TPMs"
   ]
  },
  {
   "cell_type": "markdown",
   "id": "fd4741ff-fa03-4b99-aabe-d5cb88e42418",
   "metadata": {},
   "source": [
    "### $P_{1}$"
   ]
  },
  {
   "cell_type": "code",
   "execution_count": 24,
   "id": "490bba96-ad95-4229-a420-33cee142c333",
   "metadata": {},
   "outputs": [],
   "source": [
    "opt_K = math.inf\n",
    "opt_x_list = []\n",
    "opt_A_array = []\n",
    "opt_z = 0\n",
    "exe_time_list = []\n",
    "\n",
    "for z in range(2, 33):\n",
    "    time_before_execution = datetime.datetime.now()\n",
    "    K, x_list, A_array = new_GER(P1, z)\n",
    "    time_after_execution = datetime.datetime.now()\n",
    "    \n",
    "    execution_duration = time_after_execution - time_before_execution\n",
    "    exe_time_list.append(pd.Timedelta(execution_duration))\n",
    "    \n",
    "    if opt_K > K:\n",
    "        opt_K = K\n",
    "        opt_x_list = x_list\n",
    "        opt_A_array = A_array\n",
    "        opt_z = z"
   ]
  },
  {
   "cell_type": "code",
   "execution_count": 25,
   "id": "af6dec4b-bf47-46ca-8028-f64a12d36383",
   "metadata": {},
   "outputs": [
    {
     "name": "stdout",
     "output_type": "stream",
     "text": [
      "4\n",
      "4\n",
      "(4, 4)\n",
      "2\n"
     ]
    }
   ],
   "source": [
    "print(opt_K)\n",
    "print(len(opt_x_list))\n",
    "print(opt_A_array.shape)\n",
    "print(opt_z)"
   ]
  },
  {
   "cell_type": "code",
   "execution_count": 26,
   "id": "65237a40-b2ba-4148-a5f5-a11b635dd2f0",
   "metadata": {},
   "outputs": [
    {
     "data": {
      "text/plain": [
       "True"
      ]
     },
     "execution_count": 26,
     "metadata": {},
     "output_type": "execute_result"
    }
   ],
   "source": [
    "np.array_equal(P1, add_up_a_decomposition(opt_x_list, opt_A_array, 4, 4))"
   ]
  },
  {
   "cell_type": "code",
   "execution_count": 27,
   "id": "a8d27e6e-2d9a-452b-b110-29f10221c6d3",
   "metadata": {},
   "outputs": [
    {
     "name": "stdout",
     "output_type": "stream",
     "text": [
      "Max execution time: 0 days 00:00:00.045192\n",
      "Mean execution time: 0 days 00:00:00.003614419\n",
      "Min execution time: 0 days 00:00:00\n"
     ]
    }
   ],
   "source": [
    "exe_time_pdSeries = pd.Series(exe_time_list)\n",
    "print('Max execution time:', exe_time_pdSeries.max())\n",
    "print('Mean execution time:', exe_time_pdSeries.mean())\n",
    "print('Min execution time:', exe_time_pdSeries.min())"
   ]
  },
  {
   "cell_type": "markdown",
   "id": "8c50e24b-7ef3-42d0-a1f3-e6a54fba5841",
   "metadata": {},
   "source": [
    "### $P_{2}$"
   ]
  },
  {
   "cell_type": "code",
   "execution_count": 28,
   "id": "8aac44e0-5263-45d1-9396-44e47e57257c",
   "metadata": {},
   "outputs": [],
   "source": [
    "opt_K = math.inf\n",
    "opt_x_list = []\n",
    "opt_A_array = []\n",
    "opt_z = 0\n",
    "exe_time_list = []\n",
    "\n",
    "for z in range(2, 33):\n",
    "    time_before_execution = datetime.datetime.now()\n",
    "    K, x_list, A_array = new_GER(P2, z)\n",
    "    time_after_execution = datetime.datetime.now()\n",
    "    \n",
    "    execution_duration = time_after_execution - time_before_execution\n",
    "    exe_time_list.append(pd.Timedelta(execution_duration))\n",
    "    \n",
    "    if opt_K > K:\n",
    "        opt_K = K\n",
    "        opt_x_list = x_list\n",
    "        opt_A_array = A_array\n",
    "        opt_z = z"
   ]
  },
  {
   "cell_type": "code",
   "execution_count": 29,
   "id": "72929e5d-1a8f-49d1-9779-a02ff8bb203b",
   "metadata": {},
   "outputs": [
    {
     "name": "stdout",
     "output_type": "stream",
     "text": [
      "6\n",
      "6\n",
      "(6, 8)\n",
      "2\n"
     ]
    }
   ],
   "source": [
    "print(opt_K)\n",
    "print(len(opt_x_list))\n",
    "print(opt_A_array.shape)\n",
    "print(opt_z)"
   ]
  },
  {
   "cell_type": "code",
   "execution_count": 30,
   "id": "5af49abc-b3bb-4b11-b29f-d0257a7b1a83",
   "metadata": {},
   "outputs": [
    {
     "data": {
      "text/plain": [
       "True"
      ]
     },
     "execution_count": 30,
     "metadata": {},
     "output_type": "execute_result"
    }
   ],
   "source": [
    "np.array_equal(P2, add_up_a_decomposition(opt_x_list, opt_A_array, 8, 8))"
   ]
  },
  {
   "cell_type": "code",
   "execution_count": 31,
   "id": "530ed0e4-ae80-4e04-8529-e306eff4aafe",
   "metadata": {},
   "outputs": [
    {
     "name": "stdout",
     "output_type": "stream",
     "text": [
      "Max execution time: 0 days 00:00:00.022058\n",
      "Mean execution time: 0 days 00:00:00.012390483\n",
      "Min execution time: 0 days 00:00:00.004039\n"
     ]
    }
   ],
   "source": [
    "exe_time_pdSeries = pd.Series(exe_time_list)\n",
    "print('Max execution time:', exe_time_pdSeries.max())\n",
    "print('Mean execution time:', exe_time_pdSeries.mean())\n",
    "print('Min execution time:', exe_time_pdSeries.min())"
   ]
  },
  {
   "cell_type": "markdown",
   "id": "6e984fa4-152e-4928-a59e-2a38176e0533",
   "metadata": {},
   "source": [
    "### $P_{3}$"
   ]
  },
  {
   "cell_type": "code",
   "execution_count": 32,
   "id": "2e1939dc-e309-4204-914f-374a83c1e3be",
   "metadata": {},
   "outputs": [],
   "source": [
    "opt_K = math.inf\n",
    "opt_x_list = []\n",
    "opt_A_array = []\n",
    "opt_z = 0\n",
    "exe_time_list = []\n",
    "\n",
    "for z in range(2, 33):\n",
    "    time_before_execution = datetime.datetime.now()\n",
    "    K, x_list, A_array = new_GER(P3, z)\n",
    "    time_after_execution = datetime.datetime.now()\n",
    "    \n",
    "    execution_duration = time_after_execution - time_before_execution\n",
    "    exe_time_list.append(pd.Timedelta(execution_duration))\n",
    "    \n",
    "    if opt_K > K:\n",
    "        opt_K = K\n",
    "        opt_x_list = x_list\n",
    "        opt_A_array = A_array\n",
    "        opt_z = z"
   ]
  },
  {
   "cell_type": "code",
   "execution_count": 33,
   "id": "a32bd567-656a-4aa1-8b92-8895938045e1",
   "metadata": {},
   "outputs": [
    {
     "name": "stdout",
     "output_type": "stream",
     "text": [
      "6\n",
      "6\n",
      "(6, 8)\n",
      "2\n"
     ]
    }
   ],
   "source": [
    "print(opt_K)\n",
    "print(len(opt_x_list))\n",
    "print(opt_A_array.shape)\n",
    "print(opt_z)"
   ]
  },
  {
   "cell_type": "code",
   "execution_count": 34,
   "id": "80abd243-9a63-4191-8e2f-8521c71da8fa",
   "metadata": {},
   "outputs": [
    {
     "data": {
      "text/plain": [
       "True"
      ]
     },
     "execution_count": 34,
     "metadata": {},
     "output_type": "execute_result"
    }
   ],
   "source": [
    "np.array_equal(P3, add_up_a_decomposition(opt_x_list, opt_A_array, 8, 8))"
   ]
  },
  {
   "cell_type": "code",
   "execution_count": 35,
   "id": "1363d5fc-4922-47b0-afc6-217ececcaa96",
   "metadata": {},
   "outputs": [
    {
     "name": "stdout",
     "output_type": "stream",
     "text": [
      "Max execution time: 0 days 00:00:00.048735\n",
      "Mean execution time: 0 days 00:00:00.012898709\n",
      "Min execution time: 0 days 00:00:00.005210\n"
     ]
    }
   ],
   "source": [
    "exe_time_pdSeries = pd.Series(exe_time_list)\n",
    "print('Max execution time:', exe_time_pdSeries.max())\n",
    "print('Mean execution time:', exe_time_pdSeries.mean())\n",
    "print('Min execution time:', exe_time_pdSeries.min())"
   ]
  },
  {
   "cell_type": "markdown",
   "id": "45314110-c605-453d-85e0-9eb0d508864b",
   "metadata": {},
   "source": [
    "### $P_{4}$"
   ]
  },
  {
   "cell_type": "code",
   "execution_count": 36,
   "id": "9f7db0d1-57ab-4996-a70e-bff42b000bd1",
   "metadata": {},
   "outputs": [],
   "source": [
    "opt_K = math.inf\n",
    "opt_x_list = []\n",
    "opt_A_array = []\n",
    "opt_z = 0\n",
    "exe_time_list = []\n",
    "\n",
    "for z in range(2, 33):\n",
    "    time_before_execution = datetime.datetime.now()\n",
    "    K, x_list, A_array = new_GER(P4, z)\n",
    "    time_after_execution = datetime.datetime.now()\n",
    "    \n",
    "    execution_duration = time_after_execution - time_before_execution\n",
    "    exe_time_list.append(pd.Timedelta(execution_duration))\n",
    "    \n",
    "    if opt_K > K:\n",
    "        opt_K = K\n",
    "        opt_x_list = x_list\n",
    "        opt_A_array = A_array\n",
    "        opt_z = z"
   ]
  },
  {
   "cell_type": "code",
   "execution_count": 37,
   "id": "5b11ed9b-6409-46ce-b277-5904ddd60f2c",
   "metadata": {},
   "outputs": [
    {
     "name": "stdout",
     "output_type": "stream",
     "text": [
      "8\n",
      "8\n",
      "(8, 16)\n",
      "2\n"
     ]
    }
   ],
   "source": [
    "print(opt_K)\n",
    "print(len(opt_x_list))\n",
    "print(opt_A_array.shape)\n",
    "print(opt_z)"
   ]
  },
  {
   "cell_type": "code",
   "execution_count": 38,
   "id": "d3a229e4-885a-4c87-9f37-2cdd8b965c86",
   "metadata": {},
   "outputs": [
    {
     "data": {
      "text/plain": [
       "True"
      ]
     },
     "execution_count": 38,
     "metadata": {},
     "output_type": "execute_result"
    }
   ],
   "source": [
    "np.array_equal(P4, add_up_a_decomposition(opt_x_list, opt_A_array, 16, 16))"
   ]
  },
  {
   "cell_type": "code",
   "execution_count": 39,
   "id": "4ae5a19c-92e5-4764-b35a-e74ba37d3a36",
   "metadata": {},
   "outputs": [
    {
     "name": "stdout",
     "output_type": "stream",
     "text": [
      "Max execution time: 0 days 00:00:00.177088\n",
      "Mean execution time: 0 days 00:00:00.083961290\n",
      "Min execution time: 0 days 00:00:00.064358\n"
     ]
    }
   ],
   "source": [
    "exe_time_pdSeries = pd.Series(exe_time_list)\n",
    "print('Max execution time:', exe_time_pdSeries.max())\n",
    "print('Mean execution time:', exe_time_pdSeries.mean())\n",
    "print('Min execution time:', exe_time_pdSeries.min())"
   ]
  },
  {
   "cell_type": "markdown",
   "id": "022af01f-82d5-44f3-af2a-a36ae02ba2f9",
   "metadata": {},
   "source": [
    "### $P_{5}$"
   ]
  },
  {
   "cell_type": "code",
   "execution_count": 40,
   "id": "552e5849-ebe9-489e-a352-1a1ce1031b28",
   "metadata": {},
   "outputs": [],
   "source": [
    "opt_K = math.inf\n",
    "opt_x_list = []\n",
    "opt_A_array = []\n",
    "opt_z = 0\n",
    "exe_time_list = []\n",
    "\n",
    "for z in range(2, 33):\n",
    "    time_before_execution = datetime.datetime.now()\n",
    "    K, x_list, A_array = new_GER(P5, z)\n",
    "    time_after_execution = datetime.datetime.now()\n",
    "    \n",
    "    execution_duration = time_after_execution - time_before_execution\n",
    "    exe_time_list.append(pd.Timedelta(execution_duration))\n",
    "    \n",
    "    if opt_K > K:\n",
    "        opt_K = K\n",
    "        opt_x_list = x_list\n",
    "        opt_A_array = A_array\n",
    "        opt_z = z"
   ]
  },
  {
   "cell_type": "code",
   "execution_count": 41,
   "id": "220e4e4d-feb7-4755-bebe-7498e84cc85c",
   "metadata": {},
   "outputs": [
    {
     "name": "stdout",
     "output_type": "stream",
     "text": [
      "7\n",
      "7\n",
      "(7, 16)\n",
      "2\n"
     ]
    }
   ],
   "source": [
    "print(opt_K)\n",
    "print(len(opt_x_list))\n",
    "print(opt_A_array.shape)\n",
    "print(opt_z)"
   ]
  },
  {
   "cell_type": "code",
   "execution_count": 42,
   "id": "3b3cd36b-2cdf-42d5-b1d2-c3abd8611995",
   "metadata": {},
   "outputs": [
    {
     "data": {
      "text/plain": [
       "True"
      ]
     },
     "execution_count": 42,
     "metadata": {},
     "output_type": "execute_result"
    }
   ],
   "source": [
    "np.array_equal(P5, add_up_a_decomposition(opt_x_list, opt_A_array, 16, 16))"
   ]
  },
  {
   "cell_type": "code",
   "execution_count": 43,
   "id": "54cec9e7-a419-4281-8ed2-b7dccde22a16",
   "metadata": {},
   "outputs": [
    {
     "name": "stdout",
     "output_type": "stream",
     "text": [
      "Max execution time: 0 days 00:00:00.019091\n",
      "Mean execution time: 0 days 00:00:00.015438967\n",
      "Min execution time: 0 days 00:00:00.010926\n"
     ]
    }
   ],
   "source": [
    "exe_time_pdSeries = pd.Series(exe_time_list)\n",
    "print('Max execution time:', exe_time_pdSeries.max())\n",
    "print('Mean execution time:', exe_time_pdSeries.mean())\n",
    "print('Min execution time:', exe_time_pdSeries.min())"
   ]
  },
  {
   "cell_type": "markdown",
   "id": "0cae53dc-c98b-42be-a373-9ad5fdea9687",
   "metadata": {},
   "source": [
    "### $P^{A}_{1}$"
   ]
  },
  {
   "cell_type": "code",
   "execution_count": 44,
   "id": "4bbaba3b-9e0c-40a6-acfc-7b369b6aa063",
   "metadata": {},
   "outputs": [],
   "source": [
    "opt_K = math.inf\n",
    "opt_x_list = []\n",
    "opt_A_array = []\n",
    "opt_z = 0\n",
    "exe_time_list = []\n",
    "\n",
    "for z in range(2, 33):\n",
    "    time_before_execution = datetime.datetime.now()\n",
    "    K, x_list, A_array = new_GER(PA1, z)\n",
    "    time_after_execution = datetime.datetime.now()\n",
    "    \n",
    "    execution_duration = time_after_execution - time_before_execution\n",
    "    exe_time_list.append(pd.Timedelta(execution_duration))\n",
    "    \n",
    "    if opt_K > K:\n",
    "        opt_K = K\n",
    "        opt_x_list = x_list\n",
    "        opt_A_array = A_array\n",
    "        opt_z = z"
   ]
  },
  {
   "cell_type": "code",
   "execution_count": 45,
   "id": "8e193000-5220-4b08-b5c4-0bd87b177aae",
   "metadata": {},
   "outputs": [
    {
     "name": "stdout",
     "output_type": "stream",
     "text": [
      "5\n",
      "5\n",
      "(5, 4)\n",
      "2\n"
     ]
    }
   ],
   "source": [
    "print(opt_K)\n",
    "print(len(opt_x_list))\n",
    "print(opt_A_array.shape)\n",
    "print(opt_z)"
   ]
  },
  {
   "cell_type": "code",
   "execution_count": 46,
   "id": "f3ed8bbd-839a-4867-9ad6-a24a987371ba",
   "metadata": {},
   "outputs": [
    {
     "data": {
      "text/plain": [
       "True"
      ]
     },
     "execution_count": 46,
     "metadata": {},
     "output_type": "execute_result"
    }
   ],
   "source": [
    "np.array_equal(PA1, add_up_a_decomposition(opt_x_list, opt_A_array, 4, 4))"
   ]
  },
  {
   "cell_type": "code",
   "execution_count": 47,
   "id": "efdab63e-ddb3-422d-8cd7-99c38e41084b",
   "metadata": {},
   "outputs": [
    {
     "name": "stdout",
     "output_type": "stream",
     "text": [
      "Max execution time: 0 days 00:00:00.002553\n",
      "Mean execution time: 0 days 00:00:00.001460032\n",
      "Min execution time: 0 days 00:00:00.000504\n"
     ]
    }
   ],
   "source": [
    "exe_time_pdSeries = pd.Series(exe_time_list)\n",
    "print('Max execution time:', exe_time_pdSeries.max())\n",
    "print('Mean execution time:', exe_time_pdSeries.mean())\n",
    "print('Min execution time:', exe_time_pdSeries.min())"
   ]
  },
  {
   "cell_type": "markdown",
   "id": "504bab28-8613-483f-9f5e-9686a4eeea69",
   "metadata": {},
   "source": [
    "### $P^{A}_{2}$"
   ]
  },
  {
   "cell_type": "code",
   "execution_count": 48,
   "id": "e5e19f28-45c3-40c3-b7bd-184c2638f6fd",
   "metadata": {},
   "outputs": [],
   "source": [
    "opt_K = math.inf\n",
    "opt_x_list = []\n",
    "opt_A_array = []\n",
    "opt_z = 0\n",
    "exe_time_list = []\n",
    "\n",
    "for z in range(2, 33):\n",
    "    time_before_execution = datetime.datetime.now()\n",
    "    K, x_list, A_array = new_GER(PA2, z)\n",
    "    time_after_execution = datetime.datetime.now()\n",
    "    \n",
    "    execution_duration = time_after_execution - time_before_execution\n",
    "    exe_time_list.append(pd.Timedelta(execution_duration))\n",
    "    \n",
    "    if opt_K > K:\n",
    "        opt_K = K\n",
    "        opt_x_list = x_list\n",
    "        opt_A_array = A_array\n",
    "        opt_z = z"
   ]
  },
  {
   "cell_type": "code",
   "execution_count": 49,
   "id": "2cd413c7-5cec-474d-87a6-7cbbefed928c",
   "metadata": {},
   "outputs": [
    {
     "name": "stdout",
     "output_type": "stream",
     "text": [
      "5\n",
      "5\n",
      "(5, 8)\n",
      "2\n"
     ]
    }
   ],
   "source": [
    "print(opt_K)\n",
    "print(len(opt_x_list))\n",
    "print(opt_A_array.shape)\n",
    "print(opt_z)"
   ]
  },
  {
   "cell_type": "code",
   "execution_count": 50,
   "id": "9274d802-bf7c-43cb-a216-7fb43a81ed06",
   "metadata": {},
   "outputs": [
    {
     "data": {
      "text/plain": [
       "True"
      ]
     },
     "execution_count": 50,
     "metadata": {},
     "output_type": "execute_result"
    }
   ],
   "source": [
    "np.array_equal(PA2, add_up_a_decomposition(opt_x_list, opt_A_array, 8, 8))"
   ]
  },
  {
   "cell_type": "code",
   "execution_count": 51,
   "id": "f4eafb93-e75e-4591-a3d3-e600ae4e8c27",
   "metadata": {},
   "outputs": [
    {
     "name": "stdout",
     "output_type": "stream",
     "text": [
      "Max execution time: 0 days 00:00:00.006367\n",
      "Mean execution time: 0 days 00:00:00.004941645\n",
      "Min execution time: 0 days 00:00:00.003000\n"
     ]
    }
   ],
   "source": [
    "exe_time_pdSeries = pd.Series(exe_time_list)\n",
    "print('Max execution time:', exe_time_pdSeries.max())\n",
    "print('Mean execution time:', exe_time_pdSeries.mean())\n",
    "print('Min execution time:', exe_time_pdSeries.min())"
   ]
  },
  {
   "cell_type": "markdown",
   "id": "d8780098-7253-4e51-8217-08f81f477b86",
   "metadata": {},
   "source": [
    "### $P^{A}_{3}$"
   ]
  },
  {
   "cell_type": "code",
   "execution_count": 52,
   "id": "b7bf5a70-a19c-4495-8197-14f2464f6be2",
   "metadata": {},
   "outputs": [],
   "source": [
    "opt_K = math.inf\n",
    "opt_x_list = []\n",
    "opt_A_array = []\n",
    "opt_z = 0\n",
    "exe_time_list = []\n",
    "\n",
    "for z in range(2, 33):\n",
    "    time_before_execution = datetime.datetime.now()\n",
    "    K, x_list, A_array = new_GER(PA3, z)\n",
    "    time_after_execution = datetime.datetime.now()\n",
    "    \n",
    "    execution_duration = time_after_execution - time_before_execution\n",
    "    exe_time_list.append(pd.Timedelta(execution_duration))\n",
    "    \n",
    "    if opt_K > K:\n",
    "        opt_K = K\n",
    "        opt_x_list = x_list\n",
    "        opt_A_array = A_array\n",
    "        opt_z = z"
   ]
  },
  {
   "cell_type": "code",
   "execution_count": 53,
   "id": "d7641a64-e4c3-401f-8baf-36e9fe3b3556",
   "metadata": {},
   "outputs": [
    {
     "name": "stdout",
     "output_type": "stream",
     "text": [
      "11\n",
      "11\n",
      "(11, 8)\n",
      "2\n"
     ]
    }
   ],
   "source": [
    "print(opt_K)\n",
    "print(len(opt_x_list))\n",
    "print(opt_A_array.shape)\n",
    "print(opt_z)"
   ]
  },
  {
   "cell_type": "code",
   "execution_count": 54,
   "id": "4a0784a2-1ccc-4079-87b3-f4467affd02a",
   "metadata": {},
   "outputs": [
    {
     "data": {
      "text/plain": [
       "True"
      ]
     },
     "execution_count": 54,
     "metadata": {},
     "output_type": "execute_result"
    }
   ],
   "source": [
    "np.array_equal(PA3, add_up_a_decomposition(opt_x_list, opt_A_array, 8, 8))"
   ]
  },
  {
   "cell_type": "code",
   "execution_count": 55,
   "id": "f639c175-8809-4ec6-8150-0728254a389d",
   "metadata": {},
   "outputs": [
    {
     "name": "stdout",
     "output_type": "stream",
     "text": [
      "Max execution time: 0 days 00:00:00.036274\n",
      "Mean execution time: 0 days 00:00:00.025057193\n",
      "Min execution time: 0 days 00:00:00.015286\n"
     ]
    }
   ],
   "source": [
    "exe_time_pdSeries = pd.Series(exe_time_list)\n",
    "print('Max execution time:', exe_time_pdSeries.max())\n",
    "print('Mean execution time:', exe_time_pdSeries.mean())\n",
    "print('Min execution time:', exe_time_pdSeries.min())"
   ]
  },
  {
   "cell_type": "markdown",
   "id": "2dadca59-dcc7-4879-9fe1-64c478aff5c1",
   "metadata": {},
   "source": [
    "### $P^{B}_{1}$"
   ]
  },
  {
   "cell_type": "code",
   "execution_count": 56,
   "id": "d2639ff1-512c-40cf-9915-4212b7652624",
   "metadata": {},
   "outputs": [],
   "source": [
    "opt_K = math.inf\n",
    "opt_x_list = []\n",
    "opt_A_array = []\n",
    "opt_z = 0\n",
    "exe_time_list = []\n",
    "\n",
    "for z in range(2, 33):\n",
    "    time_before_execution = datetime.datetime.now()\n",
    "    K, x_list, A_array = new_GER(PB1, z)\n",
    "    time_after_execution = datetime.datetime.now()\n",
    "    \n",
    "    execution_duration = time_after_execution - time_before_execution\n",
    "    exe_time_list.append(pd.Timedelta(execution_duration))\n",
    "    \n",
    "    if opt_K > K:\n",
    "        opt_K = K\n",
    "        opt_x_list = x_list\n",
    "        opt_A_array = A_array\n",
    "        opt_z = z"
   ]
  },
  {
   "cell_type": "code",
   "execution_count": 57,
   "id": "63d926c6-8bee-4a71-a3ec-aea2aa9f8795",
   "metadata": {},
   "outputs": [
    {
     "name": "stdout",
     "output_type": "stream",
     "text": [
      "4\n",
      "4\n",
      "(4, 4)\n",
      "2\n"
     ]
    }
   ],
   "source": [
    "print(opt_K)\n",
    "print(len(opt_x_list))\n",
    "print(opt_A_array.shape)\n",
    "print(opt_z)"
   ]
  },
  {
   "cell_type": "code",
   "execution_count": 58,
   "id": "5392b30b-791d-4212-b692-8b70da37f683",
   "metadata": {},
   "outputs": [
    {
     "data": {
      "text/plain": [
       "True"
      ]
     },
     "execution_count": 58,
     "metadata": {},
     "output_type": "execute_result"
    }
   ],
   "source": [
    "np.array_equal(PB1, add_up_a_decomposition(opt_x_list, opt_A_array, 4, 4))"
   ]
  },
  {
   "cell_type": "code",
   "execution_count": 59,
   "id": "4e8661c6-1eeb-470c-ad88-a9973aca14b6",
   "metadata": {},
   "outputs": [
    {
     "name": "stdout",
     "output_type": "stream",
     "text": [
      "Max execution time: 0 days 00:00:00.002332\n",
      "Mean execution time: 0 days 00:00:00.001195032\n",
      "Min execution time: 0 days 00:00:00.001002\n"
     ]
    }
   ],
   "source": [
    "exe_time_pdSeries = pd.Series(exe_time_list)\n",
    "print('Max execution time:', exe_time_pdSeries.max())\n",
    "print('Mean execution time:', exe_time_pdSeries.mean())\n",
    "print('Min execution time:', exe_time_pdSeries.min())"
   ]
  },
  {
   "cell_type": "markdown",
   "id": "f6f011dd-4848-47c7-a1ed-bef6617b61e6",
   "metadata": {},
   "source": [
    "### $P^{B}_{3}$"
   ]
  },
  {
   "cell_type": "code",
   "execution_count": 60,
   "id": "9b44afc7-dbe1-49f5-a228-174b63636ad8",
   "metadata": {},
   "outputs": [],
   "source": [
    "opt_K = math.inf\n",
    "opt_x_list = []\n",
    "opt_A_array = []\n",
    "opt_z = 0\n",
    "exe_time_list = []\n",
    "\n",
    "for z in range(2, 33):\n",
    "    time_before_execution = datetime.datetime.now()\n",
    "    K, x_list, A_array = new_GER(PB3, z)\n",
    "    time_after_execution = datetime.datetime.now()\n",
    "    \n",
    "    execution_duration = time_after_execution - time_before_execution\n",
    "    exe_time_list.append(pd.Timedelta(execution_duration))\n",
    "    \n",
    "    if opt_K > K:\n",
    "        opt_K = K\n",
    "        opt_x_list = x_list\n",
    "        opt_A_array = A_array\n",
    "        opt_z = z"
   ]
  },
  {
   "cell_type": "code",
   "execution_count": 61,
   "id": "ca24872c-851d-4a0f-aa0e-ca732c6b91c0",
   "metadata": {},
   "outputs": [
    {
     "name": "stdout",
     "output_type": "stream",
     "text": [
      "4\n",
      "4\n",
      "(4, 8)\n",
      "2\n"
     ]
    }
   ],
   "source": [
    "print(opt_K)\n",
    "print(len(opt_x_list))\n",
    "print(opt_A_array.shape)\n",
    "print(opt_z)"
   ]
  },
  {
   "cell_type": "code",
   "execution_count": 62,
   "id": "13e2ace0-c1e7-4370-8704-bd1163f5ad88",
   "metadata": {},
   "outputs": [
    {
     "data": {
      "text/plain": [
       "True"
      ]
     },
     "execution_count": 62,
     "metadata": {},
     "output_type": "execute_result"
    }
   ],
   "source": [
    "np.array_equal(PB3, add_up_a_decomposition(opt_x_list, opt_A_array, 8, 8))"
   ]
  },
  {
   "cell_type": "code",
   "execution_count": 63,
   "id": "d34e77b9-676f-44bc-b10f-026f5e980d6b",
   "metadata": {},
   "outputs": [
    {
     "name": "stdout",
     "output_type": "stream",
     "text": [
      "Max execution time: 0 days 00:00:00.004341\n",
      "Mean execution time: 0 days 00:00:00.003173516\n",
      "Min execution time: 0 days 00:00:00.002000\n"
     ]
    }
   ],
   "source": [
    "exe_time_pdSeries = pd.Series(exe_time_list)\n",
    "print('Max execution time:', exe_time_pdSeries.max())\n",
    "print('Mean execution time:', exe_time_pdSeries.mean())\n",
    "print('Min execution time:', exe_time_pdSeries.min())"
   ]
  },
  {
   "cell_type": "markdown",
   "id": "f4d2734f-b5fd-434e-a209-22d9b70713d2",
   "metadata": {},
   "source": [
    "### $P^{B}_{4}(0.01)$"
   ]
  },
  {
   "cell_type": "code",
   "execution_count": 64,
   "id": "efaa5fc6-de85-44c6-ab48-912e1821a75d",
   "metadata": {},
   "outputs": [],
   "source": [
    "opt_K = math.inf\n",
    "opt_x_list = []\n",
    "opt_A_array = []\n",
    "opt_z = 0\n",
    "exe_time_list = []\n",
    "\n",
    "for z in range(2, 33):\n",
    "    time_before_execution = datetime.datetime.now()\n",
    "    K, x_list, A_array = new_GER(PB4_d1, z)\n",
    "    time_after_execution = datetime.datetime.now()\n",
    "    \n",
    "    execution_duration = time_after_execution - time_before_execution\n",
    "    exe_time_list.append(pd.Timedelta(execution_duration))\n",
    "    \n",
    "    if opt_K > K:\n",
    "        opt_K = K\n",
    "        opt_x_list = x_list\n",
    "        opt_A_array = A_array\n",
    "        opt_z = z"
   ]
  },
  {
   "cell_type": "code",
   "execution_count": 65,
   "id": "e6fd11a1-27b0-4768-b564-9bbc6243f7e4",
   "metadata": {},
   "outputs": [
    {
     "name": "stdout",
     "output_type": "stream",
     "text": [
      "5\n",
      "5\n",
      "(5, 8)\n",
      "2\n"
     ]
    }
   ],
   "source": [
    "print(opt_K)\n",
    "print(len(opt_x_list))\n",
    "print(opt_A_array.shape)\n",
    "print(opt_z)"
   ]
  },
  {
   "cell_type": "code",
   "execution_count": 66,
   "id": "fe678594-9b57-4d62-892c-18eea7bbdc35",
   "metadata": {},
   "outputs": [
    {
     "data": {
      "text/plain": [
       "True"
      ]
     },
     "execution_count": 66,
     "metadata": {},
     "output_type": "execute_result"
    }
   ],
   "source": [
    "np.array_equal(PB4_d1, add_up_a_decomposition(opt_x_list, opt_A_array, 8, 8))"
   ]
  },
  {
   "cell_type": "code",
   "execution_count": 67,
   "id": "704b535d-3ed6-4d63-b7c6-60fb0ac6cc91",
   "metadata": {},
   "outputs": [
    {
     "name": "stdout",
     "output_type": "stream",
     "text": [
      "Max execution time: 0 days 00:00:00.009049\n",
      "Mean execution time: 0 days 00:00:00.006136387\n",
      "Min execution time: 0 days 00:00:00\n"
     ]
    }
   ],
   "source": [
    "exe_time_pdSeries = pd.Series(exe_time_list)\n",
    "print('Max execution time:', exe_time_pdSeries.max())\n",
    "print('Mean execution time:', exe_time_pdSeries.mean())\n",
    "print('Min execution time:', exe_time_pdSeries.min())"
   ]
  },
  {
   "cell_type": "markdown",
   "id": "75ff910f-bedf-4569-9e41-bca47b96c66d",
   "metadata": {},
   "source": [
    "### $P^{B}_{4}(0.02)$"
   ]
  },
  {
   "cell_type": "code",
   "execution_count": 68,
   "id": "fdb79306-c0d1-43de-aa71-648fd6899629",
   "metadata": {},
   "outputs": [],
   "source": [
    "opt_K = math.inf\n",
    "opt_x_list = []\n",
    "opt_A_array = []\n",
    "opt_z = 0\n",
    "exe_time_list = []\n",
    "\n",
    "for z in range(2, 33):\n",
    "    time_before_execution = datetime.datetime.now()\n",
    "    K, x_list, A_array = new_GER(PB4_d2, z)\n",
    "    time_after_execution = datetime.datetime.now()\n",
    "    \n",
    "    execution_duration = time_after_execution - time_before_execution\n",
    "    exe_time_list.append(pd.Timedelta(execution_duration))\n",
    "    \n",
    "    if opt_K > K:\n",
    "        opt_K = K\n",
    "        opt_x_list = x_list\n",
    "        opt_A_array = A_array\n",
    "        opt_z = z"
   ]
  },
  {
   "cell_type": "code",
   "execution_count": 69,
   "id": "ad070c8c-1c93-4535-b35f-7a5ebf784d7c",
   "metadata": {},
   "outputs": [
    {
     "name": "stdout",
     "output_type": "stream",
     "text": [
      "5\n",
      "5\n",
      "(5, 8)\n",
      "2\n"
     ]
    }
   ],
   "source": [
    "print(opt_K)\n",
    "print(len(opt_x_list))\n",
    "print(opt_A_array.shape)\n",
    "print(opt_z)"
   ]
  },
  {
   "cell_type": "code",
   "execution_count": 70,
   "id": "d536288f-a1d2-4a2f-9788-56f55189fa46",
   "metadata": {},
   "outputs": [
    {
     "data": {
      "text/plain": [
       "True"
      ]
     },
     "execution_count": 70,
     "metadata": {},
     "output_type": "execute_result"
    }
   ],
   "source": [
    "np.array_equal(PB4_d2, add_up_a_decomposition(opt_x_list, opt_A_array, 8, 8))"
   ]
  },
  {
   "cell_type": "code",
   "execution_count": 71,
   "id": "11b88cb9-be7e-45eb-bbee-4f8e641ba057",
   "metadata": {},
   "outputs": [
    {
     "name": "stdout",
     "output_type": "stream",
     "text": [
      "Max execution time: 0 days 00:00:00.013448\n",
      "Mean execution time: 0 days 00:00:00.007244129\n",
      "Min execution time: 0 days 00:00:00\n"
     ]
    }
   ],
   "source": [
    "exe_time_pdSeries = pd.Series(exe_time_list)\n",
    "print('Max execution time:', exe_time_pdSeries.max())\n",
    "print('Mean execution time:', exe_time_pdSeries.mean())\n",
    "print('Min execution time:', exe_time_pdSeries.min())"
   ]
  },
  {
   "cell_type": "markdown",
   "id": "2db27086-3a31-41be-9bc3-bd68bf1900ee",
   "metadata": {},
   "source": [
    "### $P^{B}_{4}(0.03)$"
   ]
  },
  {
   "cell_type": "code",
   "execution_count": 72,
   "id": "7b137980-bea2-4d83-8627-17a1d6b4f4f0",
   "metadata": {},
   "outputs": [],
   "source": [
    "opt_K = math.inf\n",
    "opt_x_list = []\n",
    "opt_A_array = []\n",
    "opt_z = 0\n",
    "exe_time_list = []\n",
    "\n",
    "for z in range(2, 33):\n",
    "    time_before_execution = datetime.datetime.now()\n",
    "    K, x_list, A_array = new_GER(PB4_d3, z)\n",
    "    time_after_execution = datetime.datetime.now()\n",
    "    \n",
    "    execution_duration = time_after_execution - time_before_execution\n",
    "    exe_time_list.append(pd.Timedelta(execution_duration))\n",
    "    \n",
    "    if opt_K > K:\n",
    "        opt_K = K\n",
    "        opt_x_list = x_list\n",
    "        opt_A_array = A_array\n",
    "        opt_z = z"
   ]
  },
  {
   "cell_type": "code",
   "execution_count": 73,
   "id": "3be28149-e917-4fe9-b49c-5e55407e7756",
   "metadata": {},
   "outputs": [
    {
     "name": "stdout",
     "output_type": "stream",
     "text": [
      "5\n",
      "5\n",
      "(5, 8)\n",
      "2\n"
     ]
    }
   ],
   "source": [
    "print(opt_K)\n",
    "print(len(opt_x_list))\n",
    "print(opt_A_array.shape)\n",
    "print(opt_z)"
   ]
  },
  {
   "cell_type": "code",
   "execution_count": 74,
   "id": "396c457a-e49a-40f9-998f-e788a36fc241",
   "metadata": {},
   "outputs": [
    {
     "data": {
      "text/plain": [
       "True"
      ]
     },
     "execution_count": 74,
     "metadata": {},
     "output_type": "execute_result"
    }
   ],
   "source": [
    "np.array_equal(PB4_d3, add_up_a_decomposition(opt_x_list, opt_A_array, 8, 8))"
   ]
  },
  {
   "cell_type": "code",
   "execution_count": 75,
   "id": "09920413-c703-4012-97e1-e35607d333f3",
   "metadata": {},
   "outputs": [
    {
     "name": "stdout",
     "output_type": "stream",
     "text": [
      "Max execution time: 0 days 00:00:00.012235\n",
      "Mean execution time: 0 days 00:00:00.005973419\n",
      "Min execution time: 0 days 00:00:00\n"
     ]
    }
   ],
   "source": [
    "exe_time_pdSeries = pd.Series(exe_time_list)\n",
    "print('Max execution time:', exe_time_pdSeries.max())\n",
    "print('Mean execution time:', exe_time_pdSeries.mean())\n",
    "print('Min execution time:', exe_time_pdSeries.min())"
   ]
  },
  {
   "cell_type": "markdown",
   "id": "458b45cf-49fc-49fc-97c5-30b89ac45047",
   "metadata": {},
   "source": [
    "### $P^{B}_{4}(0.04)$"
   ]
  },
  {
   "cell_type": "code",
   "execution_count": 76,
   "id": "42ea12ea-1d4f-42f3-b785-d14e8358ffb4",
   "metadata": {},
   "outputs": [],
   "source": [
    "opt_K = math.inf\n",
    "opt_x_list = []\n",
    "opt_A_array = []\n",
    "opt_z = 0\n",
    "exe_time_list = []\n",
    "\n",
    "for z in range(2, 33):\n",
    "    time_before_execution = datetime.datetime.now()\n",
    "    K, x_list, A_array = new_GER(PB4_d4, z)\n",
    "    time_after_execution = datetime.datetime.now()\n",
    "    \n",
    "    execution_duration = time_after_execution - time_before_execution\n",
    "    exe_time_list.append(pd.Timedelta(execution_duration))\n",
    "    \n",
    "    if opt_K > K:\n",
    "        opt_K = K\n",
    "        opt_x_list = x_list\n",
    "        opt_A_array = A_array\n",
    "        opt_z = z"
   ]
  },
  {
   "cell_type": "code",
   "execution_count": 77,
   "id": "3b36143d-4243-4d93-af93-a39a8becd706",
   "metadata": {},
   "outputs": [
    {
     "name": "stdout",
     "output_type": "stream",
     "text": [
      "5\n",
      "5\n",
      "(5, 8)\n",
      "2\n"
     ]
    }
   ],
   "source": [
    "print(opt_K)\n",
    "print(len(opt_x_list))\n",
    "print(opt_A_array.shape)\n",
    "print(opt_z)"
   ]
  },
  {
   "cell_type": "code",
   "execution_count": 78,
   "id": "6ebc2cb9-1e5f-4ebd-b851-48f52e79e8cb",
   "metadata": {},
   "outputs": [
    {
     "data": {
      "text/plain": [
       "True"
      ]
     },
     "execution_count": 78,
     "metadata": {},
     "output_type": "execute_result"
    }
   ],
   "source": [
    "np.array_equal(PB4_d4, add_up_a_decomposition(opt_x_list, opt_A_array, 8, 8))"
   ]
  },
  {
   "cell_type": "code",
   "execution_count": 79,
   "id": "15bd7c76-c1a2-4fc1-9c98-9c226237ebce",
   "metadata": {},
   "outputs": [
    {
     "name": "stdout",
     "output_type": "stream",
     "text": [
      "Max execution time: 0 days 00:00:00.012137\n",
      "Mean execution time: 0 days 00:00:00.006123838\n",
      "Min execution time: 0 days 00:00:00\n"
     ]
    }
   ],
   "source": [
    "exe_time_pdSeries = pd.Series(exe_time_list)\n",
    "print('Max execution time:', exe_time_pdSeries.max())\n",
    "print('Mean execution time:', exe_time_pdSeries.mean())\n",
    "print('Min execution time:', exe_time_pdSeries.min())"
   ]
  },
  {
   "cell_type": "markdown",
   "id": "4e82b7a0-7fd3-4f82-aae3-c619fd787ff9",
   "metadata": {},
   "source": [
    "### $P^{B}_{6}(0.01)$"
   ]
  },
  {
   "cell_type": "code",
   "execution_count": 80,
   "id": "6fe1cb53-cd64-4396-8e73-4c6cf9c4a562",
   "metadata": {},
   "outputs": [],
   "source": [
    "opt_K = math.inf\n",
    "opt_x_list = []\n",
    "opt_A_array = []\n",
    "opt_z = 0\n",
    "exe_time_list = []\n",
    "\n",
    "for z in range(2, 33):\n",
    "    time_before_execution = datetime.datetime.now()\n",
    "    K, x_list, A_array = new_GER(PB6_d1, z)\n",
    "    time_after_execution = datetime.datetime.now()\n",
    "    \n",
    "    execution_duration = time_after_execution - time_before_execution\n",
    "    exe_time_list.append(pd.Timedelta(execution_duration))\n",
    "    \n",
    "    if opt_K > K:\n",
    "        opt_K = K\n",
    "        opt_x_list = x_list\n",
    "        opt_A_array = A_array\n",
    "        opt_z = z"
   ]
  },
  {
   "cell_type": "code",
   "execution_count": 81,
   "id": "ebb11f66-b694-442a-9293-dab8b7641c80",
   "metadata": {},
   "outputs": [
    {
     "name": "stdout",
     "output_type": "stream",
     "text": [
      "5\n",
      "5\n",
      "(5, 16)\n",
      "2\n"
     ]
    }
   ],
   "source": [
    "print(opt_K)\n",
    "print(len(opt_x_list))\n",
    "print(opt_A_array.shape)\n",
    "print(opt_z)"
   ]
  },
  {
   "cell_type": "code",
   "execution_count": 82,
   "id": "1645d2be-1ddf-4299-bf26-c317fa49666f",
   "metadata": {},
   "outputs": [
    {
     "data": {
      "text/plain": [
       "True"
      ]
     },
     "execution_count": 82,
     "metadata": {},
     "output_type": "execute_result"
    }
   ],
   "source": [
    "np.array_equal(PB6_d1, add_up_a_decomposition(opt_x_list, opt_A_array, 16, 16))"
   ]
  },
  {
   "cell_type": "code",
   "execution_count": 83,
   "id": "3ca4171b-49de-4e2f-8277-b97ab401bce1",
   "metadata": {},
   "outputs": [
    {
     "name": "stdout",
     "output_type": "stream",
     "text": [
      "Max execution time: 0 days 00:00:00.024935\n",
      "Mean execution time: 0 days 00:00:00.017832483\n",
      "Min execution time: 0 days 00:00:00.006916\n"
     ]
    }
   ],
   "source": [
    "exe_time_pdSeries = pd.Series(exe_time_list)\n",
    "print('Max execution time:', exe_time_pdSeries.max())\n",
    "print('Mean execution time:', exe_time_pdSeries.mean())\n",
    "print('Min execution time:', exe_time_pdSeries.min())"
   ]
  },
  {
   "cell_type": "markdown",
   "id": "4b553c59-56a0-46b3-ab18-fb8f134d461e",
   "metadata": {},
   "source": [
    "### $P^{B}_{6}(0.02)$"
   ]
  },
  {
   "cell_type": "code",
   "execution_count": 84,
   "id": "b3eeb21b-ff87-4749-8445-260d70aeb160",
   "metadata": {},
   "outputs": [],
   "source": [
    "opt_K = math.inf\n",
    "opt_x_list = []\n",
    "opt_A_array = []\n",
    "opt_z = 0\n",
    "exe_time_list = []\n",
    "\n",
    "for z in range(2, 33):\n",
    "    time_before_execution = datetime.datetime.now()\n",
    "    K, x_list, A_array = new_GER(PB6_d2, z)\n",
    "    time_after_execution = datetime.datetime.now()\n",
    "    \n",
    "    execution_duration = time_after_execution - time_before_execution\n",
    "    exe_time_list.append(pd.Timedelta(execution_duration))\n",
    "    \n",
    "    if opt_K > K:\n",
    "        opt_K = K\n",
    "        opt_x_list = x_list\n",
    "        opt_A_array = A_array\n",
    "        opt_z = z"
   ]
  },
  {
   "cell_type": "code",
   "execution_count": 85,
   "id": "25ac61bd-abdd-4cbc-ace9-eff35ad09bab",
   "metadata": {},
   "outputs": [
    {
     "name": "stdout",
     "output_type": "stream",
     "text": [
      "5\n",
      "5\n",
      "(5, 16)\n",
      "2\n"
     ]
    }
   ],
   "source": [
    "print(opt_K)\n",
    "print(len(opt_x_list))\n",
    "print(opt_A_array.shape)\n",
    "print(opt_z)"
   ]
  },
  {
   "cell_type": "code",
   "execution_count": 86,
   "id": "d2acad31-2886-417c-99bd-d31f65a5d00f",
   "metadata": {},
   "outputs": [
    {
     "data": {
      "text/plain": [
       "True"
      ]
     },
     "execution_count": 86,
     "metadata": {},
     "output_type": "execute_result"
    }
   ],
   "source": [
    "np.array_equal(PB6_d2, add_up_a_decomposition(opt_x_list, opt_A_array, 16, 16))"
   ]
  },
  {
   "cell_type": "code",
   "execution_count": 87,
   "id": "25e1b299-f22d-43cf-b6c7-e57f78fc4b48",
   "metadata": {},
   "outputs": [
    {
     "name": "stdout",
     "output_type": "stream",
     "text": [
      "Max execution time: 0 days 00:00:00.025509\n",
      "Mean execution time: 0 days 00:00:00.018626612\n",
      "Min execution time: 0 days 00:00:00.012632\n"
     ]
    }
   ],
   "source": [
    "exe_time_pdSeries = pd.Series(exe_time_list)\n",
    "print('Max execution time:', exe_time_pdSeries.max())\n",
    "print('Mean execution time:', exe_time_pdSeries.mean())\n",
    "print('Min execution time:', exe_time_pdSeries.min())"
   ]
  },
  {
   "cell_type": "markdown",
   "id": "5ab91d58-5717-4d94-b9aa-69cf2bbd873b",
   "metadata": {},
   "source": [
    "### $P^{B}_{6}(0.03)$"
   ]
  },
  {
   "cell_type": "code",
   "execution_count": 88,
   "id": "295ea509-a11a-495f-9a50-1f4e34f83793",
   "metadata": {},
   "outputs": [],
   "source": [
    "opt_K = math.inf\n",
    "opt_x_list = []\n",
    "opt_A_array = []\n",
    "opt_z = 0\n",
    "exe_time_list = []\n",
    "\n",
    "for z in range(2, 33):\n",
    "    time_before_execution = datetime.datetime.now()\n",
    "    K, x_list, A_array = new_GER(PB6_d3, z)\n",
    "    time_after_execution = datetime.datetime.now()\n",
    "    \n",
    "    execution_duration = time_after_execution - time_before_execution\n",
    "    exe_time_list.append(pd.Timedelta(execution_duration))\n",
    "    \n",
    "    if opt_K > K:\n",
    "        opt_K = K\n",
    "        opt_x_list = x_list\n",
    "        opt_A_array = A_array\n",
    "        opt_z = z"
   ]
  },
  {
   "cell_type": "code",
   "execution_count": 89,
   "id": "16392172-799d-45c4-ab29-274c53d69b1c",
   "metadata": {},
   "outputs": [
    {
     "name": "stdout",
     "output_type": "stream",
     "text": [
      "5\n",
      "5\n",
      "(5, 16)\n",
      "2\n"
     ]
    }
   ],
   "source": [
    "print(opt_K)\n",
    "print(len(opt_x_list))\n",
    "print(opt_A_array.shape)\n",
    "print(opt_z)"
   ]
  },
  {
   "cell_type": "code",
   "execution_count": 90,
   "id": "7738812a-3db8-405d-b03e-7fe868834382",
   "metadata": {},
   "outputs": [
    {
     "data": {
      "text/plain": [
       "True"
      ]
     },
     "execution_count": 90,
     "metadata": {},
     "output_type": "execute_result"
    }
   ],
   "source": [
    "np.array_equal(PB6_d3, add_up_a_decomposition(opt_x_list, opt_A_array, 16, 16))"
   ]
  },
  {
   "cell_type": "code",
   "execution_count": 91,
   "id": "f533a7c1-c271-4bf3-8f8c-c98b26f23d9b",
   "metadata": {},
   "outputs": [
    {
     "name": "stdout",
     "output_type": "stream",
     "text": [
      "Max execution time: 0 days 00:00:00.030765\n",
      "Mean execution time: 0 days 00:00:00.018398483\n",
      "Min execution time: 0 days 00:00:00.008318\n"
     ]
    }
   ],
   "source": [
    "exe_time_pdSeries = pd.Series(exe_time_list)\n",
    "print('Max execution time:', exe_time_pdSeries.max())\n",
    "print('Mean execution time:', exe_time_pdSeries.mean())\n",
    "print('Min execution time:', exe_time_pdSeries.min())"
   ]
  },
  {
   "cell_type": "markdown",
   "id": "7abc94f5-f5b1-4c0a-a4b7-3d153e7a15cf",
   "metadata": {},
   "source": [
    "### $P^{B}_{6}(0.04)$"
   ]
  },
  {
   "cell_type": "code",
   "execution_count": 92,
   "id": "8ba1d471-26d5-418a-b922-9c68678e08ff",
   "metadata": {},
   "outputs": [],
   "source": [
    "opt_K = math.inf\n",
    "opt_x_list = []\n",
    "opt_A_array = []\n",
    "opt_z = 0\n",
    "exe_time_list = []\n",
    "\n",
    "for z in range(2, 33):\n",
    "    time_before_execution = datetime.datetime.now()\n",
    "    K, x_list, A_array = new_GER(PB6_d4, z)\n",
    "    time_after_execution = datetime.datetime.now()\n",
    "    \n",
    "    execution_duration = time_after_execution - time_before_execution\n",
    "    exe_time_list.append(pd.Timedelta(execution_duration))\n",
    "    \n",
    "    if opt_K > K:\n",
    "        opt_K = K\n",
    "        opt_x_list = x_list\n",
    "        opt_A_array = A_array\n",
    "        opt_z = z"
   ]
  },
  {
   "cell_type": "code",
   "execution_count": 93,
   "id": "0369f12a-2a77-4c9b-8abd-4461fbdbf887",
   "metadata": {},
   "outputs": [
    {
     "name": "stdout",
     "output_type": "stream",
     "text": [
      "5\n",
      "5\n",
      "(5, 16)\n",
      "2\n"
     ]
    }
   ],
   "source": [
    "print(opt_K)\n",
    "print(len(opt_x_list))\n",
    "print(opt_A_array.shape)\n",
    "print(opt_z)"
   ]
  },
  {
   "cell_type": "code",
   "execution_count": 94,
   "id": "c02d3090-2012-450a-bb8e-d05fbf8f9f87",
   "metadata": {},
   "outputs": [
    {
     "data": {
      "text/plain": [
       "True"
      ]
     },
     "execution_count": 94,
     "metadata": {},
     "output_type": "execute_result"
    }
   ],
   "source": [
    "np.array_equal(PB6_d4, add_up_a_decomposition(opt_x_list, opt_A_array, 16, 16))"
   ]
  },
  {
   "cell_type": "code",
   "execution_count": 95,
   "id": "fa0b055e-6b8a-450f-8d5a-a94da9275a19",
   "metadata": {},
   "outputs": [
    {
     "name": "stdout",
     "output_type": "stream",
     "text": [
      "Max execution time: 0 days 00:00:00.024543\n",
      "Mean execution time: 0 days 00:00:00.018321451\n",
      "Min execution time: 0 days 00:00:00.010071\n"
     ]
    }
   ],
   "source": [
    "exe_time_pdSeries = pd.Series(exe_time_list)\n",
    "print('Max execution time:', exe_time_pdSeries.max())\n",
    "print('Mean execution time:', exe_time_pdSeries.mean())\n",
    "print('Min execution time:', exe_time_pdSeries.min())"
   ]
  },
  {
   "cell_type": "markdown",
   "id": "b4e2eda6-4a42-4c5f-995b-29178bf68f66",
   "metadata": {},
   "source": [
    "# Random Matrix Experiment"
   ]
  },
  {
   "cell_type": "code",
   "execution_count": 97,
   "id": "3c439647-758f-4c2b-bd2a-849ce2b98be0",
   "metadata": {},
   "outputs": [
    {
     "name": "stdout",
     "output_type": "stream",
     "text": [
      "Start of execution:    2024-12-24 23:35:18.661812\n",
      "\n",
      "start of z = 2\n",
      "decom lengths == coef lengths: True\n",
      "decom lengths == A_array lengths: True\n",
      "sum of output decoms equal input pTPMs: True\n",
      "Time: 2024-12-25 04:31:11.360123      Completed z = 2\n",
      "\n",
      "start of z = 3\n",
      "decom lengths == coef lengths: True\n",
      "decom lengths == A_array lengths: True\n",
      "sum of output decoms equal input pTPMs: True\n",
      "Time: 2024-12-25 08:42:20.066029      Completed z = 3\n",
      "\n",
      "start of z = 4\n",
      "decom lengths == coef lengths: True\n",
      "decom lengths == A_array lengths: True\n",
      "sum of output decoms equal input pTPMs: True\n",
      "Time: 2024-12-25 13:32:22.008039      Completed z = 4\n",
      "\n",
      "start of z = 5\n",
      "decom lengths == coef lengths: True\n",
      "decom lengths == A_array lengths: True\n",
      "sum of output decoms equal input pTPMs: True\n",
      "Time: 2024-12-25 18:29:13.651616      Completed z = 5\n",
      "\n",
      "start of z = 6\n",
      "decom lengths == coef lengths: True\n",
      "decom lengths == A_array lengths: True\n",
      "sum of output decoms equal input pTPMs: True\n",
      "Time: 2024-12-25 23:21:54.821856      Completed z = 6\n",
      "\n",
      "start of z = 7\n"
     ]
    },
    {
     "ename": "KeyboardInterrupt",
     "evalue": "",
     "output_type": "error",
     "traceback": [
      "\u001b[1;31m---------------------------------------------------------------------------\u001b[0m",
      "\u001b[1;31mKeyboardInterrupt\u001b[0m                         Traceback (most recent call last)",
      "Cell \u001b[1;32mIn[97], line 21\u001b[0m\n\u001b[0;32m     18\u001b[0m current_TPM \u001b[38;5;241m=\u001b[39m np\u001b[38;5;241m.\u001b[39mload(TPM_file_path)\n\u001b[0;32m     20\u001b[0m time_before_execution \u001b[38;5;241m=\u001b[39m datetime\u001b[38;5;241m.\u001b[39mdatetime\u001b[38;5;241m.\u001b[39mnow()\n\u001b[1;32m---> 21\u001b[0m length_k, coefficient_list_xi, BN_matrices_list_Ai \u001b[38;5;241m=\u001b[39m \u001b[43mnew_GER\u001b[49m\u001b[43m(\u001b[49m\u001b[43mcurrent_TPM\u001b[49m\u001b[43m,\u001b[49m\u001b[43m \u001b[49m\u001b[43mz\u001b[49m\u001b[43m)\u001b[49m\n\u001b[0;32m     22\u001b[0m time_after_execution \u001b[38;5;241m=\u001b[39m datetime\u001b[38;5;241m.\u001b[39mdatetime\u001b[38;5;241m.\u001b[39mnow()\n\u001b[0;32m     23\u001b[0m execution_duration \u001b[38;5;241m=\u001b[39m time_after_execution \u001b[38;5;241m-\u001b[39m time_before_execution\n",
      "Cell \u001b[1;32mIn[9], line 13\u001b[0m, in \u001b[0;36mnew_GER\u001b[1;34m(P, z)\u001b[0m\n\u001b[0;32m     11\u001b[0m K \u001b[38;5;241m+\u001b[39m\u001b[38;5;241m=\u001b[39m \u001b[38;5;241m1\u001b[39m\n\u001b[0;32m     12\u001b[0m B \u001b[38;5;241m=\u001b[39m np\u001b[38;5;241m.\u001b[39mmin(np\u001b[38;5;241m.\u001b[39mmax(R, axis\u001b[38;5;241m=\u001b[39m\u001b[38;5;241m0\u001b[39m))\n\u001b[1;32m---> 13\u001b[0m v_list \u001b[38;5;241m=\u001b[39m \u001b[43mfind_v_list\u001b[49m\u001b[43m(\u001b[49m\u001b[43mR\u001b[49m\u001b[43m,\u001b[49m\u001b[43m \u001b[49m\u001b[43mB\u001b[49m\u001b[43m)\u001b[49m\n\u001b[0;32m     14\u001b[0m x \u001b[38;5;241m=\u001b[39m \u001b[38;5;241m0\u001b[39m\n\u001b[0;32m     15\u001b[0m score \u001b[38;5;241m=\u001b[39m \u001b[38;5;241m-\u001b[39mmath\u001b[38;5;241m.\u001b[39minf\n",
      "Cell \u001b[1;32mIn[6], line 8\u001b[0m, in \u001b[0;36mfind_v_list\u001b[1;34m(R, upper_bound)\u001b[0m\n\u001b[0;32m      6\u001b[0m     \u001b[38;5;28;01mfor\u001b[39;00m j \u001b[38;5;129;01min\u001b[39;00m \u001b[38;5;28mrange\u001b[39m(col_num):\n\u001b[0;32m      7\u001b[0m         \u001b[38;5;28;01mif\u001b[39;00m (R[i, j] \u001b[38;5;241m>\u001b[39m \u001b[38;5;241m0\u001b[39m \u001b[38;5;129;01mand\u001b[39;00m R[i, j] \u001b[38;5;241m<\u001b[39m\u001b[38;5;241m=\u001b[39m upper_bound):\n\u001b[1;32m----> 8\u001b[0m             classify_entries[\u001b[43mcolumn_freq\u001b[49m\u001b[43m(\u001b[49m\u001b[43mR\u001b[49m\u001b[43m[\u001b[49m\u001b[43mi\u001b[49m\u001b[43m,\u001b[49m\u001b[43m \u001b[49m\u001b[43mj\u001b[49m\u001b[43m]\u001b[49m\u001b[43m,\u001b[49m\u001b[43m \u001b[49m\u001b[43mR\u001b[49m\u001b[43m)\u001b[49m]\u001b[38;5;241m.\u001b[39madd(R[i, j])\n\u001b[0;32m     10\u001b[0m empty_set \u001b[38;5;241m=\u001b[39m \u001b[38;5;28mset\u001b[39m()\n\u001b[0;32m     12\u001b[0m \u001b[38;5;28;01mfor\u001b[39;00m freq \u001b[38;5;129;01min\u001b[39;00m \u001b[38;5;28mrange\u001b[39m(col_num, \u001b[38;5;241m0\u001b[39m, \u001b[38;5;241m-\u001b[39m\u001b[38;5;241m1\u001b[39m):\n",
      "Cell \u001b[1;32mIn[5], line 6\u001b[0m, in \u001b[0;36mcolumn_freq\u001b[1;34m(v, an_array)\u001b[0m\n\u001b[0;32m      3\u001b[0m col_freq \u001b[38;5;241m=\u001b[39m \u001b[38;5;241m0\u001b[39m\n\u001b[0;32m      5\u001b[0m \u001b[38;5;28;01mfor\u001b[39;00m j \u001b[38;5;129;01min\u001b[39;00m \u001b[38;5;28mrange\u001b[39m(col_num):\n\u001b[1;32m----> 6\u001b[0m     \u001b[38;5;28;01mif\u001b[39;00m v \u001b[38;5;129;01min\u001b[39;00m an_array[:, j]:\n\u001b[0;32m      7\u001b[0m         col_freq \u001b[38;5;241m+\u001b[39m\u001b[38;5;241m=\u001b[39m \u001b[38;5;241m1\u001b[39m\n\u001b[0;32m      9\u001b[0m \u001b[38;5;28;01mreturn\u001b[39;00m col_freq\n",
      "\u001b[1;31mKeyboardInterrupt\u001b[0m: "
     ]
    }
   ],
   "source": [
    "z_low = 2\n",
    "z_high = 32\n",
    "row_dim = 32\n",
    "col_dim = 32\n",
    "\n",
    "print(\"Start of execution:   \", datetime.datetime.now())\n",
    "\n",
    "for z in range(z_low, z_high + 1):\n",
    "    print(\"\\nstart of z =\", z)\n",
    "    decompositions_lengths_list = []\n",
    "    execution_times_list = []\n",
    "    coefficients_lengths_list = []\n",
    "    A_array_shapes_list = []\n",
    "    output_eq_input_list = []\n",
    "    \n",
    "    for k in range(4001, 6001):\n",
    "        TPM_file_path = './random_pTPMs/dim32_pTPM_' + str(k) + '.npy'\n",
    "        current_TPM = np.load(TPM_file_path)\n",
    "    \n",
    "        time_before_execution = datetime.datetime.now()\n",
    "        length_k, coefficient_list_xi, BN_matrices_list_Ai = new_GER(current_TPM, z)\n",
    "        time_after_execution = datetime.datetime.now()\n",
    "        execution_duration = time_after_execution - time_before_execution\n",
    "    \n",
    "        decompositions_lengths_list.append(length_k)\n",
    "        execution_times_list.append(pd.Timedelta(execution_duration))\n",
    "        coefficients_lengths_list.append(len(coefficient_list_xi))\n",
    "        A_array_shapes_list.append(BN_matrices_list_Ai.shape)\n",
    "    \n",
    "        decomposition_sum = add_up_a_decomposition(coefficient_list_xi, BN_matrices_list_Ai, row_dim, col_dim)\n",
    "        is_output_eq_input = np.array_equal(current_TPM, decomposition_sum)\n",
    "        output_eq_input_list.append(is_output_eq_input)\n",
    "    \n",
    "    print(\"decom lengths == coef lengths:\", decompositions_lengths_list == coefficients_lengths_list)\n",
    "    \n",
    "    A_array_lengths_list = [x[0] for x in A_array_shapes_list]\n",
    "    print(\"decom lengths == A_array lengths:\", decompositions_lengths_list == A_array_lengths_list)\n",
    "    \n",
    "    print(\"sum of output decoms equal input pTPMs:\", all(output_eq_input_list))\n",
    "    \n",
    "    lengths_path = './expt_results/GER_decom_lengths_z' + str(z) + '.json'\n",
    "    times_path = './expt_results/GER_exe_time_z' + str(z) + '.pkl'\n",
    "    coefficients_path = './expt_results/GER_coef_lengths_z' + str(z) + '.json'\n",
    "    A_array_shapes_path = './expt_results/GER_A_array_shapes_z' + str(z) + '.json'\n",
    "    out_eq_in_path = './expt_results/GER_out_eq_in_z' + str(z) + '.json'\n",
    "\n",
    "    with open(lengths_path, \"w\") as out_1:\n",
    "        json.dump(decompositions_lengths_list, out_1)\n",
    "\n",
    "    execution_times_pdSeries = pd.Series(execution_times_list)\n",
    "    execution_times_pdSeries.to_pickle(times_path)\n",
    "\n",
    "    with open(coefficients_path, \"w\") as out_2:\n",
    "        json.dump(coefficients_lengths_list, out_2)\n",
    "\n",
    "    with open(A_array_shapes_path, \"w\") as out_3:\n",
    "        json.dump(A_array_shapes_list, out_3)\n",
    "    \n",
    "    with open(out_eq_in_path, \"w\") as out_4:\n",
    "        json.dump(output_eq_input_list, out_4)\n",
    "    \n",
    "    print('Time:', datetime.datetime.now(), '    ', 'Completed z =', z)"
   ]
  }
 ],
 "metadata": {
  "kernelspec": {
   "display_name": "Python 3 (ipykernel)",
   "language": "python",
   "name": "python3"
  },
  "language_info": {
   "codemirror_mode": {
    "name": "ipython",
    "version": 3
   },
   "file_extension": ".py",
   "mimetype": "text/x-python",
   "name": "python",
   "nbconvert_exporter": "python",
   "pygments_lexer": "ipython3",
   "version": "3.9.19"
  }
 },
 "nbformat": 4,
 "nbformat_minor": 5
}
