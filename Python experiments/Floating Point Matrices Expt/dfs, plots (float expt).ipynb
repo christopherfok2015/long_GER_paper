{
 "cells": [
  {
   "cell_type": "code",
   "execution_count": 1,
   "id": "a93e2839-de48-4b88-93b1-228b80877e0a",
   "metadata": {},
   "outputs": [],
   "source": [
    "import numpy as np\n",
    "import datetime\n",
    "import pandas as pd\n",
    "import json\n",
    "import matplotlib.pyplot as plt"
   ]
  },
  {
   "cell_type": "markdown",
   "id": "241d42ba-073c-4979-9195-bed69a0ee172",
   "metadata": {},
   "source": [
    "# The Purpose of this Notebook:\n",
    "Compare the lengths of decompositions output by GER, SER 1 and SER 2."
   ]
  },
  {
   "cell_type": "markdown",
   "id": "ab762452-887b-456b-97ae-69380d441b43",
   "metadata": {},
   "source": [
    "# $8 \\times 8$ matrices"
   ]
  },
  {
   "cell_type": "markdown",
   "id": "3c7bb775-10b5-4343-a80d-63063962b093",
   "metadata": {},
   "source": [
    "## Create DataFrames"
   ]
  },
  {
   "cell_type": "markdown",
   "id": "516636e4-57ff-4919-9fa6-40c4fcea39b7",
   "metadata": {},
   "source": [
    "Load the data for the lengths of decompositions output by GER, SER 1, SER 2."
   ]
  },
  {
   "cell_type": "code",
   "execution_count": 23,
   "id": "a601abb7-346a-4ce7-bb76-16fc3b7f2677",
   "metadata": {},
   "outputs": [],
   "source": [
    "GER_filepath = './processed data (float expt)/GER_dim8_lengths.json'\n",
    "SER_1_filepath = './processed data (float expt)/SER_1_dim8_lengths.json'\n",
    "SER_2_filepath = './processed data (float expt)/SER_2_dim8_lengths.json'\n",
    "\n",
    "with open(GER_filepath) as out1:\n",
    "    lengths_list_GER = json.load(out1)\n",
    "    \n",
    "with open(SER_1_filepath) as out2:\n",
    "    lengths_list_SER_1 = json.load(out2)\n",
    "    \n",
    "with open(SER_2_filepath) as out3:\n",
    "    lengths_list_SER_2 = json.load(out3)"
   ]
  },
  {
   "cell_type": "markdown",
   "id": "fd31a4e8-f6d6-40a5-bed3-e302de797bd4",
   "metadata": {},
   "source": [
    "Create the dataframe of the lengths of decompositions."
   ]
  },
  {
   "cell_type": "code",
   "execution_count": 3,
   "id": "ee5f4206-e609-4b2d-9bf1-b5aaa7829534",
   "metadata": {},
   "outputs": [],
   "source": [
    "lengths_pdSeries_GER = pd.Series(lengths_list_GER)\n",
    "lengths_pdSeries_SER_1 = pd.Series(lengths_list_SER_1)\n",
    "lengths_pdSeries_SER_2 = pd.Series(lengths_list_SER_2)"
   ]
  },
  {
   "cell_type": "code",
   "execution_count": 4,
   "id": "6104cb8a-3fff-4629-9396-6676ade2bc19",
   "metadata": {},
   "outputs": [],
   "source": [
    "algos_lengths_pdSeries = [lengths_pdSeries_GER, lengths_pdSeries_SER_1,\n",
    "                          lengths_pdSeries_SER_2]\n",
    "df_keys = ['GER', 'SER 1', 'SER 2']\n",
    "\n",
    "pddf_decomposition_lengths_of_algos = pd.concat(algos_lengths_pdSeries, \n",
    "                                                axis='columns', keys=df_keys)"
   ]
  },
  {
   "cell_type": "code",
   "execution_count": 5,
   "id": "71ba22b7-b623-4e6d-8e9f-0fca02526d6a",
   "metadata": {},
   "outputs": [
    {
     "data": {
      "text/html": [
       "<div>\n",
       "<style scoped>\n",
       "    .dataframe tbody tr th:only-of-type {\n",
       "        vertical-align: middle;\n",
       "    }\n",
       "\n",
       "    .dataframe tbody tr th {\n",
       "        vertical-align: top;\n",
       "    }\n",
       "\n",
       "    .dataframe thead th {\n",
       "        text-align: right;\n",
       "    }\n",
       "</style>\n",
       "<table border=\"1\" class=\"dataframe\">\n",
       "  <thead>\n",
       "    <tr style=\"text-align: right;\">\n",
       "      <th></th>\n",
       "      <th>GER</th>\n",
       "      <th>SER 1</th>\n",
       "      <th>SER 2</th>\n",
       "    </tr>\n",
       "  </thead>\n",
       "  <tbody>\n",
       "    <tr>\n",
       "      <th>0</th>\n",
       "      <td>18</td>\n",
       "      <td>47</td>\n",
       "      <td>20</td>\n",
       "    </tr>\n",
       "    <tr>\n",
       "      <th>1</th>\n",
       "      <td>19</td>\n",
       "      <td>47</td>\n",
       "      <td>19</td>\n",
       "    </tr>\n",
       "    <tr>\n",
       "      <th>2</th>\n",
       "      <td>19</td>\n",
       "      <td>46</td>\n",
       "      <td>19</td>\n",
       "    </tr>\n",
       "    <tr>\n",
       "      <th>3</th>\n",
       "      <td>19</td>\n",
       "      <td>48</td>\n",
       "      <td>19</td>\n",
       "    </tr>\n",
       "    <tr>\n",
       "      <th>4</th>\n",
       "      <td>19</td>\n",
       "      <td>47</td>\n",
       "      <td>19</td>\n",
       "    </tr>\n",
       "    <tr>\n",
       "      <th>5</th>\n",
       "      <td>18</td>\n",
       "      <td>49</td>\n",
       "      <td>20</td>\n",
       "    </tr>\n",
       "    <tr>\n",
       "      <th>6</th>\n",
       "      <td>18</td>\n",
       "      <td>48</td>\n",
       "      <td>19</td>\n",
       "    </tr>\n",
       "    <tr>\n",
       "      <th>7</th>\n",
       "      <td>19</td>\n",
       "      <td>48</td>\n",
       "      <td>20</td>\n",
       "    </tr>\n",
       "    <tr>\n",
       "      <th>8</th>\n",
       "      <td>18</td>\n",
       "      <td>47</td>\n",
       "      <td>19</td>\n",
       "    </tr>\n",
       "    <tr>\n",
       "      <th>9</th>\n",
       "      <td>19</td>\n",
       "      <td>46</td>\n",
       "      <td>22</td>\n",
       "    </tr>\n",
       "  </tbody>\n",
       "</table>\n",
       "</div>"
      ],
      "text/plain": [
       "   GER  SER 1  SER 2\n",
       "0   18     47     20\n",
       "1   19     47     19\n",
       "2   19     46     19\n",
       "3   19     48     19\n",
       "4   19     47     19\n",
       "5   18     49     20\n",
       "6   18     48     19\n",
       "7   19     48     20\n",
       "8   18     47     19\n",
       "9   19     46     22"
      ]
     },
     "execution_count": 5,
     "metadata": {},
     "output_type": "execute_result"
    }
   ],
   "source": [
    "pddf_decomposition_lengths_of_algos"
   ]
  },
  {
   "cell_type": "markdown",
   "id": "39a7e6fb-8053-44b8-9469-a4440ea1c682",
   "metadata": {},
   "source": [
    "Save the dataframe of the lengths of decompositions."
   ]
  },
  {
   "cell_type": "code",
   "execution_count": 6,
   "id": "c295aa58-a83d-476c-a951-c238fe6010f4",
   "metadata": {},
   "outputs": [],
   "source": [
    "all_algos_filepath = './processed data (float expt)/dim8_pddf_lengths_of_algos.pkl'\n",
    "pddf_decomposition_lengths_of_algos.to_pickle(all_algos_filepath)"
   ]
  },
  {
   "cell_type": "markdown",
   "id": "f70cce8c-c35d-4f81-bbba-c8c1dff3206a",
   "metadata": {},
   "source": [
    "Ranking of the performance of GER, SER 1, SER 2."
   ]
  },
  {
   "cell_type": "code",
   "execution_count": 7,
   "id": "0bfe9b07-fb35-4138-9727-735c28e7f6dc",
   "metadata": {},
   "outputs": [],
   "source": [
    "pddf_algos_lengths_ranking = pddf_decomposition_lengths_of_algos.rank(axis='columns', \n",
    "                                                                      method='dense')"
   ]
  },
  {
   "cell_type": "code",
   "execution_count": 8,
   "id": "1687b83d-47f5-4e36-85d3-7e62d8dad8f4",
   "metadata": {},
   "outputs": [
    {
     "data": {
      "text/html": [
       "<div>\n",
       "<style scoped>\n",
       "    .dataframe tbody tr th:only-of-type {\n",
       "        vertical-align: middle;\n",
       "    }\n",
       "\n",
       "    .dataframe tbody tr th {\n",
       "        vertical-align: top;\n",
       "    }\n",
       "\n",
       "    .dataframe thead th {\n",
       "        text-align: right;\n",
       "    }\n",
       "</style>\n",
       "<table border=\"1\" class=\"dataframe\">\n",
       "  <thead>\n",
       "    <tr style=\"text-align: right;\">\n",
       "      <th></th>\n",
       "      <th>GER</th>\n",
       "      <th>SER 1</th>\n",
       "      <th>SER 2</th>\n",
       "    </tr>\n",
       "  </thead>\n",
       "  <tbody>\n",
       "    <tr>\n",
       "      <th>0</th>\n",
       "      <td>1.0</td>\n",
       "      <td>3.0</td>\n",
       "      <td>2.0</td>\n",
       "    </tr>\n",
       "    <tr>\n",
       "      <th>1</th>\n",
       "      <td>1.0</td>\n",
       "      <td>2.0</td>\n",
       "      <td>1.0</td>\n",
       "    </tr>\n",
       "    <tr>\n",
       "      <th>2</th>\n",
       "      <td>1.0</td>\n",
       "      <td>2.0</td>\n",
       "      <td>1.0</td>\n",
       "    </tr>\n",
       "    <tr>\n",
       "      <th>3</th>\n",
       "      <td>1.0</td>\n",
       "      <td>2.0</td>\n",
       "      <td>1.0</td>\n",
       "    </tr>\n",
       "    <tr>\n",
       "      <th>4</th>\n",
       "      <td>1.0</td>\n",
       "      <td>2.0</td>\n",
       "      <td>1.0</td>\n",
       "    </tr>\n",
       "    <tr>\n",
       "      <th>5</th>\n",
       "      <td>1.0</td>\n",
       "      <td>3.0</td>\n",
       "      <td>2.0</td>\n",
       "    </tr>\n",
       "    <tr>\n",
       "      <th>6</th>\n",
       "      <td>1.0</td>\n",
       "      <td>3.0</td>\n",
       "      <td>2.0</td>\n",
       "    </tr>\n",
       "    <tr>\n",
       "      <th>7</th>\n",
       "      <td>1.0</td>\n",
       "      <td>3.0</td>\n",
       "      <td>2.0</td>\n",
       "    </tr>\n",
       "    <tr>\n",
       "      <th>8</th>\n",
       "      <td>1.0</td>\n",
       "      <td>3.0</td>\n",
       "      <td>2.0</td>\n",
       "    </tr>\n",
       "    <tr>\n",
       "      <th>9</th>\n",
       "      <td>1.0</td>\n",
       "      <td>3.0</td>\n",
       "      <td>2.0</td>\n",
       "    </tr>\n",
       "  </tbody>\n",
       "</table>\n",
       "</div>"
      ],
      "text/plain": [
       "   GER  SER 1  SER 2\n",
       "0  1.0    3.0    2.0\n",
       "1  1.0    2.0    1.0\n",
       "2  1.0    2.0    1.0\n",
       "3  1.0    2.0    1.0\n",
       "4  1.0    2.0    1.0\n",
       "5  1.0    3.0    2.0\n",
       "6  1.0    3.0    2.0\n",
       "7  1.0    3.0    2.0\n",
       "8  1.0    3.0    2.0\n",
       "9  1.0    3.0    2.0"
      ]
     },
     "execution_count": 8,
     "metadata": {},
     "output_type": "execute_result"
    }
   ],
   "source": [
    "pddf_algos_lengths_ranking"
   ]
  },
  {
   "cell_type": "markdown",
   "id": "34a7e15b-6e33-4e66-aa14-197c472d8d96",
   "metadata": {},
   "source": [
    "Save the ranking of the performance of GER, SER 1, SER 2."
   ]
  },
  {
   "cell_type": "code",
   "execution_count": 9,
   "id": "39bf4145-6d60-4cf5-bd5a-49384d008902",
   "metadata": {},
   "outputs": [],
   "source": [
    "ranking_filepath = './processed data (float expt)/dim8_pddf_algos_ranking.pkl'\n",
    "pddf_algos_lengths_ranking.to_pickle(ranking_filepath)"
   ]
  },
  {
   "cell_type": "markdown",
   "id": "32e74890-bbdb-44df-96c7-c011c6ed63e6",
   "metadata": {},
   "source": [
    "## Create Line Plot"
   ]
  },
  {
   "cell_type": "code",
   "execution_count": 10,
   "id": "267c8d3a-008c-4a03-9665-caf1f392a543",
   "metadata": {},
   "outputs": [],
   "source": [
    "dim8_TPMs_labels = list(range(1, 11))"
   ]
  },
  {
   "cell_type": "code",
   "execution_count": 24,
   "id": "52d90fb5-a160-4ae6-82be-f2bb07e838d9",
   "metadata": {},
   "outputs": [
    {
     "data": {
      "image/png": "[encoded data removed]",
      "text/plain": [
       "<Figure size 320x480 with 1 Axes>"
      ]
     },
     "metadata": {},
     "output_type": "display_data"
    }
   ],
   "source": [
    "plt.figure(figsize=(3.2, 4.8))\n",
    "\n",
    "plt.plot(dim8_TPMs_labels, lengths_list_SER_2, 'b', label='aSER 2', linewidth='1.0')\n",
    "plt.plot(dim8_TPMs_labels, lengths_list_GER, 'r', label='aGER', linewidth='1.0')\n",
    "plt.plot(dim8_TPMs_labels, lengths_list_SER_1, 'g', label='aSER 1', linewidth='1.0')\n",
    "\n",
    "leg = plt.legend()\n",
    "plt.xlabel('subscripts of TPMs (1 to 10)')\n",
    "plt.ylabel('lengths of decompositions')\n",
    "\n",
    "for legobj in leg.legend_handles:\n",
    "    legobj.set_linewidth(2.0)\n",
    "\n",
    "fig_filepath = './processed data (float expt)/float_dim8.jpg'\n",
    "plt.savefig(fig_filepath, bbox_inches='tight')"
   ]
  },
  {
   "cell_type": "markdown",
   "id": "e020aed5-3364-43d8-a143-7d6da35c2a3c",
   "metadata": {},
   "source": [
    "# $16 \\times 16$ matrices"
   ]
  },
  {
   "cell_type": "markdown",
   "id": "bc0d33d6-d216-4fca-ad7d-e1ef95730148",
   "metadata": {},
   "source": [
    "## Create DataFrames"
   ]
  },
  {
   "cell_type": "markdown",
   "id": "23c6630a-772e-4605-98db-5f3308710592",
   "metadata": {},
   "source": [
    "Load the data for the lengths of decompositions output by GER, SER 1, SER 2."
   ]
  },
  {
   "cell_type": "code",
   "execution_count": 12,
   "id": "059fc144-9922-40ee-9725-ab840b9da556",
   "metadata": {},
   "outputs": [],
   "source": [
    "GER_filepath = './processed data (float expt)/GER_dim16_lengths.json'\n",
    "SER_1_filepath = './processed data (float expt)/SER_1_dim16_lengths.json'\n",
    "SER_2_filepath = './processed data (float expt)/SER_2_dim16_lengths.json'\n",
    "\n",
    "with open(GER_filepath) as out1:\n",
    "    lengths_list_GER = json.load(out1)\n",
    "    \n",
    "with open(SER_1_filepath) as out2:\n",
    "    lengths_list_SER_1 = json.load(out2)\n",
    "    \n",
    "with open(SER_2_filepath) as out3:\n",
    "    lengths_list_SER_2 = json.load(out3)"
   ]
  },
  {
   "cell_type": "markdown",
   "id": "cf536417-ce3a-4fc5-b589-f301393c2331",
   "metadata": {},
   "source": [
    "Create the dataframe of the lengths of decompositions."
   ]
  },
  {
   "cell_type": "code",
   "execution_count": 13,
   "id": "c03587de-e517-4820-91ea-d0402020e49f",
   "metadata": {},
   "outputs": [],
   "source": [
    "lengths_pdSeries_GER = pd.Series(lengths_list_GER)\n",
    "lengths_pdSeries_SER_1 = pd.Series(lengths_list_SER_1)\n",
    "lengths_pdSeries_SER_2 = pd.Series(lengths_list_SER_2)"
   ]
  },
  {
   "cell_type": "code",
   "execution_count": 14,
   "id": "d3b34d5d-b202-4f5f-84ff-5e991344491d",
   "metadata": {},
   "outputs": [],
   "source": [
    "algos_lengths_pdSeries = [lengths_pdSeries_GER, lengths_pdSeries_SER_1,\n",
    "                          lengths_pdSeries_SER_2]\n",
    "df_keys = ['GER', 'SER 1', 'SER 2']\n",
    "\n",
    "pddf_decomposition_lengths_of_algos = pd.concat(algos_lengths_pdSeries, \n",
    "                                                axis='columns', keys=df_keys)"
   ]
  },
  {
   "cell_type": "code",
   "execution_count": 15,
   "id": "412f7f06-9e2e-4b5f-a0ec-b007ff838e64",
   "metadata": {},
   "outputs": [
    {
     "data": {
      "text/html": [
       "<div>\n",
       "<style scoped>\n",
       "    .dataframe tbody tr th:only-of-type {\n",
       "        vertical-align: middle;\n",
       "    }\n",
       "\n",
       "    .dataframe tbody tr th {\n",
       "        vertical-align: top;\n",
       "    }\n",
       "\n",
       "    .dataframe thead th {\n",
       "        text-align: right;\n",
       "    }\n",
       "</style>\n",
       "<table border=\"1\" class=\"dataframe\">\n",
       "  <thead>\n",
       "    <tr style=\"text-align: right;\">\n",
       "      <th></th>\n",
       "      <th>GER</th>\n",
       "      <th>SER 1</th>\n",
       "      <th>SER 2</th>\n",
       "    </tr>\n",
       "  </thead>\n",
       "  <tbody>\n",
       "    <tr>\n",
       "      <th>0</th>\n",
       "      <td>38</td>\n",
       "      <td>131</td>\n",
       "      <td>42</td>\n",
       "    </tr>\n",
       "    <tr>\n",
       "      <th>1</th>\n",
       "      <td>35</td>\n",
       "      <td>130</td>\n",
       "      <td>41</td>\n",
       "    </tr>\n",
       "    <tr>\n",
       "      <th>2</th>\n",
       "      <td>38</td>\n",
       "      <td>130</td>\n",
       "      <td>41</td>\n",
       "    </tr>\n",
       "    <tr>\n",
       "      <th>3</th>\n",
       "      <td>36</td>\n",
       "      <td>132</td>\n",
       "      <td>40</td>\n",
       "    </tr>\n",
       "    <tr>\n",
       "      <th>4</th>\n",
       "      <td>36</td>\n",
       "      <td>132</td>\n",
       "      <td>40</td>\n",
       "    </tr>\n",
       "    <tr>\n",
       "      <th>5</th>\n",
       "      <td>35</td>\n",
       "      <td>138</td>\n",
       "      <td>42</td>\n",
       "    </tr>\n",
       "    <tr>\n",
       "      <th>6</th>\n",
       "      <td>37</td>\n",
       "      <td>136</td>\n",
       "      <td>40</td>\n",
       "    </tr>\n",
       "    <tr>\n",
       "      <th>7</th>\n",
       "      <td>34</td>\n",
       "      <td>127</td>\n",
       "      <td>41</td>\n",
       "    </tr>\n",
       "    <tr>\n",
       "      <th>8</th>\n",
       "      <td>36</td>\n",
       "      <td>137</td>\n",
       "      <td>39</td>\n",
       "    </tr>\n",
       "    <tr>\n",
       "      <th>9</th>\n",
       "      <td>38</td>\n",
       "      <td>134</td>\n",
       "      <td>40</td>\n",
       "    </tr>\n",
       "  </tbody>\n",
       "</table>\n",
       "</div>"
      ],
      "text/plain": [
       "   GER  SER 1  SER 2\n",
       "0   38    131     42\n",
       "1   35    130     41\n",
       "2   38    130     41\n",
       "3   36    132     40\n",
       "4   36    132     40\n",
       "5   35    138     42\n",
       "6   37    136     40\n",
       "7   34    127     41\n",
       "8   36    137     39\n",
       "9   38    134     40"
      ]
     },
     "execution_count": 15,
     "metadata": {},
     "output_type": "execute_result"
    }
   ],
   "source": [
    "pddf_decomposition_lengths_of_algos"
   ]
  },
  {
   "cell_type": "markdown",
   "id": "34aa87ad-1647-463d-9211-7dd58191ce58",
   "metadata": {},
   "source": [
    "Save the dataframe of the lengths of decompositions."
   ]
  },
  {
   "cell_type": "code",
   "execution_count": 16,
   "id": "e4ad0336-e583-46e4-8868-28bc1da36dfd",
   "metadata": {},
   "outputs": [],
   "source": [
    "all_algos_filepath = './processed data (float expt)/dim16_pddf_lengths_of_algos.pkl'\n",
    "pddf_decomposition_lengths_of_algos.to_pickle(all_algos_filepath)"
   ]
  },
  {
   "cell_type": "markdown",
   "id": "4a2bdf19-267b-48e0-afa8-ed2359b9806d",
   "metadata": {},
   "source": [
    "Ranking of the performance of GER, SER 1, SER 2."
   ]
  },
  {
   "cell_type": "code",
   "execution_count": 17,
   "id": "a3289003-782a-491c-83a8-874eec350f4d",
   "metadata": {},
   "outputs": [],
   "source": [
    "pddf_algos_lengths_ranking = pddf_decomposition_lengths_of_algos.rank(axis='columns', \n",
    "                                                                      method='dense')"
   ]
  },
  {
   "cell_type": "code",
   "execution_count": 18,
   "id": "37e7c9d5-da35-49a9-aa69-9f9aaed0e4fb",
   "metadata": {},
   "outputs": [
    {
     "data": {
      "text/html": [
       "<div>\n",
       "<style scoped>\n",
       "    .dataframe tbody tr th:only-of-type {\n",
       "        vertical-align: middle;\n",
       "    }\n",
       "\n",
       "    .dataframe tbody tr th {\n",
       "        vertical-align: top;\n",
       "    }\n",
       "\n",
       "    .dataframe thead th {\n",
       "        text-align: right;\n",
       "    }\n",
       "</style>\n",
       "<table border=\"1\" class=\"dataframe\">\n",
       "  <thead>\n",
       "    <tr style=\"text-align: right;\">\n",
       "      <th></th>\n",
       "      <th>GER</th>\n",
       "      <th>SER 1</th>\n",
       "      <th>SER 2</th>\n",
       "    </tr>\n",
       "  </thead>\n",
       "  <tbody>\n",
       "    <tr>\n",
       "      <th>0</th>\n",
       "      <td>1.0</td>\n",
       "      <td>3.0</td>\n",
       "      <td>2.0</td>\n",
       "    </tr>\n",
       "    <tr>\n",
       "      <th>1</th>\n",
       "      <td>1.0</td>\n",
       "      <td>3.0</td>\n",
       "      <td>2.0</td>\n",
       "    </tr>\n",
       "    <tr>\n",
       "      <th>2</th>\n",
       "      <td>1.0</td>\n",
       "      <td>3.0</td>\n",
       "      <td>2.0</td>\n",
       "    </tr>\n",
       "    <tr>\n",
       "      <th>3</th>\n",
       "      <td>1.0</td>\n",
       "      <td>3.0</td>\n",
       "      <td>2.0</td>\n",
       "    </tr>\n",
       "    <tr>\n",
       "      <th>4</th>\n",
       "      <td>1.0</td>\n",
       "      <td>3.0</td>\n",
       "      <td>2.0</td>\n",
       "    </tr>\n",
       "    <tr>\n",
       "      <th>5</th>\n",
       "      <td>1.0</td>\n",
       "      <td>3.0</td>\n",
       "      <td>2.0</td>\n",
       "    </tr>\n",
       "    <tr>\n",
       "      <th>6</th>\n",
       "      <td>1.0</td>\n",
       "      <td>3.0</td>\n",
       "      <td>2.0</td>\n",
       "    </tr>\n",
       "    <tr>\n",
       "      <th>7</th>\n",
       "      <td>1.0</td>\n",
       "      <td>3.0</td>\n",
       "      <td>2.0</td>\n",
       "    </tr>\n",
       "    <tr>\n",
       "      <th>8</th>\n",
       "      <td>1.0</td>\n",
       "      <td>3.0</td>\n",
       "      <td>2.0</td>\n",
       "    </tr>\n",
       "    <tr>\n",
       "      <th>9</th>\n",
       "      <td>1.0</td>\n",
       "      <td>3.0</td>\n",
       "      <td>2.0</td>\n",
       "    </tr>\n",
       "  </tbody>\n",
       "</table>\n",
       "</div>"
      ],
      "text/plain": [
       "   GER  SER 1  SER 2\n",
       "0  1.0    3.0    2.0\n",
       "1  1.0    3.0    2.0\n",
       "2  1.0    3.0    2.0\n",
       "3  1.0    3.0    2.0\n",
       "4  1.0    3.0    2.0\n",
       "5  1.0    3.0    2.0\n",
       "6  1.0    3.0    2.0\n",
       "7  1.0    3.0    2.0\n",
       "8  1.0    3.0    2.0\n",
       "9  1.0    3.0    2.0"
      ]
     },
     "execution_count": 18,
     "metadata": {},
     "output_type": "execute_result"
    }
   ],
   "source": [
    "pddf_algos_lengths_ranking"
   ]
  },
  {
   "cell_type": "markdown",
   "id": "f3326e83-2dec-4be0-a41c-65b1c3713a88",
   "metadata": {},
   "source": [
    "Save the ranking of the performance of GER, SER 1, SER 2."
   ]
  },
  {
   "cell_type": "code",
   "execution_count": 19,
   "id": "05281ae3-ee91-42f1-b463-29f40e931ad7",
   "metadata": {},
   "outputs": [],
   "source": [
    "ranking_filepath = './processed data (float expt)/dim16_pddf_algos_ranking.pkl'\n",
    "pddf_algos_lengths_ranking.to_pickle(ranking_filepath)"
   ]
  },
  {
   "cell_type": "markdown",
   "id": "cf3cb631-520f-4fc4-8af5-954dec284f40",
   "metadata": {},
   "source": [
    "## Create Line Plot"
   ]
  },
  {
   "cell_type": "code",
   "execution_count": 20,
   "id": "52fa9785-191a-4a9a-b2a6-017be000e13a",
   "metadata": {},
   "outputs": [],
   "source": [
    "dim16_TPMs_labels = list(range(1, 11))"
   ]
  },
  {
   "cell_type": "code",
   "execution_count": 22,
   "id": "b5dd5fdd-9514-42d4-be35-3054eed71d44",
   "metadata": {},
   "outputs": [
    {
     "data": {
      "image/png": "[encoded data removed]",
      "text/plain": [
       "<Figure size 320x480 with 1 Axes>"
      ]
     },
     "metadata": {},
     "output_type": "display_data"
    }
   ],
   "source": [
    "plt.figure(figsize=(3.2, 4.8))\n",
    "\n",
    "plt.plot(dim16_TPMs_labels, lengths_list_SER_2, 'b', label='aSER 2', linewidth='1.0')\n",
    "plt.plot(dim16_TPMs_labels, lengths_list_GER, 'r', label='aGER', linewidth='1.0')\n",
    "plt.plot(dim16_TPMs_labels, lengths_list_SER_1, 'g', label='aSER 1', linewidth='1.0')\n",
    "\n",
    "leg = plt.legend()\n",
    "plt.xlabel('subscripts of TPMs (1 to 10)')\n",
    "plt.ylabel('lengths of decompositions')\n",
    "\n",
    "for legobj in leg.legend_handles:\n",
    "    legobj.set_linewidth(2.0)\n",
    "\n",
    "fig_filepath = './processed data (float expt)/float_dim16.jpg'\n",
    "plt.savefig(fig_filepath, bbox_inches='tight')"
   ]
  },
  {
   "cell_type": "markdown",
   "id": "a0b9b54f-2432-4086-b8e1-e5aed894cfeb",
   "metadata": {},
   "source": [
    "# $32 \\times 32$ matrices"
   ]
  },
  {
   "cell_type": "markdown",
   "id": "08e058d4-d8c4-4585-9ca4-53fb7400a1a6",
   "metadata": {},
   "source": [
    "## Create DataFrames"
   ]
  },
  {
   "cell_type": "markdown",
   "id": "d6cbe4ee-91c4-48c9-a869-f1b82264f38b",
   "metadata": {},
   "source": [
    "Load the data for the lengths of decompositions output by GER, SER 1, SER 2."
   ]
  },
  {
   "cell_type": "code",
   "execution_count": 25,
   "id": "facb5ead-7fed-4ed4-a0ce-64115644f646",
   "metadata": {},
   "outputs": [],
   "source": [
    "GER_filepath = './processed data (float expt)/GER_dim32_lengths.json'\n",
    "SER_1_filepath = './processed data (float expt)/SER_1_dim32_lengths.json'\n",
    "SER_2_filepath = './processed data (float expt)/SER_2_dim32_lengths.json'\n",
    "\n",
    "with open(GER_filepath) as out1:\n",
    "    lengths_list_GER = json.load(out1)\n",
    "    \n",
    "with open(SER_1_filepath) as out2:\n",
    "    lengths_list_SER_1 = json.load(out2)\n",
    "    \n",
    "with open(SER_2_filepath) as out3:\n",
    "    lengths_list_SER_2 = json.load(out3)"
   ]
  },
  {
   "cell_type": "markdown",
   "id": "de773960-0644-41f9-a655-c7178139c810",
   "metadata": {},
   "source": [
    "Create the dataframe of the lengths of decompositions."
   ]
  },
  {
   "cell_type": "code",
   "execution_count": 26,
   "id": "43c94d1e-e544-435b-8e71-49c06af3eb99",
   "metadata": {},
   "outputs": [],
   "source": [
    "lengths_pdSeries_GER = pd.Series(lengths_list_GER)\n",
    "lengths_pdSeries_SER_1 = pd.Series(lengths_list_SER_1)\n",
    "lengths_pdSeries_SER_2 = pd.Series(lengths_list_SER_2)"
   ]
  },
  {
   "cell_type": "code",
   "execution_count": 27,
   "id": "eebf47a2-7c22-4369-8438-ea3ea1afa23d",
   "metadata": {},
   "outputs": [],
   "source": [
    "algos_lengths_pdSeries = [lengths_pdSeries_GER, lengths_pdSeries_SER_1,\n",
    "                          lengths_pdSeries_SER_2]\n",
    "df_keys = ['GER', 'SER 1', 'SER 2']\n",
    "\n",
    "pddf_decomposition_lengths_of_algos = pd.concat(algos_lengths_pdSeries, \n",
    "                                                axis='columns', keys=df_keys)"
   ]
  },
  {
   "cell_type": "code",
   "execution_count": 28,
   "id": "dcd4b22b-eae5-4df8-be9d-9e63625f810a",
   "metadata": {
    "tags": []
   },
   "outputs": [
    {
     "data": {
      "text/html": [
       "<div>\n",
       "<style scoped>\n",
       "    .dataframe tbody tr th:only-of-type {\n",
       "        vertical-align: middle;\n",
       "    }\n",
       "\n",
       "    .dataframe tbody tr th {\n",
       "        vertical-align: top;\n",
       "    }\n",
       "\n",
       "    .dataframe thead th {\n",
       "        text-align: right;\n",
       "    }\n",
       "</style>\n",
       "<table border=\"1\" class=\"dataframe\">\n",
       "  <thead>\n",
       "    <tr style=\"text-align: right;\">\n",
       "      <th></th>\n",
       "      <th>GER</th>\n",
       "      <th>SER 1</th>\n",
       "      <th>SER 2</th>\n",
       "    </tr>\n",
       "  </thead>\n",
       "  <tbody>\n",
       "    <tr>\n",
       "      <th>0</th>\n",
       "      <td>66</td>\n",
       "      <td>344</td>\n",
       "      <td>81</td>\n",
       "    </tr>\n",
       "    <tr>\n",
       "      <th>1</th>\n",
       "      <td>65</td>\n",
       "      <td>343</td>\n",
       "      <td>84</td>\n",
       "    </tr>\n",
       "    <tr>\n",
       "      <th>2</th>\n",
       "      <td>67</td>\n",
       "      <td>345</td>\n",
       "      <td>83</td>\n",
       "    </tr>\n",
       "    <tr>\n",
       "      <th>3</th>\n",
       "      <td>69</td>\n",
       "      <td>358</td>\n",
       "      <td>81</td>\n",
       "    </tr>\n",
       "    <tr>\n",
       "      <th>4</th>\n",
       "      <td>67</td>\n",
       "      <td>338</td>\n",
       "      <td>84</td>\n",
       "    </tr>\n",
       "    <tr>\n",
       "      <th>5</th>\n",
       "      <td>68</td>\n",
       "      <td>351</td>\n",
       "      <td>84</td>\n",
       "    </tr>\n",
       "    <tr>\n",
       "      <th>6</th>\n",
       "      <td>66</td>\n",
       "      <td>349</td>\n",
       "      <td>83</td>\n",
       "    </tr>\n",
       "    <tr>\n",
       "      <th>7</th>\n",
       "      <td>68</td>\n",
       "      <td>356</td>\n",
       "      <td>84</td>\n",
       "    </tr>\n",
       "    <tr>\n",
       "      <th>8</th>\n",
       "      <td>67</td>\n",
       "      <td>357</td>\n",
       "      <td>82</td>\n",
       "    </tr>\n",
       "    <tr>\n",
       "      <th>9</th>\n",
       "      <td>68</td>\n",
       "      <td>351</td>\n",
       "      <td>82</td>\n",
       "    </tr>\n",
       "  </tbody>\n",
       "</table>\n",
       "</div>"
      ],
      "text/plain": [
       "   GER  SER 1  SER 2\n",
       "0   66    344     81\n",
       "1   65    343     84\n",
       "2   67    345     83\n",
       "3   69    358     81\n",
       "4   67    338     84\n",
       "5   68    351     84\n",
       "6   66    349     83\n",
       "7   68    356     84\n",
       "8   67    357     82\n",
       "9   68    351     82"
      ]
     },
     "execution_count": 28,
     "metadata": {},
     "output_type": "execute_result"
    }
   ],
   "source": [
    "pddf_decomposition_lengths_of_algos"
   ]
  },
  {
   "cell_type": "markdown",
   "id": "61d5cda5-d52c-4f8f-bc24-01ed239cf884",
   "metadata": {},
   "source": [
    "Save the dataframe of the lengths of decompositions."
   ]
  },
  {
   "cell_type": "code",
   "execution_count": 29,
   "id": "d53c40d8-3773-4e6d-bb56-cbcedabb11f6",
   "metadata": {},
   "outputs": [],
   "source": [
    "all_algos_filepath = './processed data (float expt)/dim32_pddf_lengths_of_algos.pkl'\n",
    "pddf_decomposition_lengths_of_algos.to_pickle(all_algos_filepath)"
   ]
  },
  {
   "cell_type": "markdown",
   "id": "70056fcb-f540-4643-b6bf-f65fcdc00b09",
   "metadata": {},
   "source": [
    "Ranking of the performance of GER, SER 1, SER 2."
   ]
  },
  {
   "cell_type": "code",
   "execution_count": 30,
   "id": "b6d8382a-a38d-4b31-86fc-ac45ea301ea7",
   "metadata": {},
   "outputs": [],
   "source": [
    "pddf_algos_lengths_ranking = pddf_decomposition_lengths_of_algos.rank(axis='columns', \n",
    "                                                                      method='dense')"
   ]
  },
  {
   "cell_type": "code",
   "execution_count": 31,
   "id": "6de5768d-cfae-445d-9de0-355a51b346bc",
   "metadata": {},
   "outputs": [
    {
     "data": {
      "text/html": [
       "<div>\n",
       "<style scoped>\n",
       "    .dataframe tbody tr th:only-of-type {\n",
       "        vertical-align: middle;\n",
       "    }\n",
       "\n",
       "    .dataframe tbody tr th {\n",
       "        vertical-align: top;\n",
       "    }\n",
       "\n",
       "    .dataframe thead th {\n",
       "        text-align: right;\n",
       "    }\n",
       "</style>\n",
       "<table border=\"1\" class=\"dataframe\">\n",
       "  <thead>\n",
       "    <tr style=\"text-align: right;\">\n",
       "      <th></th>\n",
       "      <th>GER</th>\n",
       "      <th>SER 1</th>\n",
       "      <th>SER 2</th>\n",
       "    </tr>\n",
       "  </thead>\n",
       "  <tbody>\n",
       "    <tr>\n",
       "      <th>0</th>\n",
       "      <td>1.0</td>\n",
       "      <td>3.0</td>\n",
       "      <td>2.0</td>\n",
       "    </tr>\n",
       "    <tr>\n",
       "      <th>1</th>\n",
       "      <td>1.0</td>\n",
       "      <td>3.0</td>\n",
       "      <td>2.0</td>\n",
       "    </tr>\n",
       "    <tr>\n",
       "      <th>2</th>\n",
       "      <td>1.0</td>\n",
       "      <td>3.0</td>\n",
       "      <td>2.0</td>\n",
       "    </tr>\n",
       "    <tr>\n",
       "      <th>3</th>\n",
       "      <td>1.0</td>\n",
       "      <td>3.0</td>\n",
       "      <td>2.0</td>\n",
       "    </tr>\n",
       "    <tr>\n",
       "      <th>4</th>\n",
       "      <td>1.0</td>\n",
       "      <td>3.0</td>\n",
       "      <td>2.0</td>\n",
       "    </tr>\n",
       "    <tr>\n",
       "      <th>5</th>\n",
       "      <td>1.0</td>\n",
       "      <td>3.0</td>\n",
       "      <td>2.0</td>\n",
       "    </tr>\n",
       "    <tr>\n",
       "      <th>6</th>\n",
       "      <td>1.0</td>\n",
       "      <td>3.0</td>\n",
       "      <td>2.0</td>\n",
       "    </tr>\n",
       "    <tr>\n",
       "      <th>7</th>\n",
       "      <td>1.0</td>\n",
       "      <td>3.0</td>\n",
       "      <td>2.0</td>\n",
       "    </tr>\n",
       "    <tr>\n",
       "      <th>8</th>\n",
       "      <td>1.0</td>\n",
       "      <td>3.0</td>\n",
       "      <td>2.0</td>\n",
       "    </tr>\n",
       "    <tr>\n",
       "      <th>9</th>\n",
       "      <td>1.0</td>\n",
       "      <td>3.0</td>\n",
       "      <td>2.0</td>\n",
       "    </tr>\n",
       "  </tbody>\n",
       "</table>\n",
       "</div>"
      ],
      "text/plain": [
       "   GER  SER 1  SER 2\n",
       "0  1.0    3.0    2.0\n",
       "1  1.0    3.0    2.0\n",
       "2  1.0    3.0    2.0\n",
       "3  1.0    3.0    2.0\n",
       "4  1.0    3.0    2.0\n",
       "5  1.0    3.0    2.0\n",
       "6  1.0    3.0    2.0\n",
       "7  1.0    3.0    2.0\n",
       "8  1.0    3.0    2.0\n",
       "9  1.0    3.0    2.0"
      ]
     },
     "execution_count": 31,
     "metadata": {},
     "output_type": "execute_result"
    }
   ],
   "source": [
    "pddf_algos_lengths_ranking"
   ]
  },
  {
   "cell_type": "markdown",
   "id": "15a4d325-baa1-43de-93b6-e5acafa60a8e",
   "metadata": {},
   "source": [
    "Save the ranking of the performance of GER, SER 1, SER 2."
   ]
  },
  {
   "cell_type": "code",
   "execution_count": 32,
   "id": "9b6d9c37-d832-4378-8d95-f0b1ae388139",
   "metadata": {},
   "outputs": [],
   "source": [
    "ranking_filepath = './processed data (float expt)/dim32_pddf_algos_ranking.pkl'\n",
    "pddf_algos_lengths_ranking.to_pickle(ranking_filepath)"
   ]
  },
  {
   "cell_type": "markdown",
   "id": "a7d17c64-504e-4953-848b-703bd9a9d4ea",
   "metadata": {},
   "source": [
    "## Create Line Plot"
   ]
  },
  {
   "cell_type": "code",
   "execution_count": 33,
   "id": "898ecf53-8e11-4dab-933f-bdc7e7aeb91e",
   "metadata": {},
   "outputs": [],
   "source": [
    "dim32_TPMs_labels = list(range(1, 11))"
   ]
  },
  {
   "cell_type": "code",
   "execution_count": 34,
   "id": "77792a7a-b23d-459d-8f93-a07a4165c727",
   "metadata": {},
   "outputs": [
    {
     "data": {
      "image/png": "[encoded data removed]",
      "text/plain": [
       "<Figure size 320x480 with 1 Axes>"
      ]
     },
     "metadata": {},
     "output_type": "display_data"
    }
   ],
   "source": [
    "plt.figure(figsize=(3.2, 4.8))\n",
    "\n",
    "plt.plot(dim32_TPMs_labels, lengths_list_SER_2, 'b', label='aSER 2', linewidth='1.0')\n",
    "plt.plot(dim32_TPMs_labels, lengths_list_GER, 'r', label='aGER', linewidth='1.0')\n",
    "plt.plot(dim32_TPMs_labels, lengths_list_SER_1, 'g', label='aSER 1', linewidth='1.0')\n",
    "\n",
    "leg = plt.legend()\n",
    "plt.xlabel('subscripts of TPMs (1 to 10)')\n",
    "plt.ylabel('lengths of decompositions')\n",
    "\n",
    "for legobj in leg.legend_handles:\n",
    "    legobj.set_linewidth(2.0)\n",
    "\n",
    "fig_filepath = './processed data (float expt)/float_dim32.jpg'\n",
    "plt.savefig(fig_filepath, bbox_inches='tight')"
   ]
  },
  {
   "cell_type": "markdown",
   "id": "aac2d895-043a-4d25-a892-961efb9e30ec",
   "metadata": {},
   "source": [
    "# $64 \\times 64$ matrices"
   ]
  },
  {
   "cell_type": "markdown",
   "id": "7a6569a6-0a8c-4ef7-ae02-e9b9c6b49c36",
   "metadata": {},
   "source": [
    "Load the data for the lengths of decompositions output by SER 1, SER 2.\n",
    "\n",
    "Note that the execution of GER on each $64 \\times 64$ floating-point-valued TPM has been terminated manually after 11 hours."
   ]
  },
  {
   "cell_type": "code",
   "execution_count": 35,
   "id": "b77a3bf2-0a22-41b2-ba61-8eb10b0fb213",
   "metadata": {},
   "outputs": [],
   "source": [
    "SER_1_filepath = './processed data (float expt)/SER_1_dim64_lengths.json'\n",
    "SER_2_filepath = './processed data (float expt)/SER_2_dim64_lengths.json'\n",
    "    \n",
    "with open(SER_1_filepath) as out2:\n",
    "    lengths_list_SER_1 = json.load(out2)\n",
    "    \n",
    "with open(SER_2_filepath) as out3:\n",
    "    lengths_list_SER_2 = json.load(out3)"
   ]
  },
  {
   "cell_type": "markdown",
   "id": "b61a37b5-e8ce-458c-bd54-c96511034368",
   "metadata": {},
   "source": [
    "## Create Line Plot"
   ]
  },
  {
   "cell_type": "code",
   "execution_count": 36,
   "id": "af604ac4-8f87-4707-a595-2c59cafe5f0c",
   "metadata": {},
   "outputs": [],
   "source": [
    "dim64_TPMs_labels = list(range(1, 11))"
   ]
  },
  {
   "cell_type": "code",
   "execution_count": 37,
   "id": "5c0c2a0a-1e0f-4bb0-9379-1beb50c16482",
   "metadata": {},
   "outputs": [
    {
     "data": {
      "image/png": "[encoded data removed]",
      "text/plain": [
       "<Figure size 320x480 with 1 Axes>"
      ]
     },
     "metadata": {},
     "output_type": "display_data"
    }
   ],
   "source": [
    "plt.figure(figsize=(3.2, 4.8))\n",
    "\n",
    "plt.plot(dim64_TPMs_labels, lengths_list_SER_2, 'b', label='aSER 2', linewidth='1.0')\n",
    "plt.plot(dim64_TPMs_labels, lengths_list_SER_1, 'g', label='aSER 1', linewidth='1.0')\n",
    "\n",
    "leg = plt.legend()\n",
    "plt.xlabel('subscripts of TPMs (1 to 10)')\n",
    "plt.ylabel('lengths of decompositions')\n",
    "\n",
    "for legobj in leg.legend_handles:\n",
    "    legobj.set_linewidth(2.0)\n",
    "\n",
    "fig_filepath = './processed data (float expt)/float_dim64.jpg'\n",
    "plt.savefig(fig_filepath, bbox_inches='tight')"
   ]
  }
 ],
 "metadata": {
  "kernelspec": {
   "display_name": "Python 3 (ipykernel)",
   "language": "python",
   "name": "python3"
  },
  "language_info": {
   "codemirror_mode": {
    "name": "ipython",
    "version": 3
   },
   "file_extension": ".py",
   "mimetype": "text/x-python",
   "name": "python",
   "nbconvert_exporter": "python",
   "pygments_lexer": "ipython3",
   "version": "3.9.19"
  }
 },
 "nbformat": 4,
 "nbformat_minor": 5
}
