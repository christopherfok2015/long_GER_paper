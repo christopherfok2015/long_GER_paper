{
 "cells": [
  {
   "cell_type": "code",
   "execution_count": 2,
   "id": "b481706c-043c-4466-8537-b55f74a776b4",
   "metadata": {},
   "outputs": [],
   "source": [
    "import numpy as np\n",
    "import datetime\n",
    "import pandas as pd\n",
    "import json\n",
    "import matplotlib.pyplot as plt"
   ]
  },
  {
   "cell_type": "code",
   "execution_count": 3,
   "id": "2b5dc975-dbaf-4680-8f16-445c445dff1b",
   "metadata": {},
   "outputs": [],
   "source": [
    "# Custom JSON encoder that handles NumPy types (created by GPT-o3 on poe.com)\n",
    "class NumpyEncoder(json.JSONEncoder):\n",
    "    def default(self, obj):\n",
    "        if isinstance(obj, (np.integer,)):\n",
    "            return int(obj)\n",
    "        elif isinstance(obj, (np.floating,)):\n",
    "            return float(obj)\n",
    "        elif isinstance(obj, (np.ndarray,)):\n",
    "            return obj.tolist()\n",
    "        return super(NumpyEncoder, self).default(obj)"
   ]
  },
  {
   "cell_type": "markdown",
   "id": "bbbeb447-b0da-4e88-8d2d-4d592cd00e21",
   "metadata": {},
   "source": [
    "# GER"
   ]
  },
  {
   "cell_type": "markdown",
   "id": "1fd11887-6aad-417b-a5ae-eadd17b1015a",
   "metadata": {},
   "source": [
    "## $8 \\times 8$ matrices"
   ]
  },
  {
   "cell_type": "code",
   "execution_count": 4,
   "id": "623b138a-9c41-40c0-a8dc-b58e04a37934",
   "metadata": {},
   "outputs": [],
   "source": [
    "decom_lengths_list = []\n",
    "\n",
    "for k in range(10):\n",
    "    decom_filepath = './raw data (float_GER)/dim8_decom_err_' + str(k) + '.json'\n",
    "    \n",
    "    with open(decom_filepath) as out1:\n",
    "        decom = json.load(out1)\n",
    "    \n",
    "    decom_length = decom[0]\n",
    "    decom_lengths_list.append(decom_length)"
   ]
  },
  {
   "cell_type": "code",
   "execution_count": 5,
   "id": "0cbffa94-c564-46fa-b5bd-e4ffeb2dd1eb",
   "metadata": {},
   "outputs": [
    {
     "name": "stdout",
     "output_type": "stream",
     "text": [
      "[18, 19, 19, 19, 19, 18, 18, 19, 18, 19]\n"
     ]
    }
   ],
   "source": [
    "print(decom_lengths_list)"
   ]
  },
  {
   "cell_type": "markdown",
   "id": "9406abf7-ff0f-46cd-944a-c9eb1e888929",
   "metadata": {},
   "source": [
    "Save the processed data in a folder."
   ]
  },
  {
   "cell_type": "code",
   "execution_count": 6,
   "id": "de6ba0ba-c349-4701-8130-5d34cfbb428e",
   "metadata": {},
   "outputs": [],
   "source": [
    "lengths_filepath = './processed data (float expt)/GER_dim8_lengths.json'\n",
    "\n",
    "with open(lengths_filepath, 'w') as out1:\n",
    "    json.dump(decom_lengths_list, out1, cls=NumpyEncoder)"
   ]
  },
  {
   "cell_type": "markdown",
   "id": "4020fa7d-5344-40f0-bf63-71febf0e89a1",
   "metadata": {},
   "source": [
    "## $16 \\times 16$ matrices"
   ]
  },
  {
   "cell_type": "code",
   "execution_count": null,
   "id": "2878cdc6-23c5-4b15-b97c-a8bb40eb1f48",
   "metadata": {},
   "outputs": [],
   "source": [
    "decom_lengths_list = []\n",
    "\n",
    "for k in range(10):\n",
    "    decom_filepath = './raw data (float_GER)/dim16_decom_err_' + str(k) + '.json'\n",
    "    \n",
    "    with open(decom_filepath) as out1:\n",
    "        decom = json.load(out1)\n",
    "    \n",
    "    decom_length = decom[0]\n",
    "    decom_lengths_list.append(decom_length)"
   ]
  },
  {
   "cell_type": "code",
   "execution_count": 8,
   "id": "548704d4-a995-42e1-accd-7af6639902cf",
   "metadata": {},
   "outputs": [
    {
     "name": "stdout",
     "output_type": "stream",
     "text": [
      "[38, 35, 38, 36, 36, 35, 37, 34, 36, 38]\n"
     ]
    }
   ],
   "source": [
    "print(decom_lengths_list)"
   ]
  },
  {
   "cell_type": "markdown",
   "id": "702ca518-cb1f-4667-b99d-f7c552e982e1",
   "metadata": {},
   "source": [
    "Save the processed data in a folder."
   ]
  },
  {
   "cell_type": "code",
   "execution_count": 9,
   "id": "066cfeae-b57a-4d5a-9135-2b6ccfd4cf7e",
   "metadata": {},
   "outputs": [],
   "source": [
    "lengths_filepath = './processed data (float expt)/GER_dim16_lengths.json'\n",
    "\n",
    "with open(lengths_filepath, 'w') as out1:\n",
    "    json.dump(decom_lengths_list, out1, cls=NumpyEncoder)"
   ]
  },
  {
   "cell_type": "markdown",
   "id": "8c5af36b-73a0-403e-90ef-fdb08a75e0e5",
   "metadata": {},
   "source": [
    "## $32 \\times 32$ matrices"
   ]
  },
  {
   "cell_type": "code",
   "execution_count": 10,
   "id": "9874dbd7-c3f3-41ee-970a-6109ab480a3f",
   "metadata": {},
   "outputs": [],
   "source": [
    "decom_lengths_list = []\n",
    "\n",
    "for k in range(10):\n",
    "    decom_filepath = './raw data (float_GER)/dim32_decom_err_' + str(k) + '.json'\n",
    "    \n",
    "    with open(decom_filepath) as out1:\n",
    "        decom = json.load(out1)\n",
    "    \n",
    "    decom_length = decom[0]\n",
    "    decom_lengths_list.append(decom_length)"
   ]
  },
  {
   "cell_type": "code",
   "execution_count": 11,
   "id": "2f740650-38d6-4890-a804-186f1d1f2af1",
   "metadata": {},
   "outputs": [
    {
     "name": "stdout",
     "output_type": "stream",
     "text": [
      "[66, 65, 67, 69, 67, 68, 66, 68, 67, 68]\n"
     ]
    }
   ],
   "source": [
    "print(decom_lengths_list)"
   ]
  },
  {
   "cell_type": "markdown",
   "id": "c568a64f-aeb7-4076-88c7-0e5b9e8c652b",
   "metadata": {},
   "source": [
    "Save the processed data in a folder."
   ]
  },
  {
   "cell_type": "code",
   "execution_count": 12,
   "id": "17ca867d-f6cc-4c74-9b7b-d43b1b182fea",
   "metadata": {},
   "outputs": [],
   "source": [
    "lengths_filepath = './processed data (float expt)/GER_dim32_lengths.json'\n",
    "\n",
    "with open(lengths_filepath, 'w') as out1:\n",
    "    json.dump(decom_lengths_list, out1, cls=NumpyEncoder)"
   ]
  },
  {
   "cell_type": "markdown",
   "id": "e2275742-0e5e-4523-bf57-4d2c79d53103",
   "metadata": {},
   "source": [
    "# SER 1"
   ]
  },
  {
   "cell_type": "markdown",
   "id": "a4bd30f7-001e-4226-b2ad-90ca1637a2f2",
   "metadata": {},
   "source": [
    "## $8 \\times 8$ matrices"
   ]
  },
  {
   "cell_type": "code",
   "execution_count": 13,
   "id": "c72d737b-e245-49a1-a19d-23055c5ded36",
   "metadata": {},
   "outputs": [],
   "source": [
    "decom_lengths_list = []\n",
    "\n",
    "for k in range(10):\n",
    "    decom_filepath = './raw data (float_SER_1)/dim8_decom_err_' + str(k) + '.json'\n",
    "    \n",
    "    with open(decom_filepath) as out1:\n",
    "        decom = json.load(out1)\n",
    "    \n",
    "    decom_length = decom[0]\n",
    "    decom_lengths_list.append(decom_length)"
   ]
  },
  {
   "cell_type": "code",
   "execution_count": 14,
   "id": "c7937c05-fbcd-4f48-9b9d-a5e20fa3ec76",
   "metadata": {},
   "outputs": [
    {
     "name": "stdout",
     "output_type": "stream",
     "text": [
      "[47, 47, 46, 48, 47, 49, 48, 48, 47, 46]\n"
     ]
    }
   ],
   "source": [
    "print(decom_lengths_list)"
   ]
  },
  {
   "cell_type": "markdown",
   "id": "21ace9c3-8874-4e48-8cae-2165fb28b206",
   "metadata": {},
   "source": [
    "Save the processed data in a folder."
   ]
  },
  {
   "cell_type": "code",
   "execution_count": 15,
   "id": "c3689499-fdfc-4fea-a656-e4719d54ae8b",
   "metadata": {},
   "outputs": [],
   "source": [
    "lengths_filepath = './processed data (float expt)/SER_1_dim8_lengths.json'\n",
    "\n",
    "with open(lengths_filepath, 'w') as out1:\n",
    "    json.dump(decom_lengths_list, out1, cls=NumpyEncoder)"
   ]
  },
  {
   "cell_type": "markdown",
   "id": "34077a5e-99ec-4587-86b6-8c5cd9dbc746",
   "metadata": {},
   "source": [
    "## $16 \\times 16$ matrices"
   ]
  },
  {
   "cell_type": "code",
   "execution_count": 16,
   "id": "ff1c9fb5-03eb-4d84-8842-645580506173",
   "metadata": {},
   "outputs": [],
   "source": [
    "decom_lengths_list = []\n",
    "\n",
    "for k in range(10):\n",
    "    decom_filepath = './raw data (float_SER_1)/dim16_decom_err_' + str(k) + '.json'\n",
    "    \n",
    "    with open(decom_filepath) as out1:\n",
    "        decom = json.load(out1)\n",
    "    \n",
    "    decom_length = decom[0]\n",
    "    decom_lengths_list.append(decom_length)"
   ]
  },
  {
   "cell_type": "code",
   "execution_count": 17,
   "id": "4830ec99-6644-4355-9cc2-9e54955e8318",
   "metadata": {},
   "outputs": [
    {
     "name": "stdout",
     "output_type": "stream",
     "text": [
      "[131, 130, 130, 132, 132, 138, 136, 127, 137, 134]\n"
     ]
    }
   ],
   "source": [
    "print(decom_lengths_list)"
   ]
  },
  {
   "cell_type": "markdown",
   "id": "1cc7d7af-95aa-46f5-b7b4-442d052167e3",
   "metadata": {},
   "source": [
    "Save the processed data in a folder."
   ]
  },
  {
   "cell_type": "code",
   "execution_count": 18,
   "id": "8224b41f-0c38-460f-8438-4db7cffdf084",
   "metadata": {},
   "outputs": [],
   "source": [
    "lengths_filepath = './processed data (float expt)/SER_1_dim16_lengths.json'\n",
    "\n",
    "with open(lengths_filepath, 'w') as out1:\n",
    "    json.dump(decom_lengths_list, out1, cls=NumpyEncoder)"
   ]
  },
  {
   "cell_type": "markdown",
   "id": "1effe166-59ea-4c13-8cd4-b92be30a325f",
   "metadata": {},
   "source": [
    "## $32 \\times 32$ matrices"
   ]
  },
  {
   "cell_type": "code",
   "execution_count": 19,
   "id": "ccbcf116-50d6-4500-a94b-493a0366388a",
   "metadata": {},
   "outputs": [],
   "source": [
    "decom_lengths_list = []\n",
    "\n",
    "for k in range(10):\n",
    "    decom_filepath = './raw data (float_SER_1)/dim32_decom_err_' + str(k) + '.json'\n",
    "    \n",
    "    with open(decom_filepath) as out1:\n",
    "        decom = json.load(out1)\n",
    "    \n",
    "    decom_length = decom[0]\n",
    "    decom_lengths_list.append(decom_length)"
   ]
  },
  {
   "cell_type": "code",
   "execution_count": 20,
   "id": "c9452b2a-69cf-4cae-b96c-94ad25626180",
   "metadata": {},
   "outputs": [
    {
     "name": "stdout",
     "output_type": "stream",
     "text": [
      "[344, 343, 345, 358, 338, 351, 349, 356, 357, 351]\n"
     ]
    }
   ],
   "source": [
    "print(decom_lengths_list)"
   ]
  },
  {
   "cell_type": "markdown",
   "id": "c108ed53-81e3-42c5-b231-75be1ebbbe3a",
   "metadata": {},
   "source": [
    "Save the processed data in a folder."
   ]
  },
  {
   "cell_type": "code",
   "execution_count": 21,
   "id": "c67c7e55-077b-4f2a-9fff-6ca5585fef61",
   "metadata": {},
   "outputs": [],
   "source": [
    "lengths_filepath = './processed data (float expt)/SER_1_dim32_lengths.json'\n",
    "\n",
    "with open(lengths_filepath, 'w') as out1:\n",
    "    json.dump(decom_lengths_list, out1, cls=NumpyEncoder)"
   ]
  },
  {
   "cell_type": "markdown",
   "id": "18fd5806-3431-4040-9257-d6f08a49a17f",
   "metadata": {},
   "source": [
    "## $64 \\times 64$ matrices"
   ]
  },
  {
   "cell_type": "code",
   "execution_count": 22,
   "id": "6ead1771-d0fd-466b-a89f-962d5d7e1b64",
   "metadata": {},
   "outputs": [],
   "source": [
    "decom_lengths_list = []\n",
    "\n",
    "for k in range(10):\n",
    "    decom_filepath = './raw data (float_SER_1)/dim64_decom_err_' + str(k) + '.json'\n",
    "    \n",
    "    with open(decom_filepath) as out1:\n",
    "        decom = json.load(out1)\n",
    "    \n",
    "    decom_length = decom[0]\n",
    "    decom_lengths_list.append(decom_length)"
   ]
  },
  {
   "cell_type": "code",
   "execution_count": 23,
   "id": "12264922-84ad-49c2-999c-a6045daad207",
   "metadata": {},
   "outputs": [
    {
     "name": "stdout",
     "output_type": "stream",
     "text": [
      "[916, 884, 927, 903, 898, 873, 910, 888, 909, 897]\n"
     ]
    }
   ],
   "source": [
    "print(decom_lengths_list)"
   ]
  },
  {
   "cell_type": "markdown",
   "id": "aecf47b3-b10b-477c-aff6-e95a4556e32f",
   "metadata": {},
   "source": [
    "Save the processed data in a folder."
   ]
  },
  {
   "cell_type": "code",
   "execution_count": 24,
   "id": "58840035-ec66-4514-ab7b-066fcc2ffa4b",
   "metadata": {},
   "outputs": [],
   "source": [
    "lengths_filepath = './processed data (float expt)/SER_1_dim64_lengths.json'\n",
    "\n",
    "with open(lengths_filepath, 'w') as out1:\n",
    "    json.dump(decom_lengths_list, out1, cls=NumpyEncoder)"
   ]
  },
  {
   "cell_type": "markdown",
   "id": "a1f46069-b1a9-49fb-b00b-1a121de6ce20",
   "metadata": {},
   "source": [
    "# SER 2"
   ]
  },
  {
   "cell_type": "markdown",
   "id": "53da6ac3-5c81-4e9c-890c-11ea9a701173",
   "metadata": {},
   "source": [
    "## $8 \\times 8$ matrices"
   ]
  },
  {
   "cell_type": "code",
   "execution_count": 25,
   "id": "bc595948-f0b0-4b2c-af2a-baa393ddedae",
   "metadata": {},
   "outputs": [],
   "source": [
    "decom_lengths_list = []\n",
    "\n",
    "for k in range(10):\n",
    "    decom_filepath = './raw data (float_SER_2)/dim8_decom_err_' + str(k) + '.json'\n",
    "    \n",
    "    with open(decom_filepath) as out1:\n",
    "        decom = json.load(out1)\n",
    "    \n",
    "    decom_length = decom[0]\n",
    "    decom_lengths_list.append(decom_length)"
   ]
  },
  {
   "cell_type": "code",
   "execution_count": 26,
   "id": "b4cb86d5-050e-414b-b034-69f4498e94e1",
   "metadata": {},
   "outputs": [
    {
     "name": "stdout",
     "output_type": "stream",
     "text": [
      "[20, 19, 19, 19, 19, 20, 19, 20, 19, 22]\n"
     ]
    }
   ],
   "source": [
    "print(decom_lengths_list)"
   ]
  },
  {
   "cell_type": "markdown",
   "id": "7499d54e-e181-4dd4-bd72-d66cc26c1d7f",
   "metadata": {},
   "source": [
    "Save the processed data in a folder."
   ]
  },
  {
   "cell_type": "code",
   "execution_count": 27,
   "id": "bd526c9e-a25c-48b4-8768-da08b163eb04",
   "metadata": {},
   "outputs": [],
   "source": [
    "lengths_filepath = './processed data (float expt)/SER_2_dim8_lengths.json'\n",
    "\n",
    "with open(lengths_filepath, 'w') as out1:\n",
    "    json.dump(decom_lengths_list, out1, cls=NumpyEncoder)"
   ]
  },
  {
   "cell_type": "markdown",
   "id": "d3f6f2e1-2a9f-454c-afdf-268189d80566",
   "metadata": {},
   "source": [
    "## $16 \\times 16$ matrices"
   ]
  },
  {
   "cell_type": "code",
   "execution_count": 28,
   "id": "20e4a79e-3f0c-42ff-9178-48356dcf7cdb",
   "metadata": {},
   "outputs": [],
   "source": [
    "decom_lengths_list = []\n",
    "\n",
    "for k in range(10):\n",
    "    decom_filepath = './raw data (float_SER_2)/dim16_decom_err_' + str(k) + '.json'\n",
    "    \n",
    "    with open(decom_filepath) as out1:\n",
    "        decom = json.load(out1)\n",
    "    \n",
    "    decom_length = decom[0]\n",
    "    decom_lengths_list.append(decom_length)"
   ]
  },
  {
   "cell_type": "code",
   "execution_count": 29,
   "id": "db405fd3-f92f-4ba1-b5e8-8ce4704ee595",
   "metadata": {},
   "outputs": [
    {
     "name": "stdout",
     "output_type": "stream",
     "text": [
      "[42, 41, 41, 40, 40, 42, 40, 41, 39, 40]\n"
     ]
    }
   ],
   "source": [
    "print(decom_lengths_list)"
   ]
  },
  {
   "cell_type": "markdown",
   "id": "555056bc-d73a-4c76-8165-579297d649fd",
   "metadata": {},
   "source": [
    "Save the processed data in a folder."
   ]
  },
  {
   "cell_type": "code",
   "execution_count": 30,
   "id": "5393012f-d3ab-4576-94c5-b7c994b5ce77",
   "metadata": {},
   "outputs": [],
   "source": [
    "lengths_filepath = './processed data (float expt)/SER_2_dim16_lengths.json'\n",
    "\n",
    "with open(lengths_filepath, 'w') as out1:\n",
    "    json.dump(decom_lengths_list, out1, cls=NumpyEncoder)"
   ]
  },
  {
   "cell_type": "markdown",
   "id": "e084346f-027a-4775-be4b-451affc8e27a",
   "metadata": {},
   "source": [
    "## $32 \\times 32$ matrices"
   ]
  },
  {
   "cell_type": "code",
   "execution_count": 31,
   "id": "8ac31956-fb82-49f7-873d-0c3f06ebff28",
   "metadata": {},
   "outputs": [],
   "source": [
    "decom_lengths_list = []\n",
    "\n",
    "for k in range(10):\n",
    "    decom_filepath = './raw data (float_SER_2)/dim32_decom_err_' + str(k) + '.json'\n",
    "    \n",
    "    with open(decom_filepath) as out1:\n",
    "        decom = json.load(out1)\n",
    "    \n",
    "    decom_length = decom[0]\n",
    "    decom_lengths_list.append(decom_length)"
   ]
  },
  {
   "cell_type": "code",
   "execution_count": 32,
   "id": "8f88a64e-5323-4cdb-845c-f17a23e9e356",
   "metadata": {},
   "outputs": [
    {
     "name": "stdout",
     "output_type": "stream",
     "text": [
      "[81, 84, 83, 81, 84, 84, 83, 84, 82, 82]\n"
     ]
    }
   ],
   "source": [
    "print(decom_lengths_list)"
   ]
  },
  {
   "cell_type": "markdown",
   "id": "ae1f9b44-41a7-4a0b-8802-2fb9d7deef9d",
   "metadata": {},
   "source": [
    "Save the processed data in a folder."
   ]
  },
  {
   "cell_type": "code",
   "execution_count": 33,
   "id": "f6572a2a-26c2-4c8f-859e-b7611a63525d",
   "metadata": {},
   "outputs": [],
   "source": [
    "lengths_filepath = './processed data (float expt)/SER_2_dim32_lengths.json'\n",
    "\n",
    "with open(lengths_filepath, 'w') as out1:\n",
    "    json.dump(decom_lengths_list, out1, cls=NumpyEncoder)"
   ]
  },
  {
   "cell_type": "markdown",
   "id": "55d33281-0b68-4a92-bf7b-22db62735d10",
   "metadata": {},
   "source": [
    "## $64 \\times 64$ matrices"
   ]
  },
  {
   "cell_type": "code",
   "execution_count": 34,
   "id": "a66d35b9-3c82-458e-a9af-0c22a46f3c9f",
   "metadata": {},
   "outputs": [],
   "source": [
    "decom_lengths_list = []\n",
    "\n",
    "for k in range(10):\n",
    "    decom_filepath = './raw data (float_SER_2)/dim64_decom_err_' + str(k) + '.json'\n",
    "    \n",
    "    with open(decom_filepath) as out1:\n",
    "        decom = json.load(out1)\n",
    "    \n",
    "    decom_length = decom[0]\n",
    "    decom_lengths_list.append(decom_length)"
   ]
  },
  {
   "cell_type": "code",
   "execution_count": 35,
   "id": "9aa5624d-f984-448a-81a4-fd8b78e595a3",
   "metadata": {},
   "outputs": [
    {
     "name": "stdout",
     "output_type": "stream",
     "text": [
      "[168, 171, 166, 170, 169, 171, 169, 173, 169, 167]\n"
     ]
    }
   ],
   "source": [
    "print(decom_lengths_list)"
   ]
  },
  {
   "cell_type": "markdown",
   "id": "eba845a5-8cd9-4e6e-9c4a-e78df1254d86",
   "metadata": {},
   "source": [
    "Save the processed data in a folder."
   ]
  },
  {
   "cell_type": "code",
   "execution_count": 36,
   "id": "80a8bbae-d5d2-418d-9037-6d1f743927a2",
   "metadata": {},
   "outputs": [],
   "source": [
    "lengths_filepath = './processed data (float expt)/SER_2_dim64_lengths.json'\n",
    "\n",
    "with open(lengths_filepath, 'w') as out1:\n",
    "    json.dump(decom_lengths_list, out1, cls=NumpyEncoder)"
   ]
  }
 ],
 "metadata": {
  "kernelspec": {
   "display_name": "Python 3 (ipykernel)",
   "language": "python",
   "name": "python3"
  },
  "language_info": {
   "codemirror_mode": {
    "name": "ipython",
    "version": 3
   },
   "file_extension": ".py",
   "mimetype": "text/x-python",
   "name": "python",
   "nbconvert_exporter": "python",
   "pygments_lexer": "ipython3",
   "version": "3.9.19"
  }
 },
 "nbformat": 4,
 "nbformat_minor": 5
}
