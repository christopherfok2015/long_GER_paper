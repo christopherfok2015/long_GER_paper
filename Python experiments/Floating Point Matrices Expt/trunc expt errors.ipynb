{
 "cells": [
  {
   "cell_type": "code",
   "execution_count": 1,
   "id": "b754be08-7139-4f21-a1f7-46835c923630",
   "metadata": {},
   "outputs": [],
   "source": [
    "import numpy as np\n",
    "import math\n",
    "import copy\n",
    "import datetime\n",
    "import pandas as pd\n",
    "import json"
   ]
  },
  {
   "cell_type": "code",
   "execution_count": 4,
   "id": "ba237f2b-7212-40ce-91e5-b76f50b019ec",
   "metadata": {},
   "outputs": [],
   "source": [
    "# Custom JSON encoder that handles NumPy types (created by GPT-o3 on poe.com)\n",
    "class NumpyEncoder(json.JSONEncoder):\n",
    "    def default(self, obj):\n",
    "        if isinstance(obj, (np.integer,)):\n",
    "            return int(obj)\n",
    "        elif isinstance(obj, (np.floating,)):\n",
    "            return float(obj)\n",
    "        elif isinstance(obj, (np.ndarray,)):\n",
    "            return obj.tolist()\n",
    "        return super(NumpyEncoder, self).default(obj)"
   ]
  },
  {
   "cell_type": "markdown",
   "id": "bc9b6e14-2b7f-4670-9196-01d655e4da5c",
   "metadata": {},
   "source": [
    "# Computing the errors $\\| \\frac{1}{5300} \\hat{P} - P \\|_{F}$\n",
    "$P$ represents the floating-point TPMs we generated (10 for $8 \\times 8$, 10 for $16 \\times 16$, 10 for $32 \\times 32$, 10 for $64 \\times 64$)."
   ]
  },
  {
   "cell_type": "markdown",
   "id": "69d99b45-f281-40ca-b435-7941f63cb6e6",
   "metadata": {},
   "source": [
    "## $8 \\times 8$ matrices"
   ]
  },
  {
   "cell_type": "code",
   "execution_count": 5,
   "id": "43fa8afb-252a-4725-b4c8-f8575637f343",
   "metadata": {},
   "outputs": [],
   "source": [
    "list_of_errors = []\n",
    "\n",
    "for k in range(10):\n",
    "    tTPM_filepath = './8-by-8 (trunc)/dim8_tTPM_' + str(k) + '.npy'\n",
    "    P_hat = np.load(tTPM_filepath)\n",
    "    \n",
    "    fTPM_filepath = './8-by-8/dim8_fTPM_' + str(k) + '.npy'\n",
    "    P = np.load(fTPM_filepath)\n",
    "    \n",
    "    single_error = np.linalg.norm(P_hat / 5300 - P, ord='fro')\n",
    "    list_of_errors.append(single_error)"
   ]
  },
  {
   "cell_type": "markdown",
   "id": "c5b3eb6e-9098-41c5-874d-f3d33b0641ae",
   "metadata": {},
   "source": [
    "Maximum error"
   ]
  },
  {
   "cell_type": "code",
   "execution_count": 7,
   "id": "13148e56-6bb2-4ef4-85f7-a155826f7c5e",
   "metadata": {},
   "outputs": [
    {
     "data": {
      "text/plain": [
       "0.0006625792333391821"
      ]
     },
     "execution_count": 7,
     "metadata": {},
     "output_type": "execute_result"
    }
   ],
   "source": [
    "max(list_of_errors)"
   ]
  },
  {
   "cell_type": "markdown",
   "id": "97767abb-a8f9-41e3-b8e0-efa35bf08236",
   "metadata": {},
   "source": [
    "Mean error"
   ]
  },
  {
   "cell_type": "code",
   "execution_count": 11,
   "id": "03632395-a7d4-4f30-9cee-ee07f0537e4f",
   "metadata": {},
   "outputs": [
    {
     "data": {
      "text/plain": [
       "0.0005701361178217543"
      ]
     },
     "execution_count": 11,
     "metadata": {},
     "output_type": "execute_result"
    }
   ],
   "source": [
    "sum(list_of_errors) / len(list_of_errors)"
   ]
  },
  {
   "cell_type": "markdown",
   "id": "75db2ade-4d42-43b5-a8d3-3b4f5b6abfd2",
   "metadata": {},
   "source": [
    "Minimum error"
   ]
  },
  {
   "cell_type": "code",
   "execution_count": 12,
   "id": "b17054d0-5e6a-444a-8df1-232c66167132",
   "metadata": {},
   "outputs": [
    {
     "data": {
      "text/plain": [
       "0.0004892443237203482"
      ]
     },
     "execution_count": 12,
     "metadata": {},
     "output_type": "execute_result"
    }
   ],
   "source": [
    "min(list_of_errors)"
   ]
  },
  {
   "cell_type": "markdown",
   "id": "73b6b80b-955c-4ed3-91e2-4d1aab42f1c0",
   "metadata": {},
   "source": [
    "Save list_of_errors in a folder."
   ]
  },
  {
   "cell_type": "code",
   "execution_count": 13,
   "id": "81d67cfc-8813-4900-a485-da1c49cbabbe",
   "metadata": {},
   "outputs": [],
   "source": [
    "error_filepath = './processed data (trunc expt)/dim8_matrix_errors_list.json'\n",
    "\n",
    "with open(error_filepath, 'w') as out1:\n",
    "    json.dump(list_of_errors, out1, cls=NumpyEncoder)"
   ]
  },
  {
   "cell_type": "markdown",
   "id": "6f14a05c-b3dd-43e0-b3c1-2ec62d246d01",
   "metadata": {},
   "source": [
    "## $16 \\times 16$ matrices"
   ]
  },
  {
   "cell_type": "code",
   "execution_count": 14,
   "id": "12e3a6bc-f2d1-4523-bf35-7a99cf6b275f",
   "metadata": {},
   "outputs": [],
   "source": [
    "list_of_errors = []\n",
    "\n",
    "for k in range(10):\n",
    "    tTPM_filepath = './16-by-16 (trunc)/dim16_tTPM_' + str(k) + '.npy'\n",
    "    P_hat = np.load(tTPM_filepath)\n",
    "    \n",
    "    fTPM_filepath = './16-by-16/dim16_fTPM_' + str(k) + '.npy'\n",
    "    P = np.load(fTPM_filepath)\n",
    "    \n",
    "    single_error = np.linalg.norm(P_hat / 5300 - P, ord='fro')\n",
    "    list_of_errors.append(single_error)"
   ]
  },
  {
   "cell_type": "markdown",
   "id": "917db051-26ea-4933-92c0-fc656f88f5b2",
   "metadata": {},
   "source": [
    "Maximum error"
   ]
  },
  {
   "cell_type": "code",
   "execution_count": 16,
   "id": "1e62ea38-d3ce-47ce-8848-87be65385e12",
   "metadata": {},
   "outputs": [
    {
     "data": {
      "text/plain": [
       "0.0012051626089481812"
      ]
     },
     "execution_count": 16,
     "metadata": {},
     "output_type": "execute_result"
    }
   ],
   "source": [
    "max(list_of_errors)"
   ]
  },
  {
   "cell_type": "markdown",
   "id": "4772bbcb-7931-411a-a67c-4615cb44a841",
   "metadata": {},
   "source": [
    "Mean error"
   ]
  },
  {
   "cell_type": "code",
   "execution_count": 17,
   "id": "233bb3b9-c67b-41b1-b1cc-7748018a4a98",
   "metadata": {},
   "outputs": [
    {
     "data": {
      "text/plain": [
       "0.001077110753909086"
      ]
     },
     "execution_count": 17,
     "metadata": {},
     "output_type": "execute_result"
    }
   ],
   "source": [
    "sum(list_of_errors) / len(list_of_errors)"
   ]
  },
  {
   "cell_type": "markdown",
   "id": "41038d73-6ffc-4c7b-b6ba-1d31e092cc96",
   "metadata": {},
   "source": [
    "Minimum error"
   ]
  },
  {
   "cell_type": "code",
   "execution_count": 18,
   "id": "fbc4932b-33d7-4c42-b6d3-b3f6de8c9e1c",
   "metadata": {},
   "outputs": [
    {
     "data": {
      "text/plain": [
       "0.000996225765195785"
      ]
     },
     "execution_count": 18,
     "metadata": {},
     "output_type": "execute_result"
    }
   ],
   "source": [
    "min(list_of_errors)"
   ]
  },
  {
   "cell_type": "markdown",
   "id": "c4c1df14-656c-4bd2-ac9d-26bd4333858a",
   "metadata": {},
   "source": [
    "Save list_of_errors in a folder."
   ]
  },
  {
   "cell_type": "code",
   "execution_count": 19,
   "id": "31993221-8b62-42a1-8d7d-c0e49eac738c",
   "metadata": {},
   "outputs": [],
   "source": [
    "error_filepath = './processed data (trunc expt)/dim16_matrix_errors_list.json'\n",
    "\n",
    "with open(error_filepath, 'w') as out1:\n",
    "    json.dump(list_of_errors, out1, cls=NumpyEncoder)"
   ]
  },
  {
   "cell_type": "markdown",
   "id": "5fb5e8f0-9324-45cb-aeb6-0f175eefe1e3",
   "metadata": {},
   "source": [
    "## $32 \\times 32$ matrices"
   ]
  },
  {
   "cell_type": "code",
   "execution_count": 20,
   "id": "eca07b18-0824-4354-b92f-0258a1671d2d",
   "metadata": {},
   "outputs": [],
   "source": [
    "list_of_errors = []\n",
    "\n",
    "for k in range(10):\n",
    "    tTPM_filepath = './32-by-32 (trunc)/dim32_tTPM_' + str(k) + '.npy'\n",
    "    P_hat = np.load(tTPM_filepath)\n",
    "    \n",
    "    fTPM_filepath = './32-by-32/dim32_fTPM_' + str(k) + '.npy'\n",
    "    P = np.load(fTPM_filepath)\n",
    "    \n",
    "    single_error = np.linalg.norm(P_hat / 5300 - P, ord='fro')\n",
    "    list_of_errors.append(single_error)"
   ]
  },
  {
   "cell_type": "markdown",
   "id": "db300b79-207a-44dc-b5f0-b8d34205139b",
   "metadata": {},
   "source": [
    "Maximum error"
   ]
  },
  {
   "cell_type": "code",
   "execution_count": 22,
   "id": "b17c3490-02c3-4360-9026-2feaa9b35488",
   "metadata": {},
   "outputs": [
    {
     "data": {
      "text/plain": [
       "0.002142719510428655"
      ]
     },
     "execution_count": 22,
     "metadata": {},
     "output_type": "execute_result"
    }
   ],
   "source": [
    "max(list_of_errors)"
   ]
  },
  {
   "cell_type": "markdown",
   "id": "71ce497f-05ed-4978-8225-ff8914f9265f",
   "metadata": {},
   "source": [
    "Mean error"
   ]
  },
  {
   "cell_type": "code",
   "execution_count": 23,
   "id": "5dfec1a7-965f-4fdc-b658-e425b4054867",
   "metadata": {},
   "outputs": [
    {
     "data": {
      "text/plain": [
       "0.0020822744971826985"
      ]
     },
     "execution_count": 23,
     "metadata": {},
     "output_type": "execute_result"
    }
   ],
   "source": [
    "sum(list_of_errors) / len(list_of_errors)"
   ]
  },
  {
   "cell_type": "markdown",
   "id": "75373fe8-8503-4d1e-ad7f-892c3c149d48",
   "metadata": {},
   "source": [
    "Minimum error"
   ]
  },
  {
   "cell_type": "code",
   "execution_count": 24,
   "id": "c5cc3b90-d924-4aa4-94eb-09697f260576",
   "metadata": {},
   "outputs": [
    {
     "data": {
      "text/plain": [
       "0.00202708517482632"
      ]
     },
     "execution_count": 24,
     "metadata": {},
     "output_type": "execute_result"
    }
   ],
   "source": [
    "min(list_of_errors)"
   ]
  },
  {
   "cell_type": "markdown",
   "id": "d90f8f7d-4f48-42d6-83e1-9080debb64bc",
   "metadata": {},
   "source": [
    "Save list_of_errors in a folder."
   ]
  },
  {
   "cell_type": "code",
   "execution_count": 25,
   "id": "c2d2dbbb-91f4-470d-92ac-f331f24a50ce",
   "metadata": {},
   "outputs": [],
   "source": [
    "error_filepath = './processed data (trunc expt)/dim32_matrix_errors_list.json'\n",
    "\n",
    "with open(error_filepath, 'w') as out1:\n",
    "    json.dump(list_of_errors, out1, cls=NumpyEncoder)"
   ]
  },
  {
   "cell_type": "markdown",
   "id": "ae02da0f-47ac-47e4-b57c-fe1f147a7d72",
   "metadata": {},
   "source": [
    "## $64 \\times 64$ matrices"
   ]
  },
  {
   "cell_type": "code",
   "execution_count": 26,
   "id": "82754429-8845-416d-a610-b276fa05e7fe",
   "metadata": {},
   "outputs": [],
   "source": [
    "list_of_errors = []\n",
    "\n",
    "for k in range(10):\n",
    "    tTPM_filepath = './64-by-64 (trunc)/dim64_tTPM_' + str(k) + '.npy'\n",
    "    P_hat = np.load(tTPM_filepath)\n",
    "    \n",
    "    fTPM_filepath = './64-by-64/dim64_fTPM_' + str(k) + '.npy'\n",
    "    P = np.load(fTPM_filepath)\n",
    "    \n",
    "    single_error = np.linalg.norm(P_hat / 5300 - P, ord='fro')\n",
    "    list_of_errors.append(single_error)"
   ]
  },
  {
   "cell_type": "markdown",
   "id": "db1ff508-74ba-4dae-b5e3-c80e8060be67",
   "metadata": {},
   "source": [
    "Maximum error"
   ]
  },
  {
   "cell_type": "code",
   "execution_count": 29,
   "id": "d10b3ee6-e280-482b-937e-9658a5527312",
   "metadata": {},
   "outputs": [
    {
     "data": {
      "text/plain": [
       "0.004080363927183918"
      ]
     },
     "execution_count": 29,
     "metadata": {},
     "output_type": "execute_result"
    }
   ],
   "source": [
    "max(list_of_errors)"
   ]
  },
  {
   "cell_type": "markdown",
   "id": "8c20ae79-fe64-4e72-922d-89cf1643b84b",
   "metadata": {},
   "source": [
    "Mean error"
   ]
  },
  {
   "cell_type": "code",
   "execution_count": 30,
   "id": "5f385c38-d075-47b3-87da-bceb9066750d",
   "metadata": {},
   "outputs": [
    {
     "data": {
      "text/plain": [
       "0.0039935373134591225"
      ]
     },
     "execution_count": 30,
     "metadata": {},
     "output_type": "execute_result"
    }
   ],
   "source": [
    "sum(list_of_errors) / len(list_of_errors)"
   ]
  },
  {
   "cell_type": "markdown",
   "id": "c69d141d-e173-41a0-ad7c-a713efad2460",
   "metadata": {},
   "source": [
    "Minimum error"
   ]
  },
  {
   "cell_type": "code",
   "execution_count": 31,
   "id": "c3e0a0fc-e22e-4d60-af46-86f228e17aef",
   "metadata": {},
   "outputs": [
    {
     "data": {
      "text/plain": [
       "0.003819966813843958"
      ]
     },
     "execution_count": 31,
     "metadata": {},
     "output_type": "execute_result"
    }
   ],
   "source": [
    "min(list_of_errors)"
   ]
  },
  {
   "cell_type": "markdown",
   "id": "707b1bd0-9d3e-42f4-85c4-95b42decc988",
   "metadata": {},
   "source": [
    "Save list_of_errors in a folder."
   ]
  },
  {
   "cell_type": "code",
   "execution_count": 32,
   "id": "169c474d-f961-47ef-829e-712a50cccf5a",
   "metadata": {},
   "outputs": [],
   "source": [
    "error_filepath = './processed data (trunc expt)/dim64_matrix_errors_list.json'\n",
    "\n",
    "with open(error_filepath, 'w') as out1:\n",
    "    json.dump(list_of_errors, out1, cls=NumpyEncoder)"
   ]
  }
 ],
 "metadata": {
  "kernelspec": {
   "display_name": "Python 3 (ipykernel)",
   "language": "python",
   "name": "python3"
  },
  "language_info": {
   "codemirror_mode": {
    "name": "ipython",
    "version": 3
   },
   "file_extension": ".py",
   "mimetype": "text/x-python",
   "name": "python",
   "nbconvert_exporter": "python",
   "pygments_lexer": "ipython3",
   "version": "3.9.19"
  }
 },
 "nbformat": 4,
 "nbformat_minor": 5
}
