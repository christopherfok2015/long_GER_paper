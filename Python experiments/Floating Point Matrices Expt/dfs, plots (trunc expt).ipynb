{
 "cells": [
  {
   "cell_type": "code",
   "execution_count": 1,
   "id": "e0f57957-5081-4e02-8c4c-32dc979cc040",
   "metadata": {},
   "outputs": [],
   "source": [
    "import numpy as np\n",
    "import datetime\n",
    "import pandas as pd\n",
    "import json\n",
    "import matplotlib.pyplot as plt"
   ]
  },
  {
   "cell_type": "markdown",
   "id": "485beefb-73e6-474d-99f4-8ce1709ecb19",
   "metadata": {},
   "source": [
    "# The Purpose of this Notebook:\n",
    "Compare the lengths of decompositions output by GER, SER 1 and SER 2."
   ]
  },
  {
   "cell_type": "markdown",
   "id": "f413a948-428d-4a12-9343-574a0f2255a1",
   "metadata": {},
   "source": [
    "# $8 \\times 8$ matrices"
   ]
  },
  {
   "cell_type": "markdown",
   "id": "6c3b9e3c-6fcb-4694-b152-70c52f4310b6",
   "metadata": {},
   "source": [
    "## Create DataFrames"
   ]
  },
  {
   "cell_type": "markdown",
   "id": "7f79ee9f-eacc-482f-8334-9ab504cf0010",
   "metadata": {},
   "source": [
    "Load the data for the lengths of decompositions output by GER, SER 1, SER 2."
   ]
  },
  {
   "cell_type": "code",
   "execution_count": 2,
   "id": "649e8eb9-a254-4d90-a4e8-504bf08451f6",
   "metadata": {},
   "outputs": [],
   "source": [
    "GER_filepath = './processed data (trunc expt)/GER_dim8_lengths.json'\n",
    "SER_1_filepath = './processed data (trunc expt)/SER_1_dim8_lengths.json'\n",
    "SER_2_filepath = './processed data (trunc expt)/SER_2_dim8_lengths.json'\n",
    "\n",
    "with open(GER_filepath) as out1:\n",
    "    lengths_list_GER = json.load(out1)\n",
    "    \n",
    "with open(SER_1_filepath) as out2:\n",
    "    lengths_list_SER_1 = json.load(out2)\n",
    "    \n",
    "with open(SER_2_filepath) as out3:\n",
    "    lengths_list_SER_2 = json.load(out3)"
   ]
  },
  {
   "cell_type": "markdown",
   "id": "f6504b18-bfe6-4e96-8add-ff08a9bdb7fd",
   "metadata": {},
   "source": [
    "Create the dataframe of the lengths of decompositions."
   ]
  },
  {
   "cell_type": "code",
   "execution_count": 3,
   "id": "f20b2ae0-b7d1-42a6-91c3-6c73a2c2da71",
   "metadata": {},
   "outputs": [],
   "source": [
    "lengths_pdSeries_GER = pd.Series(lengths_list_GER)\n",
    "lengths_pdSeries_SER_1 = pd.Series(lengths_list_SER_1)\n",
    "lengths_pdSeries_SER_2 = pd.Series(lengths_list_SER_2)"
   ]
  },
  {
   "cell_type": "code",
   "execution_count": 4,
   "id": "8f693d7a-5f86-4ab1-98b0-a6545076f3ae",
   "metadata": {},
   "outputs": [],
   "source": [
    "algos_lengths_pdSeries = [lengths_pdSeries_GER, lengths_pdSeries_SER_1,\n",
    "                          lengths_pdSeries_SER_2]\n",
    "df_keys = ['GER', 'SER 1', 'SER 2']\n",
    "\n",
    "pddf_decomposition_lengths_of_algos = pd.concat(algos_lengths_pdSeries, \n",
    "                                                axis='columns', keys=df_keys)"
   ]
  },
  {
   "cell_type": "code",
   "execution_count": 5,
   "id": "1f35f14d-7d9c-416c-ba50-fe1be760f5f7",
   "metadata": {},
   "outputs": [
    {
     "data": {
      "text/html": [
       "<div>\n",
       "<style scoped>\n",
       "    .dataframe tbody tr th:only-of-type {\n",
       "        vertical-align: middle;\n",
       "    }\n",
       "\n",
       "    .dataframe tbody tr th {\n",
       "        vertical-align: top;\n",
       "    }\n",
       "\n",
       "    .dataframe thead th {\n",
       "        text-align: right;\n",
       "    }\n",
       "</style>\n",
       "<table border=\"1\" class=\"dataframe\">\n",
       "  <thead>\n",
       "    <tr style=\"text-align: right;\">\n",
       "      <th></th>\n",
       "      <th>GER</th>\n",
       "      <th>SER 1</th>\n",
       "      <th>SER 2</th>\n",
       "    </tr>\n",
       "  </thead>\n",
       "  <tbody>\n",
       "    <tr>\n",
       "      <th>0</th>\n",
       "      <td>31</td>\n",
       "      <td>57</td>\n",
       "      <td>30</td>\n",
       "    </tr>\n",
       "    <tr>\n",
       "      <th>1</th>\n",
       "      <td>32</td>\n",
       "      <td>57</td>\n",
       "      <td>30</td>\n",
       "    </tr>\n",
       "    <tr>\n",
       "      <th>2</th>\n",
       "      <td>32</td>\n",
       "      <td>55</td>\n",
       "      <td>31</td>\n",
       "    </tr>\n",
       "    <tr>\n",
       "      <th>3</th>\n",
       "      <td>32</td>\n",
       "      <td>57</td>\n",
       "      <td>30</td>\n",
       "    </tr>\n",
       "    <tr>\n",
       "      <th>4</th>\n",
       "      <td>32</td>\n",
       "      <td>56</td>\n",
       "      <td>30</td>\n",
       "    </tr>\n",
       "    <tr>\n",
       "      <th>5</th>\n",
       "      <td>32</td>\n",
       "      <td>57</td>\n",
       "      <td>29</td>\n",
       "    </tr>\n",
       "    <tr>\n",
       "      <th>6</th>\n",
       "      <td>32</td>\n",
       "      <td>55</td>\n",
       "      <td>29</td>\n",
       "    </tr>\n",
       "    <tr>\n",
       "      <th>7</th>\n",
       "      <td>34</td>\n",
       "      <td>56</td>\n",
       "      <td>30</td>\n",
       "    </tr>\n",
       "    <tr>\n",
       "      <th>8</th>\n",
       "      <td>31</td>\n",
       "      <td>57</td>\n",
       "      <td>30</td>\n",
       "    </tr>\n",
       "    <tr>\n",
       "      <th>9</th>\n",
       "      <td>30</td>\n",
       "      <td>54</td>\n",
       "      <td>32</td>\n",
       "    </tr>\n",
       "  </tbody>\n",
       "</table>\n",
       "</div>"
      ],
      "text/plain": [
       "   GER  SER 1  SER 2\n",
       "0   31     57     30\n",
       "1   32     57     30\n",
       "2   32     55     31\n",
       "3   32     57     30\n",
       "4   32     56     30\n",
       "5   32     57     29\n",
       "6   32     55     29\n",
       "7   34     56     30\n",
       "8   31     57     30\n",
       "9   30     54     32"
      ]
     },
     "execution_count": 5,
     "metadata": {},
     "output_type": "execute_result"
    }
   ],
   "source": [
    "pddf_decomposition_lengths_of_algos"
   ]
  },
  {
   "cell_type": "markdown",
   "id": "fddd5264-e6e9-40af-b48c-4c561f4c98c4",
   "metadata": {},
   "source": [
    "Save the dataframe of the lengths of decompositions."
   ]
  },
  {
   "cell_type": "code",
   "execution_count": 11,
   "id": "a795091a-0834-4132-98ea-a33bf056c092",
   "metadata": {},
   "outputs": [],
   "source": [
    "all_algos_filepath = './processed data (trunc expt)/dim8_pddf_lengths_of_algos.pkl'\n",
    "pddf_decomposition_lengths_of_algos.to_pickle(all_algos_filepath)"
   ]
  },
  {
   "cell_type": "markdown",
   "id": "ddb1a7f0-543e-4978-8b68-9a0fb940279b",
   "metadata": {},
   "source": [
    "Ranking of the performance of GER, SER 1, SER 2."
   ]
  },
  {
   "cell_type": "code",
   "execution_count": 8,
   "id": "fc91701b-9f10-4a54-97d5-43cf490b8c83",
   "metadata": {},
   "outputs": [],
   "source": [
    "pddf_algos_lengths_ranking = pddf_decomposition_lengths_of_algos.rank(axis='columns', \n",
    "                                                                      method='dense')"
   ]
  },
  {
   "cell_type": "code",
   "execution_count": 9,
   "id": "cbc3835b-9091-4e9b-b5e8-3e3a1c82d3bd",
   "metadata": {},
   "outputs": [
    {
     "data": {
      "text/html": [
       "<div>\n",
       "<style scoped>\n",
       "    .dataframe tbody tr th:only-of-type {\n",
       "        vertical-align: middle;\n",
       "    }\n",
       "\n",
       "    .dataframe tbody tr th {\n",
       "        vertical-align: top;\n",
       "    }\n",
       "\n",
       "    .dataframe thead th {\n",
       "        text-align: right;\n",
       "    }\n",
       "</style>\n",
       "<table border=\"1\" class=\"dataframe\">\n",
       "  <thead>\n",
       "    <tr style=\"text-align: right;\">\n",
       "      <th></th>\n",
       "      <th>GER</th>\n",
       "      <th>SER 1</th>\n",
       "      <th>SER 2</th>\n",
       "    </tr>\n",
       "  </thead>\n",
       "  <tbody>\n",
       "    <tr>\n",
       "      <th>0</th>\n",
       "      <td>2.0</td>\n",
       "      <td>3.0</td>\n",
       "      <td>1.0</td>\n",
       "    </tr>\n",
       "    <tr>\n",
       "      <th>1</th>\n",
       "      <td>2.0</td>\n",
       "      <td>3.0</td>\n",
       "      <td>1.0</td>\n",
       "    </tr>\n",
       "    <tr>\n",
       "      <th>2</th>\n",
       "      <td>2.0</td>\n",
       "      <td>3.0</td>\n",
       "      <td>1.0</td>\n",
       "    </tr>\n",
       "    <tr>\n",
       "      <th>3</th>\n",
       "      <td>2.0</td>\n",
       "      <td>3.0</td>\n",
       "      <td>1.0</td>\n",
       "    </tr>\n",
       "    <tr>\n",
       "      <th>4</th>\n",
       "      <td>2.0</td>\n",
       "      <td>3.0</td>\n",
       "      <td>1.0</td>\n",
       "    </tr>\n",
       "    <tr>\n",
       "      <th>5</th>\n",
       "      <td>2.0</td>\n",
       "      <td>3.0</td>\n",
       "      <td>1.0</td>\n",
       "    </tr>\n",
       "    <tr>\n",
       "      <th>6</th>\n",
       "      <td>2.0</td>\n",
       "      <td>3.0</td>\n",
       "      <td>1.0</td>\n",
       "    </tr>\n",
       "    <tr>\n",
       "      <th>7</th>\n",
       "      <td>2.0</td>\n",
       "      <td>3.0</td>\n",
       "      <td>1.0</td>\n",
       "    </tr>\n",
       "    <tr>\n",
       "      <th>8</th>\n",
       "      <td>2.0</td>\n",
       "      <td>3.0</td>\n",
       "      <td>1.0</td>\n",
       "    </tr>\n",
       "    <tr>\n",
       "      <th>9</th>\n",
       "      <td>1.0</td>\n",
       "      <td>3.0</td>\n",
       "      <td>2.0</td>\n",
       "    </tr>\n",
       "  </tbody>\n",
       "</table>\n",
       "</div>"
      ],
      "text/plain": [
       "   GER  SER 1  SER 2\n",
       "0  2.0    3.0    1.0\n",
       "1  2.0    3.0    1.0\n",
       "2  2.0    3.0    1.0\n",
       "3  2.0    3.0    1.0\n",
       "4  2.0    3.0    1.0\n",
       "5  2.0    3.0    1.0\n",
       "6  2.0    3.0    1.0\n",
       "7  2.0    3.0    1.0\n",
       "8  2.0    3.0    1.0\n",
       "9  1.0    3.0    2.0"
      ]
     },
     "execution_count": 9,
     "metadata": {},
     "output_type": "execute_result"
    }
   ],
   "source": [
    "pddf_algos_lengths_ranking"
   ]
  },
  {
   "cell_type": "markdown",
   "id": "5e036831-3932-4f25-9dfa-10156a61bc14",
   "metadata": {},
   "source": [
    "Save the ranking of the performance of GER, SER 1, SER 2."
   ]
  },
  {
   "cell_type": "code",
   "execution_count": 12,
   "id": "6676d845-6a81-4804-9e48-023a11ad2d0c",
   "metadata": {},
   "outputs": [],
   "source": [
    "ranking_filepath = './processed data (trunc expt)/dim8_pddf_algos_ranking.pkl'\n",
    "pddf_algos_lengths_ranking.to_pickle(ranking_filepath)"
   ]
  },
  {
   "cell_type": "markdown",
   "id": "db8a35e4-3a91-41ef-a85b-f8780d75160d",
   "metadata": {},
   "source": [
    "## Create Line Plot"
   ]
  },
  {
   "cell_type": "code",
   "execution_count": 14,
   "id": "b7e5d377-f434-4f89-9b3a-182441db9c5c",
   "metadata": {},
   "outputs": [],
   "source": [
    "dim8_TPMs_labels = list(range(1, 11))"
   ]
  },
  {
   "cell_type": "code",
   "execution_count": 22,
   "id": "73887a8a-146a-47d0-a2fa-9e24510bc983",
   "metadata": {},
   "outputs": [
    {
     "data": {
      "image/png": "[encoded data removed]",
      "text/plain": [
       "<Figure size 320x480 with 1 Axes>"
      ]
     },
     "metadata": {},
     "output_type": "display_data"
    }
   ],
   "source": [
    "plt.figure(figsize=(3.2, 4.8))\n",
    "\n",
    "plt.plot(dim8_TPMs_labels, lengths_list_SER_2, 'b', label='SER 2', linewidth='1.0')\n",
    "plt.plot(dim8_TPMs_labels, lengths_list_GER, 'r', label='GER', linewidth='1.0')\n",
    "plt.plot(dim8_TPMs_labels, lengths_list_SER_1, 'g', label='SER 1', linewidth='1.0')\n",
    "\n",
    "leg = plt.legend()\n",
    "plt.xlabel('subscripts of TPMs (1 to 10)')\n",
    "plt.ylabel('lengths of decompositions')\n",
    "\n",
    "for legobj in leg.legend_handles:\n",
    "    legobj.set_linewidth(2.0)\n",
    "\n",
    "fig_filepath = './processed data (trunc expt)/trunc_dim8.jpg'\n",
    "plt.savefig(fig_filepath, bbox_inches='tight')"
   ]
  },
  {
   "cell_type": "markdown",
   "id": "f5bd3262-904c-4b40-98ff-23d579e8509e",
   "metadata": {},
   "source": [
    "# $16 \\times 16$ matrices"
   ]
  },
  {
   "cell_type": "markdown",
   "id": "dad658c2-c288-42a0-b561-f38892a463d7",
   "metadata": {},
   "source": [
    "## Create DataFrames"
   ]
  },
  {
   "cell_type": "markdown",
   "id": "e55cadca-b8f3-4451-9504-704df8b1daff",
   "metadata": {},
   "source": [
    "Load the data for the lengths of decompositions output by GER, SER 1, SER 2."
   ]
  },
  {
   "cell_type": "code",
   "execution_count": 23,
   "id": "61490946-f8ee-4de3-ae77-e6eb7954b6f1",
   "metadata": {},
   "outputs": [],
   "source": [
    "GER_filepath = './processed data (trunc expt)/GER_dim16_lengths.json'\n",
    "SER_1_filepath = './processed data (trunc expt)/SER_1_dim16_lengths.json'\n",
    "SER_2_filepath = './processed data (trunc expt)/SER_2_dim16_lengths.json'\n",
    "\n",
    "with open(GER_filepath) as out1:\n",
    "    lengths_list_GER = json.load(out1)\n",
    "    \n",
    "with open(SER_1_filepath) as out2:\n",
    "    lengths_list_SER_1 = json.load(out2)\n",
    "    \n",
    "with open(SER_2_filepath) as out3:\n",
    "    lengths_list_SER_2 = json.load(out3)"
   ]
  },
  {
   "cell_type": "markdown",
   "id": "bb7fa6df-c08e-4c97-b65a-25efe89dc88a",
   "metadata": {},
   "source": [
    "Create the dataframe of the lengths of decompositions."
   ]
  },
  {
   "cell_type": "code",
   "execution_count": 24,
   "id": "d58d02dc-de20-4e83-afb6-4d5b94747b71",
   "metadata": {},
   "outputs": [],
   "source": [
    "lengths_pdSeries_GER = pd.Series(lengths_list_GER)\n",
    "lengths_pdSeries_SER_1 = pd.Series(lengths_list_SER_1)\n",
    "lengths_pdSeries_SER_2 = pd.Series(lengths_list_SER_2)"
   ]
  },
  {
   "cell_type": "code",
   "execution_count": 25,
   "id": "f2ab66ef-940d-45c1-b23a-fb49571cbfab",
   "metadata": {},
   "outputs": [],
   "source": [
    "algos_lengths_pdSeries = [lengths_pdSeries_GER, lengths_pdSeries_SER_1,\n",
    "                          lengths_pdSeries_SER_2]\n",
    "df_keys = ['GER', 'SER 1', 'SER 2']\n",
    "\n",
    "pddf_decomposition_lengths_of_algos = pd.concat(algos_lengths_pdSeries, \n",
    "                                                axis='columns', keys=df_keys)"
   ]
  },
  {
   "cell_type": "code",
   "execution_count": 26,
   "id": "eb555610-7a52-4d4a-befe-591549d6244d",
   "metadata": {},
   "outputs": [
    {
     "data": {
      "text/html": [
       "<div>\n",
       "<style scoped>\n",
       "    .dataframe tbody tr th:only-of-type {\n",
       "        vertical-align: middle;\n",
       "    }\n",
       "\n",
       "    .dataframe tbody tr th {\n",
       "        vertical-align: top;\n",
       "    }\n",
       "\n",
       "    .dataframe thead th {\n",
       "        text-align: right;\n",
       "    }\n",
       "</style>\n",
       "<table border=\"1\" class=\"dataframe\">\n",
       "  <thead>\n",
       "    <tr style=\"text-align: right;\">\n",
       "      <th></th>\n",
       "      <th>GER</th>\n",
       "      <th>SER 1</th>\n",
       "      <th>SER 2</th>\n",
       "    </tr>\n",
       "  </thead>\n",
       "  <tbody>\n",
       "    <tr>\n",
       "      <th>0</th>\n",
       "      <td>66</td>\n",
       "      <td>158</td>\n",
       "      <td>62</td>\n",
       "    </tr>\n",
       "    <tr>\n",
       "      <th>1</th>\n",
       "      <td>64</td>\n",
       "      <td>156</td>\n",
       "      <td>61</td>\n",
       "    </tr>\n",
       "    <tr>\n",
       "      <th>2</th>\n",
       "      <td>66</td>\n",
       "      <td>156</td>\n",
       "      <td>63</td>\n",
       "    </tr>\n",
       "    <tr>\n",
       "      <th>3</th>\n",
       "      <td>65</td>\n",
       "      <td>159</td>\n",
       "      <td>61</td>\n",
       "    </tr>\n",
       "    <tr>\n",
       "      <th>4</th>\n",
       "      <td>67</td>\n",
       "      <td>158</td>\n",
       "      <td>61</td>\n",
       "    </tr>\n",
       "    <tr>\n",
       "      <th>5</th>\n",
       "      <td>68</td>\n",
       "      <td>163</td>\n",
       "      <td>62</td>\n",
       "    </tr>\n",
       "    <tr>\n",
       "      <th>6</th>\n",
       "      <td>67</td>\n",
       "      <td>162</td>\n",
       "      <td>61</td>\n",
       "    </tr>\n",
       "    <tr>\n",
       "      <th>7</th>\n",
       "      <td>67</td>\n",
       "      <td>154</td>\n",
       "      <td>60</td>\n",
       "    </tr>\n",
       "    <tr>\n",
       "      <th>8</th>\n",
       "      <td>70</td>\n",
       "      <td>163</td>\n",
       "      <td>61</td>\n",
       "    </tr>\n",
       "    <tr>\n",
       "      <th>9</th>\n",
       "      <td>63</td>\n",
       "      <td>160</td>\n",
       "      <td>60</td>\n",
       "    </tr>\n",
       "  </tbody>\n",
       "</table>\n",
       "</div>"
      ],
      "text/plain": [
       "   GER  SER 1  SER 2\n",
       "0   66    158     62\n",
       "1   64    156     61\n",
       "2   66    156     63\n",
       "3   65    159     61\n",
       "4   67    158     61\n",
       "5   68    163     62\n",
       "6   67    162     61\n",
       "7   67    154     60\n",
       "8   70    163     61\n",
       "9   63    160     60"
      ]
     },
     "execution_count": 26,
     "metadata": {},
     "output_type": "execute_result"
    }
   ],
   "source": [
    "pddf_decomposition_lengths_of_algos"
   ]
  },
  {
   "cell_type": "markdown",
   "id": "b1e7668f-95e8-4aa5-b80d-066ea3278570",
   "metadata": {},
   "source": [
    "Save the dataframe of the lengths of decompositions."
   ]
  },
  {
   "cell_type": "code",
   "execution_count": 27,
   "id": "419c0a49-208d-4eb8-9533-3b6ffdfd34e2",
   "metadata": {},
   "outputs": [],
   "source": [
    "all_algos_filepath = './processed data (trunc expt)/dim16_pddf_lengths_of_algos.pkl'\n",
    "pddf_decomposition_lengths_of_algos.to_pickle(all_algos_filepath)"
   ]
  },
  {
   "cell_type": "markdown",
   "id": "6564b1bc-0ec5-405f-a896-e17b077d2306",
   "metadata": {},
   "source": [
    "Ranking of the performance of GER, SER 1, SER 2."
   ]
  },
  {
   "cell_type": "code",
   "execution_count": 28,
   "id": "53e4aabe-d932-493f-84ae-1f16c7376055",
   "metadata": {},
   "outputs": [],
   "source": [
    "pddf_algos_lengths_ranking = pddf_decomposition_lengths_of_algos.rank(axis='columns', \n",
    "                                                                      method='dense')"
   ]
  },
  {
   "cell_type": "code",
   "execution_count": 29,
   "id": "0fe095b1-1ad1-4836-8f92-934832035c3c",
   "metadata": {},
   "outputs": [
    {
     "data": {
      "text/html": [
       "<div>\n",
       "<style scoped>\n",
       "    .dataframe tbody tr th:only-of-type {\n",
       "        vertical-align: middle;\n",
       "    }\n",
       "\n",
       "    .dataframe tbody tr th {\n",
       "        vertical-align: top;\n",
       "    }\n",
       "\n",
       "    .dataframe thead th {\n",
       "        text-align: right;\n",
       "    }\n",
       "</style>\n",
       "<table border=\"1\" class=\"dataframe\">\n",
       "  <thead>\n",
       "    <tr style=\"text-align: right;\">\n",
       "      <th></th>\n",
       "      <th>GER</th>\n",
       "      <th>SER 1</th>\n",
       "      <th>SER 2</th>\n",
       "    </tr>\n",
       "  </thead>\n",
       "  <tbody>\n",
       "    <tr>\n",
       "      <th>0</th>\n",
       "      <td>2.0</td>\n",
       "      <td>3.0</td>\n",
       "      <td>1.0</td>\n",
       "    </tr>\n",
       "    <tr>\n",
       "      <th>1</th>\n",
       "      <td>2.0</td>\n",
       "      <td>3.0</td>\n",
       "      <td>1.0</td>\n",
       "    </tr>\n",
       "    <tr>\n",
       "      <th>2</th>\n",
       "      <td>2.0</td>\n",
       "      <td>3.0</td>\n",
       "      <td>1.0</td>\n",
       "    </tr>\n",
       "    <tr>\n",
       "      <th>3</th>\n",
       "      <td>2.0</td>\n",
       "      <td>3.0</td>\n",
       "      <td>1.0</td>\n",
       "    </tr>\n",
       "    <tr>\n",
       "      <th>4</th>\n",
       "      <td>2.0</td>\n",
       "      <td>3.0</td>\n",
       "      <td>1.0</td>\n",
       "    </tr>\n",
       "    <tr>\n",
       "      <th>5</th>\n",
       "      <td>2.0</td>\n",
       "      <td>3.0</td>\n",
       "      <td>1.0</td>\n",
       "    </tr>\n",
       "    <tr>\n",
       "      <th>6</th>\n",
       "      <td>2.0</td>\n",
       "      <td>3.0</td>\n",
       "      <td>1.0</td>\n",
       "    </tr>\n",
       "    <tr>\n",
       "      <th>7</th>\n",
       "      <td>2.0</td>\n",
       "      <td>3.0</td>\n",
       "      <td>1.0</td>\n",
       "    </tr>\n",
       "    <tr>\n",
       "      <th>8</th>\n",
       "      <td>2.0</td>\n",
       "      <td>3.0</td>\n",
       "      <td>1.0</td>\n",
       "    </tr>\n",
       "    <tr>\n",
       "      <th>9</th>\n",
       "      <td>2.0</td>\n",
       "      <td>3.0</td>\n",
       "      <td>1.0</td>\n",
       "    </tr>\n",
       "  </tbody>\n",
       "</table>\n",
       "</div>"
      ],
      "text/plain": [
       "   GER  SER 1  SER 2\n",
       "0  2.0    3.0    1.0\n",
       "1  2.0    3.0    1.0\n",
       "2  2.0    3.0    1.0\n",
       "3  2.0    3.0    1.0\n",
       "4  2.0    3.0    1.0\n",
       "5  2.0    3.0    1.0\n",
       "6  2.0    3.0    1.0\n",
       "7  2.0    3.0    1.0\n",
       "8  2.0    3.0    1.0\n",
       "9  2.0    3.0    1.0"
      ]
     },
     "execution_count": 29,
     "metadata": {},
     "output_type": "execute_result"
    }
   ],
   "source": [
    "pddf_algos_lengths_ranking"
   ]
  },
  {
   "cell_type": "markdown",
   "id": "79815dc6-0d4b-4457-8fc1-3119c28a7669",
   "metadata": {},
   "source": [
    "Save the ranking of the performance of GER, SER 1, SER 2."
   ]
  },
  {
   "cell_type": "code",
   "execution_count": 30,
   "id": "5d9e7b95-96cb-4278-aeeb-a1fd456cbfac",
   "metadata": {},
   "outputs": [],
   "source": [
    "ranking_filepath = './processed data (trunc expt)/dim16_pddf_algos_ranking.pkl'\n",
    "pddf_algos_lengths_ranking.to_pickle(ranking_filepath)"
   ]
  },
  {
   "cell_type": "markdown",
   "id": "d5ff77d5-359e-4d37-9721-9e4d20e733ad",
   "metadata": {},
   "source": [
    "## Create Line Plot"
   ]
  },
  {
   "cell_type": "code",
   "execution_count": 31,
   "id": "8ca8e4a4-9c94-48d1-9875-48f45df9a86f",
   "metadata": {},
   "outputs": [],
   "source": [
    "dim16_TPMs_labels = list(range(1, 11))"
   ]
  },
  {
   "cell_type": "code",
   "execution_count": 32,
   "id": "68bf0ba1-bca6-4f61-9239-53bbeb44cecf",
   "metadata": {},
   "outputs": [
    {
     "data": {
      "image/png": "[encoded data removed]",
      "text/plain": [
       "<Figure size 320x480 with 1 Axes>"
      ]
     },
     "metadata": {},
     "output_type": "display_data"
    }
   ],
   "source": [
    "plt.figure(figsize=(3.2, 4.8))\n",
    "\n",
    "plt.plot(dim16_TPMs_labels, lengths_list_SER_2, 'b', label='SER 2', linewidth='1.0')\n",
    "plt.plot(dim16_TPMs_labels, lengths_list_GER, 'r', label='GER', linewidth='1.0')\n",
    "plt.plot(dim16_TPMs_labels, lengths_list_SER_1, 'g', label='SER 1', linewidth='1.0')\n",
    "\n",
    "leg = plt.legend()\n",
    "plt.xlabel('subscripts of TPMs (1 to 10)')\n",
    "plt.ylabel('lengths of decompositions')\n",
    "\n",
    "for legobj in leg.legend_handles:\n",
    "    legobj.set_linewidth(2.0)\n",
    "\n",
    "fig_filepath = './processed data (trunc expt)/trunc_dim16.jpg'\n",
    "plt.savefig(fig_filepath, bbox_inches='tight')"
   ]
  },
  {
   "cell_type": "markdown",
   "id": "ca540991-4511-41b1-90ae-666dd76e072e",
   "metadata": {},
   "source": [
    "# $32 \\times 32$ matrices"
   ]
  },
  {
   "cell_type": "markdown",
   "id": "dd91cff6-c64f-471d-897a-a69f60daec5b",
   "metadata": {},
   "source": [
    "## Create DataFrames"
   ]
  },
  {
   "cell_type": "markdown",
   "id": "dd2b5a47-19cc-488d-895b-cd94534b355d",
   "metadata": {},
   "source": [
    "Load the data for the lengths of decompositions output by GER, SER 1, SER 2."
   ]
  },
  {
   "cell_type": "code",
   "execution_count": 33,
   "id": "c7e26ec4-9edd-4186-9e98-b374ebe6a1c6",
   "metadata": {},
   "outputs": [],
   "source": [
    "GER_filepath = './processed data (trunc expt)/GER_dim32_lengths.json'\n",
    "SER_1_filepath = './processed data (trunc expt)/SER_1_dim32_lengths.json'\n",
    "SER_2_filepath = './processed data (trunc expt)/SER_2_dim32_lengths.json'\n",
    "\n",
    "with open(GER_filepath) as out1:\n",
    "    lengths_list_GER = json.load(out1)\n",
    "    \n",
    "with open(SER_1_filepath) as out2:\n",
    "    lengths_list_SER_1 = json.load(out2)\n",
    "    \n",
    "with open(SER_2_filepath) as out3:\n",
    "    lengths_list_SER_2 = json.load(out3)"
   ]
  },
  {
   "cell_type": "markdown",
   "id": "cf862ace-42ef-4c5f-9157-2c997adca48d",
   "metadata": {},
   "source": [
    "Create the dataframe of the lengths of decompositions."
   ]
  },
  {
   "cell_type": "code",
   "execution_count": 34,
   "id": "8c5aec99-fe77-4e75-8ae8-e36367a85a4f",
   "metadata": {},
   "outputs": [],
   "source": [
    "lengths_pdSeries_GER = pd.Series(lengths_list_GER)\n",
    "lengths_pdSeries_SER_1 = pd.Series(lengths_list_SER_1)\n",
    "lengths_pdSeries_SER_2 = pd.Series(lengths_list_SER_2)"
   ]
  },
  {
   "cell_type": "code",
   "execution_count": 35,
   "id": "6b7aa3cf-4896-4a2a-b7eb-012d0b68dc57",
   "metadata": {},
   "outputs": [],
   "source": [
    "algos_lengths_pdSeries = [lengths_pdSeries_GER, lengths_pdSeries_SER_1,\n",
    "                          lengths_pdSeries_SER_2]\n",
    "df_keys = ['GER', 'SER 1', 'SER 2']\n",
    "\n",
    "pddf_decomposition_lengths_of_algos = pd.concat(algos_lengths_pdSeries, \n",
    "                                                axis='columns', keys=df_keys)"
   ]
  },
  {
   "cell_type": "code",
   "execution_count": 36,
   "id": "500fb4e1-5113-4330-ad59-d6ecd05f4426",
   "metadata": {},
   "outputs": [
    {
     "data": {
      "text/html": [
       "<div>\n",
       "<style scoped>\n",
       "    .dataframe tbody tr th:only-of-type {\n",
       "        vertical-align: middle;\n",
       "    }\n",
       "\n",
       "    .dataframe tbody tr th {\n",
       "        vertical-align: top;\n",
       "    }\n",
       "\n",
       "    .dataframe thead th {\n",
       "        text-align: right;\n",
       "    }\n",
       "</style>\n",
       "<table border=\"1\" class=\"dataframe\">\n",
       "  <thead>\n",
       "    <tr style=\"text-align: right;\">\n",
       "      <th></th>\n",
       "      <th>GER</th>\n",
       "      <th>SER 1</th>\n",
       "      <th>SER 2</th>\n",
       "    </tr>\n",
       "  </thead>\n",
       "  <tbody>\n",
       "    <tr>\n",
       "      <th>0</th>\n",
       "      <td>110</td>\n",
       "      <td>388</td>\n",
       "      <td>114</td>\n",
       "    </tr>\n",
       "    <tr>\n",
       "      <th>1</th>\n",
       "      <td>111</td>\n",
       "      <td>384</td>\n",
       "      <td>116</td>\n",
       "    </tr>\n",
       "    <tr>\n",
       "      <th>2</th>\n",
       "      <td>112</td>\n",
       "      <td>392</td>\n",
       "      <td>116</td>\n",
       "    </tr>\n",
       "    <tr>\n",
       "      <th>3</th>\n",
       "      <td>112</td>\n",
       "      <td>403</td>\n",
       "      <td>115</td>\n",
       "    </tr>\n",
       "    <tr>\n",
       "      <th>4</th>\n",
       "      <td>109</td>\n",
       "      <td>384</td>\n",
       "      <td>118</td>\n",
       "    </tr>\n",
       "    <tr>\n",
       "      <th>5</th>\n",
       "      <td>111</td>\n",
       "      <td>393</td>\n",
       "      <td>117</td>\n",
       "    </tr>\n",
       "    <tr>\n",
       "      <th>6</th>\n",
       "      <td>109</td>\n",
       "      <td>390</td>\n",
       "      <td>116</td>\n",
       "    </tr>\n",
       "    <tr>\n",
       "      <th>7</th>\n",
       "      <td>113</td>\n",
       "      <td>400</td>\n",
       "      <td>117</td>\n",
       "    </tr>\n",
       "    <tr>\n",
       "      <th>8</th>\n",
       "      <td>112</td>\n",
       "      <td>401</td>\n",
       "      <td>114</td>\n",
       "    </tr>\n",
       "    <tr>\n",
       "      <th>9</th>\n",
       "      <td>110</td>\n",
       "      <td>391</td>\n",
       "      <td>115</td>\n",
       "    </tr>\n",
       "  </tbody>\n",
       "</table>\n",
       "</div>"
      ],
      "text/plain": [
       "   GER  SER 1  SER 2\n",
       "0  110    388    114\n",
       "1  111    384    116\n",
       "2  112    392    116\n",
       "3  112    403    115\n",
       "4  109    384    118\n",
       "5  111    393    117\n",
       "6  109    390    116\n",
       "7  113    400    117\n",
       "8  112    401    114\n",
       "9  110    391    115"
      ]
     },
     "execution_count": 36,
     "metadata": {},
     "output_type": "execute_result"
    }
   ],
   "source": [
    "pddf_decomposition_lengths_of_algos"
   ]
  },
  {
   "cell_type": "markdown",
   "id": "1b4bc36a-6311-4965-847a-2ff7704e7742",
   "metadata": {},
   "source": [
    "Save the dataframe of the lengths of decompositions."
   ]
  },
  {
   "cell_type": "code",
   "execution_count": 37,
   "id": "15191789-4a79-4912-b47f-cac73ecccc70",
   "metadata": {},
   "outputs": [],
   "source": [
    "all_algos_filepath = './processed data (trunc expt)/dim32_pddf_lengths_of_algos.pkl'\n",
    "pddf_decomposition_lengths_of_algos.to_pickle(all_algos_filepath)"
   ]
  },
  {
   "cell_type": "markdown",
   "id": "8bfa28d9-4ffa-40d3-be08-b09ff08980c6",
   "metadata": {},
   "source": [
    "Ranking of the performance of GER, SER 1, SER 2."
   ]
  },
  {
   "cell_type": "code",
   "execution_count": 38,
   "id": "6ee052d0-31ce-4543-976e-73dbd8d748af",
   "metadata": {},
   "outputs": [],
   "source": [
    "pddf_algos_lengths_ranking = pddf_decomposition_lengths_of_algos.rank(axis='columns', \n",
    "                                                                      method='dense')"
   ]
  },
  {
   "cell_type": "code",
   "execution_count": 39,
   "id": "56a6b7aa-706a-4d49-af69-3bec2943bacd",
   "metadata": {},
   "outputs": [
    {
     "data": {
      "text/html": [
       "<div>\n",
       "<style scoped>\n",
       "    .dataframe tbody tr th:only-of-type {\n",
       "        vertical-align: middle;\n",
       "    }\n",
       "\n",
       "    .dataframe tbody tr th {\n",
       "        vertical-align: top;\n",
       "    }\n",
       "\n",
       "    .dataframe thead th {\n",
       "        text-align: right;\n",
       "    }\n",
       "</style>\n",
       "<table border=\"1\" class=\"dataframe\">\n",
       "  <thead>\n",
       "    <tr style=\"text-align: right;\">\n",
       "      <th></th>\n",
       "      <th>GER</th>\n",
       "      <th>SER 1</th>\n",
       "      <th>SER 2</th>\n",
       "    </tr>\n",
       "  </thead>\n",
       "  <tbody>\n",
       "    <tr>\n",
       "      <th>0</th>\n",
       "      <td>1.0</td>\n",
       "      <td>3.0</td>\n",
       "      <td>2.0</td>\n",
       "    </tr>\n",
       "    <tr>\n",
       "      <th>1</th>\n",
       "      <td>1.0</td>\n",
       "      <td>3.0</td>\n",
       "      <td>2.0</td>\n",
       "    </tr>\n",
       "    <tr>\n",
       "      <th>2</th>\n",
       "      <td>1.0</td>\n",
       "      <td>3.0</td>\n",
       "      <td>2.0</td>\n",
       "    </tr>\n",
       "    <tr>\n",
       "      <th>3</th>\n",
       "      <td>1.0</td>\n",
       "      <td>3.0</td>\n",
       "      <td>2.0</td>\n",
       "    </tr>\n",
       "    <tr>\n",
       "      <th>4</th>\n",
       "      <td>1.0</td>\n",
       "      <td>3.0</td>\n",
       "      <td>2.0</td>\n",
       "    </tr>\n",
       "    <tr>\n",
       "      <th>5</th>\n",
       "      <td>1.0</td>\n",
       "      <td>3.0</td>\n",
       "      <td>2.0</td>\n",
       "    </tr>\n",
       "    <tr>\n",
       "      <th>6</th>\n",
       "      <td>1.0</td>\n",
       "      <td>3.0</td>\n",
       "      <td>2.0</td>\n",
       "    </tr>\n",
       "    <tr>\n",
       "      <th>7</th>\n",
       "      <td>1.0</td>\n",
       "      <td>3.0</td>\n",
       "      <td>2.0</td>\n",
       "    </tr>\n",
       "    <tr>\n",
       "      <th>8</th>\n",
       "      <td>1.0</td>\n",
       "      <td>3.0</td>\n",
       "      <td>2.0</td>\n",
       "    </tr>\n",
       "    <tr>\n",
       "      <th>9</th>\n",
       "      <td>1.0</td>\n",
       "      <td>3.0</td>\n",
       "      <td>2.0</td>\n",
       "    </tr>\n",
       "  </tbody>\n",
       "</table>\n",
       "</div>"
      ],
      "text/plain": [
       "   GER  SER 1  SER 2\n",
       "0  1.0    3.0    2.0\n",
       "1  1.0    3.0    2.0\n",
       "2  1.0    3.0    2.0\n",
       "3  1.0    3.0    2.0\n",
       "4  1.0    3.0    2.0\n",
       "5  1.0    3.0    2.0\n",
       "6  1.0    3.0    2.0\n",
       "7  1.0    3.0    2.0\n",
       "8  1.0    3.0    2.0\n",
       "9  1.0    3.0    2.0"
      ]
     },
     "execution_count": 39,
     "metadata": {},
     "output_type": "execute_result"
    }
   ],
   "source": [
    "pddf_algos_lengths_ranking"
   ]
  },
  {
   "cell_type": "markdown",
   "id": "56923bd0-3831-4ca0-ab3e-e3ec7996120c",
   "metadata": {},
   "source": [
    "Save the ranking of the performance of GER, SER 1, SER 2."
   ]
  },
  {
   "cell_type": "code",
   "execution_count": 40,
   "id": "22070e57-f81f-4df0-b7ee-ad0e4305942f",
   "metadata": {},
   "outputs": [],
   "source": [
    "ranking_filepath = './processed data (trunc expt)/dim32_pddf_algos_ranking.pkl'\n",
    "pddf_algos_lengths_ranking.to_pickle(ranking_filepath)"
   ]
  },
  {
   "cell_type": "markdown",
   "id": "a8df1fe5-652d-4870-a59d-f63670c48f97",
   "metadata": {},
   "source": [
    "## Create Line Plot"
   ]
  },
  {
   "cell_type": "code",
   "execution_count": 41,
   "id": "adae3809-8973-4f62-9aed-1fbad71fd721",
   "metadata": {},
   "outputs": [],
   "source": [
    "dim32_TPMs_labels = list(range(1, 11))"
   ]
  },
  {
   "cell_type": "code",
   "execution_count": 42,
   "id": "6b64864d-b329-4050-bb21-f1dbff14ccfe",
   "metadata": {},
   "outputs": [
    {
     "data": {
      "image/png": "[encoded data removed]",
      "text/plain": [
       "<Figure size 320x480 with 1 Axes>"
      ]
     },
     "metadata": {},
     "output_type": "display_data"
    }
   ],
   "source": [
    "plt.figure(figsize=(3.2, 4.8))\n",
    "\n",
    "plt.plot(dim32_TPMs_labels, lengths_list_SER_2, 'b', label='SER 2', linewidth='1.0')\n",
    "plt.plot(dim32_TPMs_labels, lengths_list_GER, 'r', label='GER', linewidth='1.0')\n",
    "plt.plot(dim32_TPMs_labels, lengths_list_SER_1, 'g', label='SER 1', linewidth='1.0')\n",
    "\n",
    "leg = plt.legend()\n",
    "plt.xlabel('subscripts of TPMs (1 to 10)')\n",
    "plt.ylabel('lengths of decompositions')\n",
    "\n",
    "for legobj in leg.legend_handles:\n",
    "    legobj.set_linewidth(2.0)\n",
    "\n",
    "fig_filepath = './processed data (trunc expt)/trunc_dim32.jpg'\n",
    "plt.savefig(fig_filepath, bbox_inches='tight')"
   ]
  },
  {
   "cell_type": "markdown",
   "id": "5951f4a8-2e37-4444-9b8a-9110e6c23c29",
   "metadata": {},
   "source": [
    "# $64 \\times 64$ matrices"
   ]
  },
  {
   "cell_type": "markdown",
   "id": "953c45ab-b16d-4cfc-926d-5986672ac6cf",
   "metadata": {},
   "source": [
    "## Create DataFrames"
   ]
  },
  {
   "cell_type": "markdown",
   "id": "9be78154-a9d9-4320-84cf-0f2f537cd527",
   "metadata": {},
   "source": [
    "Load the data for the lengths of decompositions output by GER, SER 1, SER 2."
   ]
  },
  {
   "cell_type": "code",
   "execution_count": 43,
   "id": "eb31d34a-9518-476d-9ba3-d4b85cdfe1b2",
   "metadata": {},
   "outputs": [],
   "source": [
    "GER_filepath = './processed data (trunc expt)/GER_dim64_lengths.json'\n",
    "SER_1_filepath = './processed data (trunc expt)/SER_1_dim64_lengths.json'\n",
    "SER_2_filepath = './processed data (trunc expt)/SER_2_dim64_lengths.json'\n",
    "\n",
    "with open(GER_filepath) as out1:\n",
    "    lengths_list_GER = json.load(out1)\n",
    "    \n",
    "with open(SER_1_filepath) as out2:\n",
    "    lengths_list_SER_1 = json.load(out2)\n",
    "    \n",
    "with open(SER_2_filepath) as out3:\n",
    "    lengths_list_SER_2 = json.load(out3)"
   ]
  },
  {
   "cell_type": "markdown",
   "id": "86e560ab-0cfa-4ac9-b6e6-9bfcc3b67071",
   "metadata": {},
   "source": [
    "Create the dataframe of the lengths of decompositions."
   ]
  },
  {
   "cell_type": "code",
   "execution_count": 44,
   "id": "8f2eea30-ca04-439f-b446-bcb59909bb3b",
   "metadata": {},
   "outputs": [],
   "source": [
    "lengths_pdSeries_GER = pd.Series(lengths_list_GER)\n",
    "lengths_pdSeries_SER_1 = pd.Series(lengths_list_SER_1)\n",
    "lengths_pdSeries_SER_2 = pd.Series(lengths_list_SER_2)"
   ]
  },
  {
   "cell_type": "code",
   "execution_count": 45,
   "id": "d708dae6-db0f-465d-bf8b-5070ff4bde73",
   "metadata": {},
   "outputs": [],
   "source": [
    "algos_lengths_pdSeries = [lengths_pdSeries_GER, lengths_pdSeries_SER_1,\n",
    "                          lengths_pdSeries_SER_2]\n",
    "df_keys = ['GER', 'SER 1', 'SER 2']\n",
    "\n",
    "pddf_decomposition_lengths_of_algos = pd.concat(algos_lengths_pdSeries, \n",
    "                                                axis='columns', keys=df_keys)"
   ]
  },
  {
   "cell_type": "code",
   "execution_count": 46,
   "id": "050656d7-8188-439e-8478-dc02c3bd7bb9",
   "metadata": {},
   "outputs": [
    {
     "data": {
      "text/html": [
       "<div>\n",
       "<style scoped>\n",
       "    .dataframe tbody tr th:only-of-type {\n",
       "        vertical-align: middle;\n",
       "    }\n",
       "\n",
       "    .dataframe tbody tr th {\n",
       "        vertical-align: top;\n",
       "    }\n",
       "\n",
       "    .dataframe thead th {\n",
       "        text-align: right;\n",
       "    }\n",
       "</style>\n",
       "<table border=\"1\" class=\"dataframe\">\n",
       "  <thead>\n",
       "    <tr style=\"text-align: right;\">\n",
       "      <th></th>\n",
       "      <th>GER</th>\n",
       "      <th>SER 1</th>\n",
       "      <th>SER 2</th>\n",
       "    </tr>\n",
       "  </thead>\n",
       "  <tbody>\n",
       "    <tr>\n",
       "      <th>0</th>\n",
       "      <td>163</td>\n",
       "      <td>930</td>\n",
       "      <td>206</td>\n",
       "    </tr>\n",
       "    <tr>\n",
       "      <th>1</th>\n",
       "      <td>167</td>\n",
       "      <td>911</td>\n",
       "      <td>211</td>\n",
       "    </tr>\n",
       "    <tr>\n",
       "      <th>2</th>\n",
       "      <td>163</td>\n",
       "      <td>957</td>\n",
       "      <td>205</td>\n",
       "    </tr>\n",
       "    <tr>\n",
       "      <th>3</th>\n",
       "      <td>161</td>\n",
       "      <td>928</td>\n",
       "      <td>212</td>\n",
       "    </tr>\n",
       "    <tr>\n",
       "      <th>4</th>\n",
       "      <td>162</td>\n",
       "      <td>935</td>\n",
       "      <td>208</td>\n",
       "    </tr>\n",
       "    <tr>\n",
       "      <th>5</th>\n",
       "      <td>159</td>\n",
       "      <td>900</td>\n",
       "      <td>208</td>\n",
       "    </tr>\n",
       "    <tr>\n",
       "      <th>6</th>\n",
       "      <td>165</td>\n",
       "      <td>943</td>\n",
       "      <td>207</td>\n",
       "    </tr>\n",
       "    <tr>\n",
       "      <th>7</th>\n",
       "      <td>165</td>\n",
       "      <td>921</td>\n",
       "      <td>216</td>\n",
       "    </tr>\n",
       "    <tr>\n",
       "      <th>8</th>\n",
       "      <td>165</td>\n",
       "      <td>934</td>\n",
       "      <td>207</td>\n",
       "    </tr>\n",
       "    <tr>\n",
       "      <th>9</th>\n",
       "      <td>164</td>\n",
       "      <td>927</td>\n",
       "      <td>207</td>\n",
       "    </tr>\n",
       "  </tbody>\n",
       "</table>\n",
       "</div>"
      ],
      "text/plain": [
       "   GER  SER 1  SER 2\n",
       "0  163    930    206\n",
       "1  167    911    211\n",
       "2  163    957    205\n",
       "3  161    928    212\n",
       "4  162    935    208\n",
       "5  159    900    208\n",
       "6  165    943    207\n",
       "7  165    921    216\n",
       "8  165    934    207\n",
       "9  164    927    207"
      ]
     },
     "execution_count": 46,
     "metadata": {},
     "output_type": "execute_result"
    }
   ],
   "source": [
    "pddf_decomposition_lengths_of_algos"
   ]
  },
  {
   "cell_type": "markdown",
   "id": "16e803f3-3426-43cd-850b-950dce0c77ee",
   "metadata": {},
   "source": [
    "Save the dataframe of the lengths of decompositions."
   ]
  },
  {
   "cell_type": "code",
   "execution_count": 47,
   "id": "756fca2f-33d1-4423-aeb3-753b4447d347",
   "metadata": {},
   "outputs": [],
   "source": [
    "all_algos_filepath = './processed data (trunc expt)/dim64_pddf_lengths_of_algos.pkl'\n",
    "pddf_decomposition_lengths_of_algos.to_pickle(all_algos_filepath)"
   ]
  },
  {
   "cell_type": "markdown",
   "id": "77fc1af2-35c8-4b43-933c-7293dd28dc38",
   "metadata": {},
   "source": [
    "Ranking of the performance of GER, SER 1, SER 2."
   ]
  },
  {
   "cell_type": "code",
   "execution_count": 48,
   "id": "880702ee-1ff1-49db-8ae3-1ed85a4df93f",
   "metadata": {},
   "outputs": [],
   "source": [
    "pddf_algos_lengths_ranking = pddf_decomposition_lengths_of_algos.rank(axis='columns', \n",
    "                                                                      method='dense')"
   ]
  },
  {
   "cell_type": "code",
   "execution_count": 49,
   "id": "bf7c240b-7940-46de-b2b4-7fffe49517cb",
   "metadata": {},
   "outputs": [
    {
     "data": {
      "text/html": [
       "<div>\n",
       "<style scoped>\n",
       "    .dataframe tbody tr th:only-of-type {\n",
       "        vertical-align: middle;\n",
       "    }\n",
       "\n",
       "    .dataframe tbody tr th {\n",
       "        vertical-align: top;\n",
       "    }\n",
       "\n",
       "    .dataframe thead th {\n",
       "        text-align: right;\n",
       "    }\n",
       "</style>\n",
       "<table border=\"1\" class=\"dataframe\">\n",
       "  <thead>\n",
       "    <tr style=\"text-align: right;\">\n",
       "      <th></th>\n",
       "      <th>GER</th>\n",
       "      <th>SER 1</th>\n",
       "      <th>SER 2</th>\n",
       "    </tr>\n",
       "  </thead>\n",
       "  <tbody>\n",
       "    <tr>\n",
       "      <th>0</th>\n",
       "      <td>1.0</td>\n",
       "      <td>3.0</td>\n",
       "      <td>2.0</td>\n",
       "    </tr>\n",
       "    <tr>\n",
       "      <th>1</th>\n",
       "      <td>1.0</td>\n",
       "      <td>3.0</td>\n",
       "      <td>2.0</td>\n",
       "    </tr>\n",
       "    <tr>\n",
       "      <th>2</th>\n",
       "      <td>1.0</td>\n",
       "      <td>3.0</td>\n",
       "      <td>2.0</td>\n",
       "    </tr>\n",
       "    <tr>\n",
       "      <th>3</th>\n",
       "      <td>1.0</td>\n",
       "      <td>3.0</td>\n",
       "      <td>2.0</td>\n",
       "    </tr>\n",
       "    <tr>\n",
       "      <th>4</th>\n",
       "      <td>1.0</td>\n",
       "      <td>3.0</td>\n",
       "      <td>2.0</td>\n",
       "    </tr>\n",
       "    <tr>\n",
       "      <th>5</th>\n",
       "      <td>1.0</td>\n",
       "      <td>3.0</td>\n",
       "      <td>2.0</td>\n",
       "    </tr>\n",
       "    <tr>\n",
       "      <th>6</th>\n",
       "      <td>1.0</td>\n",
       "      <td>3.0</td>\n",
       "      <td>2.0</td>\n",
       "    </tr>\n",
       "    <tr>\n",
       "      <th>7</th>\n",
       "      <td>1.0</td>\n",
       "      <td>3.0</td>\n",
       "      <td>2.0</td>\n",
       "    </tr>\n",
       "    <tr>\n",
       "      <th>8</th>\n",
       "      <td>1.0</td>\n",
       "      <td>3.0</td>\n",
       "      <td>2.0</td>\n",
       "    </tr>\n",
       "    <tr>\n",
       "      <th>9</th>\n",
       "      <td>1.0</td>\n",
       "      <td>3.0</td>\n",
       "      <td>2.0</td>\n",
       "    </tr>\n",
       "  </tbody>\n",
       "</table>\n",
       "</div>"
      ],
      "text/plain": [
       "   GER  SER 1  SER 2\n",
       "0  1.0    3.0    2.0\n",
       "1  1.0    3.0    2.0\n",
       "2  1.0    3.0    2.0\n",
       "3  1.0    3.0    2.0\n",
       "4  1.0    3.0    2.0\n",
       "5  1.0    3.0    2.0\n",
       "6  1.0    3.0    2.0\n",
       "7  1.0    3.0    2.0\n",
       "8  1.0    3.0    2.0\n",
       "9  1.0    3.0    2.0"
      ]
     },
     "execution_count": 49,
     "metadata": {},
     "output_type": "execute_result"
    }
   ],
   "source": [
    "pddf_algos_lengths_ranking"
   ]
  },
  {
   "cell_type": "markdown",
   "id": "cf2c9cfe-0e6b-4aab-96c7-d7665ef6b1b8",
   "metadata": {},
   "source": [
    "Save the ranking of the performance of GER, SER 1, SER 2."
   ]
  },
  {
   "cell_type": "code",
   "execution_count": 50,
   "id": "8e0fccda-5e28-4214-bcf7-c24d80eb3a37",
   "metadata": {},
   "outputs": [],
   "source": [
    "ranking_filepath = './processed data (trunc expt)/dim64_pddf_algos_ranking.pkl'\n",
    "pddf_algos_lengths_ranking.to_pickle(ranking_filepath)"
   ]
  },
  {
   "cell_type": "markdown",
   "id": "d05b3ff6-44c5-4480-a177-cd4fde9b811e",
   "metadata": {},
   "source": [
    "## Create Line Plot"
   ]
  },
  {
   "cell_type": "code",
   "execution_count": 51,
   "id": "2b2d2118-91ca-47b1-94ac-8fbf7944b0f7",
   "metadata": {},
   "outputs": [],
   "source": [
    "dim64_TPMs_labels = list(range(1, 11))"
   ]
  },
  {
   "cell_type": "code",
   "execution_count": 52,
   "id": "9a96e4bc-ce21-40d9-9e37-988b236aeb5b",
   "metadata": {},
   "outputs": [
    {
     "data": {
      "image/png": "[encoded data removed]",
      "text/plain": [
       "<Figure size 320x480 with 1 Axes>"
      ]
     },
     "metadata": {},
     "output_type": "display_data"
    }
   ],
   "source": [
    "plt.figure(figsize=(3.2, 4.8))\n",
    "\n",
    "plt.plot(dim64_TPMs_labels, lengths_list_SER_2, 'b', label='SER 2', linewidth='1.0')\n",
    "plt.plot(dim64_TPMs_labels, lengths_list_GER, 'r', label='GER', linewidth='1.0')\n",
    "plt.plot(dim64_TPMs_labels, lengths_list_SER_1, 'g', label='SER 1', linewidth='1.0')\n",
    "\n",
    "leg = plt.legend()\n",
    "plt.xlabel('subscripts of TPMs (1 to 10)')\n",
    "plt.ylabel('lengths of decompositions')\n",
    "\n",
    "for legobj in leg.legend_handles:\n",
    "    legobj.set_linewidth(2.0)\n",
    "\n",
    "fig_filepath = './processed data (trunc expt)/trunc_dim64.jpg'\n",
    "plt.savefig(fig_filepath, bbox_inches='tight')"
   ]
  }
 ],
 "metadata": {
  "kernelspec": {
   "display_name": "Python 3 (ipykernel)",
   "language": "python",
   "name": "python3"
  },
  "language_info": {
   "codemirror_mode": {
    "name": "ipython",
    "version": 3
   },
   "file_extension": ".py",
   "mimetype": "text/x-python",
   "name": "python",
   "nbconvert_exporter": "python",
   "pygments_lexer": "ipython3",
   "version": "3.9.19"
  }
 },
 "nbformat": 4,
 "nbformat_minor": 5
}
