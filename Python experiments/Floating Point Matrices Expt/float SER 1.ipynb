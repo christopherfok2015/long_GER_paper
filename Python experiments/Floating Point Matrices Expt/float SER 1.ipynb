{
 "cells": [
  {
   "cell_type": "markdown",
   "id": "4769f089-085e-49ec-ab9c-4f2d6306a2e7",
   "metadata": {},
   "source": [
    "# Simple Entry Removal Algorithm 1 (SER 1)"
   ]
  },
  {
   "cell_type": "code",
   "execution_count": 1,
   "id": "9a38818b-da7c-4f4f-a2a7-c8c40d96669d",
   "metadata": {},
   "outputs": [],
   "source": [
    "import numpy as np\n",
    "import datetime\n",
    "import pandas as pd\n",
    "import json"
   ]
  },
  {
   "cell_type": "markdown",
   "id": "e72693f9-a448-4a63-a5de-db968a3a7ad4",
   "metadata": {},
   "source": [
    "### Description of add_up_a_decomposition\n",
    "The function takes as inputs:\n",
    "1. a decomposition (x_list, BN_matrices_array) output by SER 1, SER 2, GER (x_list is a list, whereas BN_matrices_array is a 2D np array).\n",
    "2. The dimension of the output TPM row_dim, col_dim\n",
    "\n",
    "The function then sums up (x_list, BN_matrices_array) and outputs the resulting TPM (row_dim-by-col_dim)."
   ]
  },
  {
   "cell_type": "code",
   "execution_count": 2,
   "id": "93a6cbd2-8879-46f0-a93b-b5006eab6e87",
   "metadata": {},
   "outputs": [],
   "source": [
    "def add_up_a_decomposition_float(x_list, BN_matrices_array, row_dim, col_dim):\n",
    "    output_TPM = np.zeros((row_dim, col_dim), dtype=float)\n",
    "    num_BN_matrices = len(x_list)\n",
    "    \n",
    "    for k in range(num_BN_matrices):\n",
    "        for col in range(col_dim):\n",
    "            output_TPM[BN_matrices_array[k, col], col] += x_list[k]\n",
    "    \n",
    "    return output_TPM"
   ]
  },
  {
   "cell_type": "markdown",
   "id": "0f829162-00f3-48a3-b1b3-3f8b58f1b8bc",
   "metadata": {},
   "source": [
    "# The SER 1 algorithm"
   ]
  },
  {
   "cell_type": "code",
   "execution_count": 3,
   "id": "2fd61a4c-01fb-487b-9506-44c8976a5298",
   "metadata": {},
   "outputs": [],
   "source": [
    "# This function is used in the SER 1 function.\n",
    "# residue_matrix_R is a np.ndarray.\n",
    "# PBN_row_num is the number of rows present in residue_matrix_R.\n",
    "# PBN_col_num is the number of columns present in residue_matrix_R.\n",
    "def find_smallest_nonzero_entry(residue_matrix_R, PBN_row_num, PBN_col_num):\n",
    "    row_counter = 0\n",
    "    col_counter = 0\n",
    "    while residue_matrix_R[row_counter, col_counter] == 0:\n",
    "        row_counter += 1\n",
    "    smallest_entry = residue_matrix_R[row_counter, col_counter]\n",
    "    smallest_entry_row_pos = row_counter\n",
    "    smallest_entry_col_pos = col_counter\n",
    "\n",
    "    del row_counter\n",
    "    del col_counter\n",
    "    for col_counter in range(PBN_col_num):\n",
    "        for row_counter in range(PBN_row_num):\n",
    "            current_entry = residue_matrix_R[row_counter, col_counter]\n",
    "            if (current_entry > 0) and (current_entry < smallest_entry):\n",
    "                smallest_entry = current_entry\n",
    "                smallest_entry_row_pos = row_counter\n",
    "                smallest_entry_col_pos = col_counter\n",
    "\n",
    "    return smallest_entry, smallest_entry_row_pos, smallest_entry_col_pos"
   ]
  },
  {
   "cell_type": "code",
   "execution_count": 6,
   "id": "2e79c6c1-2483-4b09-9c49-201e697c1c2f",
   "metadata": {},
   "outputs": [],
   "source": [
    "def float_SER_1(PBN_matrix_P, stopping_error):  # input: 2^n-by-2^n ndarray consisting of integers.\n",
    "    PBN_row_num = PBN_matrix_P.shape[0]\n",
    "    PBN_col_num = PBN_matrix_P.shape[1]\n",
    "    coefficient_list_xi = []  # the coefficients of BN matrices to be output\n",
    "    # the BN matrices to be output\n",
    "    BN_matrices_list_Ai = np.array([[-1] * PBN_col_num])  # the first row of BN_matrices_list_Ai will be\n",
    "                                                          # replaced in the first iteration of pseudocode\n",
    "                                                          # steps 1 to 4.\n",
    "                                                          \n",
    "    residue_matrix_R = PBN_matrix_P.copy()\n",
    "    k = 1  # counts the number of iterations of pseudocode Steps 1 to 4\n",
    "    chosen_entry_xi, xi_row_pos, xi_col_pos = find_smallest_nonzero_entry(residue_matrix_R, \n",
    "                                                                          PBN_row_num, PBN_col_num)\n",
    "    chosen_entry_pos_each_col = np.argmax(residue_matrix_R, axis=0, keepdims=True)\n",
    "    chosen_entry_pos_each_col[0, xi_col_pos] = xi_row_pos\n",
    "    \n",
    "    coefficient_list_xi.append(chosen_entry_xi)\n",
    "    BN_matrices_list_Ai = chosen_entry_pos_each_col\n",
    "    \n",
    "    for col_counter in range(PBN_col_num):\n",
    "        row_to_deduct = chosen_entry_pos_each_col[0, col_counter]\n",
    "        residue_matrix_R[row_to_deduct, col_counter] -= chosen_entry_xi\n",
    "    \n",
    "#    zero_PBN_matrix = np.zeros((PBN_row_num, PBN_col_num), dtype=int)\n",
    "    \n",
    "    while (np.linalg.norm(residue_matrix_R, ord='fro') >= stopping_error):\n",
    "        k += 1\n",
    "        chosen_entry_xi, xi_row_pos, xi_col_pos = find_smallest_nonzero_entry(residue_matrix_R, \n",
    "                                                                              PBN_row_num, PBN_col_num)\n",
    "        chosen_entry_pos_each_col = np.argmax(residue_matrix_R, axis=0, keepdims=True)\n",
    "        chosen_entry_pos_each_col[0, xi_col_pos] = xi_row_pos\n",
    "    \n",
    "        coefficient_list_xi.append(chosen_entry_xi)\n",
    "        BN_matrices_list_Ai = np.append(BN_matrices_list_Ai, chosen_entry_pos_each_col, axis=0)\n",
    "        \n",
    "        for col_counter in range(PBN_col_num):\n",
    "            row_to_deduct = chosen_entry_pos_each_col[0, col_counter]\n",
    "            residue_matrix_R[row_to_deduct, col_counter] -= chosen_entry_xi\n",
    "    \n",
    "    return k, coefficient_list_xi, BN_matrices_list_Ai, np.linalg.norm(residue_matrix_R, ord='fro')"
   ]
  },
  {
   "cell_type": "markdown",
   "id": "28a6b67f-fd9c-4255-9613-065253f984f0",
   "metadata": {},
   "source": [
    "# Floating-Point Matrix Experiment"
   ]
  },
  {
   "cell_type": "code",
   "execution_count": 5,
   "id": "cbe41019-7c9c-49fc-9aec-5e1bb80041d5",
   "metadata": {},
   "outputs": [],
   "source": [
    "# Custom JSON encoder that handles NumPy types (created by GPT-o3 on poe.com)\n",
    "class NumpyEncoder(json.JSONEncoder):\n",
    "    def default(self, obj):\n",
    "        if isinstance(obj, (np.integer,)):\n",
    "            return int(obj)\n",
    "        elif isinstance(obj, (np.floating,)):\n",
    "            return float(obj)\n",
    "        elif isinstance(obj, (np.ndarray,)):\n",
    "            return obj.tolist()\n",
    "        return super(NumpyEncoder, self).default(obj)"
   ]
  },
  {
   "cell_type": "markdown",
   "id": "d4de6a41-7cc3-416b-a40e-6b18f9e3da5f",
   "metadata": {},
   "source": [
    "## $8 \\times 8$ TPMs"
   ]
  },
  {
   "cell_type": "code",
   "execution_count": 26,
   "id": "8ae6fa6e-1e5c-4f8b-be8b-46c6afe6a810",
   "metadata": {},
   "outputs": [
    {
     "name": "stdout",
     "output_type": "stream",
     "text": [
      "iteration 0\n",
      "Time now is: 2025-04-12 00:31:53.878882\n",
      "\n",
      "iteration 1\n",
      "Time now is: 2025-04-12 00:31:53.935136\n",
      "\n",
      "iteration 2\n",
      "Time now is: 2025-04-12 00:31:53.951515\n",
      "\n",
      "iteration 3\n",
      "Time now is: 2025-04-12 00:31:53.970543\n",
      "\n",
      "iteration 4\n",
      "Time now is: 2025-04-12 00:31:53.986693\n",
      "\n",
      "iteration 5\n",
      "Time now is: 2025-04-12 00:31:54.003432\n",
      "\n",
      "iteration 6\n",
      "Time now is: 2025-04-12 00:31:54.067093\n",
      "\n",
      "iteration 7\n",
      "Time now is: 2025-04-12 00:31:54.096987\n",
      "\n",
      "iteration 8\n",
      "Time now is: 2025-04-12 00:31:54.120564\n",
      "\n",
      "iteration 9\n",
      "Time now is: 2025-04-12 00:31:54.138903\n",
      "\n"
     ]
    }
   ],
   "source": [
    "stopping_error = 0.01\n",
    "\n",
    "for k in range(10):\n",
    "    print('iteration', k)\n",
    "    print('Time now is:', datetime.datetime.now())\n",
    "    fTPM_filepath = './8-by-8/dim8_fTPM_' + str(k) + '.npy'\n",
    "    fTPM = np.load(fTPM_filepath)\n",
    "    \n",
    "    start_time = datetime.datetime.now()\n",
    "    decom_and_error = float_SER_1(fTPM, stopping_error)\n",
    "    end_time = datetime.datetime.now()\n",
    "    execution_duration = end_time - start_time\n",
    "    \n",
    "    exe_dur_seconds = execution_duration.total_seconds()\n",
    "    exe_dur_dict = {\"execution time\": exe_dur_seconds}\n",
    "    \n",
    "    # save the data\n",
    "    decom_filepath = \"./raw data (float_SER_1)/dim8_decom_err_\" + str(k) + \".json\"\n",
    "    time_filepath = \"./raw data (float_SER_1)/dim8_time_\" + str(k) + \".json\"\n",
    "    \n",
    "    with open(decom_filepath, 'w') as out1:\n",
    "        json.dump(decom_and_error, out1, cls=NumpyEncoder)\n",
    "        \n",
    "    with open(time_filepath, 'w') as out2:\n",
    "        json.dump(exe_dur_dict, out2)\n",
    "    \n",
    "    print()"
   ]
  },
  {
   "cell_type": "markdown",
   "id": "d640acda-160f-4fbf-a040-5f3badaadf47",
   "metadata": {},
   "source": [
    "## $16 \\times 16$ TPMs"
   ]
  },
  {
   "cell_type": "code",
   "execution_count": 40,
   "id": "4629545a-acad-43d6-9975-adc15c907cf9",
   "metadata": {},
   "outputs": [
    {
     "name": "stdout",
     "output_type": "stream",
     "text": [
      "iteration 0\n",
      "Time now is: 2025-04-12 02:00:59.802170\n",
      "\n",
      "iteration 1\n",
      "Time now is: 2025-04-12 02:00:59.816574\n",
      "\n",
      "iteration 2\n",
      "Time now is: 2025-04-12 02:00:59.829814\n",
      "\n",
      "iteration 3\n",
      "Time now is: 2025-04-12 02:00:59.841052\n",
      "\n",
      "iteration 4\n",
      "Time now is: 2025-04-12 02:00:59.854138\n",
      "\n",
      "iteration 5\n",
      "Time now is: 2025-04-12 02:00:59.866700\n",
      "\n",
      "iteration 6\n",
      "Time now is: 2025-04-12 02:00:59.879360\n",
      "\n",
      "iteration 7\n",
      "Time now is: 2025-04-12 02:00:59.892911\n",
      "\n",
      "iteration 8\n",
      "Time now is: 2025-04-12 02:00:59.904808\n",
      "\n",
      "iteration 9\n",
      "Time now is: 2025-04-12 02:00:59.918144\n",
      "\n"
     ]
    }
   ],
   "source": [
    "stopping_error = 0.01\n",
    "\n",
    "for k in range(10):\n",
    "    print('iteration', k)\n",
    "    print('Time now is:', datetime.datetime.now())\n",
    "    fTPM_filepath = './16-by-16/dim16_fTPM_' + str(k) + '.npy'\n",
    "    fTPM = np.load(fTPM_filepath)\n",
    "    \n",
    "    start_time = datetime.datetime.now()\n",
    "    decom_and_error = float_SER_1(fTPM, stopping_error)\n",
    "    end_time = datetime.datetime.now()\n",
    "    execution_duration = end_time - start_time\n",
    "    \n",
    "    exe_dur_seconds = execution_duration.total_seconds()\n",
    "    exe_dur_dict = {\"execution time\": exe_dur_seconds}\n",
    "    \n",
    "    # save the data\n",
    "    decom_filepath = \"./raw data (float_SER_1)/dim16_decom_err_\" + str(k) + \".json\"\n",
    "    time_filepath = \"./raw data (float_SER_1)/dim16_time_\" + str(k) + \".json\"\n",
    "    \n",
    "    with open(decom_filepath, 'w') as out1:\n",
    "        json.dump(decom_and_error, out1, cls=NumpyEncoder)\n",
    "        \n",
    "    with open(time_filepath, 'w') as out2:\n",
    "        json.dump(exe_dur_dict, out2)\n",
    "    \n",
    "    print()"
   ]
  },
  {
   "cell_type": "markdown",
   "id": "6381f665-f567-460f-8c68-2f745204b200",
   "metadata": {},
   "source": [
    "## $32 \\times 32$ TPMs"
   ]
  },
  {
   "cell_type": "code",
   "execution_count": 39,
   "id": "27d1f8e3-a378-4c66-a938-9d71f4c7f6c9",
   "metadata": {},
   "outputs": [
    {
     "name": "stdout",
     "output_type": "stream",
     "text": [
      "iteration 0\n",
      "Time now is: 2025-04-12 02:00:41.618169\n",
      "\n",
      "iteration 1\n",
      "Time now is: 2025-04-12 02:00:41.727177\n",
      "\n",
      "iteration 2\n",
      "Time now is: 2025-04-12 02:00:41.804122\n",
      "\n",
      "iteration 3\n",
      "Time now is: 2025-04-12 02:00:41.886761\n",
      "\n",
      "iteration 4\n",
      "Time now is: 2025-04-12 02:00:41.973223\n",
      "\n",
      "iteration 5\n",
      "Time now is: 2025-04-12 02:00:42.051842\n",
      "\n",
      "iteration 6\n",
      "Time now is: 2025-04-12 02:00:42.149234\n",
      "\n",
      "iteration 7\n",
      "Time now is: 2025-04-12 02:00:42.251306\n",
      "\n",
      "iteration 8\n",
      "Time now is: 2025-04-12 02:00:42.373394\n",
      "\n",
      "iteration 9\n",
      "Time now is: 2025-04-12 02:00:42.473124\n",
      "\n"
     ]
    }
   ],
   "source": [
    "stopping_error = 0.01\n",
    "\n",
    "for k in range(10):\n",
    "    print('iteration', k)\n",
    "    print('Time now is:', datetime.datetime.now())\n",
    "    fTPM_filepath = './32-by-32/dim32_fTPM_' + str(k) + '.npy'\n",
    "    fTPM = np.load(fTPM_filepath)\n",
    "    \n",
    "    start_time = datetime.datetime.now()\n",
    "    decom_and_error = float_SER_1(fTPM, stopping_error)\n",
    "    end_time = datetime.datetime.now()\n",
    "    execution_duration = end_time - start_time\n",
    "    \n",
    "    exe_dur_seconds = execution_duration.total_seconds()\n",
    "    exe_dur_dict = {\"execution time\": exe_dur_seconds}\n",
    "    \n",
    "    # save the data\n",
    "    decom_filepath = \"./raw data (float_SER_1)/dim32_decom_err_\" + str(k) + \".json\"\n",
    "    time_filepath = \"./raw data (float_SER_1)/dim32_time_\" + str(k) + \".json\"\n",
    "    \n",
    "    with open(decom_filepath, 'w') as out1:\n",
    "        json.dump(decom_and_error, out1, cls=NumpyEncoder)\n",
    "        \n",
    "    with open(time_filepath, 'w') as out2:\n",
    "        json.dump(exe_dur_dict, out2)\n",
    "    \n",
    "    print()"
   ]
  },
  {
   "cell_type": "markdown",
   "id": "e279b11a-a741-4bdb-9aab-3d09a3b1fed2",
   "metadata": {},
   "source": [
    "## $64 \\times 64$ TPMs"
   ]
  },
  {
   "cell_type": "code",
   "execution_count": 37,
   "id": "4f637787-42b2-4101-9958-8bc6a354fa03",
   "metadata": {},
   "outputs": [
    {
     "name": "stdout",
     "output_type": "stream",
     "text": [
      "iteration 0\n",
      "Time now is: 2025-04-12 01:59:40.455165\n",
      "\n",
      "iteration 1\n",
      "Time now is: 2025-04-12 01:59:41.512614\n",
      "\n",
      "iteration 2\n",
      "Time now is: 2025-04-12 01:59:42.370963\n",
      "\n",
      "iteration 3\n",
      "Time now is: 2025-04-12 01:59:43.294679\n",
      "\n",
      "iteration 4\n",
      "Time now is: 2025-04-12 01:59:44.303849\n",
      "\n",
      "iteration 5\n",
      "Time now is: 2025-04-12 01:59:45.331243\n",
      "\n",
      "iteration 6\n",
      "Time now is: 2025-04-12 01:59:46.318268\n",
      "\n",
      "iteration 7\n",
      "Time now is: 2025-04-12 01:59:47.247721\n",
      "\n",
      "iteration 8\n",
      "Time now is: 2025-04-12 01:59:48.176914\n",
      "\n",
      "iteration 9\n",
      "Time now is: 2025-04-12 01:59:49.047225\n",
      "\n"
     ]
    }
   ],
   "source": [
    "stopping_error = 0.01\n",
    "\n",
    "for k in range(10):\n",
    "    print('iteration', k)\n",
    "    print('Time now is:', datetime.datetime.now())\n",
    "    fTPM_filepath = './64-by-64/dim64_fTPM_' + str(k) + '.npy'\n",
    "    fTPM = np.load(fTPM_filepath)\n",
    "    \n",
    "    start_time = datetime.datetime.now()\n",
    "    decom_and_error = float_SER_1(fTPM, stopping_error)\n",
    "    end_time = datetime.datetime.now()\n",
    "    execution_duration = end_time - start_time\n",
    "    \n",
    "    exe_dur_seconds = execution_duration.total_seconds()\n",
    "    exe_dur_dict = {\"execution time\": exe_dur_seconds}\n",
    "    \n",
    "    # save the data\n",
    "    decom_filepath = \"./raw data (float_SER_1)/dim64_decom_err_\" + str(k) + \".json\"\n",
    "    time_filepath = \"./raw data (float_SER_1)/dim64_time_\" + str(k) + \".json\"\n",
    "    \n",
    "    with open(decom_filepath, 'w') as out1:\n",
    "        json.dump(decom_and_error, out1, cls=NumpyEncoder)\n",
    "        \n",
    "    with open(time_filepath, 'w') as out2:\n",
    "        json.dump(exe_dur_dict, out2)\n",
    "    \n",
    "    print()"
   ]
  },
  {
   "cell_type": "markdown",
   "id": "20f70d02-5b16-4520-a156-c638215bbb7c",
   "metadata": {},
   "source": [
    "# Some random test code"
   ]
  },
  {
   "cell_type": "code",
   "execution_count": 18,
   "id": "291929a2-ccc4-4371-afdf-be0821ee1d3d",
   "metadata": {},
   "outputs": [],
   "source": [
    "test_matrix = np.random.exponential(size=(8, 8))\n",
    "\n",
    "for k in range(8):\n",
    "    test_matrix[:, k] = test_matrix[:, k] / np.sum(test_matrix[:, k])"
   ]
  },
  {
   "cell_type": "code",
   "execution_count": 19,
   "id": "d5842fb5-0223-482a-8778-d3fee7c85dc3",
   "metadata": {},
   "outputs": [
    {
     "data": {
      "text/plain": [
       "array([1., 1., 1., 1., 1., 1., 1., 1.])"
      ]
     },
     "execution_count": 19,
     "metadata": {},
     "output_type": "execute_result"
    }
   ],
   "source": [
    "np.sum(test_matrix, axis=0)"
   ]
  },
  {
   "cell_type": "code",
   "execution_count": 21,
   "id": "bb57ac0a-16b3-4935-aba0-ad2840225426",
   "metadata": {},
   "outputs": [],
   "source": [
    "K, x_list, BN_list, error = float_SER_1(test_matrix, 0.001)"
   ]
  },
  {
   "cell_type": "code",
   "execution_count": 25,
   "id": "62ad6a5c-2831-4f3e-bd21-9afec117a6a8",
   "metadata": {},
   "outputs": [
    {
     "data": {
      "text/plain": [
       "56"
      ]
     },
     "execution_count": 25,
     "metadata": {},
     "output_type": "execute_result"
    }
   ],
   "source": [
    "K"
   ]
  },
  {
   "cell_type": "code",
   "execution_count": 22,
   "id": "1cbb34db-1f05-4090-98b5-0f5ced0ef247",
   "metadata": {},
   "outputs": [
    {
     "data": {
      "text/plain": [
       "0.0008336525765043137"
      ]
     },
     "execution_count": 22,
     "metadata": {},
     "output_type": "execute_result"
    }
   ],
   "source": [
    "error"
   ]
  },
  {
   "cell_type": "code",
   "execution_count": 23,
   "id": "2ce3db94-8895-4989-8530-502b43cb00a5",
   "metadata": {},
   "outputs": [
    {
     "data": {
      "text/plain": [
       "array([[6.76279293e-02, 1.97599922e-01, 1.47272699e-01, 4.79495014e-02,\n",
       "        1.30179052e-01, 9.03982345e-03, 2.48942344e-03, 1.69069237e-01],\n",
       "       [7.63401109e-02, 3.28806017e-02, 1.69951894e-02, 5.58888553e-02,\n",
       "        4.69089837e-02, 3.01244879e-01, 2.53810702e-01, 5.16819806e-02],\n",
       "       [1.59343918e-01, 9.00666432e-02, 6.10308813e-02, 3.56674583e-02,\n",
       "        2.04372414e-02, 3.01215020e-01, 7.99901204e-02, 1.19628760e-01],\n",
       "       [1.92271199e-01, 1.40574756e-01, 1.50380573e-02, 3.51010986e-02,\n",
       "        2.82038675e-01, 1.36699696e-01, 1.14646021e-01, 7.61854206e-02],\n",
       "       [1.46546655e-01, 2.60557639e-02, 1.56492980e-01, 6.29101536e-02,\n",
       "        9.88093154e-02, 1.37980312e-02, 2.27738289e-01, 4.31520494e-01],\n",
       "       [2.96081677e-02, 4.28946314e-02, 7.29423278e-03, 1.68803484e-02,\n",
       "        4.92513947e-04, 1.61903647e-01, 1.00704333e-02, 6.75850213e-02],\n",
       "       [3.15307692e-01, 3.70446007e-01, 2.18452057e-01, 6.20835279e-01,\n",
       "        1.26433018e-01, 2.73612664e-02, 1.58065805e-01, 9.02827410e-03],\n",
       "       [1.29543284e-02, 9.94816754e-02, 3.77423904e-01, 1.24767305e-01,\n",
       "        2.94701200e-01, 4.87376359e-02, 1.53189206e-01, 7.53008129e-02]])"
      ]
     },
     "execution_count": 23,
     "metadata": {},
     "output_type": "execute_result"
    }
   ],
   "source": [
    "test_matrix"
   ]
  },
  {
   "cell_type": "code",
   "execution_count": 24,
   "id": "f9c84495-1a25-405a-9292-f87ab6776795",
   "metadata": {},
   "outputs": [
    {
     "data": {
      "text/plain": [
       "array([[6.73331886e-02, 1.97305181e-01, 1.47272699e-01, 4.79495014e-02,\n",
       "        1.30179052e-01, 9.03982345e-03, 2.48942344e-03, 1.69069237e-01],\n",
       "       [7.63401109e-02, 3.28806017e-02, 1.69951894e-02, 5.58888553e-02,\n",
       "        4.69089837e-02, 3.01244879e-01, 2.53810702e-01, 5.16819806e-02],\n",
       "       [1.59343918e-01, 9.00666432e-02, 6.10308813e-02, 3.56674583e-02,\n",
       "        2.04372414e-02, 3.00920280e-01, 7.99901204e-02, 1.19628760e-01],\n",
       "       [1.92271199e-01, 1.40574756e-01, 1.50380573e-02, 3.51010986e-02,\n",
       "        2.82038675e-01, 1.36699696e-01, 1.14646021e-01, 7.61854206e-02],\n",
       "       [1.46546655e-01, 2.60557639e-02, 1.56492980e-01, 6.29101536e-02,\n",
       "        9.88093154e-02, 1.37980312e-02, 2.27443548e-01, 4.31225753e-01],\n",
       "       [2.96081677e-02, 4.28946314e-02, 7.29423278e-03, 1.68803484e-02,\n",
       "        4.92513947e-04, 1.61903647e-01, 1.00704333e-02, 6.75850213e-02],\n",
       "       [3.15307692e-01, 3.70446007e-01, 2.18157316e-01, 6.20540538e-01,\n",
       "        1.26433018e-01, 2.73612664e-02, 1.58065805e-01, 9.02827410e-03],\n",
       "       [1.29543284e-02, 9.94816754e-02, 3.77423904e-01, 1.24767305e-01,\n",
       "        2.94406459e-01, 4.87376359e-02, 1.53189206e-01, 7.53008129e-02]])"
      ]
     },
     "execution_count": 24,
     "metadata": {},
     "output_type": "execute_result"
    }
   ],
   "source": [
    "add_up_a_decomposition_float(x_list, BN_list, 8, 8)"
   ]
  },
  {
   "cell_type": "code",
   "execution_count": null,
   "id": "4b9262d5-9b92-449a-9272-f5db4a31ee9a",
   "metadata": {},
   "outputs": [],
   "source": []
  }
 ],
 "metadata": {
  "kernelspec": {
   "display_name": "Python 3 (ipykernel)",
   "language": "python",
   "name": "python3"
  },
  "language_info": {
   "codemirror_mode": {
    "name": "ipython",
    "version": 3
   },
   "file_extension": ".py",
   "mimetype": "text/x-python",
   "name": "python",
   "nbconvert_exporter": "python",
   "pygments_lexer": "ipython3",
   "version": "3.9.19"
  }
 },
 "nbformat": 4,
 "nbformat_minor": 5
}
