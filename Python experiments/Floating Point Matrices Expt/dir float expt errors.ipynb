{
 "cells": [
  {
   "cell_type": "code",
   "execution_count": 1,
   "id": "36acf575-4a57-40d9-b710-f0865f8275a7",
   "metadata": {},
   "outputs": [],
   "source": [
    "import numpy as np\n",
    "import math\n",
    "import copy\n",
    "import datetime\n",
    "import pandas as pd\n",
    "import json"
   ]
  },
  {
   "cell_type": "code",
   "execution_count": 2,
   "id": "204316b3-ca6d-44a5-bcee-58405b1608a3",
   "metadata": {},
   "outputs": [],
   "source": [
    "# Custom JSON encoder that handles NumPy types (created by GPT-o3 on poe.com)\n",
    "class NumpyEncoder(json.JSONEncoder):\n",
    "    def default(self, obj):\n",
    "        if isinstance(obj, (np.integer,)):\n",
    "            return int(obj)\n",
    "        elif isinstance(obj, (np.floating,)):\n",
    "            return float(obj)\n",
    "        elif isinstance(obj, (np.ndarray,)):\n",
    "            return obj.tolist()\n",
    "        return super(NumpyEncoder, self).default(obj)"
   ]
  },
  {
   "cell_type": "markdown",
   "id": "05473870-34ba-4660-ab2c-fb2b266d3351",
   "metadata": {},
   "source": [
    "# Computing the errors $\\| \\sum^{K}_{i = 1}x_{i}A_{i} - P \\|_{F}$\n",
    "$P$ represents the floating-point TPMs we generated (10 for $8 \\times 8$, 10 for $16 \\times 16$, 10 for $32 \\times 32$, 10 for $64 \\times 64$).\n",
    "\n",
    "$\\sum^{K}_{i = 1}x_{i}A_{i}$ is the approximate decomposition of $P$ output by aGER, aSER 1 and aSER 2."
   ]
  },
  {
   "cell_type": "markdown",
   "id": "80b7949d-6dca-44be-a0e9-012ecf314a5d",
   "metadata": {},
   "source": [
    "# GER"
   ]
  },
  {
   "cell_type": "markdown",
   "id": "1ee534a3-c730-47a7-aa1a-d5bb9c122531",
   "metadata": {},
   "source": [
    "## $8 \\times 8$ matrices"
   ]
  },
  {
   "cell_type": "code",
   "execution_count": 3,
   "id": "63ca8c1d-c5a3-458b-893f-1b24a60ced7f",
   "metadata": {},
   "outputs": [],
   "source": [
    "list_of_errors = []\n",
    "\n",
    "for k in range(10):\n",
    "    decom_filepath = './raw data (float_GER)/dim8_decom_err_' + str(k) + '.json'\n",
    "    \n",
    "    with open(decom_filepath) as out1:\n",
    "        decom = json.load(out1)\n",
    "    \n",
    "    single_error = decom[3]\n",
    "    list_of_errors.append(single_error)"
   ]
  },
  {
   "cell_type": "code",
   "execution_count": 4,
   "id": "8d4f86d9-60b4-4271-8196-783de32f7226",
   "metadata": {},
   "outputs": [
    {
     "data": {
      "text/plain": [
       "[0.007491365743843857,\n",
       " 0.00867037607840015,\n",
       " 0.00824545357284528,\n",
       " 0.007420272761121842,\n",
       " 0.00969818770145233,\n",
       " 0.009827008425560526,\n",
       " 0.008455781041188425,\n",
       " 0.0077045184604606866,\n",
       " 0.00943742289032461,\n",
       " 0.009463708939467396]"
      ]
     },
     "execution_count": 4,
     "metadata": {},
     "output_type": "execute_result"
    }
   ],
   "source": [
    "list_of_errors"
   ]
  },
  {
   "cell_type": "markdown",
   "id": "6d9903ad-7287-4a53-a20c-5c615332d2d5",
   "metadata": {},
   "source": [
    "Maximum error"
   ]
  },
  {
   "cell_type": "code",
   "execution_count": 5,
   "id": "bf44d3c3-0935-4a3a-b4dd-d8e966769793",
   "metadata": {},
   "outputs": [
    {
     "data": {
      "text/plain": [
       "0.009827008425560526"
      ]
     },
     "execution_count": 5,
     "metadata": {},
     "output_type": "execute_result"
    }
   ],
   "source": [
    "max(list_of_errors)"
   ]
  },
  {
   "cell_type": "markdown",
   "id": "22ebbff2-6892-493d-a7dd-8a9d55af3a58",
   "metadata": {},
   "source": [
    "Mean error"
   ]
  },
  {
   "cell_type": "code",
   "execution_count": 6,
   "id": "d405e4b0-38e0-490e-96ec-ac088436fba2",
   "metadata": {},
   "outputs": [
    {
     "data": {
      "text/plain": [
       "0.008641409561466511"
      ]
     },
     "execution_count": 6,
     "metadata": {},
     "output_type": "execute_result"
    }
   ],
   "source": [
    "sum(list_of_errors) / len(list_of_errors)"
   ]
  },
  {
   "cell_type": "markdown",
   "id": "e2d5cc26-5a31-4fca-9919-8c5fd8c0cedc",
   "metadata": {},
   "source": [
    "Minimum error"
   ]
  },
  {
   "cell_type": "code",
   "execution_count": 8,
   "id": "bcaef268-f528-4a51-8cac-6ade077bed4a",
   "metadata": {},
   "outputs": [
    {
     "data": {
      "text/plain": [
       "0.007420272761121842"
      ]
     },
     "execution_count": 8,
     "metadata": {},
     "output_type": "execute_result"
    }
   ],
   "source": [
    "min(list_of_errors)"
   ]
  },
  {
   "cell_type": "markdown",
   "id": "b9f76c96-cad5-4fbf-97ad-8ae478c9d2fb",
   "metadata": {},
   "source": [
    "Save list_of_errors in a folder."
   ]
  },
  {
   "cell_type": "code",
   "execution_count": 9,
   "id": "f2ba03ba-5545-4db8-bec6-649e69a28c82",
   "metadata": {},
   "outputs": [],
   "source": [
    "error_filepath = './processed data (float expt)/GER_dim8_errors_list.json'\n",
    "\n",
    "with open(error_filepath, 'w') as out1:\n",
    "    json.dump(list_of_errors, out1, cls=NumpyEncoder)"
   ]
  },
  {
   "cell_type": "markdown",
   "id": "a912bce6-deed-4fc2-a082-47af73487b7e",
   "metadata": {},
   "source": [
    "## $16 \\times 16$ matrices"
   ]
  },
  {
   "cell_type": "code",
   "execution_count": 10,
   "id": "2bff461f-d68c-4722-8f04-4df629cd5695",
   "metadata": {},
   "outputs": [],
   "source": [
    "list_of_errors = []\n",
    "\n",
    "for k in range(10):\n",
    "    decom_filepath = './raw data (float_GER)/dim16_decom_err_' + str(k) + '.json'\n",
    "    \n",
    "    with open(decom_filepath) as out1:\n",
    "        decom = json.load(out1)\n",
    "    \n",
    "    single_error = decom[3]\n",
    "    list_of_errors.append(single_error)"
   ]
  },
  {
   "cell_type": "code",
   "execution_count": 11,
   "id": "33696584-55ad-4046-8f64-48119334929f",
   "metadata": {},
   "outputs": [
    {
     "data": {
      "text/plain": [
       "[0.009303402535549206,\n",
       " 0.00939361911922663,\n",
       " 0.009887462895697745,\n",
       " 0.009202578921325708,\n",
       " 0.009446208260842949,\n",
       " 0.00983289948276215,\n",
       " 0.009603888859714978,\n",
       " 0.009819168383502086,\n",
       " 0.00939130956758433,\n",
       " 0.009507760820210443]"
      ]
     },
     "execution_count": 11,
     "metadata": {},
     "output_type": "execute_result"
    }
   ],
   "source": [
    "list_of_errors"
   ]
  },
  {
   "cell_type": "markdown",
   "id": "614aa05d-a641-47f1-806e-b00dae250a5b",
   "metadata": {},
   "source": [
    "Maximum error"
   ]
  },
  {
   "cell_type": "code",
   "execution_count": 12,
   "id": "b75b05de-6a28-4e15-9370-4c9c1472353e",
   "metadata": {},
   "outputs": [
    {
     "data": {
      "text/plain": [
       "0.009887462895697745"
      ]
     },
     "execution_count": 12,
     "metadata": {},
     "output_type": "execute_result"
    }
   ],
   "source": [
    "max(list_of_errors)"
   ]
  },
  {
   "cell_type": "markdown",
   "id": "9e4780e9-c094-4cb0-b335-961f71773c52",
   "metadata": {},
   "source": [
    "Mean error"
   ]
  },
  {
   "cell_type": "code",
   "execution_count": 13,
   "id": "85303a48-9909-4277-87ce-a56dbbdfdec1",
   "metadata": {},
   "outputs": [
    {
     "data": {
      "text/plain": [
       "0.00953882988464162"
      ]
     },
     "execution_count": 13,
     "metadata": {},
     "output_type": "execute_result"
    }
   ],
   "source": [
    "sum(list_of_errors) / len(list_of_errors)"
   ]
  },
  {
   "cell_type": "markdown",
   "id": "83c8ef18-1860-46b7-bded-32d1ab972c3b",
   "metadata": {},
   "source": [
    "Minimum error"
   ]
  },
  {
   "cell_type": "code",
   "execution_count": 14,
   "id": "318e3333-6ae5-46f6-a65a-03bcccdb3ef1",
   "metadata": {},
   "outputs": [
    {
     "data": {
      "text/plain": [
       "0.009202578921325708"
      ]
     },
     "execution_count": 14,
     "metadata": {},
     "output_type": "execute_result"
    }
   ],
   "source": [
    "min(list_of_errors)"
   ]
  },
  {
   "cell_type": "markdown",
   "id": "d0267bf6-5622-4717-ab99-93c501a2a5b8",
   "metadata": {},
   "source": [
    "Save list_of_errors in a folder."
   ]
  },
  {
   "cell_type": "code",
   "execution_count": 15,
   "id": "461a7962-1aba-4094-a883-0a72c1f698b9",
   "metadata": {},
   "outputs": [],
   "source": [
    "error_filepath = './processed data (float expt)/GER_dim16_errors_list.json'\n",
    "\n",
    "with open(error_filepath, 'w') as out1:\n",
    "    json.dump(list_of_errors, out1, cls=NumpyEncoder)"
   ]
  },
  {
   "cell_type": "markdown",
   "id": "cbd59b48-2def-4fd3-b2b5-4020f4af8fba",
   "metadata": {},
   "source": [
    "## $32 \\times 32$ matrices"
   ]
  },
  {
   "cell_type": "code",
   "execution_count": 16,
   "id": "b1a465e4-53cf-4abe-91a8-8d4352d0a260",
   "metadata": {},
   "outputs": [],
   "source": [
    "list_of_errors = []\n",
    "\n",
    "for k in range(10):\n",
    "    decom_filepath = './raw data (float_GER)/dim32_decom_err_' + str(k) + '.json'\n",
    "    \n",
    "    with open(decom_filepath) as out1:\n",
    "        decom = json.load(out1)\n",
    "    \n",
    "    single_error = decom[3]\n",
    "    list_of_errors.append(single_error)"
   ]
  },
  {
   "cell_type": "code",
   "execution_count": 17,
   "id": "20f84962-ca78-4cfb-8f84-4080d5b01e49",
   "metadata": {},
   "outputs": [
    {
     "data": {
      "text/plain": [
       "[0.009730517497007991,\n",
       " 0.009969764692714515,\n",
       " 0.009777443151125177,\n",
       " 0.009081350257004326,\n",
       " 0.009707922687996246,\n",
       " 0.009390431554610617,\n",
       " 0.009836513697613214,\n",
       " 0.009507454806534246,\n",
       " 0.009912591189223923,\n",
       " 0.009676899305583162]"
      ]
     },
     "execution_count": 17,
     "metadata": {},
     "output_type": "execute_result"
    }
   ],
   "source": [
    "list_of_errors"
   ]
  },
  {
   "cell_type": "markdown",
   "id": "6f1fa470-aa48-42e4-be29-973cf967aa3e",
   "metadata": {},
   "source": [
    "Maximum error"
   ]
  },
  {
   "cell_type": "code",
   "execution_count": 18,
   "id": "b9a32fc0-8119-4157-873a-0aff557f8db7",
   "metadata": {},
   "outputs": [
    {
     "data": {
      "text/plain": [
       "0.009969764692714515"
      ]
     },
     "execution_count": 18,
     "metadata": {},
     "output_type": "execute_result"
    }
   ],
   "source": [
    "max(list_of_errors)"
   ]
  },
  {
   "cell_type": "markdown",
   "id": "6466c962-2b13-4397-b158-850af0d7e3e6",
   "metadata": {},
   "source": [
    "Mean error"
   ]
  },
  {
   "cell_type": "code",
   "execution_count": 19,
   "id": "dba99a05-128c-4e53-9883-5f87871dd7f3",
   "metadata": {},
   "outputs": [
    {
     "data": {
      "text/plain": [
       "0.009659088883941342"
      ]
     },
     "execution_count": 19,
     "metadata": {},
     "output_type": "execute_result"
    }
   ],
   "source": [
    "sum(list_of_errors) / len(list_of_errors)"
   ]
  },
  {
   "cell_type": "markdown",
   "id": "1dde201a-305a-4fd1-977b-7b09ee193117",
   "metadata": {},
   "source": [
    "Minimum error"
   ]
  },
  {
   "cell_type": "code",
   "execution_count": 20,
   "id": "9fb4da20-b8bf-43bf-a326-fad18711031e",
   "metadata": {},
   "outputs": [
    {
     "data": {
      "text/plain": [
       "0.009081350257004326"
      ]
     },
     "execution_count": 20,
     "metadata": {},
     "output_type": "execute_result"
    }
   ],
   "source": [
    "min(list_of_errors)"
   ]
  },
  {
   "cell_type": "markdown",
   "id": "560eeada-b61f-4dd8-baa3-7b5e7b8261f3",
   "metadata": {},
   "source": [
    "Save list_of_errors in a folder."
   ]
  },
  {
   "cell_type": "code",
   "execution_count": 21,
   "id": "5066532e-c715-4e7d-b586-3dc3fd62e168",
   "metadata": {},
   "outputs": [],
   "source": [
    "error_filepath = './processed data (float expt)/GER_dim32_errors_list.json'\n",
    "\n",
    "with open(error_filepath, 'w') as out1:\n",
    "    json.dump(list_of_errors, out1, cls=NumpyEncoder)"
   ]
  },
  {
   "cell_type": "markdown",
   "id": "def92109-26a4-46e0-860f-6cbc458d2b61",
   "metadata": {},
   "source": [
    "# SER 1"
   ]
  },
  {
   "cell_type": "markdown",
   "id": "21006707-4b00-4cc8-a4a7-3d99b2f8ef3e",
   "metadata": {},
   "source": [
    "## $8 \\times 8$ matrices"
   ]
  },
  {
   "cell_type": "code",
   "execution_count": 23,
   "id": "2c5f4c37-476b-4182-9ae6-1aaed7e866e1",
   "metadata": {},
   "outputs": [],
   "source": [
    "list_of_errors = []\n",
    "\n",
    "for k in range(10):\n",
    "    decom_filepath = './raw data (float_SER_1)/dim8_decom_err_' + str(k) + '.json'\n",
    "    \n",
    "    with open(decom_filepath) as out1:\n",
    "        decom = json.load(out1)\n",
    "    \n",
    "    single_error = decom[3]\n",
    "    list_of_errors.append(single_error)"
   ]
  },
  {
   "cell_type": "code",
   "execution_count": 24,
   "id": "8089b3b3-e72b-485b-8bc0-27a4b2676f97",
   "metadata": {},
   "outputs": [
    {
     "data": {
      "text/plain": [
       "[0.00974765086649107,\n",
       " 0.008084904085026651,\n",
       " 0.009161867372773795,\n",
       " 0.007856218634946153,\n",
       " 0.009265030195403156,\n",
       " 0.007421208395962108,\n",
       " 0.008553414710019323,\n",
       " 0.007905560105321988,\n",
       " 0.00979779117307446,\n",
       " 0.008210864045140483]"
      ]
     },
     "execution_count": 24,
     "metadata": {},
     "output_type": "execute_result"
    }
   ],
   "source": [
    "list_of_errors"
   ]
  },
  {
   "cell_type": "markdown",
   "id": "53a60121-a2df-450e-b60a-688fa93baaa6",
   "metadata": {},
   "source": [
    "Maximum error"
   ]
  },
  {
   "cell_type": "code",
   "execution_count": 25,
   "id": "f36bd1ed-e8c1-4cdc-ba47-4c98c48687ee",
   "metadata": {},
   "outputs": [
    {
     "data": {
      "text/plain": [
       "0.00979779117307446"
      ]
     },
     "execution_count": 25,
     "metadata": {},
     "output_type": "execute_result"
    }
   ],
   "source": [
    "max(list_of_errors)"
   ]
  },
  {
   "cell_type": "markdown",
   "id": "3fa5861e-4269-42fc-a085-ae0c22d83831",
   "metadata": {},
   "source": [
    "Mean error"
   ]
  },
  {
   "cell_type": "code",
   "execution_count": 26,
   "id": "09447de4-1494-4caf-aa74-5c4c7286ba4e",
   "metadata": {},
   "outputs": [
    {
     "data": {
      "text/plain": [
       "0.008600450958415919"
      ]
     },
     "execution_count": 26,
     "metadata": {},
     "output_type": "execute_result"
    }
   ],
   "source": [
    "sum(list_of_errors) / len(list_of_errors)"
   ]
  },
  {
   "cell_type": "markdown",
   "id": "ee48777c-94b1-4dab-badd-81e96c45748e",
   "metadata": {},
   "source": [
    "Minimum error"
   ]
  },
  {
   "cell_type": "code",
   "execution_count": 27,
   "id": "0ef704b1-9bc4-4800-9e51-ebb0dd48b946",
   "metadata": {},
   "outputs": [
    {
     "data": {
      "text/plain": [
       "0.007421208395962108"
      ]
     },
     "execution_count": 27,
     "metadata": {},
     "output_type": "execute_result"
    }
   ],
   "source": [
    "min(list_of_errors)"
   ]
  },
  {
   "cell_type": "markdown",
   "id": "aa441424-e500-435a-aaaf-06746377aca3",
   "metadata": {},
   "source": [
    "Save list_of_errors in a folder."
   ]
  },
  {
   "cell_type": "code",
   "execution_count": 28,
   "id": "ee62adb0-b8a7-4f01-a000-171e1ef78814",
   "metadata": {},
   "outputs": [],
   "source": [
    "error_filepath = './processed data (float expt)/SER_1_dim8_errors_list.json'\n",
    "\n",
    "with open(error_filepath, 'w') as out1:\n",
    "    json.dump(list_of_errors, out1, cls=NumpyEncoder)"
   ]
  },
  {
   "cell_type": "markdown",
   "id": "8e741047-d6b2-4006-b4e9-8c3f952310ef",
   "metadata": {},
   "source": [
    "## $16 \\times 16$ matrices"
   ]
  },
  {
   "cell_type": "code",
   "execution_count": 29,
   "id": "577721ed-6cee-494f-9883-8b783cc82cb3",
   "metadata": {},
   "outputs": [],
   "source": [
    "list_of_errors = []\n",
    "\n",
    "for k in range(10):\n",
    "    decom_filepath = './raw data (float_SER_1)/dim16_decom_err_' + str(k) + '.json'\n",
    "    \n",
    "    with open(decom_filepath) as out1:\n",
    "        decom = json.load(out1)\n",
    "    \n",
    "    single_error = decom[3]\n",
    "    list_of_errors.append(single_error)"
   ]
  },
  {
   "cell_type": "code",
   "execution_count": 30,
   "id": "3f3e0747-7f83-43f0-a282-1b687833761a",
   "metadata": {},
   "outputs": [
    {
     "data": {
      "text/plain": [
       "[0.009766565236839038,\n",
       " 0.009766008817564268,\n",
       " 0.009693253850285478,\n",
       " 0.009667101721594738,\n",
       " 0.009770939893423002,\n",
       " 0.009953492396198131,\n",
       " 0.009400961704066398,\n",
       " 0.009390827198228136,\n",
       " 0.009546904057899904,\n",
       " 0.009439736035265392]"
      ]
     },
     "execution_count": 30,
     "metadata": {},
     "output_type": "execute_result"
    }
   ],
   "source": [
    "list_of_errors"
   ]
  },
  {
   "cell_type": "markdown",
   "id": "56bafeb5-f233-4ba9-8203-5cfdaeb95256",
   "metadata": {},
   "source": [
    "Maximum error"
   ]
  },
  {
   "cell_type": "code",
   "execution_count": 31,
   "id": "e03cc286-5b3b-4f5f-b54a-1408854649d7",
   "metadata": {},
   "outputs": [
    {
     "data": {
      "text/plain": [
       "0.009953492396198131"
      ]
     },
     "execution_count": 31,
     "metadata": {},
     "output_type": "execute_result"
    }
   ],
   "source": [
    "max(list_of_errors)"
   ]
  },
  {
   "cell_type": "markdown",
   "id": "881c0a93-4613-44c6-a4e3-ad06e9bcbb22",
   "metadata": {},
   "source": [
    "Mean error"
   ]
  },
  {
   "cell_type": "code",
   "execution_count": 32,
   "id": "4a90fca9-1d94-4fbc-90dc-df8b7e9e20ec",
   "metadata": {},
   "outputs": [
    {
     "data": {
      "text/plain": [
       "0.009639579091136448"
      ]
     },
     "execution_count": 32,
     "metadata": {},
     "output_type": "execute_result"
    }
   ],
   "source": [
    "sum(list_of_errors) / len(list_of_errors)"
   ]
  },
  {
   "cell_type": "markdown",
   "id": "40b37b50-916f-4ce1-b7aa-2d99ff16b960",
   "metadata": {},
   "source": [
    "Minimum error"
   ]
  },
  {
   "cell_type": "code",
   "execution_count": 33,
   "id": "cdc4ad3c-5bfd-4a75-b5e7-33d7f5b821a5",
   "metadata": {},
   "outputs": [
    {
     "data": {
      "text/plain": [
       "0.009390827198228136"
      ]
     },
     "execution_count": 33,
     "metadata": {},
     "output_type": "execute_result"
    }
   ],
   "source": [
    "min(list_of_errors)"
   ]
  },
  {
   "cell_type": "markdown",
   "id": "19307700-a086-486c-83fa-e97c8d94d725",
   "metadata": {},
   "source": [
    "Save list_of_errors in a folder."
   ]
  },
  {
   "cell_type": "code",
   "execution_count": 34,
   "id": "e8d3d0de-dc51-4b6b-89eb-50126065369c",
   "metadata": {},
   "outputs": [],
   "source": [
    "error_filepath = './processed data (float expt)/SER_1_dim16_errors_list.json'\n",
    "\n",
    "with open(error_filepath, 'w') as out1:\n",
    "    json.dump(list_of_errors, out1, cls=NumpyEncoder)"
   ]
  },
  {
   "cell_type": "markdown",
   "id": "5a982ca9-21c4-4713-b7e1-0c66cf65340f",
   "metadata": {},
   "source": [
    "## $32 \\times 32$ matrices"
   ]
  },
  {
   "cell_type": "code",
   "execution_count": 35,
   "id": "f8cd94f4-a282-4875-9f54-705623c883d9",
   "metadata": {},
   "outputs": [],
   "source": [
    "list_of_errors = []\n",
    "\n",
    "for k in range(10):\n",
    "    decom_filepath = './raw data (float_SER_1)/dim32_decom_err_' + str(k) + '.json'\n",
    "    \n",
    "    with open(decom_filepath) as out1:\n",
    "        decom = json.load(out1)\n",
    "    \n",
    "    single_error = decom[3]\n",
    "    list_of_errors.append(single_error)"
   ]
  },
  {
   "cell_type": "code",
   "execution_count": 36,
   "id": "f1f06343-efcd-4db8-b288-5dd74666fd62",
   "metadata": {},
   "outputs": [
    {
     "data": {
      "text/plain": [
       "[0.009961276400542346,\n",
       " 0.009856319737196993,\n",
       " 0.00984431674666626,\n",
       " 0.009794627753234978,\n",
       " 0.009974191974645457,\n",
       " 0.009786359531465645,\n",
       " 0.00974449891101809,\n",
       " 0.009800801583812588,\n",
       " 0.009967877161974635,\n",
       " 0.009833487129937734]"
      ]
     },
     "execution_count": 36,
     "metadata": {},
     "output_type": "execute_result"
    }
   ],
   "source": [
    "list_of_errors"
   ]
  },
  {
   "cell_type": "markdown",
   "id": "c9db583e-6204-48aa-bd5f-7d6cbc45ae5b",
   "metadata": {},
   "source": [
    "Maximum error"
   ]
  },
  {
   "cell_type": "code",
   "execution_count": 37,
   "id": "00ed86e4-6076-4f65-b719-ae3e8963941a",
   "metadata": {},
   "outputs": [
    {
     "data": {
      "text/plain": [
       "0.009974191974645457"
      ]
     },
     "execution_count": 37,
     "metadata": {},
     "output_type": "execute_result"
    }
   ],
   "source": [
    "max(list_of_errors)"
   ]
  },
  {
   "cell_type": "markdown",
   "id": "53ad9a0f-954a-4dc1-b7c3-91e584a4afcf",
   "metadata": {},
   "source": [
    "Mean error"
   ]
  },
  {
   "cell_type": "code",
   "execution_count": 38,
   "id": "f7e15e58-5ed9-4947-b297-29520ae10664",
   "metadata": {},
   "outputs": [
    {
     "data": {
      "text/plain": [
       "0.00985637569304947"
      ]
     },
     "execution_count": 38,
     "metadata": {},
     "output_type": "execute_result"
    }
   ],
   "source": [
    "sum(list_of_errors) / len(list_of_errors)"
   ]
  },
  {
   "cell_type": "markdown",
   "id": "c9c3e184-88aa-4899-ac91-307b768353a7",
   "metadata": {},
   "source": [
    "Minimum error"
   ]
  },
  {
   "cell_type": "code",
   "execution_count": 39,
   "id": "5e8eeedc-60fb-4382-b319-954c1f104af1",
   "metadata": {},
   "outputs": [
    {
     "data": {
      "text/plain": [
       "0.00974449891101809"
      ]
     },
     "execution_count": 39,
     "metadata": {},
     "output_type": "execute_result"
    }
   ],
   "source": [
    "min(list_of_errors)"
   ]
  },
  {
   "cell_type": "markdown",
   "id": "9a00aed4-f933-41ab-8fb0-aa0021138aba",
   "metadata": {},
   "source": [
    "Save list_of_errors in a folder."
   ]
  },
  {
   "cell_type": "code",
   "execution_count": 40,
   "id": "a38d7f13-5f5a-43d1-83a1-07d4126bc838",
   "metadata": {},
   "outputs": [],
   "source": [
    "error_filepath = './processed data (float expt)/SER_1_dim32_errors_list.json'\n",
    "\n",
    "with open(error_filepath, 'w') as out1:\n",
    "    json.dump(list_of_errors, out1, cls=NumpyEncoder)"
   ]
  },
  {
   "cell_type": "markdown",
   "id": "75718794-7d88-4601-b5fd-29916d1e85e1",
   "metadata": {},
   "source": [
    "## $64 \\times 64$ matrices"
   ]
  },
  {
   "cell_type": "code",
   "execution_count": 41,
   "id": "fdbd1b93-31e4-4084-a51c-3e6ed1ef94ee",
   "metadata": {},
   "outputs": [],
   "source": [
    "list_of_errors = []\n",
    "\n",
    "for k in range(10):\n",
    "    decom_filepath = './raw data (float_SER_1)/dim64_decom_err_' + str(k) + '.json'\n",
    "    \n",
    "    with open(decom_filepath) as out1:\n",
    "        decom = json.load(out1)\n",
    "    \n",
    "    single_error = decom[3]\n",
    "    list_of_errors.append(single_error)"
   ]
  },
  {
   "cell_type": "code",
   "execution_count": 42,
   "id": "7676249b-d889-44b7-9ad1-a52b0a558d46",
   "metadata": {},
   "outputs": [
    {
     "data": {
      "text/plain": [
       "[0.009921166676318366,\n",
       " 0.009903957873549944,\n",
       " 0.00995492729328123,\n",
       " 0.009994847683562182,\n",
       " 0.009972475443249952,\n",
       " 0.009997789420100248,\n",
       " 0.009933421413039338,\n",
       " 0.009896578337579731,\n",
       " 0.009954938201857508,\n",
       " 0.009898706807581963]"
      ]
     },
     "execution_count": 42,
     "metadata": {},
     "output_type": "execute_result"
    }
   ],
   "source": [
    "list_of_errors"
   ]
  },
  {
   "cell_type": "markdown",
   "id": "d2c2f88c-e599-4cc6-87d0-ddae62227e40",
   "metadata": {},
   "source": [
    "Maximum error"
   ]
  },
  {
   "cell_type": "code",
   "execution_count": 43,
   "id": "63a0e24c-eddb-44b5-830c-8fa581931dad",
   "metadata": {},
   "outputs": [
    {
     "data": {
      "text/plain": [
       "0.009997789420100248"
      ]
     },
     "execution_count": 43,
     "metadata": {},
     "output_type": "execute_result"
    }
   ],
   "source": [
    "max(list_of_errors)"
   ]
  },
  {
   "cell_type": "markdown",
   "id": "60e5b0be-26d9-4369-93b5-2dfc53f6ff34",
   "metadata": {},
   "source": [
    "Mean error"
   ]
  },
  {
   "cell_type": "code",
   "execution_count": 44,
   "id": "24a5aa38-e911-4edb-bf78-2bd1c9717c2a",
   "metadata": {},
   "outputs": [
    {
     "data": {
      "text/plain": [
       "0.009942880915012046"
      ]
     },
     "execution_count": 44,
     "metadata": {},
     "output_type": "execute_result"
    }
   ],
   "source": [
    "sum(list_of_errors) / len(list_of_errors)"
   ]
  },
  {
   "cell_type": "markdown",
   "id": "3b9ff709-226b-4ca6-8248-b94270e9930f",
   "metadata": {},
   "source": [
    "Minimum error"
   ]
  },
  {
   "cell_type": "code",
   "execution_count": 45,
   "id": "ae097a59-abc9-4c5e-9eb5-30c087c528c3",
   "metadata": {},
   "outputs": [
    {
     "data": {
      "text/plain": [
       "0.009896578337579731"
      ]
     },
     "execution_count": 45,
     "metadata": {},
     "output_type": "execute_result"
    }
   ],
   "source": [
    "min(list_of_errors)"
   ]
  },
  {
   "cell_type": "markdown",
   "id": "fc4f6bc2-0d6d-45d5-8270-1b93f03fd048",
   "metadata": {},
   "source": [
    "Save list_of_errors in a folder."
   ]
  },
  {
   "cell_type": "code",
   "execution_count": 46,
   "id": "efec3bbc-4663-4f2e-ac89-39e0409c8331",
   "metadata": {},
   "outputs": [],
   "source": [
    "error_filepath = './processed data (float expt)/SER_1_dim64_errors_list.json'\n",
    "\n",
    "with open(error_filepath, 'w') as out1:\n",
    "    json.dump(list_of_errors, out1, cls=NumpyEncoder)"
   ]
  },
  {
   "cell_type": "markdown",
   "id": "0d20f6e9-e585-4957-beb2-f9e75619f7ee",
   "metadata": {},
   "source": [
    "# SER 2"
   ]
  },
  {
   "cell_type": "markdown",
   "id": "83965f13-a142-415a-a354-eb05dee195a2",
   "metadata": {},
   "source": [
    "## $8 \\times 8$ matrices"
   ]
  },
  {
   "cell_type": "code",
   "execution_count": 47,
   "id": "f676e139-7231-49ef-9bbf-474fd76a1afc",
   "metadata": {},
   "outputs": [],
   "source": [
    "list_of_errors = []\n",
    "\n",
    "for k in range(10):\n",
    "    decom_filepath = './raw data (float_SER_2)/dim8_decom_err_' + str(k) + '.json'\n",
    "    \n",
    "    with open(decom_filepath) as out1:\n",
    "        decom = json.load(out1)\n",
    "    \n",
    "    single_error = decom[3]\n",
    "    list_of_errors.append(single_error)"
   ]
  },
  {
   "cell_type": "code",
   "execution_count": 48,
   "id": "95cec0f1-a769-474d-9e2c-f2b8094cf594",
   "metadata": {},
   "outputs": [
    {
     "data": {
      "text/plain": [
       "[0.007963044460903776,\n",
       " 0.009703085374567667,\n",
       " 0.009779827290633997,\n",
       " 0.009695096148224044,\n",
       " 0.00980460349200259,\n",
       " 0.009255142711256395,\n",
       " 0.009229926816009823,\n",
       " 0.008937438483993644,\n",
       " 0.00821518813855216,\n",
       " 0.009715144009435302]"
      ]
     },
     "execution_count": 48,
     "metadata": {},
     "output_type": "execute_result"
    }
   ],
   "source": [
    "list_of_errors"
   ]
  },
  {
   "cell_type": "markdown",
   "id": "6f7808d6-cea0-43e0-8c04-497d111a99d7",
   "metadata": {},
   "source": [
    "Maximum error"
   ]
  },
  {
   "cell_type": "code",
   "execution_count": 49,
   "id": "be9f03c4-6805-4ad3-82e6-c834b849af50",
   "metadata": {},
   "outputs": [
    {
     "data": {
      "text/plain": [
       "0.00980460349200259"
      ]
     },
     "execution_count": 49,
     "metadata": {},
     "output_type": "execute_result"
    }
   ],
   "source": [
    "max(list_of_errors)"
   ]
  },
  {
   "cell_type": "markdown",
   "id": "479760c3-62bc-4198-991a-b05a370f72f6",
   "metadata": {},
   "source": [
    "Mean error"
   ]
  },
  {
   "cell_type": "code",
   "execution_count": 50,
   "id": "1458fd13-bb77-4fd6-9e76-f861b42bed9e",
   "metadata": {},
   "outputs": [
    {
     "data": {
      "text/plain": [
       "0.00922984969255794"
      ]
     },
     "execution_count": 50,
     "metadata": {},
     "output_type": "execute_result"
    }
   ],
   "source": [
    "sum(list_of_errors) / len(list_of_errors)"
   ]
  },
  {
   "cell_type": "markdown",
   "id": "e300948d-483f-4b8c-b8bf-c6ae00c090fe",
   "metadata": {},
   "source": [
    "Minimum error"
   ]
  },
  {
   "cell_type": "code",
   "execution_count": 51,
   "id": "65e95c06-fbd4-45b2-8459-97ca9286312a",
   "metadata": {},
   "outputs": [
    {
     "data": {
      "text/plain": [
       "0.007963044460903776"
      ]
     },
     "execution_count": 51,
     "metadata": {},
     "output_type": "execute_result"
    }
   ],
   "source": [
    "min(list_of_errors)"
   ]
  },
  {
   "cell_type": "markdown",
   "id": "c5ea8b62-bf7a-4ef2-8190-efb04e4b477d",
   "metadata": {},
   "source": [
    "Save list_of_errors in a folder."
   ]
  },
  {
   "cell_type": "code",
   "execution_count": 52,
   "id": "05a22c75-2cd0-4d36-b461-4acb98cdb825",
   "metadata": {},
   "outputs": [],
   "source": [
    "error_filepath = './processed data (float expt)/SER_2_dim8_errors_list.json'\n",
    "\n",
    "with open(error_filepath, 'w') as out1:\n",
    "    json.dump(list_of_errors, out1, cls=NumpyEncoder)"
   ]
  },
  {
   "cell_type": "markdown",
   "id": "5378ad2f-dab2-409f-bf97-cca961310895",
   "metadata": {},
   "source": [
    "## $16 \\times 16$ matrices"
   ]
  },
  {
   "cell_type": "code",
   "execution_count": 53,
   "id": "87e44e38-6233-4382-b44c-83c0bbf75893",
   "metadata": {},
   "outputs": [],
   "source": [
    "list_of_errors = []\n",
    "\n",
    "for k in range(10):\n",
    "    decom_filepath = './raw data (float_SER_2)/dim16_decom_err_' + str(k) + '.json'\n",
    "    \n",
    "    with open(decom_filepath) as out1:\n",
    "        decom = json.load(out1)\n",
    "    \n",
    "    single_error = decom[3]\n",
    "    list_of_errors.append(single_error)"
   ]
  },
  {
   "cell_type": "code",
   "execution_count": 54,
   "id": "d1418717-4a4a-45ef-a21e-e329a51bd7eb",
   "metadata": {},
   "outputs": [
    {
     "data": {
      "text/plain": [
       "[0.00928292652471211,\n",
       " 0.009337228524265872,\n",
       " 0.009613594914615834,\n",
       " 0.00909309937471523,\n",
       " 0.009973969373631384,\n",
       " 0.009232911535803925,\n",
       " 0.009544609396957076,\n",
       " 0.009079405845267596,\n",
       " 0.009911147592635648,\n",
       " 0.009315172486125291]"
      ]
     },
     "execution_count": 54,
     "metadata": {},
     "output_type": "execute_result"
    }
   ],
   "source": [
    "list_of_errors"
   ]
  },
  {
   "cell_type": "markdown",
   "id": "46ce99c9-8b42-4457-8871-eb3c68412a29",
   "metadata": {},
   "source": [
    "Maximum error"
   ]
  },
  {
   "cell_type": "code",
   "execution_count": 55,
   "id": "23c16f3f-e140-485f-9852-5d97fe98e98d",
   "metadata": {},
   "outputs": [
    {
     "data": {
      "text/plain": [
       "0.009973969373631384"
      ]
     },
     "execution_count": 55,
     "metadata": {},
     "output_type": "execute_result"
    }
   ],
   "source": [
    "max(list_of_errors)"
   ]
  },
  {
   "cell_type": "markdown",
   "id": "44a9d1f4-d091-455b-a4b8-da621da91bec",
   "metadata": {},
   "source": [
    "Mean error"
   ]
  },
  {
   "cell_type": "code",
   "execution_count": 56,
   "id": "01acecdc-b475-4b44-9153-7ffc45188b28",
   "metadata": {},
   "outputs": [
    {
     "data": {
      "text/plain": [
       "0.009438406556872996"
      ]
     },
     "execution_count": 56,
     "metadata": {},
     "output_type": "execute_result"
    }
   ],
   "source": [
    "sum(list_of_errors) / len(list_of_errors)"
   ]
  },
  {
   "cell_type": "markdown",
   "id": "d3978d50-697f-457d-b4ef-929e15cd4c62",
   "metadata": {},
   "source": [
    "Minimum error"
   ]
  },
  {
   "cell_type": "code",
   "execution_count": 57,
   "id": "f949a175-987e-4718-951a-c92bdf8c0d2c",
   "metadata": {},
   "outputs": [
    {
     "data": {
      "text/plain": [
       "0.009079405845267596"
      ]
     },
     "execution_count": 57,
     "metadata": {},
     "output_type": "execute_result"
    }
   ],
   "source": [
    "min(list_of_errors)"
   ]
  },
  {
   "cell_type": "markdown",
   "id": "57a6c377-8dc5-40f4-b9a9-47f5a05d68fd",
   "metadata": {},
   "source": [
    "Save list_of_errors in a folder."
   ]
  },
  {
   "cell_type": "code",
   "execution_count": 58,
   "id": "5c549225-4137-411d-a67f-ab1fadf080d2",
   "metadata": {},
   "outputs": [],
   "source": [
    "error_filepath = './processed data (float expt)/SER_2_dim16_errors_list.json'\n",
    "\n",
    "with open(error_filepath, 'w') as out1:\n",
    "    json.dump(list_of_errors, out1, cls=NumpyEncoder)"
   ]
  },
  {
   "cell_type": "markdown",
   "id": "c16bbf4c-ca10-4c3c-936b-6957aaf48474",
   "metadata": {},
   "source": [
    "## $32 \\times 32$ matrices"
   ]
  },
  {
   "cell_type": "code",
   "execution_count": 59,
   "id": "e9f87369-733c-4960-b39e-3eb21b98ed61",
   "metadata": {},
   "outputs": [],
   "source": [
    "list_of_errors = []\n",
    "\n",
    "for k in range(10):\n",
    "    decom_filepath = './raw data (float_SER_2)/dim32_decom_err_' + str(k) + '.json'\n",
    "    \n",
    "    with open(decom_filepath) as out1:\n",
    "        decom = json.load(out1)\n",
    "    \n",
    "    single_error = decom[3]\n",
    "    list_of_errors.append(single_error)"
   ]
  },
  {
   "cell_type": "code",
   "execution_count": 60,
   "id": "2e2ba5aa-d76b-4811-84f1-0d1a6861a48e",
   "metadata": {},
   "outputs": [
    {
     "data": {
      "text/plain": [
       "[0.00977207830855941,\n",
       " 0.009647070235352564,\n",
       " 0.00989981774447158,\n",
       " 0.00990356170759996,\n",
       " 0.00963567452577855,\n",
       " 0.00952832453147823,\n",
       " 0.009741621046579505,\n",
       " 0.009480576517961416,\n",
       " 0.009650945502951922,\n",
       " 0.00955755269382014]"
      ]
     },
     "execution_count": 60,
     "metadata": {},
     "output_type": "execute_result"
    }
   ],
   "source": [
    "list_of_errors"
   ]
  },
  {
   "cell_type": "markdown",
   "id": "c51df57d-4222-4135-ac08-fae847741dd2",
   "metadata": {},
   "source": [
    "Maximum error"
   ]
  },
  {
   "cell_type": "code",
   "execution_count": 61,
   "id": "e4b5b43a-beb3-433a-84ec-2ef9198a0a17",
   "metadata": {},
   "outputs": [
    {
     "data": {
      "text/plain": [
       "0.00990356170759996"
      ]
     },
     "execution_count": 61,
     "metadata": {},
     "output_type": "execute_result"
    }
   ],
   "source": [
    "max(list_of_errors)"
   ]
  },
  {
   "cell_type": "markdown",
   "id": "9e21cc39-5978-4629-9d7a-aa06b0ccaec4",
   "metadata": {},
   "source": [
    "Mean error"
   ]
  },
  {
   "cell_type": "code",
   "execution_count": 62,
   "id": "bde46077-dbd1-41de-9cef-5b7028ecae55",
   "metadata": {},
   "outputs": [
    {
     "data": {
      "text/plain": [
       "0.009681722281455328"
      ]
     },
     "execution_count": 62,
     "metadata": {},
     "output_type": "execute_result"
    }
   ],
   "source": [
    "sum(list_of_errors) / len(list_of_errors)"
   ]
  },
  {
   "cell_type": "markdown",
   "id": "cc90200f-3c79-4316-a1ce-2437c4078681",
   "metadata": {},
   "source": [
    "Minimum error"
   ]
  },
  {
   "cell_type": "code",
   "execution_count": 63,
   "id": "862738b0-f686-4e4b-9aea-cf4b0ee6122e",
   "metadata": {},
   "outputs": [
    {
     "data": {
      "text/plain": [
       "0.009480576517961416"
      ]
     },
     "execution_count": 63,
     "metadata": {},
     "output_type": "execute_result"
    }
   ],
   "source": [
    "min(list_of_errors)"
   ]
  },
  {
   "cell_type": "markdown",
   "id": "76eb9ee8-f4be-49a2-91b8-ed602c21639c",
   "metadata": {},
   "source": [
    "Save list_of_errors in a folder."
   ]
  },
  {
   "cell_type": "code",
   "execution_count": 64,
   "id": "738c60bc-8aa4-4556-ab4f-79ca1c605d99",
   "metadata": {},
   "outputs": [],
   "source": [
    "error_filepath = './processed data (float expt)/SER_2_dim32_errors_list.json'\n",
    "\n",
    "with open(error_filepath, 'w') as out1:\n",
    "    json.dump(list_of_errors, out1, cls=NumpyEncoder)"
   ]
  },
  {
   "cell_type": "markdown",
   "id": "93c8c319-95f5-473c-a26a-550da3e6c18d",
   "metadata": {},
   "source": [
    "## $64 \\times 64$ matrices"
   ]
  },
  {
   "cell_type": "code",
   "execution_count": 65,
   "id": "e1496cac-c644-46ce-99b2-727f978f71df",
   "metadata": {},
   "outputs": [],
   "source": [
    "list_of_errors = []\n",
    "\n",
    "for k in range(10):\n",
    "    decom_filepath = './raw data (float_SER_2)/dim64_decom_err_' + str(k) + '.json'\n",
    "    \n",
    "    with open(decom_filepath) as out1:\n",
    "        decom = json.load(out1)\n",
    "    \n",
    "    single_error = decom[3]\n",
    "    list_of_errors.append(single_error)"
   ]
  },
  {
   "cell_type": "code",
   "execution_count": 66,
   "id": "cadf9927-cc5e-4112-a521-ad97db249c81",
   "metadata": {},
   "outputs": [
    {
     "data": {
      "text/plain": [
       "[0.009839006498546556,\n",
       " 0.009933224304501258,\n",
       " 0.009807903317202849,\n",
       " 0.009778161870673313,\n",
       " 0.00993492552574535,\n",
       " 0.009777228181837109,\n",
       " 0.009857774959069487,\n",
       " 0.009919661014610922,\n",
       " 0.009987650528748141,\n",
       " 0.009995992522109184]"
      ]
     },
     "execution_count": 66,
     "metadata": {},
     "output_type": "execute_result"
    }
   ],
   "source": [
    "list_of_errors"
   ]
  },
  {
   "cell_type": "markdown",
   "id": "57a12553-cf13-4a58-a699-baeca42fdf12",
   "metadata": {},
   "source": [
    "Maximum error"
   ]
  },
  {
   "cell_type": "code",
   "execution_count": 67,
   "id": "bd058b34-0a77-427e-a464-c290ef14e2f3",
   "metadata": {},
   "outputs": [
    {
     "data": {
      "text/plain": [
       "0.009995992522109184"
      ]
     },
     "execution_count": 67,
     "metadata": {},
     "output_type": "execute_result"
    }
   ],
   "source": [
    "max(list_of_errors)"
   ]
  },
  {
   "cell_type": "markdown",
   "id": "023bb8cf-380c-4307-83ea-0e0a2ebbfb90",
   "metadata": {},
   "source": [
    "Mean error"
   ]
  },
  {
   "cell_type": "code",
   "execution_count": 68,
   "id": "5c61e45f-e782-4248-bdb0-6154258a4e27",
   "metadata": {},
   "outputs": [
    {
     "data": {
      "text/plain": [
       "0.009883152872304417"
      ]
     },
     "execution_count": 68,
     "metadata": {},
     "output_type": "execute_result"
    }
   ],
   "source": [
    "sum(list_of_errors) / len(list_of_errors)"
   ]
  },
  {
   "cell_type": "markdown",
   "id": "ffe82b48-0a8a-483e-a410-06b8cf43bb4a",
   "metadata": {},
   "source": [
    "Minimum error"
   ]
  },
  {
   "cell_type": "code",
   "execution_count": 69,
   "id": "d9b24dce-d876-4f9c-98e8-f36db0af51cc",
   "metadata": {},
   "outputs": [
    {
     "data": {
      "text/plain": [
       "0.009777228181837109"
      ]
     },
     "execution_count": 69,
     "metadata": {},
     "output_type": "execute_result"
    }
   ],
   "source": [
    "min(list_of_errors)"
   ]
  },
  {
   "cell_type": "markdown",
   "id": "0e9bd539-66e6-4865-8db9-72e41e0a01fa",
   "metadata": {},
   "source": [
    "Save list_of_errors in a folder."
   ]
  },
  {
   "cell_type": "code",
   "execution_count": 70,
   "id": "92becaba-d4e4-4a7b-9526-41f743e73983",
   "metadata": {},
   "outputs": [],
   "source": [
    "error_filepath = './processed data (float expt)/SER_2_dim64_errors_list.json'\n",
    "\n",
    "with open(error_filepath, 'w') as out1:\n",
    "    json.dump(list_of_errors, out1, cls=NumpyEncoder)"
   ]
  }
 ],
 "metadata": {
  "kernelspec": {
   "display_name": "Python 3 (ipykernel)",
   "language": "python",
   "name": "python3"
  },
  "language_info": {
   "codemirror_mode": {
    "name": "ipython",
    "version": 3
   },
   "file_extension": ".py",
   "mimetype": "text/x-python",
   "name": "python",
   "nbconvert_exporter": "python",
   "pygments_lexer": "ipython3",
   "version": "3.9.19"
  }
 },
 "nbformat": 4,
 "nbformat_minor": 5
}
