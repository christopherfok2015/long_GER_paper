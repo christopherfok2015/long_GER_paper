{
 "cells": [
  {
   "cell_type": "code",
   "execution_count": 1,
   "id": "184896c9-61ac-42c1-94bf-ef9e20b5aca4",
   "metadata": {},
   "outputs": [],
   "source": [
    "import numpy as np"
   ]
  },
  {
   "cell_type": "code",
   "execution_count": 4,
   "id": "9ea13166-acac-447b-beb8-aac0259d8a4e",
   "metadata": {},
   "outputs": [],
   "source": [
    "random_num_generator = np.random.default_rng(0)"
   ]
  },
  {
   "cell_type": "markdown",
   "id": "e5ae7a75-0426-4bf6-b5e4-1819ac3f15f2",
   "metadata": {},
   "source": [
    "# Codes for sampling a floating-point TPM uniformly at random."
   ]
  },
  {
   "cell_type": "markdown",
   "id": "b08d49e9-c7f6-40e4-9493-87cddf77dede",
   "metadata": {},
   "source": [
    "For all positive integers $n \\geq 2$, define $\\Delta^{n} := \\{ (k_{1}, k_{2}, \\ldots, k_{n}) : k_{i} \\geq 0, \\sum^{n}_{i = 1} k_{i} = 1 \\}$. The following function samples from $\\Delta^{n}$ uniformly. The output of this function is a 1D numpy array."
   ]
  },
  {
   "cell_type": "code",
   "execution_count": 6,
   "id": "7d862a58-66bb-4cf5-870a-b888a6c6672e",
   "metadata": {},
   "outputs": [],
   "source": [
    "def uniform_sample_from_Delta_n(n):\n",
    "    endpoints = random_num_generator.uniform(low=0, high=1, size=n-1)\n",
    "    endpoints = np.append(endpoints, [0, 1])\n",
    "    endpoints.sort()\n",
    "    \n",
    "    output_array = np.array([endpoints[k] - endpoints[k - 1] for k in range(1, n + 1)], dtype=float)\n",
    "    \n",
    "    return output_array"
   ]
  },
  {
   "cell_type": "markdown",
   "id": "3503fb25-1442-4420-bd8d-1c4fe20f21bb",
   "metadata": {},
   "source": [
    "For all positive integers $m \\geq 2$, define $\\mathcal{T}(m)$ to be the set of all $m \\times m$ TPMs. The following function samples from $\\mathcal{T}(m)$ uniformly."
   ]
  },
  {
   "cell_type": "code",
   "execution_count": 13,
   "id": "c06955ec-d383-461b-bed2-b07368b7ed5a",
   "metadata": {},
   "outputs": [],
   "source": [
    "def uniform_sample_float_TPM(m):\n",
    "    output_array = np.zeros((m, m), dtype=float)\n",
    "    \n",
    "    for k in range(m):\n",
    "        output_array[:, k] = uniform_sample_from_Delta_n(m)\n",
    "        \n",
    "    return output_array"
   ]
  },
  {
   "cell_type": "markdown",
   "id": "9623fbcc-b965-427e-9960-56280ee7aa33",
   "metadata": {},
   "source": [
    "Sample 200 floating-point TPMs from $\\mathcal{T}(4)$. Save them into a folder."
   ]
  },
  {
   "cell_type": "code",
   "execution_count": 21,
   "id": "ae358ecb-9150-421e-b5b0-02a3732870a0",
   "metadata": {},
   "outputs": [],
   "source": [
    "for k in range(200):\n",
    "    P = uniform_sample_float_TPM(4)\n",
    "    file_path = './4-by-4/dim4_fTPM_' + str(k)\n",
    "    np.save(file_path, P)"
   ]
  },
  {
   "cell_type": "markdown",
   "id": "5d2c034a-fb95-4e6d-9cd7-0b20f363d09d",
   "metadata": {},
   "source": [
    "Sample 200 floating-point TPMs from $\\mathcal{T}(8)$. Save them into a folder."
   ]
  },
  {
   "cell_type": "code",
   "execution_count": 29,
   "id": "2f484d00-f97b-41a6-ae86-66dfcc54ec57",
   "metadata": {},
   "outputs": [],
   "source": [
    "for k in range(200):\n",
    "    P = uniform_sample_float_TPM(8)\n",
    "    file_path = './8-by-8/dim8_fTPM_' + str(k)\n",
    "    np.save(file_path, P)"
   ]
  },
  {
   "cell_type": "markdown",
   "id": "4e4fff57-52a8-4c7f-af6b-abd0d290d9cb",
   "metadata": {},
   "source": [
    "Sample 200 floating-point TPMs from $\\mathcal{T}(16)$. Save them into a folder."
   ]
  },
  {
   "cell_type": "code",
   "execution_count": 32,
   "id": "dd6b1132-6859-46b1-b686-1d98563a0768",
   "metadata": {},
   "outputs": [],
   "source": [
    "for k in range(200):\n",
    "    P = uniform_sample_float_TPM(16)\n",
    "    file_path = './16-by-16/dim16_fTPM_' + str(k)\n",
    "    np.save(file_path, P)"
   ]
  },
  {
   "cell_type": "markdown",
   "id": "4ea4d253-74b1-4f49-8be7-69d7117f1b14",
   "metadata": {},
   "source": [
    "Sample 200 floating-point TPMs from $\\mathcal{T}(32)$. Save them into a folder."
   ]
  },
  {
   "cell_type": "code",
   "execution_count": 36,
   "id": "5eaff925-bceb-4e11-8774-b68c3edc33a6",
   "metadata": {},
   "outputs": [],
   "source": [
    "for k in range(200):\n",
    "    P = uniform_sample_float_TPM(32)\n",
    "    file_path = './32-by-32/dim32_fTPM_' + str(k)\n",
    "    np.save(file_path, P)"
   ]
  },
  {
   "cell_type": "markdown",
   "id": "4652df7b-8c4f-472b-8d57-ece50e001287",
   "metadata": {},
   "source": [
    "Sample 200 floating-point TPMs from $\\mathcal{T}(64)$. Save them into a folder."
   ]
  },
  {
   "cell_type": "code",
   "execution_count": 41,
   "id": "3e3f8a94-0125-414b-a86c-761ea214d199",
   "metadata": {},
   "outputs": [],
   "source": [
    "for k in range(200):\n",
    "    P = uniform_sample_float_TPM(64)\n",
    "    file_path = './64-by-64/dim64_fTPM_' + str(k)\n",
    "    np.save(file_path, P)"
   ]
  }
 ],
 "metadata": {
  "kernelspec": {
   "display_name": "Python 3 (ipykernel)",
   "language": "python",
   "name": "python3"
  },
  "language_info": {
   "codemirror_mode": {
    "name": "ipython",
    "version": 3
   },
   "file_extension": ".py",
   "mimetype": "text/x-python",
   "name": "python",
   "nbconvert_exporter": "python",
   "pygments_lexer": "ipython3",
   "version": "3.9.19"
  }
 },
 "nbformat": 4,
 "nbformat_minor": 5
}
