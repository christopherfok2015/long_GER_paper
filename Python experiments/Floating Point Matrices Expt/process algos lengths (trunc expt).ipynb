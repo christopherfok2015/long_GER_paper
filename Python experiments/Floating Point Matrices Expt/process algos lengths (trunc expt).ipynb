{
 "cells": [
  {
   "cell_type": "code",
   "execution_count": 1,
   "id": "c92a86dd-7dfa-40ad-a68c-38d962443853",
   "metadata": {},
   "outputs": [],
   "source": [
    "import numpy as np\n",
    "import datetime\n",
    "import pandas as pd\n",
    "import json\n",
    "import matplotlib.pyplot as plt"
   ]
  },
  {
   "cell_type": "code",
   "execution_count": 4,
   "id": "d30da032-a018-4ee0-b9e9-999df7962ce6",
   "metadata": {},
   "outputs": [],
   "source": [
    "# Custom JSON encoder that handles NumPy types (created by GPT-o3 on poe.com)\n",
    "class NumpyEncoder(json.JSONEncoder):\n",
    "    def default(self, obj):\n",
    "        if isinstance(obj, (np.integer,)):\n",
    "            return int(obj)\n",
    "        elif isinstance(obj, (np.floating,)):\n",
    "            return float(obj)\n",
    "        elif isinstance(obj, (np.ndarray,)):\n",
    "            return obj.tolist()\n",
    "        return super(NumpyEncoder, self).default(obj)"
   ]
  },
  {
   "cell_type": "markdown",
   "id": "ec0a558c-9caa-47d5-b767-f6b90a80f939",
   "metadata": {},
   "source": [
    "# GER"
   ]
  },
  {
   "cell_type": "markdown",
   "id": "90ef4bd3-f3f3-4d2a-867a-53c051a5886e",
   "metadata": {},
   "source": [
    "## $8 \\times 8$ matrices"
   ]
  },
  {
   "cell_type": "code",
   "execution_count": 2,
   "id": "3e895dd3-1b4c-4dc4-b473-49dda097dae8",
   "metadata": {},
   "outputs": [],
   "source": [
    "shortest_lengths_list = []\n",
    "\n",
    "for k in range(10):\n",
    "    lengths_of_current_matrix = []\n",
    "    \n",
    "    for z_int in range(1, 5):\n",
    "        for z_frac in range(1, 11):\n",
    "            decom_filepath = './raw data (trunc_GER)/8/dim8_decom_m' + str(k) + '_z_' +\\\n",
    "                             str(z_int) + 'dot' + str(z_frac) + '.json'\n",
    "            \n",
    "            with open(decom_filepath) as out1:\n",
    "                current_decom = json.load(out1)\n",
    "            \n",
    "            lengths_of_current_matrix.append(current_decom[0])\n",
    "    \n",
    "    shortest_length = min(lengths_of_current_matrix)\n",
    "    shortest_lengths_list.append(shortest_length)"
   ]
  },
  {
   "cell_type": "code",
   "execution_count": 3,
   "id": "a56d1bf1-7c2a-4722-ab0f-3e46ba14abd5",
   "metadata": {},
   "outputs": [
    {
     "data": {
      "text/plain": [
       "[31, 32, 32, 32, 32, 32, 32, 34, 31, 30]"
      ]
     },
     "execution_count": 3,
     "metadata": {},
     "output_type": "execute_result"
    }
   ],
   "source": [
    "shortest_lengths_list"
   ]
  },
  {
   "cell_type": "markdown",
   "id": "0851a86f-6bd8-4335-b597-76b07966a952",
   "metadata": {},
   "source": [
    "Save the processed data in a folder."
   ]
  },
  {
   "cell_type": "code",
   "execution_count": 8,
   "id": "2a883a28-ad88-4e30-9c95-7fa48182e830",
   "metadata": {},
   "outputs": [],
   "source": [
    "lengths_filepath = './processed data (trunc expt)/GER_dim8_lengths.json'\n",
    "\n",
    "with open(lengths_filepath, 'w') as out1:\n",
    "    json.dump(shortest_lengths_list, out1, cls=NumpyEncoder)"
   ]
  },
  {
   "cell_type": "markdown",
   "id": "50c956d9-3b5f-490d-a322-2543618370d4",
   "metadata": {},
   "source": [
    "## $16 \\times 16$ matrices"
   ]
  },
  {
   "cell_type": "code",
   "execution_count": 9,
   "id": "98653086-e243-4cb7-8fbc-3ca111b525b2",
   "metadata": {},
   "outputs": [],
   "source": [
    "shortest_lengths_list = []\n",
    "\n",
    "for k in range(10):\n",
    "    lengths_of_current_matrix = []\n",
    "    \n",
    "    for z_int in range(1, 5):\n",
    "        for z_frac in range(1, 11):\n",
    "            decom_filepath = './raw data (trunc_GER)/16/dim16_decom_m' + str(k) + '_z_' +\\\n",
    "                             str(z_int) + 'dot' + str(z_frac) + '.json'\n",
    "            \n",
    "            with open(decom_filepath) as out1:\n",
    "                current_decom = json.load(out1)\n",
    "            \n",
    "            lengths_of_current_matrix.append(current_decom[0])\n",
    "    \n",
    "    shortest_length = min(lengths_of_current_matrix)\n",
    "    shortest_lengths_list.append(shortest_length)"
   ]
  },
  {
   "cell_type": "code",
   "execution_count": 10,
   "id": "3337c886-7d16-4690-a8cc-f6f3a0d0c53c",
   "metadata": {},
   "outputs": [
    {
     "data": {
      "text/plain": [
       "[66, 64, 66, 65, 67, 68, 67, 67, 70, 63]"
      ]
     },
     "execution_count": 10,
     "metadata": {},
     "output_type": "execute_result"
    }
   ],
   "source": [
    "shortest_lengths_list"
   ]
  },
  {
   "cell_type": "markdown",
   "id": "0ef79787-cac9-4801-9f5f-a4a9f57e24db",
   "metadata": {},
   "source": [
    "Save the processed data in a folder."
   ]
  },
  {
   "cell_type": "code",
   "execution_count": 13,
   "id": "349715f5-502a-4012-bce3-ce72717f70ee",
   "metadata": {},
   "outputs": [],
   "source": [
    "lengths_filepath = './processed data (trunc expt)/GER_dim16_lengths.json'\n",
    "\n",
    "with open(lengths_filepath, 'w') as out1:\n",
    "    json.dump(shortest_lengths_list, out1, cls=NumpyEncoder)"
   ]
  },
  {
   "cell_type": "markdown",
   "id": "2263f113-ae52-4e1a-a347-e55f354a05bc",
   "metadata": {},
   "source": [
    "## $32 \\times 32$ matrices"
   ]
  },
  {
   "cell_type": "code",
   "execution_count": 14,
   "id": "816e160c-f37a-4151-a2d7-d9b249329f63",
   "metadata": {},
   "outputs": [],
   "source": [
    "shortest_lengths_list = []\n",
    "\n",
    "for k in range(10):\n",
    "    lengths_of_current_matrix = []\n",
    "    \n",
    "    for z_int in range(1, 5):\n",
    "        for z_frac in range(1, 11):\n",
    "            decom_filepath = './raw data (trunc_GER)/32/dim32_decom_m' + str(k) + '_z_' +\\\n",
    "                             str(z_int) + 'dot' + str(z_frac) + '.json'\n",
    "            \n",
    "            with open(decom_filepath) as out1:\n",
    "                current_decom = json.load(out1)\n",
    "            \n",
    "            lengths_of_current_matrix.append(current_decom[0])\n",
    "    \n",
    "    shortest_length = min(lengths_of_current_matrix)\n",
    "    shortest_lengths_list.append(shortest_length)"
   ]
  },
  {
   "cell_type": "code",
   "execution_count": 15,
   "id": "b930542f-acbf-452b-b564-e46b27d1dd34",
   "metadata": {},
   "outputs": [
    {
     "data": {
      "text/plain": [
       "[110, 111, 112, 112, 109, 111, 109, 113, 112, 110]"
      ]
     },
     "execution_count": 15,
     "metadata": {},
     "output_type": "execute_result"
    }
   ],
   "source": [
    "shortest_lengths_list"
   ]
  },
  {
   "cell_type": "markdown",
   "id": "1ae38aa9-8bab-4b9f-98c2-732eda561070",
   "metadata": {},
   "source": [
    "Save the processed data in a folder."
   ]
  },
  {
   "cell_type": "code",
   "execution_count": 18,
   "id": "c1d386df-e99d-4481-9e8f-66147ef7dac0",
   "metadata": {},
   "outputs": [],
   "source": [
    "lengths_filepath = './processed data (trunc expt)/GER_dim32_lengths.json'\n",
    "\n",
    "with open(lengths_filepath, 'w') as out1:\n",
    "    json.dump(shortest_lengths_list, out1, cls=NumpyEncoder)"
   ]
  },
  {
   "cell_type": "markdown",
   "id": "d0488ab1-eaa2-455f-9077-3596bb52dbe8",
   "metadata": {},
   "source": [
    "## $64 \\times 64$ matrices"
   ]
  },
  {
   "cell_type": "code",
   "execution_count": 19,
   "id": "1dd75f83-2d0d-4b64-9af2-eb6f9b68b149",
   "metadata": {},
   "outputs": [],
   "source": [
    "shortest_lengths_list = []\n",
    "\n",
    "for k in range(10):\n",
    "    lengths_of_current_matrix = []\n",
    "    \n",
    "    for z_int in range(1, 5):\n",
    "        for z_frac in range(1, 11):\n",
    "            decom_filepath = './raw data (trunc_GER)/64/dim64_decom_m' + str(k) + '_z_' +\\\n",
    "                             str(z_int) + 'dot' + str(z_frac) + '.json'\n",
    "            \n",
    "            with open(decom_filepath) as out1:\n",
    "                current_decom = json.load(out1)\n",
    "            \n",
    "            lengths_of_current_matrix.append(current_decom[0])\n",
    "    \n",
    "    shortest_length = min(lengths_of_current_matrix)\n",
    "    shortest_lengths_list.append(shortest_length)"
   ]
  },
  {
   "cell_type": "code",
   "execution_count": 20,
   "id": "8f0b84a7-7d1e-4f59-b58d-4b883f121c15",
   "metadata": {},
   "outputs": [
    {
     "data": {
      "text/plain": [
       "[163, 167, 163, 161, 162, 159, 165, 165, 165, 164]"
      ]
     },
     "execution_count": 20,
     "metadata": {},
     "output_type": "execute_result"
    }
   ],
   "source": [
    "shortest_lengths_list"
   ]
  },
  {
   "cell_type": "markdown",
   "id": "7105c2af-357e-4af7-9309-25185c609655",
   "metadata": {},
   "source": [
    "Save the processed data in a folder."
   ]
  },
  {
   "cell_type": "code",
   "execution_count": 23,
   "id": "2819c96e-9705-42b8-8147-496ba9058117",
   "metadata": {},
   "outputs": [],
   "source": [
    "lengths_filepath = './processed data (trunc expt)/GER_dim64_lengths.json'\n",
    "\n",
    "with open(lengths_filepath, 'w') as out1:\n",
    "    json.dump(shortest_lengths_list, out1, cls=NumpyEncoder)"
   ]
  },
  {
   "cell_type": "markdown",
   "id": "9080ef30-fa41-4512-8e74-3eb106730415",
   "metadata": {},
   "source": [
    "# SER 1"
   ]
  },
  {
   "cell_type": "markdown",
   "id": "b41885f6-5c79-478c-9e96-446c3c0a85e4",
   "metadata": {},
   "source": [
    "## $8 \\times 8$ matrices"
   ]
  },
  {
   "cell_type": "code",
   "execution_count": 24,
   "id": "14a47795-0647-4127-b582-448669c0cab5",
   "metadata": {},
   "outputs": [],
   "source": [
    "decom_lengths_list = []\n",
    "\n",
    "for k in range(10):\n",
    "    decom_filepath = './raw data (trunc_SER_1)/dim8_decom_m' + str(k) + '.json'\n",
    "    \n",
    "    with open(decom_filepath) as out1:\n",
    "        decom = json.load(out1)\n",
    "    \n",
    "    decom_length = decom[0]\n",
    "    decom_lengths_list.append(decom_length)"
   ]
  },
  {
   "cell_type": "code",
   "execution_count": 25,
   "id": "3fb49dee-8a25-4cc0-a069-f102811ffc23",
   "metadata": {},
   "outputs": [
    {
     "name": "stdout",
     "output_type": "stream",
     "text": [
      "[57, 57, 55, 57, 56, 57, 55, 56, 57, 54]\n"
     ]
    }
   ],
   "source": [
    "print(decom_lengths_list)"
   ]
  },
  {
   "cell_type": "markdown",
   "id": "717027ab-c92e-4ff3-b925-aab6a0c0a45b",
   "metadata": {},
   "source": [
    "Save the processed data in a folder."
   ]
  },
  {
   "cell_type": "code",
   "execution_count": 26,
   "id": "76f0575a-aa1a-4a3a-8b1e-91644bc654f0",
   "metadata": {},
   "outputs": [],
   "source": [
    "lengths_filepath = './processed data (trunc expt)/SER_1_dim8_lengths.json'\n",
    "\n",
    "with open(lengths_filepath, 'w') as out1:\n",
    "    json.dump(decom_lengths_list, out1, cls=NumpyEncoder)"
   ]
  },
  {
   "cell_type": "markdown",
   "id": "689d04b3-e0ce-42d7-8927-b2a58b33a499",
   "metadata": {},
   "source": [
    "## $16 \\times 16$ matrices"
   ]
  },
  {
   "cell_type": "code",
   "execution_count": 27,
   "id": "d220a39e-5d7a-4325-b664-3740e802d43b",
   "metadata": {},
   "outputs": [],
   "source": [
    "decom_lengths_list = []\n",
    "\n",
    "for k in range(10):\n",
    "    decom_filepath = './raw data (trunc_SER_1)/dim16_decom_m' + str(k) + '.json'\n",
    "    \n",
    "    with open(decom_filepath) as out1:\n",
    "        decom = json.load(out1)\n",
    "    \n",
    "    decom_length = decom[0]\n",
    "    decom_lengths_list.append(decom_length)"
   ]
  },
  {
   "cell_type": "code",
   "execution_count": 28,
   "id": "158ddb7c-6a72-4db5-8daa-cb444173858a",
   "metadata": {},
   "outputs": [
    {
     "data": {
      "text/plain": [
       "[158, 156, 156, 159, 158, 163, 162, 154, 163, 160]"
      ]
     },
     "execution_count": 28,
     "metadata": {},
     "output_type": "execute_result"
    }
   ],
   "source": [
    "decom_lengths_list"
   ]
  },
  {
   "cell_type": "markdown",
   "id": "5fb3c52a-eab7-4330-a13c-0e2ee2ed1652",
   "metadata": {},
   "source": [
    "Save the processed data in a folder."
   ]
  },
  {
   "cell_type": "code",
   "execution_count": 29,
   "id": "37eee206-ea08-4a5d-85f8-de53240e4fb9",
   "metadata": {},
   "outputs": [],
   "source": [
    "lengths_filepath = './processed data (trunc expt)/SER_1_dim16_lengths.json'\n",
    "\n",
    "with open(lengths_filepath, 'w') as out1:\n",
    "    json.dump(decom_lengths_list, out1, cls=NumpyEncoder)"
   ]
  },
  {
   "cell_type": "markdown",
   "id": "9ec575c3-7e8d-4f54-9bec-b8d071fc7312",
   "metadata": {},
   "source": [
    "## $32 \\times 32$ matrices"
   ]
  },
  {
   "cell_type": "code",
   "execution_count": 30,
   "id": "47c62d6d-7751-42cb-bfeb-dd8d511cc87a",
   "metadata": {},
   "outputs": [],
   "source": [
    "decom_lengths_list = []\n",
    "\n",
    "for k in range(10):\n",
    "    decom_filepath = './raw data (trunc_SER_1)/dim32_decom_m' + str(k) + '.json'\n",
    "    \n",
    "    with open(decom_filepath) as out1:\n",
    "        decom = json.load(out1)\n",
    "    \n",
    "    decom_length = decom[0]\n",
    "    decom_lengths_list.append(decom_length)"
   ]
  },
  {
   "cell_type": "code",
   "execution_count": 31,
   "id": "e4b29316-2d26-4255-9688-44c18d2873da",
   "metadata": {},
   "outputs": [
    {
     "data": {
      "text/plain": [
       "[388, 384, 392, 403, 384, 393, 390, 400, 401, 391]"
      ]
     },
     "execution_count": 31,
     "metadata": {},
     "output_type": "execute_result"
    }
   ],
   "source": [
    "decom_lengths_list"
   ]
  },
  {
   "cell_type": "markdown",
   "id": "43bc6bcf-3f74-41a6-89e3-9c4a88a42a2e",
   "metadata": {},
   "source": [
    "Save the processed data in a folder."
   ]
  },
  {
   "cell_type": "code",
   "execution_count": 32,
   "id": "0956406a-20b0-4da5-9b5d-f7de7daa42ca",
   "metadata": {},
   "outputs": [],
   "source": [
    "lengths_filepath = './processed data (trunc expt)/SER_1_dim32_lengths.json'\n",
    "\n",
    "with open(lengths_filepath, 'w') as out1:\n",
    "    json.dump(decom_lengths_list, out1, cls=NumpyEncoder)"
   ]
  },
  {
   "cell_type": "markdown",
   "id": "aac083a7-fc17-4c0d-adf8-2e438a9ecc45",
   "metadata": {},
   "source": [
    "## $64 \\times 64$ matrices"
   ]
  },
  {
   "cell_type": "code",
   "execution_count": 33,
   "id": "effb0351-3ad9-43aa-803b-349ee20a887c",
   "metadata": {},
   "outputs": [],
   "source": [
    "decom_lengths_list = []\n",
    "\n",
    "for k in range(10):\n",
    "    decom_filepath = './raw data (trunc_SER_1)/dim64_decom_m' + str(k) + '.json'\n",
    "    \n",
    "    with open(decom_filepath) as out1:\n",
    "        decom = json.load(out1)\n",
    "    \n",
    "    decom_length = decom[0]\n",
    "    decom_lengths_list.append(decom_length)"
   ]
  },
  {
   "cell_type": "code",
   "execution_count": 34,
   "id": "75c67212-813b-4bab-adf1-81648123a1de",
   "metadata": {},
   "outputs": [
    {
     "data": {
      "text/plain": [
       "[930, 911, 957, 928, 935, 900, 943, 921, 934, 927]"
      ]
     },
     "execution_count": 34,
     "metadata": {},
     "output_type": "execute_result"
    }
   ],
   "source": [
    "decom_lengths_list"
   ]
  },
  {
   "cell_type": "markdown",
   "id": "6f8046a3-bc25-4d5a-88ca-d38c12717700",
   "metadata": {},
   "source": [
    "Save the processed data in a folder."
   ]
  },
  {
   "cell_type": "code",
   "execution_count": 35,
   "id": "08953b47-a591-467c-9ec0-fec8543c6c04",
   "metadata": {},
   "outputs": [],
   "source": [
    "lengths_filepath = './processed data (trunc expt)/SER_1_dim64_lengths.json'\n",
    "\n",
    "with open(lengths_filepath, 'w') as out1:\n",
    "    json.dump(decom_lengths_list, out1, cls=NumpyEncoder)"
   ]
  },
  {
   "cell_type": "markdown",
   "id": "44c6c3e7-8866-4348-bc2f-b220c74fbc0c",
   "metadata": {},
   "source": [
    "# SER 2"
   ]
  },
  {
   "cell_type": "markdown",
   "id": "39e4ee36-266d-4744-a2c7-f786b6d08ef8",
   "metadata": {},
   "source": [
    "## $8 \\times 8$ matrices"
   ]
  },
  {
   "cell_type": "code",
   "execution_count": 36,
   "id": "e86c1463-407e-423a-b4ab-4981597fa67e",
   "metadata": {},
   "outputs": [],
   "source": [
    "decom_lengths_list = []\n",
    "\n",
    "for k in range(10):\n",
    "    decom_filepath = './raw data (trunc_SER_2)/dim8_decom_m' + str(k) + '.json'\n",
    "    \n",
    "    with open(decom_filepath) as out1:\n",
    "        decom = json.load(out1)\n",
    "    \n",
    "    decom_length = decom[0]\n",
    "    decom_lengths_list.append(decom_length)"
   ]
  },
  {
   "cell_type": "code",
   "execution_count": 37,
   "id": "f99f17e8-80da-46a5-9679-3eb35e655d98",
   "metadata": {},
   "outputs": [
    {
     "data": {
      "text/plain": [
       "[30, 30, 31, 30, 30, 29, 29, 30, 30, 32]"
      ]
     },
     "execution_count": 37,
     "metadata": {},
     "output_type": "execute_result"
    }
   ],
   "source": [
    "decom_lengths_list"
   ]
  },
  {
   "cell_type": "markdown",
   "id": "0b672738-2203-4c6a-be82-c854cf150b35",
   "metadata": {},
   "source": [
    "Save the processed data in a folder."
   ]
  },
  {
   "cell_type": "code",
   "execution_count": 38,
   "id": "d633b8fb-56b1-4c75-939d-6c01d4b76e7e",
   "metadata": {},
   "outputs": [],
   "source": [
    "lengths_filepath = './processed data (trunc expt)/SER_2_dim8_lengths.json'\n",
    "\n",
    "with open(lengths_filepath, 'w') as out1:\n",
    "    json.dump(decom_lengths_list, out1, cls=NumpyEncoder)"
   ]
  },
  {
   "cell_type": "markdown",
   "id": "8bde3505-d237-412b-ba26-3cbf4db0a185",
   "metadata": {},
   "source": [
    "## $16 \\times 16$ matrices"
   ]
  },
  {
   "cell_type": "code",
   "execution_count": 39,
   "id": "7270bfd0-823d-4332-91b5-2e5195dbc8ad",
   "metadata": {},
   "outputs": [],
   "source": [
    "decom_lengths_list = []\n",
    "\n",
    "for k in range(10):\n",
    "    decom_filepath = './raw data (trunc_SER_2)/dim16_decom_m' + str(k) + '.json'\n",
    "    \n",
    "    with open(decom_filepath) as out1:\n",
    "        decom = json.load(out1)\n",
    "    \n",
    "    decom_length = decom[0]\n",
    "    decom_lengths_list.append(decom_length)"
   ]
  },
  {
   "cell_type": "code",
   "execution_count": 40,
   "id": "98587640-7ce5-4cb1-b47d-a6e68739f31f",
   "metadata": {},
   "outputs": [
    {
     "data": {
      "text/plain": [
       "[62, 61, 63, 61, 61, 62, 61, 60, 61, 60]"
      ]
     },
     "execution_count": 40,
     "metadata": {},
     "output_type": "execute_result"
    }
   ],
   "source": [
    "decom_lengths_list"
   ]
  },
  {
   "cell_type": "markdown",
   "id": "d0dcc428-fb1f-47d7-bb78-b79b29311073",
   "metadata": {},
   "source": [
    "Save the processed data in a folder."
   ]
  },
  {
   "cell_type": "code",
   "execution_count": 41,
   "id": "02d801f8-773f-42b2-8ff7-6d9f8596f7dd",
   "metadata": {},
   "outputs": [],
   "source": [
    "lengths_filepath = './processed data (trunc expt)/SER_2_dim16_lengths.json'\n",
    "\n",
    "with open(lengths_filepath, 'w') as out1:\n",
    "    json.dump(decom_lengths_list, out1, cls=NumpyEncoder)"
   ]
  },
  {
   "cell_type": "markdown",
   "id": "882cda82-b1f8-4a5d-bada-a7960b7456fd",
   "metadata": {},
   "source": [
    "## $32 \\times 32$ matrices"
   ]
  },
  {
   "cell_type": "code",
   "execution_count": 42,
   "id": "b32cdab8-ac2a-419e-b8c7-aa4a004b33ce",
   "metadata": {},
   "outputs": [],
   "source": [
    "decom_lengths_list = []\n",
    "\n",
    "for k in range(10):\n",
    "    decom_filepath = './raw data (trunc_SER_2)/dim32_decom_m' + str(k) + '.json'\n",
    "    \n",
    "    with open(decom_filepath) as out1:\n",
    "        decom = json.load(out1)\n",
    "    \n",
    "    decom_length = decom[0]\n",
    "    decom_lengths_list.append(decom_length)"
   ]
  },
  {
   "cell_type": "code",
   "execution_count": 43,
   "id": "0b4fe045-8828-43f0-84ee-2886e685e179",
   "metadata": {},
   "outputs": [
    {
     "data": {
      "text/plain": [
       "[114, 116, 116, 115, 118, 117, 116, 117, 114, 115]"
      ]
     },
     "execution_count": 43,
     "metadata": {},
     "output_type": "execute_result"
    }
   ],
   "source": [
    "decom_lengths_list"
   ]
  },
  {
   "cell_type": "markdown",
   "id": "cb45cbf3-f641-490b-a8f4-a34eb2c907a0",
   "metadata": {},
   "source": [
    "Save the processed data in a folder."
   ]
  },
  {
   "cell_type": "code",
   "execution_count": 44,
   "id": "deb451cf-d744-4cc9-b880-277232d25f2f",
   "metadata": {},
   "outputs": [],
   "source": [
    "lengths_filepath = './processed data (trunc expt)/SER_2_dim32_lengths.json'\n",
    "\n",
    "with open(lengths_filepath, 'w') as out1:\n",
    "    json.dump(decom_lengths_list, out1, cls=NumpyEncoder)"
   ]
  },
  {
   "cell_type": "markdown",
   "id": "873dfb46-3d8a-442b-9630-ef2c9bb5d18f",
   "metadata": {},
   "source": [
    "## $64 \\times 64$ matrices"
   ]
  },
  {
   "cell_type": "code",
   "execution_count": 45,
   "id": "95aaefca-2358-4e79-807a-95f96b94ef7f",
   "metadata": {},
   "outputs": [],
   "source": [
    "decom_lengths_list = []\n",
    "\n",
    "for k in range(10):\n",
    "    decom_filepath = './raw data (trunc_SER_2)/dim64_decom_m' + str(k) + '.json'\n",
    "    \n",
    "    with open(decom_filepath) as out1:\n",
    "        decom = json.load(out1)\n",
    "    \n",
    "    decom_length = decom[0]\n",
    "    decom_lengths_list.append(decom_length)"
   ]
  },
  {
   "cell_type": "code",
   "execution_count": 46,
   "id": "38c899f4-3c39-47c7-8f2d-0ac5482966aa",
   "metadata": {},
   "outputs": [
    {
     "data": {
      "text/plain": [
       "[206, 211, 205, 212, 208, 208, 207, 216, 207, 207]"
      ]
     },
     "execution_count": 46,
     "metadata": {},
     "output_type": "execute_result"
    }
   ],
   "source": [
    "decom_lengths_list"
   ]
  },
  {
   "cell_type": "markdown",
   "id": "02863512-02ef-44fc-b24d-ad17e52b0fc5",
   "metadata": {},
   "source": [
    "Save the processed data in a folder."
   ]
  },
  {
   "cell_type": "code",
   "execution_count": 47,
   "id": "edb4385e-a1b7-41b9-a787-a27260033a2f",
   "metadata": {},
   "outputs": [],
   "source": [
    "lengths_filepath = './processed data (trunc expt)/SER_2_dim64_lengths.json'\n",
    "\n",
    "with open(lengths_filepath, 'w') as out1:\n",
    "    json.dump(decom_lengths_list, out1, cls=NumpyEncoder)"
   ]
  }
 ],
 "metadata": {
  "kernelspec": {
   "display_name": "Python 3 (ipykernel)",
   "language": "python",
   "name": "python3"
  },
  "language_info": {
   "codemirror_mode": {
    "name": "ipython",
    "version": 3
   },
   "file_extension": ".py",
   "mimetype": "text/x-python",
   "name": "python",
   "nbconvert_exporter": "python",
   "pygments_lexer": "ipython3",
   "version": "3.9.19"
  }
 },
 "nbformat": 4,
 "nbformat_minor": 5
}
