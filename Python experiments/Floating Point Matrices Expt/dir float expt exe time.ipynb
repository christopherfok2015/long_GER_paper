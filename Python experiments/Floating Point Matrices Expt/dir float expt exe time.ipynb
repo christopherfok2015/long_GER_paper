{
 "cells": [
  {
   "cell_type": "code",
   "execution_count": 1,
   "id": "47e41c24-5f62-4b2e-8766-19d5ebb12c26",
   "metadata": {},
   "outputs": [],
   "source": [
    "import numpy as np\n",
    "import math\n",
    "import copy\n",
    "import datetime\n",
    "import pandas as pd\n",
    "import json"
   ]
  },
  {
   "cell_type": "code",
   "execution_count": 2,
   "id": "a06107c5-cc6f-462d-a2b0-ce9d4c0d4db6",
   "metadata": {},
   "outputs": [],
   "source": [
    "# Custom JSON encoder that handles NumPy types (created by GPT-o3 on poe.com)\n",
    "class NumpyEncoder(json.JSONEncoder):\n",
    "    def default(self, obj):\n",
    "        if isinstance(obj, (np.integer,)):\n",
    "            return int(obj)\n",
    "        elif isinstance(obj, (np.floating,)):\n",
    "            return float(obj)\n",
    "        elif isinstance(obj, (np.ndarray,)):\n",
    "            return obj.tolist()\n",
    "        return super(NumpyEncoder, self).default(obj)"
   ]
  },
  {
   "cell_type": "markdown",
   "id": "045a5a2d-5bca-4859-b286-4e83f737c727",
   "metadata": {},
   "source": [
    "# GER"
   ]
  },
  {
   "cell_type": "markdown",
   "id": "bc21b9d9-a232-4977-8ef3-26f06dd38736",
   "metadata": {},
   "source": [
    "## $8 \\times 8$ matrices"
   ]
  },
  {
   "cell_type": "code",
   "execution_count": 3,
   "id": "c8058625-5b3d-4aa8-bf0a-0aab52ff762f",
   "metadata": {},
   "outputs": [],
   "source": [
    "list_of_exe_times = []\n",
    "\n",
    "for mat_num in range(10):\n",
    "    time_filepath = './raw data (float_GER)/dim8_time_' + str(mat_num) + '.json'\n",
    "            \n",
    "    with open(time_filepath) as out:\n",
    "        exe_dur_dict = json.load(out)\n",
    "            \n",
    "    list_of_exe_times.append(exe_dur_dict[\"execution time\"])"
   ]
  },
  {
   "cell_type": "code",
   "execution_count": 4,
   "id": "0988c91a-7e9f-437e-aa6d-73c28c30ef1a",
   "metadata": {},
   "outputs": [
    {
     "data": {
      "text/plain": [
       "[2.916479,\n",
       " 3.092042,\n",
       " 2.997025,\n",
       " 2.365654,\n",
       " 2.367956,\n",
       " 2.145093,\n",
       " 2.158396,\n",
       " 2.09882,\n",
       " 2.083825,\n",
       " 2.112923]"
      ]
     },
     "execution_count": 4,
     "metadata": {},
     "output_type": "execute_result"
    }
   ],
   "source": [
    "list_of_exe_times"
   ]
  },
  {
   "cell_type": "markdown",
   "id": "ab6414b4-6e4b-4f8d-a7cb-da1d362526a4",
   "metadata": {},
   "source": [
    "Maximum execution time (in seconds)"
   ]
  },
  {
   "cell_type": "code",
   "execution_count": 5,
   "id": "ae45dfe3-dde5-47bc-98a9-c7974ca3f21d",
   "metadata": {},
   "outputs": [
    {
     "data": {
      "text/plain": [
       "3.092042"
      ]
     },
     "execution_count": 5,
     "metadata": {},
     "output_type": "execute_result"
    }
   ],
   "source": [
    "max(list_of_exe_times)"
   ]
  },
  {
   "cell_type": "markdown",
   "id": "9afe60dd-9a8b-4409-8bd2-925f67a30647",
   "metadata": {},
   "source": [
    "Mean execution time (in seconds)"
   ]
  },
  {
   "cell_type": "code",
   "execution_count": 6,
   "id": "e63a620c-0624-42cc-845f-085f1d332198",
   "metadata": {},
   "outputs": [
    {
     "data": {
      "text/plain": [
       "2.4338212999999995"
      ]
     },
     "execution_count": 6,
     "metadata": {},
     "output_type": "execute_result"
    }
   ],
   "source": [
    "sum(list_of_exe_times) / len(list_of_exe_times)"
   ]
  },
  {
   "cell_type": "markdown",
   "id": "0dec57ff-3ade-4240-b97e-8a7b8cdde7e1",
   "metadata": {},
   "source": [
    "Minimum execution time (in seconds)"
   ]
  },
  {
   "cell_type": "code",
   "execution_count": 7,
   "id": "1cde287f-3344-4fdf-9ea2-a475f2550c77",
   "metadata": {},
   "outputs": [
    {
     "data": {
      "text/plain": [
       "2.083825"
      ]
     },
     "execution_count": 7,
     "metadata": {},
     "output_type": "execute_result"
    }
   ],
   "source": [
    "min(list_of_exe_times)"
   ]
  },
  {
   "cell_type": "markdown",
   "id": "a1a16add-4a25-42cc-b6ce-73fe6b24ae36",
   "metadata": {},
   "source": [
    "Save the data in a folder."
   ]
  },
  {
   "cell_type": "code",
   "execution_count": 8,
   "id": "f2c6d94b-05db-47c0-b27f-db659f2008c3",
   "metadata": {},
   "outputs": [],
   "source": [
    "time_filepath = './processed data (float expt)/GER_dim8_exe_times_list.json'\n",
    "\n",
    "with open(time_filepath, 'w') as out1:\n",
    "    json.dump(list_of_exe_times, out1, cls=NumpyEncoder)"
   ]
  },
  {
   "cell_type": "markdown",
   "id": "0a467b14-f863-4f75-b0fc-99515768341b",
   "metadata": {},
   "source": [
    "## $16 \\times 16$ matrices"
   ]
  },
  {
   "cell_type": "code",
   "execution_count": 9,
   "id": "cc2ffbab-186a-42fc-b87a-d1c0250a9def",
   "metadata": {},
   "outputs": [],
   "source": [
    "list_of_exe_times = []\n",
    "\n",
    "for mat_num in range(10):\n",
    "    time_filepath = './raw data (float_GER)/dim16_time_' + str(mat_num) + '.json'\n",
    "            \n",
    "    with open(time_filepath) as out:\n",
    "        exe_dur_dict = json.load(out)\n",
    "            \n",
    "    list_of_exe_times.append(exe_dur_dict[\"execution time\"])"
   ]
  },
  {
   "cell_type": "code",
   "execution_count": 10,
   "id": "9467052e-49dc-47df-bf4a-b8392e9800e0",
   "metadata": {},
   "outputs": [
    {
     "data": {
      "text/plain": [
       "[128.156656,\n",
       " 121.493633,\n",
       " 124.093368,\n",
       " 121.543774,\n",
       " 124.786869,\n",
       " 116.080695,\n",
       " 124.544857,\n",
       " 113.375251,\n",
       " 114.303769,\n",
       " 128.515726]"
      ]
     },
     "execution_count": 10,
     "metadata": {},
     "output_type": "execute_result"
    }
   ],
   "source": [
    "list_of_exe_times"
   ]
  },
  {
   "cell_type": "markdown",
   "id": "c4dd4b70-0f79-4828-9676-f9f457d4e776",
   "metadata": {},
   "source": [
    "Maximum execution time (in seconds)"
   ]
  },
  {
   "cell_type": "code",
   "execution_count": 11,
   "id": "1ca3e0db-f94c-4e11-87b4-5f13f43562cb",
   "metadata": {},
   "outputs": [
    {
     "data": {
      "text/plain": [
       "128.515726"
      ]
     },
     "execution_count": 11,
     "metadata": {},
     "output_type": "execute_result"
    }
   ],
   "source": [
    "max(list_of_exe_times)"
   ]
  },
  {
   "cell_type": "markdown",
   "id": "e78fd5a9-7378-4815-8d13-204029fc0589",
   "metadata": {},
   "source": [
    "Mean execution time (in seconds)"
   ]
  },
  {
   "cell_type": "code",
   "execution_count": 12,
   "id": "a71b8214-9dd4-428c-b870-12e805e7560c",
   "metadata": {},
   "outputs": [
    {
     "data": {
      "text/plain": [
       "121.68945980000001"
      ]
     },
     "execution_count": 12,
     "metadata": {},
     "output_type": "execute_result"
    }
   ],
   "source": [
    "sum(list_of_exe_times) / len(list_of_exe_times)"
   ]
  },
  {
   "cell_type": "markdown",
   "id": "81a4d3b4-cb84-4874-a813-485afd03c697",
   "metadata": {},
   "source": [
    "Minimum execution time (in seconds)"
   ]
  },
  {
   "cell_type": "code",
   "execution_count": 13,
   "id": "419bc007-263a-49c6-ab1d-28ecc703da9a",
   "metadata": {},
   "outputs": [
    {
     "data": {
      "text/plain": [
       "113.375251"
      ]
     },
     "execution_count": 13,
     "metadata": {},
     "output_type": "execute_result"
    }
   ],
   "source": [
    "min(list_of_exe_times)"
   ]
  },
  {
   "cell_type": "markdown",
   "id": "89dbb34d-ae29-47e1-b121-5737b4223f3b",
   "metadata": {},
   "source": [
    "Save the data in a folder."
   ]
  },
  {
   "cell_type": "code",
   "execution_count": 14,
   "id": "e04ea3df-8133-4251-8785-da055b49e615",
   "metadata": {},
   "outputs": [],
   "source": [
    "time_filepath = './processed data (float expt)/GER_dim16_exe_times_list.json'\n",
    "\n",
    "with open(time_filepath, 'w') as out1:\n",
    "    json.dump(list_of_exe_times, out1, cls=NumpyEncoder)"
   ]
  },
  {
   "cell_type": "markdown",
   "id": "3bd26ace-c72a-43a8-83de-206aa1853885",
   "metadata": {},
   "source": [
    "## $32 \\times 32$ matrices"
   ]
  },
  {
   "cell_type": "code",
   "execution_count": 15,
   "id": "eb2330ae-6e3e-448e-b61a-127cbb9a77b9",
   "metadata": {},
   "outputs": [],
   "source": [
    "list_of_exe_times = []\n",
    "\n",
    "for mat_num in range(10):\n",
    "    time_filepath = './raw data (float_GER)/dim32_time_' + str(mat_num) + '.json'\n",
    "            \n",
    "    with open(time_filepath) as out:\n",
    "        exe_dur_dict = json.load(out)\n",
    "            \n",
    "    list_of_exe_times.append(exe_dur_dict[\"execution time\"])"
   ]
  },
  {
   "cell_type": "code",
   "execution_count": 16,
   "id": "53dba80b-9e0d-4c4e-832b-d52ca6896d13",
   "metadata": {},
   "outputs": [
    {
     "data": {
      "text/plain": [
       "[8837.756791,\n",
       " 8244.690414,\n",
       " 8392.983909,\n",
       " 8635.055103,\n",
       " 6547.724254,\n",
       " 7039.956023,\n",
       " 8407.628882,\n",
       " 8726.024932,\n",
       " 8067.900217,\n",
       " 6562.23903]"
      ]
     },
     "execution_count": 16,
     "metadata": {},
     "output_type": "execute_result"
    }
   ],
   "source": [
    "list_of_exe_times"
   ]
  },
  {
   "cell_type": "markdown",
   "id": "8f7be6c1-8c92-4b39-87de-f4b19ab08e20",
   "metadata": {},
   "source": [
    "Maximum execution time (in seconds)"
   ]
  },
  {
   "cell_type": "code",
   "execution_count": 17,
   "id": "08468384-af57-4530-aea3-539d1a58e24c",
   "metadata": {},
   "outputs": [
    {
     "data": {
      "text/plain": [
       "8837.756791"
      ]
     },
     "execution_count": 17,
     "metadata": {},
     "output_type": "execute_result"
    }
   ],
   "source": [
    "max(list_of_exe_times)"
   ]
  },
  {
   "cell_type": "markdown",
   "id": "195f2643-1f6b-4ba5-8a8c-ac638fca36d8",
   "metadata": {},
   "source": [
    "Mean execution time (in seconds)"
   ]
  },
  {
   "cell_type": "code",
   "execution_count": 18,
   "id": "83298f8b-20b1-4485-bbfb-3ac0926c66c7",
   "metadata": {},
   "outputs": [
    {
     "data": {
      "text/plain": [
       "7946.195955499999"
      ]
     },
     "execution_count": 18,
     "metadata": {},
     "output_type": "execute_result"
    }
   ],
   "source": [
    "sum(list_of_exe_times) / len(list_of_exe_times)"
   ]
  },
  {
   "cell_type": "markdown",
   "id": "45e2d0b3-26d1-41b0-8139-5a6f5d81a54a",
   "metadata": {},
   "source": [
    "Minimum execution time (in seconds)"
   ]
  },
  {
   "cell_type": "code",
   "execution_count": 19,
   "id": "f232eafe-e735-40e7-9393-b5f15adf20c1",
   "metadata": {},
   "outputs": [
    {
     "data": {
      "text/plain": [
       "6547.724254"
      ]
     },
     "execution_count": 19,
     "metadata": {},
     "output_type": "execute_result"
    }
   ],
   "source": [
    "min(list_of_exe_times)"
   ]
  },
  {
   "cell_type": "markdown",
   "id": "4ed78455-226b-4900-9a9b-076637748927",
   "metadata": {},
   "source": [
    "Save the data in a folder."
   ]
  },
  {
   "cell_type": "code",
   "execution_count": 20,
   "id": "e5122ba4-3cf6-4f1f-a9ec-4c98133779e1",
   "metadata": {},
   "outputs": [],
   "source": [
    "time_filepath = './processed data (float expt)/GER_dim32_exe_times_list.json'\n",
    "\n",
    "with open(time_filepath, 'w') as out1:\n",
    "    json.dump(list_of_exe_times, out1, cls=NumpyEncoder)"
   ]
  },
  {
   "cell_type": "markdown",
   "id": "083f82cf-949e-4687-b931-18f99d93496c",
   "metadata": {},
   "source": [
    "# SER 1"
   ]
  },
  {
   "cell_type": "markdown",
   "id": "b6ff9c7c-c18e-4436-ba0f-364885374a61",
   "metadata": {},
   "source": [
    "## $8 \\times 8$ matrices"
   ]
  },
  {
   "cell_type": "code",
   "execution_count": 21,
   "id": "9b1b3d2e-8f84-4fd7-997a-5809a5f2af41",
   "metadata": {},
   "outputs": [],
   "source": [
    "list_of_exe_times = []\n",
    "\n",
    "for mat_num in range(10):\n",
    "    time_filepath = './raw data (float_SER_1)/dim8_time_' + str(mat_num) + '.json'\n",
    "            \n",
    "    with open(time_filepath) as out:\n",
    "        exe_dur_dict = json.load(out)\n",
    "            \n",
    "    list_of_exe_times.append(exe_dur_dict[\"execution time\"])"
   ]
  },
  {
   "cell_type": "code",
   "execution_count": 22,
   "id": "b83ca54c-656c-4ad0-a426-25397745f287",
   "metadata": {},
   "outputs": [
    {
     "data": {
      "text/plain": [
       "[0.001497,\n",
       " 0.002467,\n",
       " 0.002005,\n",
       " 0.002014,\n",
       " 0.002013,\n",
       " 0.002494,\n",
       " 0.006726,\n",
       " 0.003,\n",
       " 0.002009,\n",
       " 0.002294]"
      ]
     },
     "execution_count": 22,
     "metadata": {},
     "output_type": "execute_result"
    }
   ],
   "source": [
    "list_of_exe_times"
   ]
  },
  {
   "cell_type": "markdown",
   "id": "ea180425-4540-4eef-a75e-b77ff40aa657",
   "metadata": {},
   "source": [
    "Maximum execution time (in seconds)"
   ]
  },
  {
   "cell_type": "code",
   "execution_count": 23,
   "id": "ddb4f439-84ff-4357-92ad-1cc4e5116d4f",
   "metadata": {},
   "outputs": [
    {
     "data": {
      "text/plain": [
       "0.006726"
      ]
     },
     "execution_count": 23,
     "metadata": {},
     "output_type": "execute_result"
    }
   ],
   "source": [
    "max(list_of_exe_times)"
   ]
  },
  {
   "cell_type": "markdown",
   "id": "b63b53ef-2130-4c67-8f12-469fd03e58de",
   "metadata": {},
   "source": [
    "Mean execution time (in seconds)"
   ]
  },
  {
   "cell_type": "code",
   "execution_count": 24,
   "id": "bab7d8b0-5ef5-4658-91fe-e03483391459",
   "metadata": {},
   "outputs": [
    {
     "data": {
      "text/plain": [
       "0.0026519"
      ]
     },
     "execution_count": 24,
     "metadata": {},
     "output_type": "execute_result"
    }
   ],
   "source": [
    "sum(list_of_exe_times) / len(list_of_exe_times)"
   ]
  },
  {
   "cell_type": "markdown",
   "id": "5ca4f6da-35a4-42a0-b65d-7a704af625b9",
   "metadata": {},
   "source": [
    "Minimum execution time (in seconds)"
   ]
  },
  {
   "cell_type": "code",
   "execution_count": 25,
   "id": "7e879276-adc4-4220-affc-879b785881a2",
   "metadata": {},
   "outputs": [
    {
     "data": {
      "text/plain": [
       "0.001497"
      ]
     },
     "execution_count": 25,
     "metadata": {},
     "output_type": "execute_result"
    }
   ],
   "source": [
    "min(list_of_exe_times)"
   ]
  },
  {
   "cell_type": "markdown",
   "id": "53a70a8c-d2dc-40ea-9749-a842b9c2af6f",
   "metadata": {},
   "source": [
    "Save the data in a folder."
   ]
  },
  {
   "cell_type": "code",
   "execution_count": 26,
   "id": "c66077ce-5da9-41f8-b723-a5aeda8cfab8",
   "metadata": {},
   "outputs": [],
   "source": [
    "time_filepath = './processed data (float expt)/SER_1_dim8_exe_times_list.json'\n",
    "\n",
    "with open(time_filepath, 'w') as out1:\n",
    "    json.dump(list_of_exe_times, out1, cls=NumpyEncoder)"
   ]
  },
  {
   "cell_type": "markdown",
   "id": "a9f8d6fb-469e-4c28-98f1-fc0ed8abc15e",
   "metadata": {},
   "source": [
    "## $16 \\times 16$ matrices"
   ]
  },
  {
   "cell_type": "code",
   "execution_count": 27,
   "id": "8ab8321c-2794-4d52-9462-4f284b01ee2c",
   "metadata": {},
   "outputs": [],
   "source": [
    "list_of_exe_times = []\n",
    "\n",
    "for mat_num in range(10):\n",
    "    time_filepath = './raw data (float_SER_1)/dim16_time_' + str(mat_num) + '.json'\n",
    "            \n",
    "    with open(time_filepath) as out:\n",
    "        exe_dur_dict = json.load(out)\n",
    "            \n",
    "    list_of_exe_times.append(exe_dur_dict[\"execution time\"])"
   ]
  },
  {
   "cell_type": "code",
   "execution_count": 28,
   "id": "6dc3fa54-4c8e-415e-be4d-60c354c8389f",
   "metadata": {},
   "outputs": [
    {
     "data": {
      "text/plain": [
       "[0.010663,\n",
       " 0.00923,\n",
       " 0.008229,\n",
       " 0.007941,\n",
       " 0.00752,\n",
       " 0.009125,\n",
       " 0.009619,\n",
       " 0.007887,\n",
       " 0.008842,\n",
       " 0.007857]"
      ]
     },
     "execution_count": 28,
     "metadata": {},
     "output_type": "execute_result"
    }
   ],
   "source": [
    "list_of_exe_times"
   ]
  },
  {
   "cell_type": "markdown",
   "id": "bf8e1964-bb6b-401a-b1c5-47222d27967b",
   "metadata": {},
   "source": [
    "Maximum execution time (in seconds)"
   ]
  },
  {
   "cell_type": "code",
   "execution_count": 29,
   "id": "19679f48-e071-40d7-b9e9-752d8d3fbfe8",
   "metadata": {},
   "outputs": [
    {
     "data": {
      "text/plain": [
       "0.010663"
      ]
     },
     "execution_count": 29,
     "metadata": {},
     "output_type": "execute_result"
    }
   ],
   "source": [
    "max(list_of_exe_times)"
   ]
  },
  {
   "cell_type": "markdown",
   "id": "b44b26f3-64c6-4df2-8efb-a74e899703a5",
   "metadata": {},
   "source": [
    "Mean execution time (in seconds)"
   ]
  },
  {
   "cell_type": "code",
   "execution_count": 30,
   "id": "faf5ab09-87f3-4a3c-b663-1ad6c65d55e1",
   "metadata": {},
   "outputs": [
    {
     "data": {
      "text/plain": [
       "0.0086913"
      ]
     },
     "execution_count": 30,
     "metadata": {},
     "output_type": "execute_result"
    }
   ],
   "source": [
    "sum(list_of_exe_times) / len(list_of_exe_times)"
   ]
  },
  {
   "cell_type": "markdown",
   "id": "f5fe09f0-d38d-4c61-a8a6-70d62572b9f8",
   "metadata": {},
   "source": [
    "Minimum execution time (in seconds)"
   ]
  },
  {
   "cell_type": "code",
   "execution_count": 31,
   "id": "df565d40-c87c-4fdd-b4d4-5a2e575f1b85",
   "metadata": {},
   "outputs": [
    {
     "data": {
      "text/plain": [
       "0.00752"
      ]
     },
     "execution_count": 31,
     "metadata": {},
     "output_type": "execute_result"
    }
   ],
   "source": [
    "min(list_of_exe_times)"
   ]
  },
  {
   "cell_type": "markdown",
   "id": "4ed82648-bc28-4e99-a7ec-fdc84dd5898e",
   "metadata": {},
   "source": [
    "Save the data in a folder."
   ]
  },
  {
   "cell_type": "code",
   "execution_count": 32,
   "id": "fe04be92-70fc-4ae4-ab3d-ccd01855c036",
   "metadata": {},
   "outputs": [],
   "source": [
    "time_filepath = './processed data (float expt)/SER_1_dim16_exe_times_list.json'\n",
    "\n",
    "with open(time_filepath, 'w') as out1:\n",
    "    json.dump(list_of_exe_times, out1, cls=NumpyEncoder)"
   ]
  },
  {
   "cell_type": "markdown",
   "id": "6c158848-89a0-4d4b-bfde-250b25b5ab90",
   "metadata": {},
   "source": [
    "## $32 \\times 32$ matrices"
   ]
  },
  {
   "cell_type": "code",
   "execution_count": 33,
   "id": "dd1a3e05-d914-4cfc-bbcf-3ec7960a87f7",
   "metadata": {},
   "outputs": [],
   "source": [
    "list_of_exe_times = []\n",
    "\n",
    "for mat_num in range(10):\n",
    "    time_filepath = './raw data (float_SER_1)/dim32_time_' + str(mat_num) + '.json'\n",
    "            \n",
    "    with open(time_filepath) as out:\n",
    "        exe_dur_dict = json.load(out)\n",
    "            \n",
    "    list_of_exe_times.append(exe_dur_dict[\"execution time\"])"
   ]
  },
  {
   "cell_type": "code",
   "execution_count": 34,
   "id": "3cff7a9f-7112-4686-a910-43e8e1122916",
   "metadata": {},
   "outputs": [
    {
     "data": {
      "text/plain": [
       "[0.092662,\n",
       " 0.063761,\n",
       " 0.069629,\n",
       " 0.072143,\n",
       " 0.066063,\n",
       " 0.086382,\n",
       " 0.084004,\n",
       " 0.107447,\n",
       " 0.086129,\n",
       " 0.081437]"
      ]
     },
     "execution_count": 34,
     "metadata": {},
     "output_type": "execute_result"
    }
   ],
   "source": [
    "list_of_exe_times"
   ]
  },
  {
   "cell_type": "markdown",
   "id": "37263273-0b9d-4e52-9e7e-791b37d321c2",
   "metadata": {},
   "source": [
    "Maximum execution time (in seconds)"
   ]
  },
  {
   "cell_type": "code",
   "execution_count": 35,
   "id": "d0607884-eeca-4014-b5c9-a64efaf30d4b",
   "metadata": {},
   "outputs": [
    {
     "data": {
      "text/plain": [
       "0.107447"
      ]
     },
     "execution_count": 35,
     "metadata": {},
     "output_type": "execute_result"
    }
   ],
   "source": [
    "max(list_of_exe_times)"
   ]
  },
  {
   "cell_type": "markdown",
   "id": "4dbae33d-1bf9-4cd9-b110-ba5c66e14dc9",
   "metadata": {},
   "source": [
    "Mean execution time (in seconds)"
   ]
  },
  {
   "cell_type": "code",
   "execution_count": 36,
   "id": "51a5fc7c-7f3c-449d-bdca-80bf91148140",
   "metadata": {},
   "outputs": [
    {
     "data": {
      "text/plain": [
       "0.0809657"
      ]
     },
     "execution_count": 36,
     "metadata": {},
     "output_type": "execute_result"
    }
   ],
   "source": [
    "sum(list_of_exe_times) / len(list_of_exe_times)"
   ]
  },
  {
   "cell_type": "markdown",
   "id": "7c8d6354-e8e5-4f70-b674-6ee65cdb0652",
   "metadata": {},
   "source": [
    "Minimum execution time (in seconds)"
   ]
  },
  {
   "cell_type": "code",
   "execution_count": 37,
   "id": "92d4386a-3cc4-4e22-89ef-d0e5e3256b64",
   "metadata": {},
   "outputs": [
    {
     "data": {
      "text/plain": [
       "0.063761"
      ]
     },
     "execution_count": 37,
     "metadata": {},
     "output_type": "execute_result"
    }
   ],
   "source": [
    "min(list_of_exe_times)"
   ]
  },
  {
   "cell_type": "markdown",
   "id": "a417deb5-ff00-4b1a-ae24-a84436cd8cb7",
   "metadata": {},
   "source": [
    "Save the data in a folder."
   ]
  },
  {
   "cell_type": "code",
   "execution_count": 38,
   "id": "5c123d83-aad8-425d-a9d1-4afbf9a1e60b",
   "metadata": {},
   "outputs": [],
   "source": [
    "time_filepath = './processed data (float expt)/SER_1_dim32_exe_times_list.json'\n",
    "\n",
    "with open(time_filepath, 'w') as out1:\n",
    "    json.dump(list_of_exe_times, out1, cls=NumpyEncoder)"
   ]
  },
  {
   "cell_type": "markdown",
   "id": "6a4318e4-5840-46ac-babf-ab744cbb68c6",
   "metadata": {},
   "source": [
    "## $64 \\times 64$ matrices"
   ]
  },
  {
   "cell_type": "code",
   "execution_count": 39,
   "id": "76d5a00b-b623-4ac4-91d5-ae7fcc59829d",
   "metadata": {},
   "outputs": [],
   "source": [
    "list_of_exe_times = []\n",
    "\n",
    "for mat_num in range(10):\n",
    "    time_filepath = './raw data (float_SER_1)/dim64_time_' + str(mat_num) + '.json'\n",
    "            \n",
    "    with open(time_filepath) as out:\n",
    "        exe_dur_dict = json.load(out)\n",
    "            \n",
    "    list_of_exe_times.append(exe_dur_dict[\"execution time\"])"
   ]
  },
  {
   "cell_type": "code",
   "execution_count": 40,
   "id": "f882b576-92db-4627-a3aa-7d9da020e9e9",
   "metadata": {},
   "outputs": [
    {
     "data": {
      "text/plain": [
       "[0.981628,\n",
       " 0.785688,\n",
       " 0.84109,\n",
       " 0.932166,\n",
       " 0.951722,\n",
       " 0.928994,\n",
       " 0.863588,\n",
       " 0.880931,\n",
       " 0.819239,\n",
       " 0.820512]"
      ]
     },
     "execution_count": 40,
     "metadata": {},
     "output_type": "execute_result"
    }
   ],
   "source": [
    "list_of_exe_times"
   ]
  },
  {
   "cell_type": "markdown",
   "id": "fa88d3c8-459f-4158-ac5f-160bbbf28e64",
   "metadata": {},
   "source": [
    "Maximum execution time (in seconds)"
   ]
  },
  {
   "cell_type": "code",
   "execution_count": 41,
   "id": "e5508112-2c03-437c-8b0b-94a6e9272ccc",
   "metadata": {},
   "outputs": [
    {
     "data": {
      "text/plain": [
       "0.981628"
      ]
     },
     "execution_count": 41,
     "metadata": {},
     "output_type": "execute_result"
    }
   ],
   "source": [
    "max(list_of_exe_times)"
   ]
  },
  {
   "cell_type": "markdown",
   "id": "4b1485f2-91d3-48df-9d0e-0c0be5e32ee0",
   "metadata": {},
   "source": [
    "Mean execution time (in seconds)"
   ]
  },
  {
   "cell_type": "code",
   "execution_count": 42,
   "id": "4afda0b2-a526-4aae-aae0-883e45ff3aa8",
   "metadata": {},
   "outputs": [
    {
     "data": {
      "text/plain": [
       "0.8805558000000001"
      ]
     },
     "execution_count": 42,
     "metadata": {},
     "output_type": "execute_result"
    }
   ],
   "source": [
    "sum(list_of_exe_times) / len(list_of_exe_times)"
   ]
  },
  {
   "cell_type": "markdown",
   "id": "28e2bf7e-0cd7-486f-b4cb-2860c1bb7aec",
   "metadata": {},
   "source": [
    "Minimum execution time (in seconds)"
   ]
  },
  {
   "cell_type": "code",
   "execution_count": 43,
   "id": "3a069205-0b26-4f76-a9d9-9f8705243e1b",
   "metadata": {},
   "outputs": [
    {
     "data": {
      "text/plain": [
       "0.785688"
      ]
     },
     "execution_count": 43,
     "metadata": {},
     "output_type": "execute_result"
    }
   ],
   "source": [
    "min(list_of_exe_times)"
   ]
  },
  {
   "cell_type": "markdown",
   "id": "9c50be6e-547a-4cce-8b74-de250fc9f04d",
   "metadata": {},
   "source": [
    "Save the data in a folder."
   ]
  },
  {
   "cell_type": "code",
   "execution_count": 44,
   "id": "a00c4b0e-6f5d-45c6-8d23-23920435992c",
   "metadata": {},
   "outputs": [],
   "source": [
    "time_filepath = './processed data (float expt)/SER_1_dim64_exe_times_list.json'\n",
    "\n",
    "with open(time_filepath, 'w') as out1:\n",
    "    json.dump(list_of_exe_times, out1, cls=NumpyEncoder)"
   ]
  },
  {
   "cell_type": "markdown",
   "id": "96c3df96-5dbb-4bcf-8e53-9ebe7a2d8de6",
   "metadata": {},
   "source": [
    "# SER 2"
   ]
  },
  {
   "cell_type": "markdown",
   "id": "670148ee-9031-44cf-a7c7-a6e8f7c502c9",
   "metadata": {},
   "source": [
    "## $8 \\times 8$ matrices"
   ]
  },
  {
   "cell_type": "code",
   "execution_count": 45,
   "id": "5e80f5a5-0cf0-4315-b215-73e73c6452d4",
   "metadata": {},
   "outputs": [],
   "source": [
    "list_of_exe_times = []\n",
    "\n",
    "for mat_num in range(10):\n",
    "    time_filepath = './raw data (float_SER_2)/dim8_time_' + str(mat_num) + '.json'\n",
    "            \n",
    "    with open(time_filepath) as out:\n",
    "        exe_dur_dict = json.load(out)\n",
    "            \n",
    "    list_of_exe_times.append(exe_dur_dict[\"execution time\"])"
   ]
  },
  {
   "cell_type": "code",
   "execution_count": 46,
   "id": "45258715-ee96-4923-8102-ef9b75ba5bb3",
   "metadata": {},
   "outputs": [
    {
     "data": {
      "text/plain": [
       "[0.0, 0.001001, 0.00107, 0.0, 0.001007, 0.001007, 0.0, 0.0, 0.001007, 0.001023]"
      ]
     },
     "execution_count": 46,
     "metadata": {},
     "output_type": "execute_result"
    }
   ],
   "source": [
    "list_of_exe_times"
   ]
  },
  {
   "cell_type": "markdown",
   "id": "fee32dba-a760-40ee-99f5-7fac8493ed32",
   "metadata": {},
   "source": [
    "Maximum execution time (in seconds)"
   ]
  },
  {
   "cell_type": "code",
   "execution_count": 47,
   "id": "44f52563-a711-4694-89ac-d6374bb4ab1c",
   "metadata": {},
   "outputs": [
    {
     "data": {
      "text/plain": [
       "0.00107"
      ]
     },
     "execution_count": 47,
     "metadata": {},
     "output_type": "execute_result"
    }
   ],
   "source": [
    "max(list_of_exe_times)"
   ]
  },
  {
   "cell_type": "markdown",
   "id": "60c0b799-fb91-41ec-a1db-11869fec3f55",
   "metadata": {},
   "source": [
    "Mean execution time (in seconds)"
   ]
  },
  {
   "cell_type": "code",
   "execution_count": 48,
   "id": "fba9d5c5-99eb-419c-8e6e-cb8381ae83d4",
   "metadata": {},
   "outputs": [
    {
     "data": {
      "text/plain": [
       "0.0006115000000000001"
      ]
     },
     "execution_count": 48,
     "metadata": {},
     "output_type": "execute_result"
    }
   ],
   "source": [
    "sum(list_of_exe_times) / len(list_of_exe_times)"
   ]
  },
  {
   "cell_type": "markdown",
   "id": "35950258-ba2a-4cae-80ec-102dca233da2",
   "metadata": {},
   "source": [
    "Minimum execution time (in seconds)"
   ]
  },
  {
   "cell_type": "code",
   "execution_count": 49,
   "id": "adc9751a-4844-41fe-9183-69df0511faf0",
   "metadata": {},
   "outputs": [
    {
     "data": {
      "text/plain": [
       "0.0"
      ]
     },
     "execution_count": 49,
     "metadata": {},
     "output_type": "execute_result"
    }
   ],
   "source": [
    "min(list_of_exe_times)"
   ]
  },
  {
   "cell_type": "markdown",
   "id": "908c6518-3241-497c-93cf-0232d54c7815",
   "metadata": {},
   "source": [
    "Save the data in a folder."
   ]
  },
  {
   "cell_type": "code",
   "execution_count": 50,
   "id": "0eb624a7-2e55-48bd-8699-b1f232ce80ae",
   "metadata": {},
   "outputs": [],
   "source": [
    "time_filepath = './processed data (float expt)/SER_2_dim8_exe_times_list.json'\n",
    "\n",
    "with open(time_filepath, 'w') as out1:\n",
    "    json.dump(list_of_exe_times, out1, cls=NumpyEncoder)"
   ]
  },
  {
   "cell_type": "markdown",
   "id": "0885fef4-7c4d-4e81-8313-b8f534ba3acb",
   "metadata": {},
   "source": [
    "## $16 \\times 16$ matrices"
   ]
  },
  {
   "cell_type": "code",
   "execution_count": 51,
   "id": "94f87aeb-1027-4120-9dfb-39d88faaba85",
   "metadata": {},
   "outputs": [],
   "source": [
    "list_of_exe_times = []\n",
    "\n",
    "for mat_num in range(10):\n",
    "    time_filepath = './raw data (float_SER_2)/dim16_time_' + str(mat_num) + '.json'\n",
    "            \n",
    "    with open(time_filepath) as out:\n",
    "        exe_dur_dict = json.load(out)\n",
    "            \n",
    "    list_of_exe_times.append(exe_dur_dict[\"execution time\"])"
   ]
  },
  {
   "cell_type": "code",
   "execution_count": 52,
   "id": "a64f8bf7-35ad-4584-bdb8-4ff107a42bd4",
   "metadata": {},
   "outputs": [
    {
     "data": {
      "text/plain": [
       "[0.002568,\n",
       " 0.001,\n",
       " 0.001533,\n",
       " 0.001,\n",
       " 0.001443,\n",
       " 0.001102,\n",
       " 0.001375,\n",
       " 0.001408,\n",
       " 0.00102,\n",
       " 0.001]"
      ]
     },
     "execution_count": 52,
     "metadata": {},
     "output_type": "execute_result"
    }
   ],
   "source": [
    "list_of_exe_times"
   ]
  },
  {
   "cell_type": "markdown",
   "id": "0bbed9e0-4b6e-45d4-9e13-0ebc4cc5f111",
   "metadata": {},
   "source": [
    "Maximum execution time (in seconds)"
   ]
  },
  {
   "cell_type": "code",
   "execution_count": 53,
   "id": "00e66cdf-b4c5-4f81-9b6c-2a30a7d5dc27",
   "metadata": {},
   "outputs": [
    {
     "data": {
      "text/plain": [
       "0.002568"
      ]
     },
     "execution_count": 53,
     "metadata": {},
     "output_type": "execute_result"
    }
   ],
   "source": [
    "max(list_of_exe_times)"
   ]
  },
  {
   "cell_type": "markdown",
   "id": "21e7d0c2-92ec-45ec-8e18-b6bbe2f078d2",
   "metadata": {},
   "source": [
    "Mean execution time (in seconds)"
   ]
  },
  {
   "cell_type": "code",
   "execution_count": 54,
   "id": "204cbeee-c547-43b8-955f-d62b418fb3be",
   "metadata": {},
   "outputs": [
    {
     "data": {
      "text/plain": [
       "0.0013449"
      ]
     },
     "execution_count": 54,
     "metadata": {},
     "output_type": "execute_result"
    }
   ],
   "source": [
    "sum(list_of_exe_times) / len(list_of_exe_times)"
   ]
  },
  {
   "cell_type": "markdown",
   "id": "796a3a23-8ae7-4faa-b372-58cab1f55784",
   "metadata": {},
   "source": [
    "Minimum execution time (in seconds)"
   ]
  },
  {
   "cell_type": "code",
   "execution_count": 55,
   "id": "3e1a53be-3b98-4b7e-aa15-0e61a256aa80",
   "metadata": {},
   "outputs": [
    {
     "data": {
      "text/plain": [
       "0.001"
      ]
     },
     "execution_count": 55,
     "metadata": {},
     "output_type": "execute_result"
    }
   ],
   "source": [
    "min(list_of_exe_times)"
   ]
  },
  {
   "cell_type": "markdown",
   "id": "1c00d66d-e529-4903-8ecf-52f4bdba93a5",
   "metadata": {},
   "source": [
    "Save the data in a folder."
   ]
  },
  {
   "cell_type": "code",
   "execution_count": 56,
   "id": "e2ab2de1-6007-4ad1-b8e9-a0f3ac3fbe34",
   "metadata": {},
   "outputs": [],
   "source": [
    "time_filepath = './processed data (float expt)/SER_2_dim16_exe_times_list.json'\n",
    "\n",
    "with open(time_filepath, 'w') as out1:\n",
    "    json.dump(list_of_exe_times, out1, cls=NumpyEncoder)"
   ]
  },
  {
   "cell_type": "markdown",
   "id": "f1506c64-5674-405c-85fc-7da378d4c792",
   "metadata": {},
   "source": [
    "## $32 \\times 32$ matrices"
   ]
  },
  {
   "cell_type": "code",
   "execution_count": 57,
   "id": "77b7e2c6-617e-4b87-8c8a-4814bf640933",
   "metadata": {},
   "outputs": [],
   "source": [
    "list_of_exe_times = []\n",
    "\n",
    "for mat_num in range(10):\n",
    "    time_filepath = './raw data (float_SER_2)/dim32_time_' + str(mat_num) + '.json'\n",
    "            \n",
    "    with open(time_filepath) as out:\n",
    "        exe_dur_dict = json.load(out)\n",
    "            \n",
    "    list_of_exe_times.append(exe_dur_dict[\"execution time\"])"
   ]
  },
  {
   "cell_type": "code",
   "execution_count": 58,
   "id": "88a3cc86-3ca9-46d4-9867-1972f5534cc1",
   "metadata": {},
   "outputs": [
    {
     "data": {
      "text/plain": [
       "[0.003524,\n",
       " 0.003007,\n",
       " 0.002006,\n",
       " 0.00202,\n",
       " 0.003012,\n",
       " 0.003013,\n",
       " 0.004001,\n",
       " 0.006027,\n",
       " 0.004398,\n",
       " 0.003643]"
      ]
     },
     "execution_count": 58,
     "metadata": {},
     "output_type": "execute_result"
    }
   ],
   "source": [
    "list_of_exe_times"
   ]
  },
  {
   "cell_type": "markdown",
   "id": "dc78129a-a189-4105-b2c9-2c74dd84eb6f",
   "metadata": {},
   "source": [
    "Maximum execution time (in seconds)"
   ]
  },
  {
   "cell_type": "code",
   "execution_count": 59,
   "id": "04380204-1860-4810-8e4b-1f1f9b9e71e5",
   "metadata": {},
   "outputs": [
    {
     "data": {
      "text/plain": [
       "0.006027"
      ]
     },
     "execution_count": 59,
     "metadata": {},
     "output_type": "execute_result"
    }
   ],
   "source": [
    "max(list_of_exe_times)"
   ]
  },
  {
   "cell_type": "markdown",
   "id": "ea307537-9cf7-423a-861c-7b6e4c58b7be",
   "metadata": {},
   "source": [
    "Mean execution time (in seconds)"
   ]
  },
  {
   "cell_type": "code",
   "execution_count": 60,
   "id": "9237a1fc-abeb-4197-974b-f37974b74f3e",
   "metadata": {},
   "outputs": [
    {
     "data": {
      "text/plain": [
       "0.0034651"
      ]
     },
     "execution_count": 60,
     "metadata": {},
     "output_type": "execute_result"
    }
   ],
   "source": [
    "sum(list_of_exe_times) / len(list_of_exe_times)"
   ]
  },
  {
   "cell_type": "markdown",
   "id": "2146ef09-2f51-4390-8644-47b6b80c1493",
   "metadata": {},
   "source": [
    "Minimum execution time (in seconds)"
   ]
  },
  {
   "cell_type": "code",
   "execution_count": 61,
   "id": "c036e73b-2507-4c82-9e6a-95a395e7631c",
   "metadata": {},
   "outputs": [
    {
     "data": {
      "text/plain": [
       "0.002006"
      ]
     },
     "execution_count": 61,
     "metadata": {},
     "output_type": "execute_result"
    }
   ],
   "source": [
    "min(list_of_exe_times)"
   ]
  },
  {
   "cell_type": "markdown",
   "id": "b5a6f3ef-8f39-49c3-ab1b-1da46fcff898",
   "metadata": {},
   "source": [
    "Save the data in a folder."
   ]
  },
  {
   "cell_type": "code",
   "execution_count": 62,
   "id": "bea29ed0-eb6c-4380-a8ec-81d0f877f0c4",
   "metadata": {},
   "outputs": [],
   "source": [
    "time_filepath = './processed data (float expt)/SER_2_dim32_exe_times_list.json'\n",
    "\n",
    "with open(time_filepath, 'w') as out1:\n",
    "    json.dump(list_of_exe_times, out1, cls=NumpyEncoder)"
   ]
  },
  {
   "cell_type": "markdown",
   "id": "c7ca940d-54de-4a4d-b35a-f317ea6a7376",
   "metadata": {},
   "source": [
    "## $64 \\times 64$ matrices"
   ]
  },
  {
   "cell_type": "code",
   "execution_count": 63,
   "id": "3744f072-f754-4429-9ce9-852e3b07f564",
   "metadata": {},
   "outputs": [],
   "source": [
    "list_of_exe_times = []\n",
    "\n",
    "for mat_num in range(10):\n",
    "    time_filepath = './raw data (float_SER_2)/dim64_time_' + str(mat_num) + '.json'\n",
    "            \n",
    "    with open(time_filepath) as out:\n",
    "        exe_dur_dict = json.load(out)\n",
    "            \n",
    "    list_of_exe_times.append(exe_dur_dict[\"execution time\"])"
   ]
  },
  {
   "cell_type": "code",
   "execution_count": 64,
   "id": "261e044d-bbb8-4b0e-929b-a98f8f0f0f95",
   "metadata": {},
   "outputs": [
    {
     "data": {
      "text/plain": [
       "[0.010198,\n",
       " 0.015958,\n",
       " 0.014519,\n",
       " 0.014507,\n",
       " 0.019476,\n",
       " 0.015705,\n",
       " 0.009569,\n",
       " 0.015336,\n",
       " 0.014509,\n",
       " 0.009066]"
      ]
     },
     "execution_count": 64,
     "metadata": {},
     "output_type": "execute_result"
    }
   ],
   "source": [
    "list_of_exe_times"
   ]
  },
  {
   "cell_type": "markdown",
   "id": "545e7b4a-2a11-42b1-87b9-df5dc801e5da",
   "metadata": {},
   "source": [
    "Maximum execution time (in seconds)"
   ]
  },
  {
   "cell_type": "code",
   "execution_count": 65,
   "id": "c81ea528-c98e-437f-ba23-a4452e266090",
   "metadata": {},
   "outputs": [
    {
     "data": {
      "text/plain": [
       "0.019476"
      ]
     },
     "execution_count": 65,
     "metadata": {},
     "output_type": "execute_result"
    }
   ],
   "source": [
    "max(list_of_exe_times)"
   ]
  },
  {
   "cell_type": "markdown",
   "id": "491c65d5-3b71-4572-bcb1-c8e6bc9f4bd0",
   "metadata": {},
   "source": [
    "Mean execution time (in seconds)"
   ]
  },
  {
   "cell_type": "code",
   "execution_count": 66,
   "id": "20766415-0db0-41e8-9fda-e792fba0d262",
   "metadata": {},
   "outputs": [
    {
     "data": {
      "text/plain": [
       "0.013884299999999999"
      ]
     },
     "execution_count": 66,
     "metadata": {},
     "output_type": "execute_result"
    }
   ],
   "source": [
    "sum(list_of_exe_times) / len(list_of_exe_times)"
   ]
  },
  {
   "cell_type": "markdown",
   "id": "f5f5a216-9c42-463b-8470-e56824e8a15e",
   "metadata": {},
   "source": [
    "Minimum execution time (in seconds)"
   ]
  },
  {
   "cell_type": "code",
   "execution_count": 67,
   "id": "09f71647-77ca-498c-8c91-cefb10439106",
   "metadata": {},
   "outputs": [
    {
     "data": {
      "text/plain": [
       "0.009066"
      ]
     },
     "execution_count": 67,
     "metadata": {},
     "output_type": "execute_result"
    }
   ],
   "source": [
    "min(list_of_exe_times)"
   ]
  },
  {
   "cell_type": "markdown",
   "id": "1c5ea489-e457-4e6c-9e70-af72b84e587b",
   "metadata": {},
   "source": [
    "Save the data in a folder."
   ]
  },
  {
   "cell_type": "code",
   "execution_count": 68,
   "id": "5d333f34-5b84-4e53-90d5-0424637e38f4",
   "metadata": {},
   "outputs": [],
   "source": [
    "time_filepath = './processed data (float expt)/SER_2_dim64_exe_times_list.json'\n",
    "\n",
    "with open(time_filepath, 'w') as out1:\n",
    "    json.dump(list_of_exe_times, out1, cls=NumpyEncoder)"
   ]
  }
 ],
 "metadata": {
  "kernelspec": {
   "display_name": "Python 3 (ipykernel)",
   "language": "python",
   "name": "python3"
  },
  "language_info": {
   "codemirror_mode": {
    "name": "ipython",
    "version": 3
   },
   "file_extension": ".py",
   "mimetype": "text/x-python",
   "name": "python",
   "nbconvert_exporter": "python",
   "pygments_lexer": "ipython3",
   "version": "3.9.19"
  }
 },
 "nbformat": 4,
 "nbformat_minor": 5
}
