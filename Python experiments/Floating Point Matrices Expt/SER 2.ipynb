{
 "cells": [
  {
   "cell_type": "markdown",
   "id": "4769f089-085e-49ec-ab9c-4f2d6306a2e7",
   "metadata": {},
   "source": [
    "# Simple Entry Removal Algorithm 2 (SER 2)"
   ]
  },
  {
   "cell_type": "code",
   "execution_count": 1,
   "id": "9a38818b-da7c-4f4f-a2a7-c8c40d96669d",
   "metadata": {},
   "outputs": [],
   "source": [
    "import numpy as np\n",
    "import datetime\n",
    "import random\n",
    "import pandas as pd\n",
    "import json"
   ]
  },
  {
   "cell_type": "markdown",
   "id": "65efaca4-01bc-444f-9e2f-a2d1c300ab05",
   "metadata": {},
   "source": [
    "### Description of add_up_a_decomposition\n",
    "The function takes as inputs:\n",
    "1. a decomposition (x_list, BN_matrices_array) output by SER 1, SER 2, GER (x_list is a list, whereas BN_matrices_array is a 2D np array).\n",
    "2. The dimension of the output TPM row_dim, col_dim\n",
    "\n",
    "The function then sums up (x_list, BN_matrices_array) and outputs the resulting TPM (row_dim-by-col_dim)."
   ]
  },
  {
   "cell_type": "code",
   "execution_count": 2,
   "id": "a4515766-44b4-4f42-8507-9ddb3a3461ac",
   "metadata": {},
   "outputs": [],
   "source": [
    "def add_up_a_decomposition(x_list, BN_matrices_array, row_dim, col_dim):\n",
    "    output_TPM = np.zeros((row_dim, col_dim), dtype=int)\n",
    "    num_BN_matrices = len(x_list)\n",
    "    \n",
    "    for k in range(num_BN_matrices):\n",
    "        for col in range(col_dim):\n",
    "            output_TPM[BN_matrices_array[k, col], col] += x_list[k]\n",
    "    \n",
    "    return output_TPM"
   ]
  },
  {
   "cell_type": "markdown",
   "id": "0f829162-00f3-48a3-b1b3-3f8b58f1b8bc",
   "metadata": {},
   "source": [
    "# The SER 2 algorithm"
   ]
  },
  {
   "cell_type": "code",
   "execution_count": 3,
   "id": "2fd61a4c-01fb-487b-9506-44c8976a5298",
   "metadata": {},
   "outputs": [],
   "source": [
    "# This function is used in the SER 2 function.\n",
    "# residue_matrix_R is a np.ndarray.\n",
    "# chosen_entry_pos_each_col is a 1-by-PBN_col_sum np.ndarray.\n",
    "# PBN_col_num is the number of columns present in residue_matrix_R\n",
    "\n",
    "def choose_coefficient(residue_matrix_R, chosen_entry_pos_each_col, PBN_col_num):\n",
    "    col_counter = 0\n",
    "    chosen_entry_xi = residue_matrix_R[chosen_entry_pos_each_col[0, col_counter], col_counter]\n",
    "    \n",
    "    for col_counter in range(PBN_col_num):\n",
    "        current_entry = residue_matrix_R[chosen_entry_pos_each_col[0, col_counter], col_counter]\n",
    "        if current_entry < chosen_entry_xi:\n",
    "            chosen_entry_xi = current_entry\n",
    "    \n",
    "    return chosen_entry_xi"
   ]
  },
  {
   "cell_type": "code",
   "execution_count": 4,
   "id": "2e79c6c1-2483-4b09-9c49-201e697c1c2f",
   "metadata": {},
   "outputs": [],
   "source": [
    "def SER_2(PBN_matrix_P):  # input: 2^n-by-2^n ndarray consisting of integers.\n",
    "    PBN_row_num = PBN_matrix_P.shape[0]\n",
    "    PBN_col_num = PBN_matrix_P.shape[1]\n",
    "    coefficient_list_xi = []  # the coefficients of BN matrices to be output\n",
    "    # the BN matrices to be output\n",
    "    BN_matrices_list_Ai = np.array([[-1] * PBN_col_num])  # the first row of BN_matrices_list_Ai will be\n",
    "                                                          # replaced in the first iteration of pseudocode\n",
    "                                                          # steps 1 to 4.\n",
    "                                                          \n",
    "    residue_matrix_R = PBN_matrix_P.copy()\n",
    "    k = 1  # counts the number of iterations of pseudocode Steps 1 to 4\n",
    "\n",
    "    chosen_entry_pos_each_col = np.argmax(residue_matrix_R, axis=0, keepdims=True)\n",
    "    chosen_entry_xi = choose_coefficient(residue_matrix_R, chosen_entry_pos_each_col, PBN_col_num)\n",
    "    \n",
    "    coefficient_list_xi.append(chosen_entry_xi)\n",
    "    BN_matrices_list_Ai = chosen_entry_pos_each_col\n",
    "    \n",
    "    for col_counter in range(PBN_col_num):\n",
    "        row_to_deduct = chosen_entry_pos_each_col[0, col_counter]\n",
    "        residue_matrix_R[row_to_deduct, col_counter] -= chosen_entry_xi\n",
    "    \n",
    "    zero_PBN_matrix = np.zeros((PBN_row_num, PBN_col_num), dtype=int)\n",
    "    \n",
    "    while (not np.array_equal(residue_matrix_R, zero_PBN_matrix)):\n",
    "        k += 1\n",
    "        chosen_entry_pos_each_col = np.argmax(residue_matrix_R, axis=0, keepdims=True)\n",
    "        chosen_entry_xi = choose_coefficient(residue_matrix_R, chosen_entry_pos_each_col, PBN_col_num)\n",
    "    \n",
    "        coefficient_list_xi.append(chosen_entry_xi)\n",
    "        BN_matrices_list_Ai = np.append(BN_matrices_list_Ai, chosen_entry_pos_each_col, axis=0)\n",
    "        \n",
    "        for col_counter in range(PBN_col_num):\n",
    "            row_to_deduct = chosen_entry_pos_each_col[0, col_counter]\n",
    "            residue_matrix_R[row_to_deduct, col_counter] -= chosen_entry_xi\n",
    "    \n",
    "    return k, coefficient_list_xi, BN_matrices_list_Ai"
   ]
  },
  {
   "cell_type": "markdown",
   "id": "0e7ced44-5ce7-46da-9dd0-bf21a432782b",
   "metadata": {},
   "source": [
    "# \"Truncated Floating-Point Matrix\" Experiment"
   ]
  },
  {
   "cell_type": "code",
   "execution_count": 5,
   "id": "13dbc76f-95ed-4420-9650-8b21e73417de",
   "metadata": {},
   "outputs": [],
   "source": [
    "# Custom JSON encoder that handles NumPy types (created by GPT-o3 on poe.com)\n",
    "class NumpyEncoder(json.JSONEncoder):\n",
    "    def default(self, obj):\n",
    "        if isinstance(obj, (np.integer,)):\n",
    "            return int(obj)\n",
    "        elif isinstance(obj, (np.floating,)):\n",
    "            return float(obj)\n",
    "        elif isinstance(obj, (np.ndarray,)):\n",
    "            return obj.tolist()\n",
    "        return super(NumpyEncoder, self).default(obj)"
   ]
  },
  {
   "cell_type": "markdown",
   "id": "294b5204-6715-4c9a-b9ff-14f587406ea9",
   "metadata": {},
   "source": [
    "## $8 \\times 8$ 5300-TPMs"
   ]
  },
  {
   "cell_type": "code",
   "execution_count": 6,
   "id": "123c04e4-365e-4831-a0c3-d14903a840d9",
   "metadata": {},
   "outputs": [
    {
     "name": "stdout",
     "output_type": "stream",
     "text": [
      "iteration 0\n",
      "Time now is: 2025-04-12 17:35:24.712941\n",
      "\n",
      "iteration 1\n",
      "Time now is: 2025-04-12 17:35:24.717938\n",
      "\n",
      "iteration 2\n",
      "Time now is: 2025-04-12 17:35:24.750848\n",
      "\n",
      "iteration 3\n",
      "Time now is: 2025-04-12 17:35:24.755186\n",
      "\n",
      "iteration 4\n",
      "Time now is: 2025-04-12 17:35:24.758187\n",
      "\n",
      "iteration 5\n",
      "Time now is: 2025-04-12 17:35:24.761692\n",
      "\n",
      "iteration 6\n",
      "Time now is: 2025-04-12 17:35:24.764861\n",
      "\n",
      "iteration 7\n",
      "Time now is: 2025-04-12 17:35:24.769882\n",
      "\n",
      "iteration 8\n",
      "Time now is: 2025-04-12 17:35:24.773386\n",
      "\n",
      "iteration 9\n",
      "Time now is: 2025-04-12 17:35:24.778389\n",
      "\n"
     ]
    }
   ],
   "source": [
    "for k in range(10):\n",
    "    print('iteration', k)\n",
    "    print('Time now is:', datetime.datetime.now())\n",
    "    tTPM_filepath = './8-by-8 (trunc)/dim8_tTPM_' + str(k) + '.npy'\n",
    "    tTPM = np.load(tTPM_filepath)\n",
    "    \n",
    "    start_time = datetime.datetime.now()\n",
    "    decom = SER_2(tTPM)\n",
    "    end_time = datetime.datetime.now()\n",
    "    execution_duration = end_time - start_time\n",
    "    \n",
    "    exe_dur_seconds = execution_duration.total_seconds()\n",
    "    exe_dur_dict = {\"execution time\": exe_dur_seconds}\n",
    "    \n",
    "    # save the data\n",
    "    decom_filepath = \"./raw data (trunc_SER_2)/dim8_decom_m\" + str(k) + \".json\"\n",
    "    time_filepath = \"./raw data (trunc_SER_2)/dim8_time_m\" + str(k) + \".json\"\n",
    "    \n",
    "    with open(decom_filepath, 'w') as out1:\n",
    "        json.dump(decom, out1, cls=NumpyEncoder)\n",
    "        \n",
    "    with open(time_filepath, 'w') as out2:\n",
    "        json.dump(exe_dur_dict, out2)\n",
    "    \n",
    "    print()"
   ]
  },
  {
   "cell_type": "markdown",
   "id": "6710eb9f-b48e-46b5-ba14-f540b1ab3119",
   "metadata": {},
   "source": [
    "## $16 \\times 16$ 5300-TPMs"
   ]
  },
  {
   "cell_type": "code",
   "execution_count": 10,
   "id": "1d31e440-4cd3-4a26-bb72-9e798b3a08e1",
   "metadata": {},
   "outputs": [
    {
     "name": "stdout",
     "output_type": "stream",
     "text": [
      "iteration 0\n",
      "Time now is: 2025-04-12 17:41:12.073052\n",
      "\n",
      "iteration 1\n",
      "Time now is: 2025-04-12 17:41:12.080790\n",
      "\n",
      "iteration 2\n",
      "Time now is: 2025-04-12 17:41:12.086960\n",
      "\n",
      "iteration 3\n",
      "Time now is: 2025-04-12 17:41:12.096104\n",
      "\n",
      "iteration 4\n",
      "Time now is: 2025-04-12 17:41:12.110346\n",
      "\n",
      "iteration 5\n",
      "Time now is: 2025-04-12 17:41:12.118121\n",
      "\n",
      "iteration 6\n",
      "Time now is: 2025-04-12 17:41:12.126077\n",
      "\n",
      "iteration 7\n",
      "Time now is: 2025-04-12 17:41:12.134790\n",
      "\n",
      "iteration 8\n",
      "Time now is: 2025-04-12 17:41:12.142444\n",
      "\n",
      "iteration 9\n",
      "Time now is: 2025-04-12 17:41:12.150899\n",
      "\n"
     ]
    }
   ],
   "source": [
    "for k in range(10):\n",
    "    print('iteration', k)\n",
    "    print('Time now is:', datetime.datetime.now())\n",
    "    tTPM_filepath = './16-by-16 (trunc)/dim16_tTPM_' + str(k) + '.npy'\n",
    "    tTPM = np.load(tTPM_filepath)\n",
    "    \n",
    "    start_time = datetime.datetime.now()\n",
    "    decom = SER_2(tTPM)\n",
    "    end_time = datetime.datetime.now()\n",
    "    execution_duration = end_time - start_time\n",
    "    \n",
    "    exe_dur_seconds = execution_duration.total_seconds()\n",
    "    exe_dur_dict = {\"execution time\": exe_dur_seconds}\n",
    "    \n",
    "    # save the data\n",
    "    decom_filepath = \"./raw data (trunc_SER_2)/dim16_decom_m\" + str(k) + \".json\"\n",
    "    time_filepath = \"./raw data (trunc_SER_2)/dim16_time_m\" + str(k) + \".json\"\n",
    "    \n",
    "    with open(decom_filepath, 'w') as out1:\n",
    "        json.dump(decom, out1, cls=NumpyEncoder)\n",
    "        \n",
    "    with open(time_filepath, 'w') as out2:\n",
    "        json.dump(exe_dur_dict, out2)\n",
    "    \n",
    "    print()"
   ]
  },
  {
   "cell_type": "markdown",
   "id": "f975d791-2522-4896-9525-a45885f9caf2",
   "metadata": {},
   "source": [
    "## $32 \\times 32$ 5300-TPMs"
   ]
  },
  {
   "cell_type": "code",
   "execution_count": 14,
   "id": "f8e4a477-9fba-4e56-9b70-5e031fd01df2",
   "metadata": {},
   "outputs": [
    {
     "name": "stdout",
     "output_type": "stream",
     "text": [
      "iteration 0\n",
      "Time now is: 2025-04-12 17:45:42.494645\n",
      "\n",
      "iteration 1\n",
      "Time now is: 2025-04-12 17:45:42.512459\n",
      "\n",
      "iteration 2\n",
      "Time now is: 2025-04-12 17:45:42.539348\n",
      "\n",
      "iteration 3\n",
      "Time now is: 2025-04-12 17:45:42.555650\n",
      "\n",
      "iteration 4\n",
      "Time now is: 2025-04-12 17:45:42.570192\n",
      "\n",
      "iteration 5\n",
      "Time now is: 2025-04-12 17:45:42.587364\n",
      "\n",
      "iteration 6\n",
      "Time now is: 2025-04-12 17:45:42.604222\n",
      "\n",
      "iteration 7\n",
      "Time now is: 2025-04-12 17:45:42.624418\n",
      "\n",
      "iteration 8\n",
      "Time now is: 2025-04-12 17:45:42.639919\n",
      "\n",
      "iteration 9\n",
      "Time now is: 2025-04-12 17:45:42.656159\n",
      "\n"
     ]
    }
   ],
   "source": [
    "for k in range(10):\n",
    "    print('iteration', k)\n",
    "    print('Time now is:', datetime.datetime.now())\n",
    "    tTPM_filepath = './32-by-32 (trunc)/dim32_tTPM_' + str(k) + '.npy'\n",
    "    tTPM = np.load(tTPM_filepath)\n",
    "    \n",
    "    start_time = datetime.datetime.now()\n",
    "    decom = SER_2(tTPM)\n",
    "    end_time = datetime.datetime.now()\n",
    "    execution_duration = end_time - start_time\n",
    "    \n",
    "    exe_dur_seconds = execution_duration.total_seconds()\n",
    "    exe_dur_dict = {\"execution time\": exe_dur_seconds}\n",
    "    \n",
    "    # save the data\n",
    "    decom_filepath = \"./raw data (trunc_SER_2)/dim32_decom_m\" + str(k) + \".json\"\n",
    "    time_filepath = \"./raw data (trunc_SER_2)/dim32_time_m\" + str(k) + \".json\"\n",
    "    \n",
    "    with open(decom_filepath, 'w') as out1:\n",
    "        json.dump(decom, out1, cls=NumpyEncoder)\n",
    "        \n",
    "    with open(time_filepath, 'w') as out2:\n",
    "        json.dump(exe_dur_dict, out2)\n",
    "    \n",
    "    print()"
   ]
  },
  {
   "cell_type": "markdown",
   "id": "28bb5552-995f-4bf4-9c80-6fbb814b7526",
   "metadata": {},
   "source": [
    "## $64 \\times 64$ 5300-TPMs"
   ]
  },
  {
   "cell_type": "code",
   "execution_count": 20,
   "id": "488ccc63-8c0d-4f73-8a75-d97b37231dd0",
   "metadata": {},
   "outputs": [
    {
     "name": "stdout",
     "output_type": "stream",
     "text": [
      "iteration 0\n",
      "Time now is: 2025-04-12 17:49:42.425026\n",
      "\n",
      "iteration 1\n",
      "Time now is: 2025-04-12 17:49:42.462649\n",
      "\n",
      "iteration 2\n",
      "Time now is: 2025-04-12 17:49:42.493002\n",
      "\n",
      "iteration 3\n",
      "Time now is: 2025-04-12 17:49:42.550500\n",
      "\n",
      "iteration 4\n",
      "Time now is: 2025-04-12 17:49:42.654454\n",
      "\n",
      "iteration 5\n",
      "Time now is: 2025-04-12 17:49:42.697124\n",
      "\n",
      "iteration 6\n",
      "Time now is: 2025-04-12 17:49:42.732238\n",
      "\n",
      "iteration 7\n",
      "Time now is: 2025-04-12 17:49:42.763118\n",
      "\n",
      "iteration 8\n",
      "Time now is: 2025-04-12 17:49:42.808345\n",
      "\n",
      "iteration 9\n",
      "Time now is: 2025-04-12 17:49:42.856900\n",
      "\n"
     ]
    }
   ],
   "source": [
    "for k in range(10):\n",
    "    print('iteration', k)\n",
    "    print('Time now is:', datetime.datetime.now())\n",
    "    tTPM_filepath = './64-by-64 (trunc)/dim64_tTPM_' + str(k) + '.npy'\n",
    "    tTPM = np.load(tTPM_filepath)\n",
    "    \n",
    "    start_time = datetime.datetime.now()\n",
    "    decom = SER_2(tTPM)\n",
    "    end_time = datetime.datetime.now()\n",
    "    execution_duration = end_time - start_time\n",
    "    \n",
    "    exe_dur_seconds = execution_duration.total_seconds()\n",
    "    exe_dur_dict = {\"execution time\": exe_dur_seconds}\n",
    "    \n",
    "    # save the data\n",
    "    decom_filepath = \"./raw data (trunc_SER_2)/dim64_decom_m\" + str(k) + \".json\"\n",
    "    time_filepath = \"./raw data (trunc_SER_2)/dim64_time_m\" + str(k) + \".json\"\n",
    "    \n",
    "    with open(decom_filepath, 'w') as out1:\n",
    "        json.dump(decom, out1, cls=NumpyEncoder)\n",
    "        \n",
    "    with open(time_filepath, 'w') as out2:\n",
    "        json.dump(exe_dur_dict, out2)\n",
    "    \n",
    "    print()"
   ]
  }
 ],
 "metadata": {
  "kernelspec": {
   "display_name": "Python 3 (ipykernel)",
   "language": "python",
   "name": "python3"
  },
  "language_info": {
   "codemirror_mode": {
    "name": "ipython",
    "version": 3
   },
   "file_extension": ".py",
   "mimetype": "text/x-python",
   "name": "python",
   "nbconvert_exporter": "python",
   "pygments_lexer": "ipython3",
   "version": "3.9.19"
  }
 },
 "nbformat": 4,
 "nbformat_minor": 5
}
