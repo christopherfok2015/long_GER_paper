{
 "cells": [
  {
   "cell_type": "code",
   "execution_count": 1,
   "id": "67c730e0-4a06-44d7-968e-59cccd7054e1",
   "metadata": {},
   "outputs": [],
   "source": [
    "import numpy as np\n",
    "import math\n",
    "import copy\n",
    "import datetime\n",
    "import pandas as pd\n",
    "import json"
   ]
  },
  {
   "cell_type": "code",
   "execution_count": 2,
   "id": "578ff365-11cf-489a-afa7-c7c2cf8e37e3",
   "metadata": {},
   "outputs": [],
   "source": [
    "# Custom JSON encoder that handles NumPy types (created by GPT-o3 on poe.com)\n",
    "class NumpyEncoder(json.JSONEncoder):\n",
    "    def default(self, obj):\n",
    "        if isinstance(obj, (np.integer,)):\n",
    "            return int(obj)\n",
    "        elif isinstance(obj, (np.floating,)):\n",
    "            return float(obj)\n",
    "        elif isinstance(obj, (np.ndarray,)):\n",
    "            return obj.tolist()\n",
    "        return super(NumpyEncoder, self).default(obj)"
   ]
  },
  {
   "cell_type": "markdown",
   "id": "7de07c70-fa17-43b9-b062-97d4bb36105c",
   "metadata": {
    "tags": []
   },
   "source": [
    "# GER"
   ]
  },
  {
   "cell_type": "markdown",
   "id": "fb941387-87b5-4326-a789-9430db3aef5a",
   "metadata": {},
   "source": [
    "## $8 \\times 8$ matrices"
   ]
  },
  {
   "cell_type": "code",
   "execution_count": 3,
   "id": "0e1e0f61-5014-49b1-8a50-63fb705b654c",
   "metadata": {},
   "outputs": [],
   "source": [
    "list_of_exe_times = []\n",
    "\n",
    "for mat_num in range(10):\n",
    "    for z_int in range(1, 5):\n",
    "        for z_frac in range(1, 11):\n",
    "            time_filepath = './raw data (trunc_GER)/8/dim8_time_m' + str(mat_num) + \\\n",
    "                            '_z_' + str(z_int) + 'dot' + str(z_frac) + '.json'\n",
    "            \n",
    "            with open(time_filepath) as out:\n",
    "                exe_dur_dict = json.load(out)\n",
    "            \n",
    "            list_of_exe_times.append(exe_dur_dict[\"execution time\"])"
   ]
  },
  {
   "cell_type": "markdown",
   "id": "df1a20f8-ce93-4170-b16c-d60819b81791",
   "metadata": {},
   "source": [
    "Maximum execution time (in seconds)"
   ]
  },
  {
   "cell_type": "code",
   "execution_count": 5,
   "id": "da492dfb-8c03-46f8-a957-6a5ce4b75b8d",
   "metadata": {},
   "outputs": [
    {
     "data": {
      "text/plain": [
       "1.902359"
      ]
     },
     "execution_count": 5,
     "metadata": {},
     "output_type": "execute_result"
    }
   ],
   "source": [
    "max(list_of_exe_times)"
   ]
  },
  {
   "cell_type": "markdown",
   "id": "d94d80a1-ef8b-4edd-87d2-7a1de72b6faf",
   "metadata": {},
   "source": [
    "Mean execution time (in seconds)"
   ]
  },
  {
   "cell_type": "code",
   "execution_count": 7,
   "id": "92cfc637-c9db-4760-98d8-07ecb23fa594",
   "metadata": {},
   "outputs": [
    {
     "data": {
      "text/plain": [
       "0.7495723599999997"
      ]
     },
     "execution_count": 7,
     "metadata": {},
     "output_type": "execute_result"
    }
   ],
   "source": [
    "sum(list_of_exe_times) / len(list_of_exe_times)"
   ]
  },
  {
   "cell_type": "markdown",
   "id": "a6e130d7-19e2-413b-a513-db14137b38b0",
   "metadata": {},
   "source": [
    "Minimum execution time (in seconds)"
   ]
  },
  {
   "cell_type": "code",
   "execution_count": 8,
   "id": "2b9f3704-6bc4-4510-bbad-ee786401a021",
   "metadata": {},
   "outputs": [
    {
     "data": {
      "text/plain": [
       "0.260706"
      ]
     },
     "execution_count": 8,
     "metadata": {},
     "output_type": "execute_result"
    }
   ],
   "source": [
    "min(list_of_exe_times)"
   ]
  },
  {
   "cell_type": "markdown",
   "id": "954b1602-6fd5-4fee-9d0c-dae21ccb93f6",
   "metadata": {},
   "source": [
    "Save the data in a folder."
   ]
  },
  {
   "cell_type": "code",
   "execution_count": 9,
   "id": "1c5c0688-09bc-4cf0-9015-ba2e36fdfc75",
   "metadata": {},
   "outputs": [],
   "source": [
    "time_filepath = './processed data (trunc expt)/GER_dim8_exe_times_list.json'\n",
    "\n",
    "with open(time_filepath, 'w') as out1:\n",
    "    json.dump(list_of_exe_times, out1, cls=NumpyEncoder)"
   ]
  },
  {
   "cell_type": "markdown",
   "id": "f3ac1afb-7617-4a44-9521-d3b87bb49f40",
   "metadata": {},
   "source": [
    "## $16 \\times 16$ matrices"
   ]
  },
  {
   "cell_type": "code",
   "execution_count": 10,
   "id": "b7ea593a-2d95-46ac-b1b2-c5443a013969",
   "metadata": {},
   "outputs": [],
   "source": [
    "list_of_exe_times = []\n",
    "\n",
    "for mat_num in range(10):\n",
    "    for z_int in range(1, 5):\n",
    "        for z_frac in range(1, 11):\n",
    "            time_filepath = './raw data (trunc_GER)/16/dim16_time_m' + str(mat_num) + \\\n",
    "                            '_z_' + str(z_int) + 'dot' + str(z_frac) + '.json'\n",
    "            \n",
    "            with open(time_filepath) as out:\n",
    "                exe_dur_dict = json.load(out)\n",
    "            \n",
    "            list_of_exe_times.append(exe_dur_dict[\"execution time\"])"
   ]
  },
  {
   "cell_type": "markdown",
   "id": "89b5d58b-3358-428d-844c-2ad07d70e013",
   "metadata": {},
   "source": [
    "Maximum execution time (in seconds)"
   ]
  },
  {
   "cell_type": "code",
   "execution_count": 12,
   "id": "bf87d4e7-5b05-4d2a-a3c6-ad9716f00e5c",
   "metadata": {},
   "outputs": [
    {
     "data": {
      "text/plain": [
       "3.52549"
      ]
     },
     "execution_count": 12,
     "metadata": {},
     "output_type": "execute_result"
    }
   ],
   "source": [
    "max(list_of_exe_times)"
   ]
  },
  {
   "cell_type": "markdown",
   "id": "34fbb117-244c-4db4-a84c-00e5c6cd942b",
   "metadata": {},
   "source": [
    "Mean execution time (in seconds)"
   ]
  },
  {
   "cell_type": "code",
   "execution_count": 13,
   "id": "5241587d-e8de-4abd-8b0e-bf9a0dc0729d",
   "metadata": {},
   "outputs": [
    {
     "data": {
      "text/plain": [
       "1.988958144999999"
      ]
     },
     "execution_count": 13,
     "metadata": {},
     "output_type": "execute_result"
    }
   ],
   "source": [
    "sum(list_of_exe_times) / len(list_of_exe_times)"
   ]
  },
  {
   "cell_type": "markdown",
   "id": "be0ed840-d59c-4f19-8022-930f52a5dd8e",
   "metadata": {},
   "source": [
    "Minimum execution time (in seconds)"
   ]
  },
  {
   "cell_type": "code",
   "execution_count": 14,
   "id": "1329e77d-2caf-4328-9ec2-80516677edb0",
   "metadata": {},
   "outputs": [
    {
     "data": {
      "text/plain": [
       "1.158534"
      ]
     },
     "execution_count": 14,
     "metadata": {},
     "output_type": "execute_result"
    }
   ],
   "source": [
    "min(list_of_exe_times)"
   ]
  },
  {
   "cell_type": "markdown",
   "id": "4bfa1518-c30b-4cbb-ad88-c9525e1d2821",
   "metadata": {},
   "source": [
    "Save the data in a folder."
   ]
  },
  {
   "cell_type": "code",
   "execution_count": 15,
   "id": "aaeb6f6e-76a9-435f-84ff-a503e9a50b9d",
   "metadata": {},
   "outputs": [],
   "source": [
    "time_filepath = './processed data (trunc expt)/GER_dim16_exe_times_list.json'\n",
    "\n",
    "with open(time_filepath, 'w') as out1:\n",
    "    json.dump(list_of_exe_times, out1, cls=NumpyEncoder)"
   ]
  },
  {
   "cell_type": "markdown",
   "id": "59c58957-3a01-4a80-9e41-4317ea83c016",
   "metadata": {},
   "source": [
    "## $32 \\times 32$ matrices"
   ]
  },
  {
   "cell_type": "code",
   "execution_count": 16,
   "id": "2c773431-9c35-48c2-8661-59fd641a41a4",
   "metadata": {},
   "outputs": [],
   "source": [
    "list_of_exe_times = []\n",
    "\n",
    "for mat_num in range(10):\n",
    "    for z_int in range(1, 5):\n",
    "        for z_frac in range(1, 11):\n",
    "            time_filepath = './raw data (trunc_GER)/32/dim32_time_m' + str(mat_num) + \\\n",
    "                            '_z_' + str(z_int) + 'dot' + str(z_frac) + '.json'\n",
    "            \n",
    "            with open(time_filepath) as out:\n",
    "                exe_dur_dict = json.load(out)\n",
    "            \n",
    "            list_of_exe_times.append(exe_dur_dict[\"execution time\"])"
   ]
  },
  {
   "cell_type": "markdown",
   "id": "58e6e452-964a-423a-92b7-b6688d93d689",
   "metadata": {},
   "source": [
    "Maximum execution time (in seconds)"
   ]
  },
  {
   "cell_type": "code",
   "execution_count": 18,
   "id": "5452bcb6-6294-4d9e-b2ce-50ba255217ec",
   "metadata": {},
   "outputs": [
    {
     "data": {
      "text/plain": [
       "15.161562"
      ]
     },
     "execution_count": 18,
     "metadata": {},
     "output_type": "execute_result"
    }
   ],
   "source": [
    "max(list_of_exe_times)"
   ]
  },
  {
   "cell_type": "markdown",
   "id": "7b8d0021-4a9a-4356-b53b-61713db30a05",
   "metadata": {},
   "source": [
    "Mean execution time (in seconds)"
   ]
  },
  {
   "cell_type": "code",
   "execution_count": 19,
   "id": "06d1caa2-5b45-41b1-a4d2-d3078ed8dd63",
   "metadata": {},
   "outputs": [
    {
     "data": {
      "text/plain": [
       "9.347082499999996"
      ]
     },
     "execution_count": 19,
     "metadata": {},
     "output_type": "execute_result"
    }
   ],
   "source": [
    "sum(list_of_exe_times) / len(list_of_exe_times)"
   ]
  },
  {
   "cell_type": "markdown",
   "id": "5128de4e-a511-4359-a4e2-ef7a9ee4a671",
   "metadata": {},
   "source": [
    "Minimum execution time (in seconds)"
   ]
  },
  {
   "cell_type": "code",
   "execution_count": 20,
   "id": "d5443511-bc58-4e12-96fd-6179cff2f237",
   "metadata": {},
   "outputs": [
    {
     "data": {
      "text/plain": [
       "7.542484"
      ]
     },
     "execution_count": 20,
     "metadata": {},
     "output_type": "execute_result"
    }
   ],
   "source": [
    "min(list_of_exe_times)"
   ]
  },
  {
   "cell_type": "markdown",
   "id": "cd10b84a-08ca-4d4f-8e29-ab6e0b1c3943",
   "metadata": {},
   "source": [
    "Save the data in a folder."
   ]
  },
  {
   "cell_type": "code",
   "execution_count": 21,
   "id": "5dfce6fd-32ec-449e-88b8-92b36de8fafe",
   "metadata": {},
   "outputs": [],
   "source": [
    "time_filepath = './processed data (trunc expt)/GER_dim32_exe_times_list.json'\n",
    "\n",
    "with open(time_filepath, 'w') as out1:\n",
    "    json.dump(list_of_exe_times, out1, cls=NumpyEncoder)"
   ]
  },
  {
   "cell_type": "markdown",
   "id": "d083dd65-bdfb-4186-891d-3e9e1e0ef7e7",
   "metadata": {},
   "source": [
    "## $64 \\times 64$ matrices"
   ]
  },
  {
   "cell_type": "code",
   "execution_count": 22,
   "id": "6bbdb718-982c-4c48-9e9e-a95d0c69b258",
   "metadata": {},
   "outputs": [],
   "source": [
    "list_of_exe_times = []\n",
    "\n",
    "for mat_num in range(10):\n",
    "    for z_int in range(1, 5):\n",
    "        for z_frac in range(1, 11):\n",
    "            time_filepath = './raw data (trunc_GER)/64/dim64_time_m' + str(mat_num) + \\\n",
    "                            '_z_' + str(z_int) + 'dot' + str(z_frac) + '.json'\n",
    "            \n",
    "            with open(time_filepath) as out:\n",
    "                exe_dur_dict = json.load(out)\n",
    "            \n",
    "            list_of_exe_times.append(exe_dur_dict[\"execution time\"])"
   ]
  },
  {
   "cell_type": "markdown",
   "id": "89105c7d-0df5-4efe-b570-10421be9998c",
   "metadata": {},
   "source": [
    "Maximum execution time (in seconds)"
   ]
  },
  {
   "cell_type": "code",
   "execution_count": 24,
   "id": "35cc0b05-4276-4385-9df2-59adecc03a32",
   "metadata": {},
   "outputs": [
    {
     "data": {
      "text/plain": [
       "117.832302"
      ]
     },
     "execution_count": 24,
     "metadata": {},
     "output_type": "execute_result"
    }
   ],
   "source": [
    "max(list_of_exe_times)"
   ]
  },
  {
   "cell_type": "markdown",
   "id": "80073187-3820-4f34-9fa5-e636364c6705",
   "metadata": {},
   "source": [
    "Mean execution time (in seconds)"
   ]
  },
  {
   "cell_type": "code",
   "execution_count": 25,
   "id": "f0bba416-67cd-4411-aeb5-9f4eda5981bc",
   "metadata": {},
   "outputs": [
    {
     "data": {
      "text/plain": [
       "75.570415595"
      ]
     },
     "execution_count": 25,
     "metadata": {},
     "output_type": "execute_result"
    }
   ],
   "source": [
    "sum(list_of_exe_times) / len(list_of_exe_times)"
   ]
  },
  {
   "cell_type": "markdown",
   "id": "e0ba2d96-55bc-42d6-83a7-9eb9a88229b2",
   "metadata": {},
   "source": [
    "Minimum execution time (in seconds)"
   ]
  },
  {
   "cell_type": "code",
   "execution_count": 26,
   "id": "fd89825d-fafe-4fbe-bb44-bb149c0ba135",
   "metadata": {},
   "outputs": [
    {
     "data": {
      "text/plain": [
       "61.206158"
      ]
     },
     "execution_count": 26,
     "metadata": {},
     "output_type": "execute_result"
    }
   ],
   "source": [
    "min(list_of_exe_times)"
   ]
  },
  {
   "cell_type": "markdown",
   "id": "8b2c4e56-b1fd-4c98-9d58-bbcf5b1237c4",
   "metadata": {},
   "source": [
    "Save the data in a folder."
   ]
  },
  {
   "cell_type": "code",
   "execution_count": 27,
   "id": "a62b8e84-38f8-462e-a091-d63f9434c691",
   "metadata": {},
   "outputs": [],
   "source": [
    "time_filepath = './processed data (trunc expt)/GER_dim64_exe_times_list.json'\n",
    "\n",
    "with open(time_filepath, 'w') as out1:\n",
    "    json.dump(list_of_exe_times, out1, cls=NumpyEncoder)"
   ]
  },
  {
   "cell_type": "markdown",
   "id": "6f0eb8fb-ff08-4bbb-84dd-9ee12851598d",
   "metadata": {},
   "source": [
    "# SER 1"
   ]
  },
  {
   "cell_type": "markdown",
   "id": "5a0642d4-2888-411e-802b-bd26b475e57c",
   "metadata": {},
   "source": [
    "## $8 \\times 8$ matrices"
   ]
  },
  {
   "cell_type": "code",
   "execution_count": 28,
   "id": "ce5dbf55-e2a2-4b58-aa27-068b7ef12901",
   "metadata": {},
   "outputs": [],
   "source": [
    "list_of_exe_times = []\n",
    "\n",
    "for mat_num in range(10):\n",
    "    time_filepath = './raw data (trunc_SER_1)/dim8_time_m' + str(mat_num) + '.json'\n",
    "            \n",
    "    with open(time_filepath) as out:\n",
    "        exe_dur_dict = json.load(out)\n",
    "            \n",
    "    list_of_exe_times.append(exe_dur_dict[\"execution time\"])"
   ]
  },
  {
   "cell_type": "markdown",
   "id": "7313c2a2-943c-45af-955d-89cc7f03b5ca",
   "metadata": {},
   "source": [
    "Maximum execution time (in seconds)"
   ]
  },
  {
   "cell_type": "code",
   "execution_count": 30,
   "id": "390d30e0-b85e-47a9-828f-68779e893cf6",
   "metadata": {},
   "outputs": [
    {
     "data": {
      "text/plain": [
       "0.004516"
      ]
     },
     "execution_count": 30,
     "metadata": {},
     "output_type": "execute_result"
    }
   ],
   "source": [
    "max(list_of_exe_times)"
   ]
  },
  {
   "cell_type": "markdown",
   "id": "299f3fd9-3bab-485e-b610-11d64a0a8784",
   "metadata": {},
   "source": [
    "Mean execution time (in seconds)"
   ]
  },
  {
   "cell_type": "code",
   "execution_count": 31,
   "id": "69e7c970-e8b9-4edb-b69a-0a354f2806ed",
   "metadata": {},
   "outputs": [
    {
     "data": {
      "text/plain": [
       "0.00313"
      ]
     },
     "execution_count": 31,
     "metadata": {},
     "output_type": "execute_result"
    }
   ],
   "source": [
    "sum(list_of_exe_times) / len(list_of_exe_times)"
   ]
  },
  {
   "cell_type": "markdown",
   "id": "31e8d67c-fed9-444b-af9f-60d17fb6fc10",
   "metadata": {},
   "source": [
    "Minimum execution time (in seconds)"
   ]
  },
  {
   "cell_type": "code",
   "execution_count": 32,
   "id": "13d23882-fa43-4b52-90ca-787b47fff01b",
   "metadata": {},
   "outputs": [
    {
     "data": {
      "text/plain": [
       "0.002078"
      ]
     },
     "execution_count": 32,
     "metadata": {},
     "output_type": "execute_result"
    }
   ],
   "source": [
    "min(list_of_exe_times)"
   ]
  },
  {
   "cell_type": "markdown",
   "id": "553948d4-1523-41f7-b8a8-ecb42cc0145c",
   "metadata": {},
   "source": [
    "Save the data in a folder."
   ]
  },
  {
   "cell_type": "code",
   "execution_count": 33,
   "id": "199a763c-eeef-4af6-b42c-6f420cb9ff9f",
   "metadata": {},
   "outputs": [],
   "source": [
    "time_filepath = './processed data (trunc expt)/SER_1_dim8_exe_times_list.json'\n",
    "\n",
    "with open(time_filepath, 'w') as out1:\n",
    "    json.dump(list_of_exe_times, out1, cls=NumpyEncoder)"
   ]
  },
  {
   "cell_type": "markdown",
   "id": "d27cc4d9-e045-46dc-b1ca-e3c323d2c94f",
   "metadata": {},
   "source": [
    "## $16 \\times 16$ matrices"
   ]
  },
  {
   "cell_type": "code",
   "execution_count": 34,
   "id": "cc799115-e22c-405d-adcf-1f8e5666bf7b",
   "metadata": {},
   "outputs": [],
   "source": [
    "list_of_exe_times = []\n",
    "\n",
    "for mat_num in range(10):\n",
    "    time_filepath = './raw data (trunc_SER_1)/dim16_time_m' + str(mat_num) + '.json'\n",
    "            \n",
    "    with open(time_filepath) as out:\n",
    "        exe_dur_dict = json.load(out)\n",
    "            \n",
    "    list_of_exe_times.append(exe_dur_dict[\"execution time\"])"
   ]
  },
  {
   "cell_type": "markdown",
   "id": "181014c2-fe60-48e0-ba12-b4a09a767256",
   "metadata": {},
   "source": [
    "Maximum execution time (in seconds)"
   ]
  },
  {
   "cell_type": "code",
   "execution_count": 35,
   "id": "b6e0f295-262c-42fb-8a9f-8675aeb6e709",
   "metadata": {},
   "outputs": [
    {
     "data": {
      "text/plain": [
       "0.021662"
      ]
     },
     "execution_count": 35,
     "metadata": {},
     "output_type": "execute_result"
    }
   ],
   "source": [
    "max(list_of_exe_times)"
   ]
  },
  {
   "cell_type": "markdown",
   "id": "c7d6465e-0109-4b6c-b467-d1a1c9be0274",
   "metadata": {},
   "source": [
    "Mean execution time (in seconds)"
   ]
  },
  {
   "cell_type": "code",
   "execution_count": 36,
   "id": "d385ac4c-de03-46e2-93cb-7a734b30e0d0",
   "metadata": {},
   "outputs": [
    {
     "data": {
      "text/plain": [
       "0.0182154"
      ]
     },
     "execution_count": 36,
     "metadata": {},
     "output_type": "execute_result"
    }
   ],
   "source": [
    "sum(list_of_exe_times) / len(list_of_exe_times)"
   ]
  },
  {
   "cell_type": "markdown",
   "id": "95f09bf9-7e1c-4f26-b036-2474875ef3e6",
   "metadata": {},
   "source": [
    "Minimum execution time (in seconds)"
   ]
  },
  {
   "cell_type": "code",
   "execution_count": 37,
   "id": "4c494170-0fd4-4c5d-8304-a029fcfa0291",
   "metadata": {},
   "outputs": [
    {
     "data": {
      "text/plain": [
       "0.014007"
      ]
     },
     "execution_count": 37,
     "metadata": {},
     "output_type": "execute_result"
    }
   ],
   "source": [
    "min(list_of_exe_times)"
   ]
  },
  {
   "cell_type": "markdown",
   "id": "a85098d1-d4b9-451d-95d0-6fc972cd969e",
   "metadata": {},
   "source": [
    "Save the data in a folder."
   ]
  },
  {
   "cell_type": "code",
   "execution_count": 38,
   "id": "f2e7d5d7-fa3e-4326-ae81-e762f27c5e54",
   "metadata": {},
   "outputs": [],
   "source": [
    "time_filepath = './processed data (trunc expt)/SER_1_dim16_exe_times_list.json'\n",
    "\n",
    "with open(time_filepath, 'w') as out1:\n",
    "    json.dump(list_of_exe_times, out1, cls=NumpyEncoder)"
   ]
  },
  {
   "cell_type": "markdown",
   "id": "ce8d6334-bda0-4432-bd67-f6ae8de0b17e",
   "metadata": {},
   "source": [
    "## $32 \\times 32$ matrices"
   ]
  },
  {
   "cell_type": "code",
   "execution_count": 39,
   "id": "ecde0670-3e47-4588-a44d-fc79d329afb7",
   "metadata": {},
   "outputs": [],
   "source": [
    "list_of_exe_times = []\n",
    "\n",
    "for mat_num in range(10):\n",
    "    time_filepath = './raw data (trunc_SER_1)/dim32_time_m' + str(mat_num) + '.json'\n",
    "            \n",
    "    with open(time_filepath) as out:\n",
    "        exe_dur_dict = json.load(out)\n",
    "            \n",
    "    list_of_exe_times.append(exe_dur_dict[\"execution time\"])"
   ]
  },
  {
   "cell_type": "markdown",
   "id": "3dac95bd-aa99-4fe5-a9ee-b09efc8ffc65",
   "metadata": {},
   "source": [
    "Maximum execution time (in seconds)"
   ]
  },
  {
   "cell_type": "code",
   "execution_count": 41,
   "id": "882a50b1-972d-4a84-ad95-21b8c6d5cd09",
   "metadata": {},
   "outputs": [
    {
     "data": {
      "text/plain": [
       "0.164766"
      ]
     },
     "execution_count": 41,
     "metadata": {},
     "output_type": "execute_result"
    }
   ],
   "source": [
    "max(list_of_exe_times)"
   ]
  },
  {
   "cell_type": "markdown",
   "id": "492e42a1-48eb-47d1-ba84-a9b1932ba96f",
   "metadata": {},
   "source": [
    "Mean execution time (in seconds)"
   ]
  },
  {
   "cell_type": "code",
   "execution_count": 42,
   "id": "531caa0a-701a-47b8-90a1-f9a17f106c27",
   "metadata": {},
   "outputs": [
    {
     "data": {
      "text/plain": [
       "0.1343878"
      ]
     },
     "execution_count": 42,
     "metadata": {},
     "output_type": "execute_result"
    }
   ],
   "source": [
    "sum(list_of_exe_times) / len(list_of_exe_times)"
   ]
  },
  {
   "cell_type": "markdown",
   "id": "54605ed4-aac1-4f1a-9d2b-876597590870",
   "metadata": {},
   "source": [
    "Minimum execution time (in seconds)"
   ]
  },
  {
   "cell_type": "code",
   "execution_count": 43,
   "id": "3c3dcd22-5200-4d4c-bf5e-312ef4fbb730",
   "metadata": {},
   "outputs": [
    {
     "data": {
      "text/plain": [
       "0.120564"
      ]
     },
     "execution_count": 43,
     "metadata": {},
     "output_type": "execute_result"
    }
   ],
   "source": [
    "min(list_of_exe_times)"
   ]
  },
  {
   "cell_type": "markdown",
   "id": "33515d76-0072-4121-9c99-526a01b0fc0a",
   "metadata": {},
   "source": [
    "Save the data in a folder."
   ]
  },
  {
   "cell_type": "code",
   "execution_count": 44,
   "id": "bac6b33d-7ce8-4ee4-a0f4-a824e896cc8e",
   "metadata": {},
   "outputs": [],
   "source": [
    "time_filepath = './processed data (trunc expt)/SER_1_dim32_exe_times_list.json'\n",
    "\n",
    "with open(time_filepath, 'w') as out1:\n",
    "    json.dump(list_of_exe_times, out1, cls=NumpyEncoder)"
   ]
  },
  {
   "cell_type": "markdown",
   "id": "77840994-4b6f-4cfa-aa5a-2946ac54f1d1",
   "metadata": {},
   "source": [
    "## $64 \\times 64$ matrices"
   ]
  },
  {
   "cell_type": "code",
   "execution_count": 45,
   "id": "ecc86260-b7f5-4c59-adfe-84ee5baa802d",
   "metadata": {},
   "outputs": [],
   "source": [
    "list_of_exe_times = []\n",
    "\n",
    "for mat_num in range(10):\n",
    "    time_filepath = './raw data (trunc_SER_1)/dim64_time_m' + str(mat_num) + '.json'\n",
    "            \n",
    "    with open(time_filepath) as out:\n",
    "        exe_dur_dict = json.load(out)\n",
    "            \n",
    "    list_of_exe_times.append(exe_dur_dict[\"execution time\"])"
   ]
  },
  {
   "cell_type": "markdown",
   "id": "8b1d4301-c760-4571-930d-26ba86fd1ebe",
   "metadata": {},
   "source": [
    "Maximum execution time (in seconds)"
   ]
  },
  {
   "cell_type": "code",
   "execution_count": 48,
   "id": "ff27fd15-42b3-49ad-af1e-ef78717084d5",
   "metadata": {},
   "outputs": [
    {
     "data": {
      "text/plain": [
       "1.2018"
      ]
     },
     "execution_count": 48,
     "metadata": {},
     "output_type": "execute_result"
    }
   ],
   "source": [
    "max(list_of_exe_times)"
   ]
  },
  {
   "cell_type": "markdown",
   "id": "18989637-6cf3-44f6-9838-116649f99abf",
   "metadata": {},
   "source": [
    "Mean execution time (in seconds)"
   ]
  },
  {
   "cell_type": "code",
   "execution_count": 49,
   "id": "a1c60128-a628-4b57-8c08-beb826be0a2b",
   "metadata": {},
   "outputs": [
    {
     "data": {
      "text/plain": [
       "1.1026251000000002"
      ]
     },
     "execution_count": 49,
     "metadata": {},
     "output_type": "execute_result"
    }
   ],
   "source": [
    "sum(list_of_exe_times) / len(list_of_exe_times)"
   ]
  },
  {
   "cell_type": "markdown",
   "id": "ff7b400f-41e6-4bc7-be0e-59b2a8d3ead3",
   "metadata": {},
   "source": [
    "Minimum execution time (in seconds)"
   ]
  },
  {
   "cell_type": "code",
   "execution_count": 50,
   "id": "2e535b07-c2e9-465e-8879-0722cbb9e85a",
   "metadata": {},
   "outputs": [
    {
     "data": {
      "text/plain": [
       "0.992957"
      ]
     },
     "execution_count": 50,
     "metadata": {},
     "output_type": "execute_result"
    }
   ],
   "source": [
    "min(list_of_exe_times)"
   ]
  },
  {
   "cell_type": "markdown",
   "id": "40d54ce7-028a-4a13-8e4e-7ef8f77d1495",
   "metadata": {},
   "source": [
    "Save the data in a folder."
   ]
  },
  {
   "cell_type": "code",
   "execution_count": 51,
   "id": "f9d5d146-95b3-47c5-8ecb-8a1afe172742",
   "metadata": {},
   "outputs": [],
   "source": [
    "time_filepath = './processed data (trunc expt)/SER_1_dim64_exe_times_list.json'\n",
    "\n",
    "with open(time_filepath, 'w') as out1:\n",
    "    json.dump(list_of_exe_times, out1, cls=NumpyEncoder)"
   ]
  },
  {
   "cell_type": "markdown",
   "id": "4892a33f-5817-4ffc-9ce6-9c9c4b5fda43",
   "metadata": {},
   "source": [
    "# SER 2"
   ]
  },
  {
   "cell_type": "markdown",
   "id": "9e11e181-4f4a-4322-8555-8ca555e56598",
   "metadata": {},
   "source": [
    "## $8 \\times 8$ matrices"
   ]
  },
  {
   "cell_type": "code",
   "execution_count": 52,
   "id": "494bb677-44d8-467c-a2f0-df1a1b664e24",
   "metadata": {},
   "outputs": [],
   "source": [
    "list_of_exe_times = []\n",
    "\n",
    "for mat_num in range(10):\n",
    "    time_filepath = './raw data (trunc_SER_2)/dim8_time_m' + str(mat_num) + '.json'\n",
    "            \n",
    "    with open(time_filepath) as out:\n",
    "        exe_dur_dict = json.load(out)\n",
    "            \n",
    "    list_of_exe_times.append(exe_dur_dict[\"execution time\"])"
   ]
  },
  {
   "cell_type": "markdown",
   "id": "0e0928fe-b5a8-4702-9915-79d404bb1601",
   "metadata": {},
   "source": [
    "Maximum execution time (in seconds)"
   ]
  },
  {
   "cell_type": "code",
   "execution_count": 54,
   "id": "7d3081ee-f8f8-4ec8-a0c0-0b4308f70684",
   "metadata": {},
   "outputs": [
    {
     "data": {
      "text/plain": [
       "0.002018"
      ]
     },
     "execution_count": 54,
     "metadata": {},
     "output_type": "execute_result"
    }
   ],
   "source": [
    "max(list_of_exe_times)"
   ]
  },
  {
   "cell_type": "markdown",
   "id": "8b4b6e13-a498-44ae-8968-89192af3abc9",
   "metadata": {},
   "source": [
    "Mean execution time (in seconds)"
   ]
  },
  {
   "cell_type": "code",
   "execution_count": 56,
   "id": "9094faa9-440b-4b6f-b6e6-5a5057dc1744",
   "metadata": {},
   "outputs": [
    {
     "data": {
      "text/plain": [
       "0.0010517000000000002"
      ]
     },
     "execution_count": 56,
     "metadata": {},
     "output_type": "execute_result"
    }
   ],
   "source": [
    "sum(list_of_exe_times) / len(list_of_exe_times)"
   ]
  },
  {
   "cell_type": "markdown",
   "id": "78d1b2d5-621c-446e-8ffa-90f18a27e575",
   "metadata": {},
   "source": [
    "Minimum execution time (in seconds)"
   ]
  },
  {
   "cell_type": "code",
   "execution_count": 57,
   "id": "a8f65a80-3ab6-4105-9a19-28595f50a196",
   "metadata": {},
   "outputs": [
    {
     "data": {
      "text/plain": [
       "0.0"
      ]
     },
     "execution_count": 57,
     "metadata": {},
     "output_type": "execute_result"
    }
   ],
   "source": [
    "min(list_of_exe_times)"
   ]
  },
  {
   "cell_type": "markdown",
   "id": "885cfb5c-8049-48fd-84df-60363a6a5bc6",
   "metadata": {},
   "source": [
    "Save the data in a folder."
   ]
  },
  {
   "cell_type": "code",
   "execution_count": 58,
   "id": "abbe6d6e-42d6-43cd-984e-341bc46bf70a",
   "metadata": {},
   "outputs": [],
   "source": [
    "time_filepath = './processed data (trunc expt)/SER_2_dim8_exe_times_list.json'\n",
    "\n",
    "with open(time_filepath, 'w') as out1:\n",
    "    json.dump(list_of_exe_times, out1, cls=NumpyEncoder)"
   ]
  },
  {
   "cell_type": "markdown",
   "id": "d4f3af59-68e3-462a-9db4-3f2f2908be5d",
   "metadata": {},
   "source": [
    "## $16 \\times 16$ matrices"
   ]
  },
  {
   "cell_type": "code",
   "execution_count": 59,
   "id": "cff6381b-8884-4d38-8ba5-062e912b63c4",
   "metadata": {},
   "outputs": [],
   "source": [
    "list_of_exe_times = []\n",
    "\n",
    "for mat_num in range(10):\n",
    "    time_filepath = './raw data (trunc_SER_2)/dim16_time_m' + str(mat_num) + '.json'\n",
    "            \n",
    "    with open(time_filepath) as out:\n",
    "        exe_dur_dict = json.load(out)\n",
    "            \n",
    "    list_of_exe_times.append(exe_dur_dict[\"execution time\"])"
   ]
  },
  {
   "cell_type": "markdown",
   "id": "abb34d67-5006-4d01-b0fd-decf4e17e455",
   "metadata": {},
   "source": [
    "Maximum execution time (in seconds)"
   ]
  },
  {
   "cell_type": "code",
   "execution_count": 61,
   "id": "23cf9a68-c0c2-4cc6-9542-d635ca9c3a02",
   "metadata": {},
   "outputs": [
    {
     "data": {
      "text/plain": [
       "0.004132"
      ]
     },
     "execution_count": 61,
     "metadata": {},
     "output_type": "execute_result"
    }
   ],
   "source": [
    "max(list_of_exe_times)"
   ]
  },
  {
   "cell_type": "markdown",
   "id": "b19f3632-f822-4389-866f-ffb772defb00",
   "metadata": {},
   "source": [
    "Mean execution time (in seconds)"
   ]
  },
  {
   "cell_type": "code",
   "execution_count": 62,
   "id": "e741408a-4c4b-4135-aa44-03f1ac2a9a0d",
   "metadata": {},
   "outputs": [
    {
     "data": {
      "text/plain": [
       "0.0028919999999999996"
      ]
     },
     "execution_count": 62,
     "metadata": {},
     "output_type": "execute_result"
    }
   ],
   "source": [
    "sum(list_of_exe_times) / len(list_of_exe_times)"
   ]
  },
  {
   "cell_type": "markdown",
   "id": "715bf696-0724-4b63-8a84-b6e9b382a9fd",
   "metadata": {},
   "source": [
    "Minimum execution time (in seconds)"
   ]
  },
  {
   "cell_type": "code",
   "execution_count": 63,
   "id": "9c1434d5-0122-465d-b2b5-c54e3dfe5538",
   "metadata": {},
   "outputs": [
    {
     "data": {
      "text/plain": [
       "0.001004"
      ]
     },
     "execution_count": 63,
     "metadata": {},
     "output_type": "execute_result"
    }
   ],
   "source": [
    "min(list_of_exe_times)"
   ]
  },
  {
   "cell_type": "markdown",
   "id": "f6e48ef4-8fde-47f6-a63e-0d0b35292d9f",
   "metadata": {},
   "source": [
    "Save the data in a folder."
   ]
  },
  {
   "cell_type": "code",
   "execution_count": 64,
   "id": "c8cbf3ec-b6f4-4e83-ab49-8bcb2c7f8241",
   "metadata": {},
   "outputs": [],
   "source": [
    "time_filepath = './processed data (trunc expt)/SER_2_dim16_exe_times_list.json'\n",
    "\n",
    "with open(time_filepath, 'w') as out1:\n",
    "    json.dump(list_of_exe_times, out1, cls=NumpyEncoder)"
   ]
  },
  {
   "cell_type": "markdown",
   "id": "50e3140e-df5e-477d-ad72-3da8b09b794d",
   "metadata": {},
   "source": [
    "## $32 \\times 32$ matrices"
   ]
  },
  {
   "cell_type": "code",
   "execution_count": 65,
   "id": "d888eaea-3b3e-4e64-9fb6-9ed386014a87",
   "metadata": {},
   "outputs": [],
   "source": [
    "list_of_exe_times = []\n",
    "\n",
    "for mat_num in range(10):\n",
    "    time_filepath = './raw data (trunc_SER_2)/dim32_time_m' + str(mat_num) + '.json'\n",
    "            \n",
    "    with open(time_filepath) as out:\n",
    "        exe_dur_dict = json.load(out)\n",
    "            \n",
    "    list_of_exe_times.append(exe_dur_dict[\"execution time\"])"
   ]
  },
  {
   "cell_type": "markdown",
   "id": "a0d78bbc-2fca-41aa-9122-4537aab478a4",
   "metadata": {},
   "source": [
    "Maximum execution time (in seconds)"
   ]
  },
  {
   "cell_type": "code",
   "execution_count": 67,
   "id": "4dc2b8e9-2d53-42e5-ba73-66baab902b2a",
   "metadata": {},
   "outputs": [
    {
     "data": {
      "text/plain": [
       "0.008332"
      ]
     },
     "execution_count": 67,
     "metadata": {},
     "output_type": "execute_result"
    }
   ],
   "source": [
    "max(list_of_exe_times)"
   ]
  },
  {
   "cell_type": "markdown",
   "id": "7c75e879-b6f9-4669-a192-f9eed0c67b95",
   "metadata": {},
   "source": [
    "Mean execution time (in seconds)"
   ]
  },
  {
   "cell_type": "code",
   "execution_count": 68,
   "id": "9bb7b546-cd2c-406e-b134-037abd0ee39b",
   "metadata": {},
   "outputs": [
    {
     "data": {
      "text/plain": [
       "0.0061175"
      ]
     },
     "execution_count": 68,
     "metadata": {},
     "output_type": "execute_result"
    }
   ],
   "source": [
    "sum(list_of_exe_times) / len(list_of_exe_times)"
   ]
  },
  {
   "cell_type": "markdown",
   "id": "59721a13-ea65-4f60-a99a-5af5d5f56d58",
   "metadata": {},
   "source": [
    "Minimum execution time (in seconds)"
   ]
  },
  {
   "cell_type": "code",
   "execution_count": 69,
   "id": "18d633bc-8f56-481e-9090-5f818562ff6b",
   "metadata": {},
   "outputs": [
    {
     "data": {
      "text/plain": [
       "0.00463"
      ]
     },
     "execution_count": 69,
     "metadata": {},
     "output_type": "execute_result"
    }
   ],
   "source": [
    "min(list_of_exe_times)"
   ]
  },
  {
   "cell_type": "markdown",
   "id": "2ece0e02-8771-4795-bb4b-5e8311e1caa9",
   "metadata": {},
   "source": [
    "Save the data in a folder."
   ]
  },
  {
   "cell_type": "code",
   "execution_count": 70,
   "id": "b9340af8-9dd8-4d91-a23b-cf4076b9cab6",
   "metadata": {},
   "outputs": [],
   "source": [
    "time_filepath = './processed data (trunc expt)/SER_2_dim32_exe_times_list.json'\n",
    "\n",
    "with open(time_filepath, 'w') as out1:\n",
    "    json.dump(list_of_exe_times, out1, cls=NumpyEncoder)"
   ]
  },
  {
   "cell_type": "markdown",
   "id": "f72dc991-53a1-4472-aed8-ff68739b6d91",
   "metadata": {},
   "source": [
    "## $64 \\times 64$ matrices"
   ]
  },
  {
   "cell_type": "code",
   "execution_count": 71,
   "id": "a0d0f7e9-e1bc-48e9-bc61-b90d66ad4687",
   "metadata": {},
   "outputs": [],
   "source": [
    "list_of_exe_times = []\n",
    "\n",
    "for mat_num in range(10):\n",
    "    time_filepath = './raw data (trunc_SER_2)/dim64_time_m' + str(mat_num) + '.json'\n",
    "            \n",
    "    with open(time_filepath) as out:\n",
    "        exe_dur_dict = json.load(out)\n",
    "            \n",
    "    list_of_exe_times.append(exe_dur_dict[\"execution time\"])"
   ]
  },
  {
   "cell_type": "markdown",
   "id": "a00227a2-6832-44b5-b6fc-fb35615ffc46",
   "metadata": {},
   "source": [
    "Maximum execution time (in seconds)"
   ]
  },
  {
   "cell_type": "code",
   "execution_count": 73,
   "id": "05c0df42-866a-413b-9931-910e5b915e51",
   "metadata": {},
   "outputs": [
    {
     "data": {
      "text/plain": [
       "0.032026"
      ]
     },
     "execution_count": 73,
     "metadata": {},
     "output_type": "execute_result"
    }
   ],
   "source": [
    "max(list_of_exe_times)"
   ]
  },
  {
   "cell_type": "markdown",
   "id": "8dd42145-ec00-4c24-bfa3-58ae9704fc9f",
   "metadata": {},
   "source": [
    "Mean execution time (in seconds)"
   ]
  },
  {
   "cell_type": "code",
   "execution_count": 74,
   "id": "03c9292e-cd27-46b5-ae91-c4b74391eacf",
   "metadata": {},
   "outputs": [
    {
     "data": {
      "text/plain": [
       "0.0208103"
      ]
     },
     "execution_count": 74,
     "metadata": {},
     "output_type": "execute_result"
    }
   ],
   "source": [
    "sum(list_of_exe_times) / len(list_of_exe_times)"
   ]
  },
  {
   "cell_type": "markdown",
   "id": "90c493d0-eb9e-4e19-9e10-31572a383fab",
   "metadata": {},
   "source": [
    "Minimum execution time (in seconds)"
   ]
  },
  {
   "cell_type": "code",
   "execution_count": 75,
   "id": "f85b43ad-25fc-4c3b-97d1-b3339e127d30",
   "metadata": {},
   "outputs": [
    {
     "data": {
      "text/plain": [
       "0.015237"
      ]
     },
     "execution_count": 75,
     "metadata": {},
     "output_type": "execute_result"
    }
   ],
   "source": [
    "min(list_of_exe_times)"
   ]
  },
  {
   "cell_type": "markdown",
   "id": "02b7d2eb-68ad-4fe9-b484-33bc57ee21eb",
   "metadata": {},
   "source": [
    "Save the data in a folder."
   ]
  },
  {
   "cell_type": "code",
   "execution_count": 76,
   "id": "fb5a709a-3e7a-493b-8689-9ed9bd6c469a",
   "metadata": {},
   "outputs": [],
   "source": [
    "time_filepath = './processed data (trunc expt)/SER_2_dim64_exe_times_list.json'\n",
    "\n",
    "with open(time_filepath, 'w') as out1:\n",
    "    json.dump(list_of_exe_times, out1, cls=NumpyEncoder)"
   ]
  }
 ],
 "metadata": {
  "kernelspec": {
   "display_name": "Python 3 (ipykernel)",
   "language": "python",
   "name": "python3"
  },
  "language_info": {
   "codemirror_mode": {
    "name": "ipython",
    "version": 3
   },
   "file_extension": ".py",
   "mimetype": "text/x-python",
   "name": "python",
   "nbconvert_exporter": "python",
   "pygments_lexer": "ipython3",
   "version": "3.9.19"
  }
 },
 "nbformat": 4,
 "nbformat_minor": 5
}
