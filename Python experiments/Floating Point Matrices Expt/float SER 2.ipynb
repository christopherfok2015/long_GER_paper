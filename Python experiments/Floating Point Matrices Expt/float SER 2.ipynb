{
 "cells": [
  {
   "cell_type": "markdown",
   "id": "4769f089-085e-49ec-ab9c-4f2d6306a2e7",
   "metadata": {},
   "source": [
    "# Simple Entry Removal Algorithm 2 (SER 2)"
   ]
  },
  {
   "cell_type": "code",
   "execution_count": 1,
   "id": "9a38818b-da7c-4f4f-a2a7-c8c40d96669d",
   "metadata": {},
   "outputs": [],
   "source": [
    "import numpy as np\n",
    "import datetime\n",
    "import random\n",
    "import pandas as pd\n",
    "import json"
   ]
  },
  {
   "cell_type": "markdown",
   "id": "65efaca4-01bc-444f-9e2f-a2d1c300ab05",
   "metadata": {},
   "source": [
    "### Description of add_up_a_decomposition\n",
    "The function takes as inputs:\n",
    "1. a decomposition (x_list, BN_matrices_array) output by SER 1, SER 2, GER (x_list is a list, whereas BN_matrices_array is a 2D np array).\n",
    "2. The dimension of the output TPM row_dim, col_dim\n",
    "\n",
    "The function then sums up (x_list, BN_matrices_array) and outputs the resulting TPM (row_dim-by-col_dim)."
   ]
  },
  {
   "cell_type": "code",
   "execution_count": 13,
   "id": "a4515766-44b4-4f42-8507-9ddb3a3461ac",
   "metadata": {},
   "outputs": [],
   "source": [
    "def add_up_a_decomposition_float(x_list, BN_matrices_array, row_dim, col_dim):\n",
    "    output_TPM = np.zeros((row_dim, col_dim), dtype=float)\n",
    "    num_BN_matrices = len(x_list)\n",
    "    \n",
    "    for k in range(num_BN_matrices):\n",
    "        for col in range(col_dim):\n",
    "            output_TPM[BN_matrices_array[k, col], col] += x_list[k]\n",
    "    \n",
    "    return output_TPM"
   ]
  },
  {
   "cell_type": "markdown",
   "id": "0f829162-00f3-48a3-b1b3-3f8b58f1b8bc",
   "metadata": {},
   "source": [
    "# The SER 2 algorithm"
   ]
  },
  {
   "cell_type": "code",
   "execution_count": 3,
   "id": "2fd61a4c-01fb-487b-9506-44c8976a5298",
   "metadata": {},
   "outputs": [],
   "source": [
    "# This function is used in the SER 2 function.\n",
    "# residue_matrix_R is a np.ndarray.\n",
    "# chosen_entry_pos_each_col is a 1-by-PBN_col_sum np.ndarray.\n",
    "# PBN_col_num is the number of columns present in residue_matrix_R\n",
    "\n",
    "def choose_coefficient(residue_matrix_R, chosen_entry_pos_each_col, PBN_col_num):\n",
    "    col_counter = 0\n",
    "    chosen_entry_xi = residue_matrix_R[chosen_entry_pos_each_col[0, col_counter], col_counter]\n",
    "    \n",
    "    for col_counter in range(PBN_col_num):\n",
    "        current_entry = residue_matrix_R[chosen_entry_pos_each_col[0, col_counter], col_counter]\n",
    "        if current_entry < chosen_entry_xi:\n",
    "            chosen_entry_xi = current_entry\n",
    "    \n",
    "    return chosen_entry_xi"
   ]
  },
  {
   "cell_type": "code",
   "execution_count": 4,
   "id": "2e79c6c1-2483-4b09-9c49-201e697c1c2f",
   "metadata": {},
   "outputs": [],
   "source": [
    "def float_SER_2(PBN_matrix_P, stopping_error):  # input: 2^n-by-2^n ndarray consisting of integers.\n",
    "    PBN_row_num = PBN_matrix_P.shape[0]\n",
    "    PBN_col_num = PBN_matrix_P.shape[1]\n",
    "    coefficient_list_xi = []  # the coefficients of BN matrices to be output\n",
    "    # the BN matrices to be output\n",
    "    BN_matrices_list_Ai = np.array([[-1] * PBN_col_num])  # the first row of BN_matrices_list_Ai will be\n",
    "                                                          # replaced in the first iteration of pseudocode\n",
    "                                                          # steps 1 to 4.\n",
    "                                                          \n",
    "    residue_matrix_R = PBN_matrix_P.copy()\n",
    "    k = 1  # counts the number of iterations of pseudocode Steps 1 to 4\n",
    "\n",
    "    chosen_entry_pos_each_col = np.argmax(residue_matrix_R, axis=0, keepdims=True)\n",
    "    chosen_entry_xi = choose_coefficient(residue_matrix_R, chosen_entry_pos_each_col, PBN_col_num)\n",
    "    \n",
    "    coefficient_list_xi.append(chosen_entry_xi)\n",
    "    BN_matrices_list_Ai = chosen_entry_pos_each_col\n",
    "    \n",
    "    for col_counter in range(PBN_col_num):\n",
    "        row_to_deduct = chosen_entry_pos_each_col[0, col_counter]\n",
    "        residue_matrix_R[row_to_deduct, col_counter] -= chosen_entry_xi\n",
    "    \n",
    "#    zero_PBN_matrix = np.zeros((PBN_row_num, PBN_col_num), dtype=int)\n",
    "    \n",
    "    while (np.linalg.norm(residue_matrix_R, ord='fro') >= stopping_error):\n",
    "        k += 1\n",
    "        chosen_entry_pos_each_col = np.argmax(residue_matrix_R, axis=0, keepdims=True)\n",
    "        chosen_entry_xi = choose_coefficient(residue_matrix_R, chosen_entry_pos_each_col, PBN_col_num)\n",
    "    \n",
    "        coefficient_list_xi.append(chosen_entry_xi)\n",
    "        BN_matrices_list_Ai = np.append(BN_matrices_list_Ai, chosen_entry_pos_each_col, axis=0)\n",
    "        \n",
    "        for col_counter in range(PBN_col_num):\n",
    "            row_to_deduct = chosen_entry_pos_each_col[0, col_counter]\n",
    "            residue_matrix_R[row_to_deduct, col_counter] -= chosen_entry_xi\n",
    "    \n",
    "    return k, coefficient_list_xi, BN_matrices_list_Ai, np.linalg.norm(residue_matrix_R, ord='fro')"
   ]
  },
  {
   "cell_type": "markdown",
   "id": "b7741b85-6909-406a-bd33-218cdbcf9d45",
   "metadata": {},
   "source": [
    "# Floating-Point Matrix Experiment"
   ]
  },
  {
   "cell_type": "code",
   "execution_count": 5,
   "id": "ad31b47d-dac4-407f-a27a-b50c818c3257",
   "metadata": {},
   "outputs": [],
   "source": [
    "# Custom JSON encoder that handles NumPy types (created by GPT-o3 on poe.com)\n",
    "class NumpyEncoder(json.JSONEncoder):\n",
    "    def default(self, obj):\n",
    "        if isinstance(obj, (np.integer,)):\n",
    "            return int(obj)\n",
    "        elif isinstance(obj, (np.floating,)):\n",
    "            return float(obj)\n",
    "        elif isinstance(obj, (np.ndarray,)):\n",
    "            return obj.tolist()\n",
    "        return super(NumpyEncoder, self).default(obj)"
   ]
  },
  {
   "cell_type": "markdown",
   "id": "b7789579-409b-4dfe-b572-1edd3fb4f003",
   "metadata": {},
   "source": [
    "## $8 \\times 8$ TPMs"
   ]
  },
  {
   "cell_type": "code",
   "execution_count": 23,
   "id": "154d1f90-5461-43a7-8811-b53263a50f78",
   "metadata": {},
   "outputs": [
    {
     "name": "stdout",
     "output_type": "stream",
     "text": [
      "iteration 0\n",
      "Time now is: 2025-04-12 01:26:43.839240\n",
      "\n",
      "iteration 1\n",
      "Time now is: 2025-04-12 01:26:43.924149\n",
      "\n",
      "iteration 2\n",
      "Time now is: 2025-04-12 01:26:43.950651\n",
      "\n",
      "iteration 3\n",
      "Time now is: 2025-04-12 01:26:43.973052\n",
      "\n",
      "iteration 4\n",
      "Time now is: 2025-04-12 01:26:43.990722\n",
      "\n",
      "iteration 5\n",
      "Time now is: 2025-04-12 01:26:44.008606\n",
      "\n",
      "iteration 6\n",
      "Time now is: 2025-04-12 01:26:44.034273\n",
      "\n",
      "iteration 7\n",
      "Time now is: 2025-04-12 01:26:44.055731\n",
      "\n",
      "iteration 8\n",
      "Time now is: 2025-04-12 01:26:44.074579\n",
      "\n",
      "iteration 9\n",
      "Time now is: 2025-04-12 01:26:44.094145\n",
      "\n"
     ]
    }
   ],
   "source": [
    "stopping_error = 0.01\n",
    "\n",
    "for k in range(10):\n",
    "    print('iteration', k)\n",
    "    print('Time now is:', datetime.datetime.now())\n",
    "    fTPM_filepath = './8-by-8/dim8_fTPM_' + str(k) + '.npy'\n",
    "    fTPM = np.load(fTPM_filepath)\n",
    "    \n",
    "    start_time = datetime.datetime.now()\n",
    "    decom_and_error = float_SER_2(fTPM, stopping_error)\n",
    "    end_time = datetime.datetime.now()\n",
    "    execution_duration = end_time - start_time\n",
    "    \n",
    "    exe_dur_seconds = execution_duration.total_seconds()\n",
    "    exe_dur_dict = {\"execution time\": exe_dur_seconds}\n",
    "    \n",
    "    # save the data\n",
    "    decom_filepath = \"./raw data (float_SER_2)/dim8_decom_err_\" + str(k) + \".json\"\n",
    "    time_filepath = \"./raw data (float_SER_2)/dim8_time_\" + str(k) + \".json\"\n",
    "    \n",
    "    with open(decom_filepath, 'w') as out1:\n",
    "        json.dump(decom_and_error, out1, cls=NumpyEncoder)\n",
    "        \n",
    "    with open(time_filepath, 'w') as out2:\n",
    "        json.dump(exe_dur_dict, out2)\n",
    "    \n",
    "    print()"
   ]
  },
  {
   "cell_type": "markdown",
   "id": "4f27f45d-d1dd-44fe-93d9-07f285910acc",
   "metadata": {},
   "source": [
    "## $16 \\times 16$ TPMs"
   ]
  },
  {
   "cell_type": "code",
   "execution_count": 43,
   "id": "d96f9741-1f7e-4048-a9e6-21b1e1bb1557",
   "metadata": {},
   "outputs": [
    {
     "name": "stdout",
     "output_type": "stream",
     "text": [
      "iteration 0\n",
      "Time now is: 2025-04-12 01:54:43.248947\n",
      "\n",
      "iteration 1\n",
      "Time now is: 2025-04-12 01:54:43.253806\n",
      "\n",
      "iteration 2\n",
      "Time now is: 2025-04-12 01:54:43.257806\n",
      "\n",
      "iteration 3\n",
      "Time now is: 2025-04-12 01:54:43.262847\n",
      "\n",
      "iteration 4\n",
      "Time now is: 2025-04-12 01:54:43.267847\n",
      "\n",
      "iteration 5\n",
      "Time now is: 2025-04-12 01:54:43.271397\n",
      "\n",
      "iteration 6\n",
      "Time now is: 2025-04-12 01:54:43.274798\n",
      "\n",
      "iteration 7\n",
      "Time now is: 2025-04-12 01:54:43.277183\n",
      "\n",
      "iteration 8\n",
      "Time now is: 2025-04-12 01:54:43.280801\n",
      "\n",
      "iteration 9\n",
      "Time now is: 2025-04-12 01:54:43.284048\n",
      "\n"
     ]
    }
   ],
   "source": [
    "stopping_error = 0.01\n",
    "\n",
    "for k in range(10):\n",
    "    print('iteration', k)\n",
    "    print('Time now is:', datetime.datetime.now())\n",
    "    fTPM_filepath = './16-by-16/dim16_fTPM_' + str(k) + '.npy'\n",
    "    fTPM = np.load(fTPM_filepath)\n",
    "    \n",
    "    start_time = datetime.datetime.now()\n",
    "    decom_and_error = float_SER_2(fTPM, stopping_error)\n",
    "    end_time = datetime.datetime.now()\n",
    "    execution_duration = end_time - start_time\n",
    "    \n",
    "    exe_dur_seconds = execution_duration.total_seconds()\n",
    "    exe_dur_dict = {\"execution time\": exe_dur_seconds}\n",
    "    \n",
    "    # save the data\n",
    "    decom_filepath = \"./raw data (float_SER_2)/dim16_decom_err_\" + str(k) + \".json\"\n",
    "    time_filepath = \"./raw data (float_SER_2)/dim16_time_\" + str(k) + \".json\"\n",
    "    \n",
    "    with open(decom_filepath, 'w') as out1:\n",
    "        json.dump(decom_and_error, out1, cls=NumpyEncoder)\n",
    "        \n",
    "    with open(time_filepath, 'w') as out2:\n",
    "        json.dump(exe_dur_dict, out2)\n",
    "    \n",
    "    print()"
   ]
  },
  {
   "cell_type": "markdown",
   "id": "ea236b58-7d48-4223-8dc7-1d03313ae713",
   "metadata": {},
   "source": [
    "## $32 \\times 32$ TPMs"
   ]
  },
  {
   "cell_type": "code",
   "execution_count": 42,
   "id": "30b86596-270b-4f32-b336-8bad3fab0fc3",
   "metadata": {},
   "outputs": [
    {
     "name": "stdout",
     "output_type": "stream",
     "text": [
      "iteration 0\n",
      "Time now is: 2025-04-12 01:54:21.434112\n",
      "\n",
      "iteration 1\n",
      "Time now is: 2025-04-12 01:54:21.443153\n",
      "\n",
      "iteration 2\n",
      "Time now is: 2025-04-12 01:54:21.449710\n",
      "\n",
      "iteration 3\n",
      "Time now is: 2025-04-12 01:54:21.455730\n",
      "\n",
      "iteration 4\n",
      "Time now is: 2025-04-12 01:54:21.463616\n",
      "\n",
      "iteration 5\n",
      "Time now is: 2025-04-12 01:54:21.470141\n",
      "\n",
      "iteration 6\n",
      "Time now is: 2025-04-12 01:54:21.483592\n",
      "\n",
      "iteration 7\n",
      "Time now is: 2025-04-12 01:54:21.498127\n",
      "\n",
      "iteration 8\n",
      "Time now is: 2025-04-12 01:54:21.514674\n",
      "\n",
      "iteration 9\n",
      "Time now is: 2025-04-12 01:54:21.523578\n",
      "\n"
     ]
    }
   ],
   "source": [
    "stopping_error = 0.01\n",
    "\n",
    "for k in range(10):\n",
    "    print('iteration', k)\n",
    "    print('Time now is:', datetime.datetime.now())\n",
    "    fTPM_filepath = './32-by-32/dim32_fTPM_' + str(k) + '.npy'\n",
    "    fTPM = np.load(fTPM_filepath)\n",
    "    \n",
    "    start_time = datetime.datetime.now()\n",
    "    decom_and_error = float_SER_2(fTPM, stopping_error)\n",
    "    end_time = datetime.datetime.now()\n",
    "    execution_duration = end_time - start_time\n",
    "    \n",
    "    exe_dur_seconds = execution_duration.total_seconds()\n",
    "    exe_dur_dict = {\"execution time\": exe_dur_seconds}\n",
    "    \n",
    "    # save the data\n",
    "    decom_filepath = \"./raw data (float_SER_2)/dim32_decom_err_\" + str(k) + \".json\"\n",
    "    time_filepath = \"./raw data (float_SER_2)/dim32_time_\" + str(k) + \".json\"\n",
    "    \n",
    "    with open(decom_filepath, 'w') as out1:\n",
    "        json.dump(decom_and_error, out1, cls=NumpyEncoder)\n",
    "        \n",
    "    with open(time_filepath, 'w') as out2:\n",
    "        json.dump(exe_dur_dict, out2)\n",
    "    \n",
    "    print()"
   ]
  },
  {
   "cell_type": "markdown",
   "id": "90f3a5ad-4c17-40d5-ba65-cfcd3c234b77",
   "metadata": {},
   "source": [
    "## $64 \\times 64$ TPMs"
   ]
  },
  {
   "cell_type": "code",
   "execution_count": 39,
   "id": "29f95442-eb35-4269-8aa6-7ec5b498989d",
   "metadata": {},
   "outputs": [
    {
     "name": "stdout",
     "output_type": "stream",
     "text": [
      "iteration 0\n",
      "Time now is: 2025-04-12 01:52:45.367478\n",
      "\n",
      "iteration 1\n",
      "Time now is: 2025-04-12 01:52:45.388864\n",
      "\n",
      "iteration 2\n",
      "Time now is: 2025-04-12 01:52:45.420345\n",
      "\n",
      "iteration 3\n",
      "Time now is: 2025-04-12 01:52:45.450883\n",
      "\n",
      "iteration 4\n",
      "Time now is: 2025-04-12 01:52:45.489068\n",
      "\n",
      "iteration 5\n",
      "Time now is: 2025-04-12 01:52:45.526499\n",
      "\n",
      "iteration 6\n",
      "Time now is: 2025-04-12 01:52:45.559799\n",
      "\n",
      "iteration 7\n",
      "Time now is: 2025-04-12 01:52:45.585371\n",
      "\n",
      "iteration 8\n",
      "Time now is: 2025-04-12 01:52:45.617243\n",
      "\n",
      "iteration 9\n",
      "Time now is: 2025-04-12 01:52:45.647265\n",
      "\n"
     ]
    }
   ],
   "source": [
    "stopping_error = 0.01\n",
    "\n",
    "for k in range(10):\n",
    "    print('iteration', k)\n",
    "    print('Time now is:', datetime.datetime.now())\n",
    "    fTPM_filepath = './64-by-64/dim64_fTPM_' + str(k) + '.npy'\n",
    "    fTPM = np.load(fTPM_filepath)\n",
    "    \n",
    "    start_time = datetime.datetime.now()\n",
    "    decom_and_error = float_SER_2(fTPM, stopping_error)\n",
    "    end_time = datetime.datetime.now()\n",
    "    execution_duration = end_time - start_time\n",
    "    \n",
    "    exe_dur_seconds = execution_duration.total_seconds()\n",
    "    exe_dur_dict = {\"execution time\": exe_dur_seconds}\n",
    "    \n",
    "    # save the data\n",
    "    decom_filepath = \"./raw data (float_SER_2)/dim64_decom_err_\" + str(k) + \".json\"\n",
    "    time_filepath = \"./raw data (float_SER_2)/dim64_time_\" + str(k) + \".json\"\n",
    "    \n",
    "    with open(decom_filepath, 'w') as out1:\n",
    "        json.dump(decom_and_error, out1, cls=NumpyEncoder)\n",
    "        \n",
    "    with open(time_filepath, 'w') as out2:\n",
    "        json.dump(exe_dur_dict, out2)\n",
    "    \n",
    "    print()"
   ]
  },
  {
   "cell_type": "markdown",
   "id": "75094e01-f7e4-4fa6-a1d6-bb42215d9c9e",
   "metadata": {},
   "source": [
    "# Some random test code"
   ]
  },
  {
   "cell_type": "code",
   "execution_count": 15,
   "id": "b49f53e0-d54b-448e-bd0b-9855c39c2b66",
   "metadata": {},
   "outputs": [],
   "source": [
    "test_matrix = np.random.exponential(size=(4, 4))\n",
    "\n",
    "for k in range(4):\n",
    "    test_matrix[:, k] = test_matrix[:, k] / np.sum(test_matrix[:, k])"
   ]
  },
  {
   "cell_type": "code",
   "execution_count": 16,
   "id": "bd743a82-be41-41b4-96c6-4828bf498efa",
   "metadata": {},
   "outputs": [
    {
     "data": {
      "text/plain": [
       "array([1., 1., 1., 1.])"
      ]
     },
     "execution_count": 16,
     "metadata": {},
     "output_type": "execute_result"
    }
   ],
   "source": [
    "np.sum(test_matrix, axis=0)"
   ]
  },
  {
   "cell_type": "code",
   "execution_count": 17,
   "id": "0291b69e-3295-422f-bc5f-5e203655bb90",
   "metadata": {},
   "outputs": [],
   "source": [
    "K, x_list, BN_list, error = float_SER_2(test_matrix, 0.001)"
   ]
  },
  {
   "cell_type": "code",
   "execution_count": 18,
   "id": "3b6a03a4-2bf3-4dc5-bdcc-c3aacb291ff0",
   "metadata": {},
   "outputs": [
    {
     "data": {
      "text/plain": [
       "12"
      ]
     },
     "execution_count": 18,
     "metadata": {},
     "output_type": "execute_result"
    }
   ],
   "source": [
    "K"
   ]
  },
  {
   "cell_type": "code",
   "execution_count": 19,
   "id": "b8a0d9f8-d5bb-4686-b0f2-d2c979b46432",
   "metadata": {},
   "outputs": [
    {
     "data": {
      "text/plain": [
       "0.000513309232779465"
      ]
     },
     "execution_count": 19,
     "metadata": {},
     "output_type": "execute_result"
    }
   ],
   "source": [
    "error"
   ]
  },
  {
   "cell_type": "code",
   "execution_count": 20,
   "id": "4a84f865-7e30-4be8-a21d-85e6360e7745",
   "metadata": {},
   "outputs": [
    {
     "data": {
      "text/plain": [
       "array([[0.30104727, 0.45703437, 0.00701529, 0.25848057],\n",
       "       [0.14486512, 0.39931011, 0.53203814, 0.11791478],\n",
       "       [0.48952471, 0.02263924, 0.22389972, 0.24989712],\n",
       "       [0.0645629 , 0.12101628, 0.23704684, 0.37370753]])"
      ]
     },
     "execution_count": 20,
     "metadata": {},
     "output_type": "execute_result"
    }
   ],
   "source": [
    "test_matrix"
   ]
  },
  {
   "cell_type": "code",
   "execution_count": 22,
   "id": "5a332df6-7312-4ec7-8601-fc6030bf0281",
   "metadata": {},
   "outputs": [
    {
     "data": {
      "text/plain": [
       "array([[0.30079062, 0.45703437, 0.00675864, 0.25848057],\n",
       "       [0.14486512, 0.39905346, 0.53203814, 0.11765812],\n",
       "       [0.48952471, 0.02263924, 0.22389972, 0.24989712],\n",
       "       [0.0645629 , 0.12101628, 0.23704684, 0.37370753]])"
      ]
     },
     "execution_count": 22,
     "metadata": {},
     "output_type": "execute_result"
    }
   ],
   "source": [
    "add_up_a_decomposition_float(x_list, BN_list, 4, 4)"
   ]
  },
  {
   "cell_type": "code",
   "execution_count": null,
   "id": "b847ce87-27b9-49d8-b4db-07af50be89cb",
   "metadata": {},
   "outputs": [],
   "source": []
  }
 ],
 "metadata": {
  "kernelspec": {
   "display_name": "Python 3 (ipykernel)",
   "language": "python",
   "name": "python3"
  },
  "language_info": {
   "codemirror_mode": {
    "name": "ipython",
    "version": 3
   },
   "file_extension": ".py",
   "mimetype": "text/x-python",
   "name": "python",
   "nbconvert_exporter": "python",
   "pygments_lexer": "ipython3",
   "version": "3.9.19"
  }
 },
 "nbformat": 4,
 "nbformat_minor": 5
}
