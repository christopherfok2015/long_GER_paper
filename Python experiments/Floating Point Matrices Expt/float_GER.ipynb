{
 "cells": [
  {
   "cell_type": "code",
   "execution_count": 1,
   "id": "58ca26d0-d8bc-45fe-a0db-23c6307ce100",
   "metadata": {},
   "outputs": [],
   "source": [
    "import numpy as np\n",
    "import math\n",
    "import copy\n",
    "import datetime\n",
    "import pandas as pd\n",
    "import json"
   ]
  },
  {
   "cell_type": "markdown",
   "id": "b2d191a0-2316-4b12-a2ae-960de394c7be",
   "metadata": {},
   "source": [
    "### Description of add_up_a_decomposition\n",
    "The function takes as inputs:\n",
    "1. a decomposition (x_list, BN_matrices_array) output by SER 1, SER 2, GER (x_list is a list, whereas BN_matrices_array is a 2D np array).\n",
    "2. The dimension of the output TPM row_dim, col_dim\n",
    "\n",
    "The function then sums up (x_list, BN_matrices_array) and outputs the resulting TPM (row_dim-by-col_dim)."
   ]
  },
  {
   "cell_type": "code",
   "execution_count": 2,
   "id": "83203341-36c4-4127-9f76-cfd6620902b7",
   "metadata": {},
   "outputs": [],
   "source": [
    "def add_up_a_decomposition_float(x_list, BN_matrices_array, row_dim, col_dim):\n",
    "    output_TPM = np.zeros((row_dim, col_dim), dtype=float)\n",
    "    num_BN_matrices = len(x_list)\n",
    "    \n",
    "    for k in range(num_BN_matrices):\n",
    "        for col in range(col_dim):\n",
    "            output_TPM[BN_matrices_array[k, col], col] += x_list[k]\n",
    "    \n",
    "    return output_TPM"
   ]
  },
  {
   "cell_type": "markdown",
   "id": "62ee3a01-1c29-4218-bb0e-4b62500b235e",
   "metadata": {},
   "source": [
    "# Implementation of the arXiv Version of GER"
   ]
  },
  {
   "cell_type": "markdown",
   "id": "85474c21-10b4-4200-986d-29e567843f22",
   "metadata": {},
   "source": [
    "## Order of execution: get_col_indices, first_occurrence, column_freq, find_v_list, GERESA, f_score, new_GER."
   ]
  },
  {
   "cell_type": "markdown",
   "id": "aed132a3-dd47-4303-a770-4c173bdf2ce8",
   "metadata": {},
   "source": [
    "This function requires two inputs:\n",
    "1. $P$ is a $2^{n} \\times 2^{n}$ numpy array.\n",
    "2. $z$ is a real number greater than 1.\n",
    "\n",
    "This function outputs:\n",
    "1. The length of the decomposition $K$.\n",
    "2. A list of positive real numbers x_list.\n",
    "3. A 2D numpy array representing a list of BN matrices A_array."
   ]
  },
  {
   "cell_type": "code",
   "execution_count": 9,
   "id": "19873b46-09fe-460e-9112-9fc2192693ba",
   "metadata": {},
   "outputs": [],
   "source": [
    "def float_GER(P, z, stopping_error):\n",
    "    row_num, col_num = P.shape\n",
    "    \n",
    "    R = copy.deepcopy(P)\n",
    "    K = 0\n",
    "    x_list = []\n",
    "    BN_list = []\n",
    "    \n",
    "    while (np.linalg.norm(R, ord='fro') >= stopping_error):\n",
    "        K += 1\n",
    "        B = np.min(np.max(R, axis=0))\n",
    "        v_list = find_v_list(R, B)\n",
    "        x = 0\n",
    "        score = -math.inf\n",
    "        \n",
    "#        print(\"Iteration\", K)\n",
    "#        print(\"Number of positive entries:\", np.sum(R > 0))\n",
    "#        print(\"Number of positive entries (each col)\", np.sum(R > 0, axis=0))\n",
    "#        print(\"Number of negative entries:\", np.sum(R < 0))\n",
    "#        print(\"Number of zero entries:\", np.sum(R == 0))\n",
    "#        print(R)\n",
    "#        print()\n",
    "        \n",
    "        for v in v_list:\n",
    "            temp_A = GERESA(R, v) # temp_A should be a list of length col_num representing a BN matrix.\n",
    "            \n",
    "            R_subtract_v_temp_A = copy.deepcopy(R)\n",
    "            for j in range(col_num):\n",
    "                R_subtract_v_temp_A[temp_A[j], j] -= v\n",
    "            \n",
    "            temp_score = f_score(R_subtract_v_temp_A, z)\n",
    "            \n",
    "            if ((temp_score > score) or ((temp_score == score) and (v > x))):\n",
    "                score = temp_score\n",
    "                x = v\n",
    "                A = temp_A\n",
    "        \n",
    "        for j in range(col_num):\n",
    "            R[A[j], j] -= x\n",
    "        \n",
    "        x_list.append(x)\n",
    "        BN_list.append(A)\n",
    "        \n",
    "    return K, x_list, np.array(BN_list), np.linalg.norm(R, ord='fro')"
   ]
  },
  {
   "cell_type": "markdown",
   "id": "5198d799-68f9-4900-ad3d-e8854d4532c4",
   "metadata": {},
   "source": [
    "This function requires two inputs:\n",
    "1. an integer $v$.\n",
    "2. A 2D numpy array an_array consisting of integers.\n",
    "\n",
    "The function outputs the column frequency of $v$ in an_array."
   ]
  },
  {
   "cell_type": "code",
   "execution_count": 5,
   "id": "5e741d1c-9293-434e-b52e-57bc6120ad7e",
   "metadata": {},
   "outputs": [],
   "source": [
    "def column_freq(v, an_array):\n",
    "    row_num, col_num = an_array.shape\n",
    "    col_freq = 0\n",
    "    \n",
    "    for j in range(col_num):\n",
    "        if v in an_array[:, j]:\n",
    "            col_freq += 1\n",
    "    \n",
    "    return col_freq"
   ]
  },
  {
   "cell_type": "markdown",
   "id": "7744408a-903a-4341-ba11-543d54ab555d",
   "metadata": {},
   "source": [
    "This function outputs the list of positive entries of $R$ which are not greater than $B$ (upper_bound) and attain the maximum column frequency in $R$."
   ]
  },
  {
   "cell_type": "code",
   "execution_count": 6,
   "id": "88994f00-fb3c-4e3f-af68-710d49eef3f4",
   "metadata": {},
   "outputs": [],
   "source": [
    "def find_v_list(R, upper_bound):\n",
    "    row_num, col_num = R.shape\n",
    "    classify_entries = [set() for i in range(col_num + 1)]\n",
    "    \n",
    "    for i in range(row_num):\n",
    "        for j in range(col_num):\n",
    "            if (R[i, j] > 0 and R[i, j] <= upper_bound):\n",
    "                classify_entries[column_freq(R[i, j], R)].add(R[i, j])\n",
    "    \n",
    "    empty_set = set()\n",
    "    \n",
    "    for freq in range(col_num, 0, -1):\n",
    "        if classify_entries[freq] != empty_set:\n",
    "            return list(classify_entries[freq])"
   ]
  },
  {
   "cell_type": "code",
   "execution_count": 7,
   "id": "79709d38-6554-4635-bd83-4b2399025b7e",
   "metadata": {},
   "outputs": [],
   "source": [
    "def GERESA(R, v):\n",
    "    row_num, col_num = R.shape\n",
    "    A = [0] * col_num\n",
    "    R_copy = copy.deepcopy(R)\n",
    "    selected_columns = []\n",
    "    col_indices_v_R = get_col_indices(v, R)\n",
    "    col_indices_v_R_complement = set(range(col_num)) - col_indices_v_R\n",
    "    \n",
    "    for j in col_indices_v_R:\n",
    "        A[j] = first_occurrence(v, R[:, j])\n",
    "        R_copy[A[j], j] = 0\n",
    "        selected_columns.append(j)\n",
    "    \n",
    "    for j in col_indices_v_R_complement:\n",
    "        # Compute a dictionary with keys in Larger(v, R(:, j)) and values being associated column frequencies.\n",
    "        dict_KLarger_VColFreq = dict()\n",
    "        for i in range(row_num):\n",
    "            if R[i, j] > v:\n",
    "                dict_KLarger_VColFreq[i] = column_freq(R[i, j] - v, R_copy[:, selected_columns])\n",
    "        \n",
    "        # Set A[j] to the right choice from range(row_num).\n",
    "        A[j] = max(dict_KLarger_VColFreq.keys(), key=dict_KLarger_VColFreq.get)\n",
    "        \n",
    "        R_copy[A[j], j] = R[A[j], j] - v\n",
    "        selected_columns.append(j)\n",
    "        \n",
    "    return A"
   ]
  },
  {
   "cell_type": "markdown",
   "id": "955387b8-65b2-4739-b651-6e15245d0852",
   "metadata": {},
   "source": [
    "This function requires two inputs:\n",
    "1. an integer $v$.\n",
    "2. A 2D numpy array an_array consisting of integers.\n",
    "\n",
    "The function outputs the set $\\text{Col_indices}(v, \\text{an_array})$."
   ]
  },
  {
   "cell_type": "code",
   "execution_count": 3,
   "id": "3e7df1da-4a16-488d-95df-d02476b1ea2b",
   "metadata": {},
   "outputs": [],
   "source": [
    "def get_col_indices(v, an_array):\n",
    "    row_num, col_num = an_array.shape\n",
    "    col_indices = []\n",
    "    \n",
    "    for j in range(col_num):\n",
    "        if v in an_array[:, j]:\n",
    "            col_indices.append(j)\n",
    "    \n",
    "    return set(col_indices)"
   ]
  },
  {
   "cell_type": "markdown",
   "id": "eb7977fb-50e9-4f16-bbf3-6f604dd99406",
   "metadata": {},
   "source": [
    "This function requires two inputs:\n",
    "1. An integer $v$.\n",
    "2. A 1D numpy array array_1D such that v is an element of array_1D.\n",
    "\n",
    "The function outputs the index of the first occurrence of $v$ in array_1D."
   ]
  },
  {
   "cell_type": "code",
   "execution_count": 4,
   "id": "d9a8dc0c-00b9-4f1e-84b1-06ade92437f4",
   "metadata": {},
   "outputs": [],
   "source": [
    "def first_occurrence(v, array_1D):\n",
    "    length = array_1D.size\n",
    "    \n",
    "    for i in range(length):\n",
    "        if v == array_1D[i]:\n",
    "            return i\n",
    "    \n",
    "    return -1"
   ]
  },
  {
   "cell_type": "markdown",
   "id": "3681d17a-908d-4ae9-b30c-6dc3091b6f94",
   "metadata": {},
   "source": [
    "This function requires two inputs:\n",
    "1. An integer 2D array array_2D.\n",
    "2. A positive real number $z > 1$.\n",
    "\n",
    "The function outputs a score."
   ]
  },
  {
   "cell_type": "code",
   "execution_count": 8,
   "id": "0e975c68-f71f-4f15-a478-3a159371d846",
   "metadata": {},
   "outputs": [],
   "source": [
    "def f_score(array_2D, z):\n",
    "    row_num, col_num = array_2D.shape\n",
    "    score = 0\n",
    "    checked_positive_entries = set()\n",
    "    \n",
    "    for i in range(row_num):\n",
    "        for j in range(col_num):\n",
    "            if (array_2D[i, j] > 0) and (not array_2D[i, j] in checked_positive_entries):\n",
    "                score += z ** column_freq(array_2D[i, j], array_2D)\n",
    "                checked_positive_entries.add(array_2D[i, j])\n",
    "    \n",
    "    return score"
   ]
  },
  {
   "cell_type": "markdown",
   "id": "7cc067a7-74f0-461d-9215-788e3db47000",
   "metadata": {},
   "source": [
    "# Floating-Point Matrix Experiment"
   ]
  },
  {
   "cell_type": "code",
   "execution_count": 10,
   "id": "f665fe1e-315b-4c02-8253-09a034bc400d",
   "metadata": {},
   "outputs": [],
   "source": [
    "# Custom JSON encoder that handles NumPy types (created by GPT-o3 on poe.com)\n",
    "class NumpyEncoder(json.JSONEncoder):\n",
    "    def default(self, obj):\n",
    "        if isinstance(obj, (np.integer,)):\n",
    "            return int(obj)\n",
    "        elif isinstance(obj, (np.floating,)):\n",
    "            return float(obj)\n",
    "        elif isinstance(obj, (np.ndarray,)):\n",
    "            return obj.tolist()\n",
    "        return super(NumpyEncoder, self).default(obj)"
   ]
  },
  {
   "cell_type": "markdown",
   "id": "23b4d083-896a-4b9c-8596-0a3234efb7b2",
   "metadata": {},
   "source": [
    "## $8 \\times 8$ TPMs"
   ]
  },
  {
   "cell_type": "code",
   "execution_count": 70,
   "id": "216e626b-59a8-48f7-8a65-85d75c80ffee",
   "metadata": {},
   "outputs": [
    {
     "name": "stdout",
     "output_type": "stream",
     "text": [
      "iteration 0\n",
      "Time now is: 2025-04-10 18:07:06.798652\n",
      "\n",
      "iteration 1\n",
      "Time now is: 2025-04-10 18:07:09.766304\n",
      "\n",
      "iteration 2\n",
      "Time now is: 2025-04-10 18:07:12.911557\n",
      "\n",
      "iteration 3\n",
      "Time now is: 2025-04-10 18:07:15.961934\n",
      "\n",
      "iteration 4\n",
      "Time now is: 2025-04-10 18:07:18.375797\n",
      "\n",
      "iteration 5\n",
      "Time now is: 2025-04-10 18:07:20.787594\n",
      "\n",
      "iteration 6\n",
      "Time now is: 2025-04-10 18:07:22.943457\n",
      "\n",
      "iteration 7\n",
      "Time now is: 2025-04-10 18:07:25.115693\n",
      "\n",
      "iteration 8\n",
      "Time now is: 2025-04-10 18:07:27.264881\n",
      "\n",
      "iteration 9\n",
      "Time now is: 2025-04-10 18:07:29.436662\n",
      "\n"
     ]
    }
   ],
   "source": [
    "z = 5\n",
    "stopping_error = 0.01\n",
    "\n",
    "for k in range(10):\n",
    "    print('iteration', k)\n",
    "    print('Time now is:', datetime.datetime.now())\n",
    "    fTPM_filepath = './8-by-8/dim8_fTPM_' + str(k) + '.npy'\n",
    "    fTPM = np.load(fTPM_filepath)\n",
    "    \n",
    "    start_time = datetime.datetime.now()\n",
    "    decom_and_error = float_GER(fTPM, z, stopping_error)\n",
    "    end_time = datetime.datetime.now()\n",
    "    execution_duration = end_time - start_time\n",
    "    \n",
    "    exe_dur_seconds = execution_duration.total_seconds()\n",
    "    exe_dur_dict = {\"execution time\": exe_dur_seconds}\n",
    "    \n",
    "    # save the data\n",
    "    decom_filepath = \"./raw data (float)/dim8_decom_err_\" + str(k) + \".json\"\n",
    "    time_filepath = \"./raw data (float)/dim8_time_\" + str(k) + \".json\"\n",
    "    \n",
    "    with open(decom_filepath, 'w') as out1:\n",
    "        json.dump(decom_and_error, out1, cls=NumpyEncoder)\n",
    "        \n",
    "    with open(time_filepath, 'w') as out2:\n",
    "        json.dump(exe_dur_dict, out2)\n",
    "    \n",
    "    print()"
   ]
  },
  {
   "cell_type": "markdown",
   "id": "67a3aec7-9fea-4a7c-b77f-5d9f917ec4c3",
   "metadata": {},
   "source": [
    "## $16 \\times 16$ TPMs"
   ]
  },
  {
   "cell_type": "code",
   "execution_count": 73,
   "id": "dd27ac0d-e90c-4bcc-8a7d-31ea625db183",
   "metadata": {},
   "outputs": [
    {
     "name": "stdout",
     "output_type": "stream",
     "text": [
      "iteration 0\n",
      "Time now is: 2025-04-12 02:03:42.728519\n",
      "\n",
      "iteration 1\n",
      "Time now is: 2025-04-12 02:05:50.898864\n",
      "\n",
      "iteration 2\n",
      "Time now is: 2025-04-12 02:07:52.396510\n",
      "\n",
      "iteration 3\n",
      "Time now is: 2025-04-12 02:09:56.507876\n",
      "\n",
      "iteration 4\n",
      "Time now is: 2025-04-12 02:11:58.056670\n",
      "\n",
      "iteration 5\n",
      "Time now is: 2025-04-12 02:14:02.858283\n",
      "\n",
      "iteration 6\n",
      "Time now is: 2025-04-12 02:15:58.954414\n",
      "\n",
      "iteration 7\n",
      "Time now is: 2025-04-12 02:18:03.503288\n",
      "\n",
      "iteration 8\n",
      "Time now is: 2025-04-12 02:19:56.881817\n",
      "\n",
      "iteration 9\n",
      "Time now is: 2025-04-12 02:21:51.199964\n",
      "\n"
     ]
    }
   ],
   "source": [
    "z = 5\n",
    "stopping_error = 0.01\n",
    "\n",
    "for k in range(10):\n",
    "    print('iteration', k)\n",
    "    print('Time now is:', datetime.datetime.now())\n",
    "    fTPM_filepath = './16-by-16/dim16_fTPM_' + str(k) + '.npy'\n",
    "    fTPM = np.load(fTPM_filepath)\n",
    "    \n",
    "    start_time = datetime.datetime.now()\n",
    "    decom_and_error = float_GER(fTPM, z, stopping_error)\n",
    "    end_time = datetime.datetime.now()\n",
    "    execution_duration = end_time - start_time\n",
    "    \n",
    "    exe_dur_seconds = execution_duration.total_seconds()\n",
    "    exe_dur_dict = {\"execution time\": exe_dur_seconds}\n",
    "    \n",
    "    # save the data\n",
    "    decom_filepath = \"./raw data (float_GER)/dim16_decom_err_\" + str(k) + \".json\"\n",
    "    time_filepath = \"./raw data (float_GER)/dim16_time_\" + str(k) + \".json\"\n",
    "    \n",
    "    with open(decom_filepath, 'w') as out1:\n",
    "        json.dump(decom_and_error, out1, cls=NumpyEncoder)\n",
    "        \n",
    "    with open(time_filepath, 'w') as out2:\n",
    "        json.dump(exe_dur_dict, out2)\n",
    "    \n",
    "    print()"
   ]
  },
  {
   "cell_type": "markdown",
   "id": "3aa4863f-63e2-4d45-9f91-6dee92025fc7",
   "metadata": {},
   "source": [
    "## $32 \\times 32$ TPMs"
   ]
  },
  {
   "cell_type": "code",
   "execution_count": 11,
   "id": "e21bf567-96f5-4344-80c9-9fbdf6338d7b",
   "metadata": {},
   "outputs": [
    {
     "name": "stdout",
     "output_type": "stream",
     "text": [
      "iteration 2\n",
      "Time now is: 2025-04-12 13:53:34.635337\n",
      "\n",
      "iteration 3\n",
      "Time now is: 2025-04-12 16:13:27.684780\n",
      "\n",
      "iteration 4\n",
      "Time now is: 2025-04-12 18:37:22.761187\n",
      "\n",
      "iteration 5\n",
      "Time now is: 2025-04-12 20:26:30.513999\n",
      "\n",
      "iteration 6\n",
      "Time now is: 2025-04-12 22:23:50.525757\n",
      "\n",
      "iteration 7\n",
      "Time now is: 2025-04-13 00:43:58.168202\n",
      "\n",
      "iteration 8\n",
      "Time now is: 2025-04-13 03:09:24.204496\n",
      "\n",
      "iteration 9\n",
      "Time now is: 2025-04-13 05:23:52.120285\n",
      "\n"
     ]
    }
   ],
   "source": [
    "z = 5\n",
    "stopping_error = 0.01\n",
    "\n",
    "for k in range(2, 10):\n",
    "    print('iteration', k)\n",
    "    print('Time now is:', datetime.datetime.now())\n",
    "    fTPM_filepath = './32-by-32/dim32_fTPM_' + str(k) + '.npy'\n",
    "    fTPM = np.load(fTPM_filepath)\n",
    "    \n",
    "    start_time = datetime.datetime.now()\n",
    "    decom_and_error = float_GER(fTPM, z, stopping_error)\n",
    "    end_time = datetime.datetime.now()\n",
    "    execution_duration = end_time - start_time\n",
    "    \n",
    "    exe_dur_seconds = execution_duration.total_seconds()\n",
    "    exe_dur_dict = {\"execution time\": exe_dur_seconds}\n",
    "    \n",
    "    # save the data\n",
    "    decom_filepath = \"./raw data (float_GER)/dim32_decom_err_\" + str(k) + \".json\"\n",
    "    time_filepath = \"./raw data (float_GER)/dim32_time_\" + str(k) + \".json\"\n",
    "    \n",
    "    with open(decom_filepath, 'w') as out1:\n",
    "        json.dump(decom_and_error, out1, cls=NumpyEncoder)\n",
    "        \n",
    "    with open(time_filepath, 'w') as out2:\n",
    "        json.dump(exe_dur_dict, out2)\n",
    "    \n",
    "    print()"
   ]
  },
  {
   "cell_type": "markdown",
   "id": "ab5184d8-390a-4cdc-84bf-e072e027ef64",
   "metadata": {},
   "source": [
    "## $64 \\times 64$ TPMs"
   ]
  },
  {
   "cell_type": "code",
   "execution_count": null,
   "id": "b6b062a0-09a8-4f92-9687-f4a3b1d2239f",
   "metadata": {},
   "outputs": [],
   "source": [
    "z = 5\n",
    "stopping_error = 0.01\n",
    "\n",
    "for k in range(10):\n",
    "    print('iteration', k)\n",
    "    print('Time now is:', datetime.datetime.now())\n",
    "    fTPM_filepath = './64-by-64/dim64_fTPM_' + str(k) + '.npy'\n",
    "    fTPM = np.load(fTPM_filepath)\n",
    "    \n",
    "    start_time = datetime.datetime.now()\n",
    "    decom_and_error = float_GER(fTPM, z, stopping_error)\n",
    "    end_time = datetime.datetime.now()\n",
    "    execution_duration = end_time - start_time\n",
    "    \n",
    "    exe_dur_seconds = execution_duration.total_seconds()\n",
    "    exe_dur_dict = {\"execution time\": exe_dur_seconds}\n",
    "    \n",
    "    # save the data\n",
    "    decom_filepath = \"./raw data (float_GER)/dim64_decom_err_\" + str(k) + \".json\"\n",
    "    time_filepath = \"./raw data (float_GER)/dim64_time_\" + str(k) + \".json\"\n",
    "    \n",
    "    with open(decom_filepath, 'w') as out1:\n",
    "        json.dump(decom_and_error, out1, cls=NumpyEncoder)\n",
    "        \n",
    "    with open(time_filepath, 'w') as out2:\n",
    "        json.dump(exe_dur_dict, out2)\n",
    "    \n",
    "    print()"
   ]
  },
  {
   "cell_type": "code",
   "execution_count": null,
   "id": "d6e97dfe-181e-445b-b7eb-98d379510855",
   "metadata": {},
   "outputs": [],
   "source": []
  }
 ],
 "metadata": {
  "kernelspec": {
   "display_name": "Python 3 (ipykernel)",
   "language": "python",
   "name": "python3"
  },
  "language_info": {
   "codemirror_mode": {
    "name": "ipython",
    "version": 3
   },
   "file_extension": ".py",
   "mimetype": "text/x-python",
   "name": "python",
   "nbconvert_exporter": "python",
   "pygments_lexer": "ipython3",
   "version": "3.9.19"
  }
 },
 "nbformat": 4,
 "nbformat_minor": 5
}
