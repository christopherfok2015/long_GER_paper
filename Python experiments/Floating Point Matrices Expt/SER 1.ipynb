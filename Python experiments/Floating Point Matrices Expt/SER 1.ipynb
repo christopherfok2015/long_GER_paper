{
 "cells": [
  {
   "cell_type": "markdown",
   "id": "4769f089-085e-49ec-ab9c-4f2d6306a2e7",
   "metadata": {},
   "source": [
    "# Simple Entry Removal Algorithm 1 (SER 1)"
   ]
  },
  {
   "cell_type": "code",
   "execution_count": 2,
   "id": "9a38818b-da7c-4f4f-a2a7-c8c40d96669d",
   "metadata": {},
   "outputs": [],
   "source": [
    "import numpy as np\n",
    "import datetime\n",
    "import pandas as pd\n",
    "import json"
   ]
  },
  {
   "cell_type": "markdown",
   "id": "e72693f9-a448-4a63-a5de-db968a3a7ad4",
   "metadata": {},
   "source": [
    "### Description of add_up_a_decomposition\n",
    "The function takes as inputs:\n",
    "1. a decomposition (x_list, BN_matrices_array) output by SER 1, SER 2, GER (x_list is a list, whereas BN_matrices_array is a 2D np array).\n",
    "2. The dimension of the output TPM row_dim, col_dim\n",
    "\n",
    "The function then sums up (x_list, BN_matrices_array) and outputs the resulting TPM (row_dim-by-col_dim)."
   ]
  },
  {
   "cell_type": "code",
   "execution_count": 3,
   "id": "93a6cbd2-8879-46f0-a93b-b5006eab6e87",
   "metadata": {},
   "outputs": [],
   "source": [
    "def add_up_a_decomposition(x_list, BN_matrices_array, row_dim, col_dim):\n",
    "    output_TPM = np.zeros((row_dim, col_dim), dtype=int)\n",
    "    num_BN_matrices = len(x_list)\n",
    "    \n",
    "    for k in range(num_BN_matrices):\n",
    "        for col in range(col_dim):\n",
    "            output_TPM[BN_matrices_array[k, col], col] += x_list[k]\n",
    "    \n",
    "    return output_TPM"
   ]
  },
  {
   "cell_type": "markdown",
   "id": "0f829162-00f3-48a3-b1b3-3f8b58f1b8bc",
   "metadata": {},
   "source": [
    "# The SER 1 algorithm"
   ]
  },
  {
   "cell_type": "code",
   "execution_count": 4,
   "id": "2fd61a4c-01fb-487b-9506-44c8976a5298",
   "metadata": {},
   "outputs": [],
   "source": [
    "# This function is used in the SER 1 function.\n",
    "# residue_matrix_R is a np.ndarray.\n",
    "# PBN_row_num is the number of rows present in residue_matrix_R.\n",
    "# PBN_col_num is the number of columns present in residue_matrix_R.\n",
    "def find_smallest_nonzero_entry(residue_matrix_R, PBN_row_num, PBN_col_num):\n",
    "    row_counter = 0\n",
    "    col_counter = 0\n",
    "    while residue_matrix_R[row_counter, col_counter] == 0:\n",
    "        row_counter += 1\n",
    "    smallest_entry = residue_matrix_R[row_counter, col_counter]\n",
    "    smallest_entry_row_pos = row_counter\n",
    "    smallest_entry_col_pos = col_counter\n",
    "\n",
    "    del row_counter\n",
    "    del col_counter\n",
    "    for col_counter in range(PBN_col_num):\n",
    "        for row_counter in range(PBN_row_num):\n",
    "            current_entry = residue_matrix_R[row_counter, col_counter]\n",
    "            if (current_entry > 0) and (current_entry < smallest_entry):\n",
    "                smallest_entry = current_entry\n",
    "                smallest_entry_row_pos = row_counter\n",
    "                smallest_entry_col_pos = col_counter\n",
    "\n",
    "    return smallest_entry, smallest_entry_row_pos, smallest_entry_col_pos"
   ]
  },
  {
   "cell_type": "code",
   "execution_count": 5,
   "id": "2e79c6c1-2483-4b09-9c49-201e697c1c2f",
   "metadata": {},
   "outputs": [],
   "source": [
    "def SER_1(PBN_matrix_P):  # input: 2^n-by-2^n ndarray consisting of integers.\n",
    "    PBN_row_num = PBN_matrix_P.shape[0]\n",
    "    PBN_col_num = PBN_matrix_P.shape[1]\n",
    "    coefficient_list_xi = []  # the coefficients of BN matrices to be output\n",
    "    # the BN matrices to be output\n",
    "    BN_matrices_list_Ai = np.array([[-1] * PBN_col_num])  # the first row of BN_matrices_list_Ai will be\n",
    "                                                          # replaced in the first iteration of pseudocode\n",
    "                                                          # steps 1 to 4.\n",
    "                                                          \n",
    "    residue_matrix_R = PBN_matrix_P.copy()\n",
    "    k = 1  # counts the number of iterations of pseudocode Steps 1 to 4\n",
    "    chosen_entry_xi, xi_row_pos, xi_col_pos = find_smallest_nonzero_entry(residue_matrix_R, \n",
    "                                                                          PBN_row_num, PBN_col_num)\n",
    "    chosen_entry_pos_each_col = np.argmax(residue_matrix_R, axis=0, keepdims=True)\n",
    "    chosen_entry_pos_each_col[0, xi_col_pos] = xi_row_pos\n",
    "    \n",
    "    coefficient_list_xi.append(chosen_entry_xi)\n",
    "    BN_matrices_list_Ai = chosen_entry_pos_each_col\n",
    "    \n",
    "    for col_counter in range(PBN_col_num):\n",
    "        row_to_deduct = chosen_entry_pos_each_col[0, col_counter]\n",
    "        residue_matrix_R[row_to_deduct, col_counter] -= chosen_entry_xi\n",
    "    \n",
    "    zero_PBN_matrix = np.zeros((PBN_row_num, PBN_col_num), dtype=int)\n",
    "    \n",
    "    while (not np.array_equal(residue_matrix_R, zero_PBN_matrix)):\n",
    "        k += 1\n",
    "        chosen_entry_xi, xi_row_pos, xi_col_pos = find_smallest_nonzero_entry(residue_matrix_R, \n",
    "                                                                              PBN_row_num, PBN_col_num)\n",
    "        chosen_entry_pos_each_col = np.argmax(residue_matrix_R, axis=0, keepdims=True)\n",
    "        chosen_entry_pos_each_col[0, xi_col_pos] = xi_row_pos\n",
    "    \n",
    "        coefficient_list_xi.append(chosen_entry_xi)\n",
    "        BN_matrices_list_Ai = np.append(BN_matrices_list_Ai, chosen_entry_pos_each_col, axis=0)\n",
    "        \n",
    "        for col_counter in range(PBN_col_num):\n",
    "            row_to_deduct = chosen_entry_pos_each_col[0, col_counter]\n",
    "            residue_matrix_R[row_to_deduct, col_counter] -= chosen_entry_xi\n",
    "    \n",
    "    return k, coefficient_list_xi, BN_matrices_list_Ai"
   ]
  },
  {
   "cell_type": "markdown",
   "id": "f206febe-086b-453d-bc81-6a1ad87ad9f5",
   "metadata": {},
   "source": [
    "# \"Truncated Floating-Point Matrix\" Experiment"
   ]
  },
  {
   "cell_type": "code",
   "execution_count": 6,
   "id": "c0c3ce75-1737-4a4f-93d6-f25ea90eb060",
   "metadata": {},
   "outputs": [],
   "source": [
    "# Custom JSON encoder that handles NumPy types (created by GPT-o3 on poe.com)\n",
    "class NumpyEncoder(json.JSONEncoder):\n",
    "    def default(self, obj):\n",
    "        if isinstance(obj, (np.integer,)):\n",
    "            return int(obj)\n",
    "        elif isinstance(obj, (np.floating,)):\n",
    "            return float(obj)\n",
    "        elif isinstance(obj, (np.ndarray,)):\n",
    "            return obj.tolist()\n",
    "        return super(NumpyEncoder, self).default(obj)"
   ]
  },
  {
   "cell_type": "markdown",
   "id": "8b015357-0826-4930-9a60-53255b6bdd4f",
   "metadata": {},
   "source": [
    "## $8 \\times 8$ 5300-TPMs"
   ]
  },
  {
   "cell_type": "code",
   "execution_count": 8,
   "id": "36d75fb6-0178-4252-9b3b-dea7f5b54c7a",
   "metadata": {},
   "outputs": [
    {
     "name": "stdout",
     "output_type": "stream",
     "text": [
      "iteration 0\n",
      "Time now is: 2025-04-12 16:27:00.741097\n",
      "\n",
      "iteration 1\n",
      "Time now is: 2025-04-12 16:27:00.748615\n",
      "\n",
      "iteration 2\n",
      "Time now is: 2025-04-12 16:27:00.768161\n",
      "\n",
      "iteration 3\n",
      "Time now is: 2025-04-12 16:27:00.783507\n",
      "\n",
      "iteration 4\n",
      "Time now is: 2025-04-12 16:27:00.800276\n",
      "\n",
      "iteration 5\n",
      "Time now is: 2025-04-12 16:27:00.840220\n",
      "\n",
      "iteration 6\n",
      "Time now is: 2025-04-12 16:27:00.858268\n",
      "\n",
      "iteration 7\n",
      "Time now is: 2025-04-12 16:27:00.879362\n",
      "\n",
      "iteration 8\n",
      "Time now is: 2025-04-12 16:27:00.895796\n",
      "\n",
      "iteration 9\n",
      "Time now is: 2025-04-12 16:27:00.948477\n",
      "\n"
     ]
    }
   ],
   "source": [
    "for k in range(10):\n",
    "    print('iteration', k)\n",
    "    print('Time now is:', datetime.datetime.now())\n",
    "    tTPM_filepath = './8-by-8 (trunc)/dim8_tTPM_' + str(k) + '.npy'\n",
    "    tTPM = np.load(tTPM_filepath)\n",
    "    \n",
    "    start_time = datetime.datetime.now()\n",
    "    decom = SER_1(tTPM)\n",
    "    end_time = datetime.datetime.now()\n",
    "    execution_duration = end_time - start_time\n",
    "    \n",
    "    exe_dur_seconds = execution_duration.total_seconds()\n",
    "    exe_dur_dict = {\"execution time\": exe_dur_seconds}\n",
    "    \n",
    "    # save the data\n",
    "    decom_filepath = \"./raw data (trunc_SER_1)/dim8_decom_m\" + str(k) + \".json\"\n",
    "    time_filepath = \"./raw data (trunc_SER_1)/dim8_time_m\" + str(k) + \".json\"\n",
    "    \n",
    "    with open(decom_filepath, 'w') as out1:\n",
    "        json.dump(decom, out1, cls=NumpyEncoder)\n",
    "        \n",
    "    with open(time_filepath, 'w') as out2:\n",
    "        json.dump(exe_dur_dict, out2)\n",
    "    \n",
    "    print()"
   ]
  },
  {
   "cell_type": "markdown",
   "id": "735fc45e-89c9-4fc9-819f-572916aeede9",
   "metadata": {},
   "source": [
    "## $16 \\times 16$ 5300-TPMs"
   ]
  },
  {
   "cell_type": "code",
   "execution_count": 9,
   "id": "71344676-a57b-481a-892e-2e177a2b515f",
   "metadata": {},
   "outputs": [
    {
     "name": "stdout",
     "output_type": "stream",
     "text": [
      "iteration 0\n",
      "Time now is: 2025-04-12 16:30:51.898712\n",
      "\n",
      "iteration 1\n",
      "Time now is: 2025-04-12 16:30:51.973668\n",
      "\n",
      "iteration 2\n",
      "Time now is: 2025-04-12 16:30:52.011151\n",
      "\n",
      "iteration 3\n",
      "Time now is: 2025-04-12 16:30:52.051558\n",
      "\n",
      "iteration 4\n",
      "Time now is: 2025-04-12 16:30:52.088654\n",
      "\n",
      "iteration 5\n",
      "Time now is: 2025-04-12 16:30:52.128443\n",
      "\n",
      "iteration 6\n",
      "Time now is: 2025-04-12 16:30:52.164463\n",
      "\n",
      "iteration 7\n",
      "Time now is: 2025-04-12 16:30:52.207408\n",
      "\n",
      "iteration 8\n",
      "Time now is: 2025-04-12 16:30:52.245543\n",
      "\n",
      "iteration 9\n",
      "Time now is: 2025-04-12 16:30:52.288617\n",
      "\n"
     ]
    }
   ],
   "source": [
    "for k in range(10):\n",
    "    print('iteration', k)\n",
    "    print('Time now is:', datetime.datetime.now())\n",
    "    tTPM_filepath = './16-by-16 (trunc)/dim16_tTPM_' + str(k) + '.npy'\n",
    "    tTPM = np.load(tTPM_filepath)\n",
    "    \n",
    "    start_time = datetime.datetime.now()\n",
    "    decom = SER_1(tTPM)\n",
    "    end_time = datetime.datetime.now()\n",
    "    execution_duration = end_time - start_time\n",
    "    \n",
    "    exe_dur_seconds = execution_duration.total_seconds()\n",
    "    exe_dur_dict = {\"execution time\": exe_dur_seconds}\n",
    "    \n",
    "    # save the data\n",
    "    decom_filepath = \"./raw data (trunc_SER_1)/dim16_decom_m\" + str(k) + \".json\"\n",
    "    time_filepath = \"./raw data (trunc_SER_1)/dim16_time_m\" + str(k) + \".json\"\n",
    "    \n",
    "    with open(decom_filepath, 'w') as out1:\n",
    "        json.dump(decom, out1, cls=NumpyEncoder)\n",
    "        \n",
    "    with open(time_filepath, 'w') as out2:\n",
    "        json.dump(exe_dur_dict, out2)\n",
    "    \n",
    "    print()"
   ]
  },
  {
   "cell_type": "markdown",
   "id": "d6c7933f-7f35-46eb-9aec-09845cce348d",
   "metadata": {},
   "source": [
    "## $32 \\times 32$ 5300-TPMs"
   ]
  },
  {
   "cell_type": "code",
   "execution_count": 13,
   "id": "def15906-d5bd-45f7-a081-0daa097a8215",
   "metadata": {},
   "outputs": [
    {
     "name": "stdout",
     "output_type": "stream",
     "text": [
      "iteration 0\n",
      "Time now is: 2025-04-12 16:35:35.326601\n",
      "\n",
      "iteration 1\n",
      "Time now is: 2025-04-12 16:35:35.566691\n",
      "\n",
      "iteration 2\n",
      "Time now is: 2025-04-12 16:35:35.807982\n",
      "\n",
      "iteration 3\n",
      "Time now is: 2025-04-12 16:35:35.974069\n",
      "\n",
      "iteration 4\n",
      "Time now is: 2025-04-12 16:35:36.173500\n",
      "\n",
      "iteration 5\n",
      "Time now is: 2025-04-12 16:35:36.422888\n",
      "\n",
      "iteration 6\n",
      "Time now is: 2025-04-12 16:35:36.568472\n",
      "\n",
      "iteration 7\n",
      "Time now is: 2025-04-12 16:35:36.765959\n",
      "\n",
      "iteration 8\n",
      "Time now is: 2025-04-12 16:35:36.971952\n",
      "\n",
      "iteration 9\n",
      "Time now is: 2025-04-12 16:35:37.198692\n",
      "\n"
     ]
    }
   ],
   "source": [
    "for k in range(10):\n",
    "    print('iteration', k)\n",
    "    print('Time now is:', datetime.datetime.now())\n",
    "    tTPM_filepath = './32-by-32 (trunc)/dim32_tTPM_' + str(k) + '.npy'\n",
    "    tTPM = np.load(tTPM_filepath)\n",
    "    \n",
    "    start_time = datetime.datetime.now()\n",
    "    decom = SER_1(tTPM)\n",
    "    end_time = datetime.datetime.now()\n",
    "    execution_duration = end_time - start_time\n",
    "    \n",
    "    exe_dur_seconds = execution_duration.total_seconds()\n",
    "    exe_dur_dict = {\"execution time\": exe_dur_seconds}\n",
    "    \n",
    "    # save the data\n",
    "    decom_filepath = \"./raw data (trunc_SER_1)/dim32_decom_m\" + str(k) + \".json\"\n",
    "    time_filepath = \"./raw data (trunc_SER_1)/dim32_time_m\" + str(k) + \".json\"\n",
    "    \n",
    "    with open(decom_filepath, 'w') as out1:\n",
    "        json.dump(decom, out1, cls=NumpyEncoder)\n",
    "        \n",
    "    with open(time_filepath, 'w') as out2:\n",
    "        json.dump(exe_dur_dict, out2)\n",
    "    \n",
    "    print()"
   ]
  },
  {
   "cell_type": "markdown",
   "id": "9465e516-9fa8-46ba-83ab-46d75d09e059",
   "metadata": {},
   "source": [
    "## $64 \\times 64$ 5300-TPMs"
   ]
  },
  {
   "cell_type": "code",
   "execution_count": 17,
   "id": "3e37d765-b3f1-4278-8acc-18d488b66f21",
   "metadata": {},
   "outputs": [
    {
     "name": "stdout",
     "output_type": "stream",
     "text": [
      "iteration 0\n",
      "Time now is: 2025-04-12 16:39:45.222324\n",
      "\n",
      "iteration 1\n",
      "Time now is: 2025-04-12 16:39:46.540898\n",
      "\n",
      "iteration 2\n",
      "Time now is: 2025-04-12 16:39:47.634243\n",
      "\n",
      "iteration 3\n",
      "Time now is: 2025-04-12 16:39:48.921757\n",
      "\n",
      "iteration 4\n",
      "Time now is: 2025-04-12 16:39:50.085126\n",
      "\n",
      "iteration 5\n",
      "Time now is: 2025-04-12 16:39:51.328300\n",
      "\n",
      "iteration 6\n",
      "Time now is: 2025-04-12 16:39:52.540342\n",
      "\n",
      "iteration 7\n",
      "Time now is: 2025-04-12 16:39:53.812084\n",
      "\n",
      "iteration 8\n",
      "Time now is: 2025-04-12 16:39:55.029567\n",
      "\n",
      "iteration 9\n",
      "Time now is: 2025-04-12 16:39:56.276504\n",
      "\n"
     ]
    }
   ],
   "source": [
    "for k in range(10):\n",
    "    print('iteration', k)\n",
    "    print('Time now is:', datetime.datetime.now())\n",
    "    tTPM_filepath = './64-by-64 (trunc)/dim64_tTPM_' + str(k) + '.npy'\n",
    "    tTPM = np.load(tTPM_filepath)\n",
    "    \n",
    "    start_time = datetime.datetime.now()\n",
    "    decom = SER_1(tTPM)\n",
    "    end_time = datetime.datetime.now()\n",
    "    execution_duration = end_time - start_time\n",
    "    \n",
    "    exe_dur_seconds = execution_duration.total_seconds()\n",
    "    exe_dur_dict = {\"execution time\": exe_dur_seconds}\n",
    "    \n",
    "    # save the data\n",
    "    decom_filepath = \"./raw data (trunc_SER_1)/dim64_decom_m\" + str(k) + \".json\"\n",
    "    time_filepath = \"./raw data (trunc_SER_1)/dim64_time_m\" + str(k) + \".json\"\n",
    "    \n",
    "    with open(decom_filepath, 'w') as out1:\n",
    "        json.dump(decom, out1, cls=NumpyEncoder)\n",
    "        \n",
    "    with open(time_filepath, 'w') as out2:\n",
    "        json.dump(exe_dur_dict, out2)\n",
    "    \n",
    "    print()"
   ]
  }
 ],
 "metadata": {
  "kernelspec": {
   "display_name": "Python 3 (ipykernel)",
   "language": "python",
   "name": "python3"
  },
  "language_info": {
   "codemirror_mode": {
    "name": "ipython",
    "version": 3
   },
   "file_extension": ".py",
   "mimetype": "text/x-python",
   "name": "python",
   "nbconvert_exporter": "python",
   "pygments_lexer": "ipython3",
   "version": "3.9.19"
  }
 },
 "nbformat": 4,
 "nbformat_minor": 5
}
