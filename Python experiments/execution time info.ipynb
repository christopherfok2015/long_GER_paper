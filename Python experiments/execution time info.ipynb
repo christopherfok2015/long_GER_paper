{
 "cells": [
  {
   "cell_type": "code",
   "execution_count": 2,
   "id": "17bf25c3-ad25-4a08-be73-cf0742f2f129",
   "metadata": {},
   "outputs": [],
   "source": [
    "import datetime\n",
    "import pandas as pd\n",
    "import json"
   ]
  },
  {
   "cell_type": "markdown",
   "id": "98ab7d47-6e6a-4e77-a3b9-0a902efcdd6f",
   "metadata": {},
   "source": [
    "# The Purpose of this Notebook\n",
    "Compute the average, the maximum and the minimum of the execution times of SER 1, SER 2. Note that such computation has been done for GER in the Jupyter Notebook \"(GER) processing, exe time.ipynb\"."
   ]
  },
  {
   "cell_type": "markdown",
   "id": "452a857a-6ed5-4c4f-a09a-060cd5eb5d9b",
   "metadata": {},
   "source": [
    "Load the execution time data."
   ]
  },
  {
   "cell_type": "code",
   "execution_count": 3,
   "id": "1c2464a7-4d94-47a3-98a8-b36bc1da4473",
   "metadata": {},
   "outputs": [],
   "source": [
    "SER1_filepath = './expt_results/SER1_exe_time.pkl'\n",
    "SER2_filepath = './expt_results/SER2_exe_time.pkl'\n",
    "\n",
    "SER1_exe_time_pdSeries = pd.read_pickle(SER1_filepath)\n",
    "SER2_exe_time_pdSeries = pd.read_pickle(SER2_filepath)"
   ]
  },
  {
   "cell_type": "code",
   "execution_count": 4,
   "id": "6b41c37c-1564-4871-9d77-ad1c613b4284",
   "metadata": {},
   "outputs": [],
   "source": [
    "algos_time_pdSeries = [SER1_exe_time_pdSeries, SER2_exe_time_pdSeries]\n",
    "df_keys = ['SER 1', 'SER 2']\n",
    "\n",
    "pddf_exe_time_of_2_algos = pd.concat(algos_time_pdSeries, axis='columns', keys=df_keys)"
   ]
  },
  {
   "cell_type": "markdown",
   "id": "861ff2ab-210c-40e7-a5cf-fcaba9f967d4",
   "metadata": {},
   "source": [
    "Compute the average, the maximum and the minimum of the execution times for SER 1, SER 2."
   ]
  },
  {
   "cell_type": "code",
   "execution_count": 5,
   "id": "4e1a2508-ebd3-49da-935a-f1e9e2634304",
   "metadata": {},
   "outputs": [],
   "source": [
    "mean_exe_time_pdSeries = pddf_exe_time_of_2_algos.mean(axis=0)\n",
    "min_exe_time_pdSeries = pddf_exe_time_of_2_algos.min(axis=0)\n",
    "max_exe_time_pdSeries = pddf_exe_time_of_2_algos.max(axis=0)"
   ]
  },
  {
   "cell_type": "code",
   "execution_count": 6,
   "id": "8681d0b6-1818-486a-8731-d2a8e01a4b7a",
   "metadata": {},
   "outputs": [],
   "source": [
    "algos_exe_time_pdSeries = [max_exe_time_pdSeries, mean_exe_time_pdSeries,\n",
    "                           min_exe_time_pdSeries]\n",
    "df_keys = ['max', 'mean', 'min']\n",
    "\n",
    "pddf_exe_time_of_algos = pd.concat(algos_exe_time_pdSeries, axis='columns', keys=df_keys)"
   ]
  },
  {
   "cell_type": "code",
   "execution_count": 7,
   "id": "30aea326-a4a5-4208-ad49-35379e90e7dd",
   "metadata": {},
   "outputs": [
    {
     "data": {
      "text/html": [
       "<div>\n",
       "<style scoped>\n",
       "    .dataframe tbody tr th:only-of-type {\n",
       "        vertical-align: middle;\n",
       "    }\n",
       "\n",
       "    .dataframe tbody tr th {\n",
       "        vertical-align: top;\n",
       "    }\n",
       "\n",
       "    .dataframe thead th {\n",
       "        text-align: right;\n",
       "    }\n",
       "</style>\n",
       "<table border=\"1\" class=\"dataframe\">\n",
       "  <thead>\n",
       "    <tr style=\"text-align: right;\">\n",
       "      <th></th>\n",
       "      <th>max</th>\n",
       "      <th>mean</th>\n",
       "      <th>min</th>\n",
       "    </tr>\n",
       "  </thead>\n",
       "  <tbody>\n",
       "    <tr>\n",
       "      <th>SER 1</th>\n",
       "      <td>0 days 00:00:00.253480</td>\n",
       "      <td>0 days 00:00:00.101456577</td>\n",
       "      <td>0 days 00:00:00.062997</td>\n",
       "    </tr>\n",
       "    <tr>\n",
       "      <th>SER 2</th>\n",
       "      <td>0 days 00:00:00.068525</td>\n",
       "      <td>0 days 00:00:00.004956009</td>\n",
       "      <td>0 days 00:00:00</td>\n",
       "    </tr>\n",
       "  </tbody>\n",
       "</table>\n",
       "</div>"
      ],
      "text/plain": [
       "                         max                      mean                    min\n",
       "SER 1 0 days 00:00:00.253480 0 days 00:00:00.101456577 0 days 00:00:00.062997\n",
       "SER 2 0 days 00:00:00.068525 0 days 00:00:00.004956009        0 days 00:00:00"
      ]
     },
     "execution_count": 7,
     "metadata": {},
     "output_type": "execute_result"
    }
   ],
   "source": [
    "pddf_exe_time_of_algos"
   ]
  },
  {
   "cell_type": "markdown",
   "id": "be20765a-6f80-4a71-9992-66b7b573529e",
   "metadata": {},
   "source": [
    "Investigate the cell [\"SER 2\", \"min\"] of pddf_exe_time_of_algos."
   ]
  },
  {
   "cell_type": "code",
   "execution_count": 10,
   "id": "725cc003-1805-4005-867f-e9bffe3b4a43",
   "metadata": {},
   "outputs": [],
   "source": [
    "min_exe_time_SER2 = pddf_exe_time_of_algos.at[\"SER 2\", \"min\"]"
   ]
  },
  {
   "cell_type": "code",
   "execution_count": 11,
   "id": "66fc5272-6529-4c6e-8ac8-07c6152722f0",
   "metadata": {},
   "outputs": [
    {
     "name": "stdout",
     "output_type": "stream",
     "text": [
      "0\n",
      "0\n",
      "0\n"
     ]
    }
   ],
   "source": [
    "print(min_exe_time_SER2.seconds)\n",
    "print(min_exe_time_SER2.microseconds)\n",
    "print(min_exe_time_SER2.nanoseconds)"
   ]
  }
 ],
 "metadata": {
  "kernelspec": {
   "display_name": "Python 3 (ipykernel)",
   "language": "python",
   "name": "python3"
  },
  "language_info": {
   "codemirror_mode": {
    "name": "ipython",
    "version": 3
   },
   "file_extension": ".py",
   "mimetype": "text/x-python",
   "name": "python",
   "nbconvert_exporter": "python",
   "pygments_lexer": "ipython3",
   "version": "3.9.19"
  }
 },
 "nbformat": 4,
 "nbformat_minor": 5
}
