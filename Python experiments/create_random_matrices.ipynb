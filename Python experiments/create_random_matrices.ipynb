{
 "cells": [
  {
   "cell_type": "code",
   "execution_count": 9,
   "id": "184896c9-61ac-42c1-94bf-ef9e20b5aca4",
   "metadata": {},
   "outputs": [],
   "source": [
    "import numpy as np"
   ]
  },
  {
   "cell_type": "code",
   "execution_count": 10,
   "id": "9ea13166-acac-447b-beb8-aac0259d8a4e",
   "metadata": {},
   "outputs": [],
   "source": [
    "random_num_generator = np.random.default_rng(0)"
   ]
  },
  {
   "cell_type": "markdown",
   "id": "e5ae7a75-0426-4bf6-b5e4-1819ac3f15f2",
   "metadata": {},
   "source": [
    "# Codes for sampling a p-TPM from the set of all integerized p-TPMs uniformly at random."
   ]
  },
  {
   "cell_type": "markdown",
   "id": "b08d49e9-c7f6-40e4-9493-87cddf77dede",
   "metadata": {},
   "source": [
    "For all positive integers $n, p \\geq 2$, define $\\Delta^{n}_{p} := \\{ (k_{1}, k_{2}, \\ldots, k_{n}) : k_{i} \\in \\mathbb{Z}_{\\geq 0}, \\sum^{n}_{i = 1} k_{i} = p \\}$. The following function samples from $\\Delta^{n}_{p}$ uniformly. The output of this function is a 1D numpy array."
   ]
  },
  {
   "cell_type": "code",
   "execution_count": 11,
   "id": "7d862a58-66bb-4cf5-870a-b888a6c6672e",
   "metadata": {},
   "outputs": [],
   "source": [
    "def uniform_sample_from_Delta_np(n, p):\n",
    "    endpoints = random_num_generator.choice(np.arange(1, p + n, dtype=int), size=n - 1, replace=False)\n",
    "    endpoints = np.append(endpoints, [0, p + n])\n",
    "    endpoints.sort()\n",
    "    \n",
    "    output_array = np.array([endpoints[k] - endpoints[k - 1] - 1 for k in range(1, n + 1)], dtype=int)\n",
    "    \n",
    "    return output_array"
   ]
  },
  {
   "cell_type": "markdown",
   "id": "3503fb25-1442-4420-bd8d-1c4fe20f21bb",
   "metadata": {},
   "source": [
    "For all positive integers $m, p \\geq 2$, define $\\mathcal{T}(m, p)$ to be the set of all $m \\times m$ integerized $p$-TPMs. The following function samples from $\\mathcal{T}(m, p)$ uniformly."
   ]
  },
  {
   "cell_type": "code",
   "execution_count": 12,
   "id": "c06955ec-d383-461b-bed2-b07368b7ed5a",
   "metadata": {},
   "outputs": [],
   "source": [
    "def uniform_sample_integerized_pTPM(m, p):\n",
    "    output_array = np.zeros((m, m), dtype=int)\n",
    "    \n",
    "    for k in range(m):\n",
    "        output_array[:, k] = uniform_sample_from_Delta_np(m, p)\n",
    "        \n",
    "    return output_array"
   ]
  },
  {
   "cell_type": "markdown",
   "id": "9623fbcc-b965-427e-9960-56280ee7aa33",
   "metadata": {},
   "source": [
    "For $k = 4001, 4001, \\ldots, 6000$, sample a matrix $P$ from $\\mathcal{T}(32, k)$. Save $P$ into a folder."
   ]
  },
  {
   "cell_type": "code",
   "execution_count": 13,
   "id": "ae358ecb-9150-421e-b5b0-02a3732870a0",
   "metadata": {},
   "outputs": [
    {
     "name": "stdout",
     "output_type": "stream",
     "text": [
      "[[ 11 293 195 ...   2   0  30]\n",
      " [ 54 247   4 ...  77  20  66]\n",
      " [ 68 482 162 ... 116  91  87]\n",
      " ...\n",
      " [ 96  16  32 ... 321 386   9]\n",
      " [138 162 143 ... 125 198   5]\n",
      " [133 279  43 ...  20  62 148]]\n",
      "[[153  97 163 ...  44 124 203]\n",
      " [142  68 199 ... 112 264  28]\n",
      " [ 43  31  77 ... 238 116 236]\n",
      " ...\n",
      " [218 206 286 ...  28   2  53]\n",
      " [ 92  14 302 ...  58 154   4]\n",
      " [286 124 240 ... 193 355  66]]\n",
      "[[ 33   5  92 ...   2 228 377]\n",
      " [ 62 129 243 ... 553  33  78]\n",
      " [ 68  81  52 ... 280 351  16]\n",
      " ...\n",
      " [ 11  76  12 ... 175  86  94]\n",
      " [284  56 268 ...  32  27 137]\n",
      " [ 65  69  74 ...  78  86 430]]\n",
      "[[356 231  99 ...  38 120 449]\n",
      " [ 45  23  83 ...  19  44  19]\n",
      " [151 159  33 ... 319  10  80]\n",
      " ...\n",
      " [ 42 309  71 ...  98  18 193]\n",
      " [ 89 133  61 ...  61  74 285]\n",
      " [ 41 164  77 ...  68 520   0]]\n",
      "[[428 325  36 ... 222  81 287]\n",
      " [116 259 109 ...   2 320 309]\n",
      " [ 16  36 193 ... 199  79 280]\n",
      " ...\n",
      " [ 32  94  92 ...  39 117   1]\n",
      " [ 74  92  31 ...  24 131  68]\n",
      " [ 15 195  95 ... 142  36 238]]\n",
      "[[ 57  79 144 ...  60  35  15]\n",
      " [  1 120  30 ...  24 308 296]\n",
      " [ 96 289  20 ... 123  37  22]\n",
      " ...\n",
      " [ 87  24 280 ...  27 182  25]\n",
      " [ 93  58 121 ... 154  48  38]\n",
      " [ 50  35 255 ...  27 123  85]]\n",
      "[[ 95  32 150 ...  89  54 116]\n",
      " [ 46 247 116 ... 556  10 269]\n",
      " [ 61  47 181 ... 135  38 303]\n",
      " ...\n",
      " [ 10  97 153 ...  82  71 189]\n",
      " [350   9   3 ... 212 159 257]\n",
      " [ 75  26  28 ... 102  57 199]]\n",
      "[[265  57  35 ... 109   9  75]\n",
      " [162 128 195 ... 352  56 115]\n",
      " [ 36  14  32 ...  70  26  27]\n",
      " ...\n",
      " [ 14  65  79 ...  35   7  65]\n",
      " [ 23 157 120 ...  31  27  77]\n",
      " [  9  69  41 ...  35 342  52]]\n",
      "[[  6  20 327 ...  64 101  81]\n",
      " [155  22 124 ... 527  23  36]\n",
      " [252 203 278 ... 278  15  61]\n",
      " ...\n",
      " [162 129 211 ...   5  76 354]\n",
      " [260 279 257 ... 156   5  89]\n",
      " [ 90  34 106 ...  61  24 283]]\n",
      "[[ 95 163 113 ...  61 337  33]\n",
      " [ 98  82 164 ...  15  15  68]\n",
      " [247  57  87 ... 392  40 138]\n",
      " ...\n",
      " [302  22   1 ... 127  36   8]\n",
      " [122 128  69 ... 271  26 178]\n",
      " [  4 105  99 ... 374   2  39]]\n"
     ]
    }
   ],
   "source": [
    "for k in range(4001, 6001):\n",
    "    P = uniform_sample_integerized_pTPM(32, k)\n",
    "    file_path = './random_pTPMs/dim32_pTPM_' + str(k)\n",
    "    np.save(file_path, P)"
   ]
  },
  {
   "cell_type": "markdown",
   "id": "bdbaab75-dc4e-4b02-a8e6-907483e85459",
   "metadata": {},
   "source": [
    "# Investigate the number of positive entries of the randomly generated $32 \\times 32$ p-TPMs."
   ]
  },
  {
   "cell_type": "markdown",
   "id": "008a13d1-ede1-4a0f-9770-779c2c8898a8",
   "metadata": {},
   "source": [
    "Let's use $P_{4001}, P_{4002}, \\ldots, P_{6000}$ to represent the $32 \\times 32$ random $p$-TPMs."
   ]
  },
  {
   "cell_type": "code",
   "execution_count": 14,
   "id": "d5163cca-1d40-4515-8e49-6001aa3531bb",
   "metadata": {},
   "outputs": [],
   "source": [
    "dim32_L0_norm_list = []\n",
    "\n",
    "for k in range(4001, 6001):\n",
    "    dim32_filepath = './random_pTPMs/dim32_pTPM_' + str(k) + '.npy'\n",
    "    P = np.load(dim32_filepath)\n",
    "    dim32_L0_norm_list.append(np.count_nonzero(P))"
   ]
  },
  {
   "cell_type": "code",
   "execution_count": 15,
   "id": "b8762023-8c3b-4477-9ba6-83b85f49333e",
   "metadata": {},
   "outputs": [],
   "source": [
    "dim32_count_summary = dict()\n",
    "\n",
    "for k in range(1025):\n",
    "    k_count = dim32_L0_norm_list.count(k)\n",
    "    if k_count > 0:\n",
    "        dim32_count_summary[k] = k_count"
   ]
  },
  {
   "cell_type": "code",
   "execution_count": 16,
   "id": "f9ef2eb5-b0ec-4db6-b84c-96a5ef38f4fb",
   "metadata": {},
   "outputs": [
    {
     "data": {
      "text/plain": [
       "{1008: 3,\n",
       " 1009: 2,\n",
       " 1010: 5,\n",
       " 1011: 14,\n",
       " 1012: 31,\n",
       " 1013: 74,\n",
       " 1014: 106,\n",
       " 1015: 154,\n",
       " 1016: 227,\n",
       " 1017: 261,\n",
       " 1018: 332,\n",
       " 1019: 298,\n",
       " 1020: 233,\n",
       " 1021: 167,\n",
       " 1022: 70,\n",
       " 1023: 21,\n",
       " 1024: 2}"
      ]
     },
     "execution_count": 16,
     "metadata": {},
     "output_type": "execute_result"
    }
   ],
   "source": [
    "dim32_count_summary"
   ]
  }
 ],
 "metadata": {
  "kernelspec": {
   "display_name": "Python 3 (ipykernel)",
   "language": "python",
   "name": "python3"
  },
  "language_info": {
   "codemirror_mode": {
    "name": "ipython",
    "version": 3
   },
   "file_extension": ".py",
   "mimetype": "text/x-python",
   "name": "python",
   "nbconvert_exporter": "python",
   "pygments_lexer": "ipython3",
   "version": "3.9.19"
  }
 },
 "nbformat": 4,
 "nbformat_minor": 5
}
